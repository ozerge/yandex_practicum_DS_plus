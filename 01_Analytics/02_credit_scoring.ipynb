{
 "cells": [
  {
   "cell_type": "markdown",
   "id": "84b6413e",
   "metadata": {
    "deletable": false,
    "editable": false,
    "id": "c81daeeb"
   },
   "source": [
    "# Исследование надежности заемщиков\n"
   ]
  },
  {
   "cell_type": "markdown",
   "id": "06f399ea",
   "metadata": {},
   "source": [
    "Заказчик — кредитный отдел банка. Нужно разобраться, влияет ли семейное положение и количество детей клиента на факт погашения кредита в срок. Входные данные от банка — статистика о платёжеспособности клиентов.\n",
    "\n",
    "\n",
    "Цель исследования - ответить на следующие вопросы:\n",
    " - Есть ли зависимость между количеством детей и возвратом кредита в срок?\n",
    " - Есть ли зависимость между семейным положением и возвратом кредита в срок?\n",
    " - Есть ли зависимость между уровнем дохода и возвратом кредита в срок?\n",
    " - Как разные цели кредита влияют на его возврат в срок?\n",
    " \n",
    " Результаты исследования будут учтены при построении модели кредитного скоринга — специальной системы, которая оценивает способность потенциального заёмщика вернуть кредит банку."
   ]
  },
  {
   "cell_type": "markdown",
   "id": "fa79429c",
   "metadata": {
    "deletable": false,
    "editable": false,
    "id": "827c20bf"
   },
   "source": [
    "Во второй части проекта вы выполните шаги 3 и 4. Их вручную проверит ревьюер.\n",
    "Чтобы вам не пришлось писать код заново для шагов 1 и 2, мы добавили авторские решения в ячейки с кодом. \n",
    "\n"
   ]
  },
  {
   "cell_type": "markdown",
   "id": "478a6ec6",
   "metadata": {
    "deletable": false,
    "editable": false,
    "id": "744d7639"
   },
   "source": [
    "## Откройте таблицу и изучите общую информацию о данных"
   ]
  },
  {
   "cell_type": "markdown",
   "id": "9fcc6276",
   "metadata": {
    "deletable": false,
    "editable": false,
    "id": "e7a14c31"
   },
   "source": [
    "**Задание 1. Импортируйте библиотеку pandas. Считайте данные из csv-файла в датафрейм и сохраните в переменную `data`. Путь к файлу:**\n",
    "\n",
    "`/datasets/data.csv`"
   ]
  },
  {
   "cell_type": "code",
   "execution_count": 1,
   "id": "d80bd02b",
   "metadata": {
    "deletable": false,
    "id": "7bcf75c9"
   },
   "outputs": [],
   "source": [
    "import pandas as pd\n",
    "\n",
    "try:\n",
    "    data = pd.read_csv('/datasets/data.csv')\n",
    "except:\n",
    "    data = pd.read_csv('https://code.s3.yandex.net/datasets/data.csv')<div class=\"alert alert-info\">"
   ]
  },
  {
   "cell_type": "markdown",
   "id": "5e8cfbb9",
   "metadata": {
    "deletable": false,
    "editable": false,
    "id": "b8038fe3"
   },
   "source": [
    "**Задание 2. Выведите первые 20 строчек датафрейма `data` на экран.**"
   ]
  },
  {
   "cell_type": "code",
   "execution_count": 2,
   "id": "de2653e7",
   "metadata": {
    "deletable": false,
    "id": "2a7cab99",
    "outputId": "1a8f3ef2-d323-4ec2-ddf7-89670b5944c4"
   },
   "outputs": [
    {
     "data": {
      "text/html": [
       "<div>\n",
       "<style scoped>\n",
       "    .dataframe tbody tr th:only-of-type {\n",
       "        vertical-align: middle;\n",
       "    }\n",
       "\n",
       "    .dataframe tbody tr th {\n",
       "        vertical-align: top;\n",
       "    }\n",
       "\n",
       "    .dataframe thead th {\n",
       "        text-align: right;\n",
       "    }\n",
       "</style>\n",
       "<table border=\"1\" class=\"dataframe\">\n",
       "  <thead>\n",
       "    <tr style=\"text-align: right;\">\n",
       "      <th></th>\n",
       "      <th>children</th>\n",
       "      <th>days_employed</th>\n",
       "      <th>dob_years</th>\n",
       "      <th>education</th>\n",
       "      <th>education_id</th>\n",
       "      <th>family_status</th>\n",
       "      <th>family_status_id</th>\n",
       "      <th>gender</th>\n",
       "      <th>income_type</th>\n",
       "      <th>debt</th>\n",
       "      <th>total_income</th>\n",
       "      <th>purpose</th>\n",
       "    </tr>\n",
       "  </thead>\n",
       "  <tbody>\n",
       "    <tr>\n",
       "      <th>0</th>\n",
       "      <td>1</td>\n",
       "      <td>-8437.673028</td>\n",
       "      <td>42</td>\n",
       "      <td>высшее</td>\n",
       "      <td>0</td>\n",
       "      <td>женат / замужем</td>\n",
       "      <td>0</td>\n",
       "      <td>F</td>\n",
       "      <td>сотрудник</td>\n",
       "      <td>0</td>\n",
       "      <td>253875.639453</td>\n",
       "      <td>покупка жилья</td>\n",
       "    </tr>\n",
       "    <tr>\n",
       "      <th>1</th>\n",
       "      <td>1</td>\n",
       "      <td>-4024.803754</td>\n",
       "      <td>36</td>\n",
       "      <td>среднее</td>\n",
       "      <td>1</td>\n",
       "      <td>женат / замужем</td>\n",
       "      <td>0</td>\n",
       "      <td>F</td>\n",
       "      <td>сотрудник</td>\n",
       "      <td>0</td>\n",
       "      <td>112080.014102</td>\n",
       "      <td>приобретение автомобиля</td>\n",
       "    </tr>\n",
       "    <tr>\n",
       "      <th>2</th>\n",
       "      <td>0</td>\n",
       "      <td>-5623.422610</td>\n",
       "      <td>33</td>\n",
       "      <td>Среднее</td>\n",
       "      <td>1</td>\n",
       "      <td>женат / замужем</td>\n",
       "      <td>0</td>\n",
       "      <td>M</td>\n",
       "      <td>сотрудник</td>\n",
       "      <td>0</td>\n",
       "      <td>145885.952297</td>\n",
       "      <td>покупка жилья</td>\n",
       "    </tr>\n",
       "    <tr>\n",
       "      <th>3</th>\n",
       "      <td>3</td>\n",
       "      <td>-4124.747207</td>\n",
       "      <td>32</td>\n",
       "      <td>среднее</td>\n",
       "      <td>1</td>\n",
       "      <td>женат / замужем</td>\n",
       "      <td>0</td>\n",
       "      <td>M</td>\n",
       "      <td>сотрудник</td>\n",
       "      <td>0</td>\n",
       "      <td>267628.550329</td>\n",
       "      <td>дополнительное образование</td>\n",
       "    </tr>\n",
       "    <tr>\n",
       "      <th>4</th>\n",
       "      <td>0</td>\n",
       "      <td>340266.072047</td>\n",
       "      <td>53</td>\n",
       "      <td>среднее</td>\n",
       "      <td>1</td>\n",
       "      <td>гражданский брак</td>\n",
       "      <td>1</td>\n",
       "      <td>F</td>\n",
       "      <td>пенсионер</td>\n",
       "      <td>0</td>\n",
       "      <td>158616.077870</td>\n",
       "      <td>сыграть свадьбу</td>\n",
       "    </tr>\n",
       "    <tr>\n",
       "      <th>5</th>\n",
       "      <td>0</td>\n",
       "      <td>-926.185831</td>\n",
       "      <td>27</td>\n",
       "      <td>высшее</td>\n",
       "      <td>0</td>\n",
       "      <td>гражданский брак</td>\n",
       "      <td>1</td>\n",
       "      <td>M</td>\n",
       "      <td>компаньон</td>\n",
       "      <td>0</td>\n",
       "      <td>255763.565419</td>\n",
       "      <td>покупка жилья</td>\n",
       "    </tr>\n",
       "    <tr>\n",
       "      <th>6</th>\n",
       "      <td>0</td>\n",
       "      <td>-2879.202052</td>\n",
       "      <td>43</td>\n",
       "      <td>высшее</td>\n",
       "      <td>0</td>\n",
       "      <td>женат / замужем</td>\n",
       "      <td>0</td>\n",
       "      <td>F</td>\n",
       "      <td>компаньон</td>\n",
       "      <td>0</td>\n",
       "      <td>240525.971920</td>\n",
       "      <td>операции с жильем</td>\n",
       "    </tr>\n",
       "    <tr>\n",
       "      <th>7</th>\n",
       "      <td>0</td>\n",
       "      <td>-152.779569</td>\n",
       "      <td>50</td>\n",
       "      <td>СРЕДНЕЕ</td>\n",
       "      <td>1</td>\n",
       "      <td>женат / замужем</td>\n",
       "      <td>0</td>\n",
       "      <td>M</td>\n",
       "      <td>сотрудник</td>\n",
       "      <td>0</td>\n",
       "      <td>135823.934197</td>\n",
       "      <td>образование</td>\n",
       "    </tr>\n",
       "    <tr>\n",
       "      <th>8</th>\n",
       "      <td>2</td>\n",
       "      <td>-6929.865299</td>\n",
       "      <td>35</td>\n",
       "      <td>ВЫСШЕЕ</td>\n",
       "      <td>0</td>\n",
       "      <td>гражданский брак</td>\n",
       "      <td>1</td>\n",
       "      <td>F</td>\n",
       "      <td>сотрудник</td>\n",
       "      <td>0</td>\n",
       "      <td>95856.832424</td>\n",
       "      <td>на проведение свадьбы</td>\n",
       "    </tr>\n",
       "    <tr>\n",
       "      <th>9</th>\n",
       "      <td>0</td>\n",
       "      <td>-2188.756445</td>\n",
       "      <td>41</td>\n",
       "      <td>среднее</td>\n",
       "      <td>1</td>\n",
       "      <td>женат / замужем</td>\n",
       "      <td>0</td>\n",
       "      <td>M</td>\n",
       "      <td>сотрудник</td>\n",
       "      <td>0</td>\n",
       "      <td>144425.938277</td>\n",
       "      <td>покупка жилья для семьи</td>\n",
       "    </tr>\n",
       "    <tr>\n",
       "      <th>10</th>\n",
       "      <td>2</td>\n",
       "      <td>-4171.483647</td>\n",
       "      <td>36</td>\n",
       "      <td>высшее</td>\n",
       "      <td>0</td>\n",
       "      <td>женат / замужем</td>\n",
       "      <td>0</td>\n",
       "      <td>M</td>\n",
       "      <td>компаньон</td>\n",
       "      <td>0</td>\n",
       "      <td>113943.491460</td>\n",
       "      <td>покупка недвижимости</td>\n",
       "    </tr>\n",
       "    <tr>\n",
       "      <th>11</th>\n",
       "      <td>0</td>\n",
       "      <td>-792.701887</td>\n",
       "      <td>40</td>\n",
       "      <td>среднее</td>\n",
       "      <td>1</td>\n",
       "      <td>женат / замужем</td>\n",
       "      <td>0</td>\n",
       "      <td>F</td>\n",
       "      <td>сотрудник</td>\n",
       "      <td>0</td>\n",
       "      <td>77069.234271</td>\n",
       "      <td>покупка коммерческой недвижимости</td>\n",
       "    </tr>\n",
       "    <tr>\n",
       "      <th>12</th>\n",
       "      <td>0</td>\n",
       "      <td>NaN</td>\n",
       "      <td>65</td>\n",
       "      <td>среднее</td>\n",
       "      <td>1</td>\n",
       "      <td>гражданский брак</td>\n",
       "      <td>1</td>\n",
       "      <td>M</td>\n",
       "      <td>пенсионер</td>\n",
       "      <td>0</td>\n",
       "      <td>NaN</td>\n",
       "      <td>сыграть свадьбу</td>\n",
       "    </tr>\n",
       "    <tr>\n",
       "      <th>13</th>\n",
       "      <td>0</td>\n",
       "      <td>-1846.641941</td>\n",
       "      <td>54</td>\n",
       "      <td>неоконченное высшее</td>\n",
       "      <td>2</td>\n",
       "      <td>женат / замужем</td>\n",
       "      <td>0</td>\n",
       "      <td>F</td>\n",
       "      <td>сотрудник</td>\n",
       "      <td>0</td>\n",
       "      <td>130458.228857</td>\n",
       "      <td>приобретение автомобиля</td>\n",
       "    </tr>\n",
       "    <tr>\n",
       "      <th>14</th>\n",
       "      <td>0</td>\n",
       "      <td>-1844.956182</td>\n",
       "      <td>56</td>\n",
       "      <td>высшее</td>\n",
       "      <td>0</td>\n",
       "      <td>гражданский брак</td>\n",
       "      <td>1</td>\n",
       "      <td>F</td>\n",
       "      <td>компаньон</td>\n",
       "      <td>1</td>\n",
       "      <td>165127.911772</td>\n",
       "      <td>покупка жилой недвижимости</td>\n",
       "    </tr>\n",
       "    <tr>\n",
       "      <th>15</th>\n",
       "      <td>1</td>\n",
       "      <td>-972.364419</td>\n",
       "      <td>26</td>\n",
       "      <td>среднее</td>\n",
       "      <td>1</td>\n",
       "      <td>женат / замужем</td>\n",
       "      <td>0</td>\n",
       "      <td>F</td>\n",
       "      <td>сотрудник</td>\n",
       "      <td>0</td>\n",
       "      <td>116820.904450</td>\n",
       "      <td>строительство собственной недвижимости</td>\n",
       "    </tr>\n",
       "    <tr>\n",
       "      <th>16</th>\n",
       "      <td>0</td>\n",
       "      <td>-1719.934226</td>\n",
       "      <td>35</td>\n",
       "      <td>среднее</td>\n",
       "      <td>1</td>\n",
       "      <td>женат / замужем</td>\n",
       "      <td>0</td>\n",
       "      <td>F</td>\n",
       "      <td>сотрудник</td>\n",
       "      <td>0</td>\n",
       "      <td>289202.704229</td>\n",
       "      <td>недвижимость</td>\n",
       "    </tr>\n",
       "    <tr>\n",
       "      <th>17</th>\n",
       "      <td>0</td>\n",
       "      <td>-2369.999720</td>\n",
       "      <td>33</td>\n",
       "      <td>высшее</td>\n",
       "      <td>0</td>\n",
       "      <td>гражданский брак</td>\n",
       "      <td>1</td>\n",
       "      <td>M</td>\n",
       "      <td>сотрудник</td>\n",
       "      <td>0</td>\n",
       "      <td>90410.586745</td>\n",
       "      <td>строительство недвижимости</td>\n",
       "    </tr>\n",
       "    <tr>\n",
       "      <th>18</th>\n",
       "      <td>0</td>\n",
       "      <td>400281.136913</td>\n",
       "      <td>53</td>\n",
       "      <td>среднее</td>\n",
       "      <td>1</td>\n",
       "      <td>вдовец / вдова</td>\n",
       "      <td>2</td>\n",
       "      <td>F</td>\n",
       "      <td>пенсионер</td>\n",
       "      <td>0</td>\n",
       "      <td>56823.777243</td>\n",
       "      <td>на покупку подержанного автомобиля</td>\n",
       "    </tr>\n",
       "    <tr>\n",
       "      <th>19</th>\n",
       "      <td>0</td>\n",
       "      <td>-10038.818549</td>\n",
       "      <td>48</td>\n",
       "      <td>СРЕДНЕЕ</td>\n",
       "      <td>1</td>\n",
       "      <td>в разводе</td>\n",
       "      <td>3</td>\n",
       "      <td>F</td>\n",
       "      <td>сотрудник</td>\n",
       "      <td>0</td>\n",
       "      <td>242831.107982</td>\n",
       "      <td>на покупку своего автомобиля</td>\n",
       "    </tr>\n",
       "  </tbody>\n",
       "</table>\n",
       "</div>"
      ],
      "text/plain": [
       "    children  days_employed  dob_years            education  education_id  \\\n",
       "0          1   -8437.673028         42               высшее             0   \n",
       "1          1   -4024.803754         36              среднее             1   \n",
       "2          0   -5623.422610         33              Среднее             1   \n",
       "3          3   -4124.747207         32              среднее             1   \n",
       "4          0  340266.072047         53              среднее             1   \n",
       "5          0    -926.185831         27               высшее             0   \n",
       "6          0   -2879.202052         43               высшее             0   \n",
       "7          0    -152.779569         50              СРЕДНЕЕ             1   \n",
       "8          2   -6929.865299         35               ВЫСШЕЕ             0   \n",
       "9          0   -2188.756445         41              среднее             1   \n",
       "10         2   -4171.483647         36               высшее             0   \n",
       "11         0    -792.701887         40              среднее             1   \n",
       "12         0            NaN         65              среднее             1   \n",
       "13         0   -1846.641941         54  неоконченное высшее             2   \n",
       "14         0   -1844.956182         56               высшее             0   \n",
       "15         1    -972.364419         26              среднее             1   \n",
       "16         0   -1719.934226         35              среднее             1   \n",
       "17         0   -2369.999720         33               высшее             0   \n",
       "18         0  400281.136913         53              среднее             1   \n",
       "19         0  -10038.818549         48              СРЕДНЕЕ             1   \n",
       "\n",
       "       family_status  family_status_id gender income_type  debt  \\\n",
       "0    женат / замужем                 0      F   сотрудник     0   \n",
       "1    женат / замужем                 0      F   сотрудник     0   \n",
       "2    женат / замужем                 0      M   сотрудник     0   \n",
       "3    женат / замужем                 0      M   сотрудник     0   \n",
       "4   гражданский брак                 1      F   пенсионер     0   \n",
       "5   гражданский брак                 1      M   компаньон     0   \n",
       "6    женат / замужем                 0      F   компаньон     0   \n",
       "7    женат / замужем                 0      M   сотрудник     0   \n",
       "8   гражданский брак                 1      F   сотрудник     0   \n",
       "9    женат / замужем                 0      M   сотрудник     0   \n",
       "10   женат / замужем                 0      M   компаньон     0   \n",
       "11   женат / замужем                 0      F   сотрудник     0   \n",
       "12  гражданский брак                 1      M   пенсионер     0   \n",
       "13   женат / замужем                 0      F   сотрудник     0   \n",
       "14  гражданский брак                 1      F   компаньон     1   \n",
       "15   женат / замужем                 0      F   сотрудник     0   \n",
       "16   женат / замужем                 0      F   сотрудник     0   \n",
       "17  гражданский брак                 1      M   сотрудник     0   \n",
       "18    вдовец / вдова                 2      F   пенсионер     0   \n",
       "19         в разводе                 3      F   сотрудник     0   \n",
       "\n",
       "     total_income                                 purpose  \n",
       "0   253875.639453                           покупка жилья  \n",
       "1   112080.014102                 приобретение автомобиля  \n",
       "2   145885.952297                           покупка жилья  \n",
       "3   267628.550329              дополнительное образование  \n",
       "4   158616.077870                         сыграть свадьбу  \n",
       "5   255763.565419                           покупка жилья  \n",
       "6   240525.971920                       операции с жильем  \n",
       "7   135823.934197                             образование  \n",
       "8    95856.832424                   на проведение свадьбы  \n",
       "9   144425.938277                 покупка жилья для семьи  \n",
       "10  113943.491460                    покупка недвижимости  \n",
       "11   77069.234271       покупка коммерческой недвижимости  \n",
       "12            NaN                         сыграть свадьбу  \n",
       "13  130458.228857                 приобретение автомобиля  \n",
       "14  165127.911772              покупка жилой недвижимости  \n",
       "15  116820.904450  строительство собственной недвижимости  \n",
       "16  289202.704229                            недвижимость  \n",
       "17   90410.586745              строительство недвижимости  \n",
       "18   56823.777243      на покупку подержанного автомобиля  \n",
       "19  242831.107982            на покупку своего автомобиля  "
      ]
     },
     "execution_count": 2,
     "metadata": {},
     "output_type": "execute_result"
    }
   ],
   "source": [
    "data.head(20)"
   ]
  },
  {
   "cell_type": "markdown",
   "id": "4b29daad",
   "metadata": {
    "deletable": false,
    "editable": false,
    "id": "1c12e233"
   },
   "source": [
    "**Задание 3. Выведите основную информацию о датафрейме с помощью метода `info()`.**"
   ]
  },
  {
   "cell_type": "code",
   "execution_count": 3,
   "id": "8855cb79",
   "metadata": {
    "deletable": false,
    "id": "2b757bca",
    "outputId": "15376089-8dad-46c9-b520-c05248d43158"
   },
   "outputs": [
    {
     "name": "stdout",
     "output_type": "stream",
     "text": [
      "<class 'pandas.core.frame.DataFrame'>\n",
      "RangeIndex: 21525 entries, 0 to 21524\n",
      "Data columns (total 12 columns):\n",
      " #   Column            Non-Null Count  Dtype  \n",
      "---  ------            --------------  -----  \n",
      " 0   children          21525 non-null  int64  \n",
      " 1   days_employed     19351 non-null  float64\n",
      " 2   dob_years         21525 non-null  int64  \n",
      " 3   education         21525 non-null  object \n",
      " 4   education_id      21525 non-null  int64  \n",
      " 5   family_status     21525 non-null  object \n",
      " 6   family_status_id  21525 non-null  int64  \n",
      " 7   gender            21525 non-null  object \n",
      " 8   income_type       21525 non-null  object \n",
      " 9   debt              21525 non-null  int64  \n",
      " 10  total_income      19351 non-null  float64\n",
      " 11  purpose           21525 non-null  object \n",
      "dtypes: float64(2), int64(5), object(5)\n",
      "memory usage: 2.0+ MB\n"
     ]
    }
   ],
   "source": [
    "data.info()"
   ]
  },
  {
   "cell_type": "markdown",
   "id": "31f4cca0",
   "metadata": {
    "deletable": false,
    "editable": false,
    "id": "333ec665"
   },
   "source": [
    "## Предобработка данных"
   ]
  },
  {
   "cell_type": "markdown",
   "id": "8dc6f77b",
   "metadata": {
    "deletable": false,
    "editable": false,
    "id": "02d92d53"
   },
   "source": [
    "### Удаление пропусков"
   ]
  },
  {
   "cell_type": "markdown",
   "id": "36b8902a",
   "metadata": {
    "deletable": false,
    "editable": false,
    "id": "cd84967c"
   },
   "source": [
    "**Задание 4. Выведите количество пропущенных значений для каждого столбца. Используйте комбинацию двух методов.**"
   ]
  },
  {
   "cell_type": "code",
   "execution_count": 4,
   "id": "ed070540",
   "metadata": {
    "deletable": false,
    "id": "7f9b2309",
    "outputId": "81f4d817-781c-465c-ed15-91ce4446810d"
   },
   "outputs": [
    {
     "data": {
      "text/plain": [
       "children               0\n",
       "days_employed       2174\n",
       "dob_years              0\n",
       "education              0\n",
       "education_id           0\n",
       "family_status          0\n",
       "family_status_id       0\n",
       "gender                 0\n",
       "income_type            0\n",
       "debt                   0\n",
       "total_income        2174\n",
       "purpose                0\n",
       "dtype: int64"
      ]
     },
     "execution_count": 4,
     "metadata": {},
     "output_type": "execute_result"
    }
   ],
   "source": [
    "data.isna().sum()"
   ]
  },
  {
   "cell_type": "markdown",
   "id": "bac03f80",
   "metadata": {
    "deletable": false,
    "editable": false,
    "id": "db86e27b"
   },
   "source": [
    "**Задание 5. В двух столбцах есть пропущенные значения. Один из них — `days_employed`. Пропуски в этом столбце вы обработаете на следующем этапе. Другой столбец с пропущенными значениями — `total_income` — хранит данные о доходах. На сумму дохода сильнее всего влияет тип занятости, поэтому заполнить пропуски в этом столбце нужно медианным значением по каждому типу из столбца `income_type`. Например, у человека с типом занятости `сотрудник` пропуск в столбце `total_income` должен быть заполнен медианным доходом среди всех записей с тем же типом.**"
   ]
  },
  {
   "cell_type": "code",
   "execution_count": 5,
   "id": "189f676c",
   "metadata": {
    "deletable": false,
    "id": "42006a93"
   },
   "outputs": [],
   "source": [
    "for t in data['income_type'].unique():\n",
    "    data.loc[(data['income_type'] == t) & (data['total_income'].isna()), 'total_income'] = \\\n",
    "    data.loc[(data['income_type'] == t), 'total_income'].median()"
   ]
  },
  {
   "cell_type": "markdown",
   "id": "80dab647",
   "metadata": {
    "deletable": false,
    "editable": false,
    "id": "89da5ece"
   },
   "source": [
    "### Обработка аномальных значений"
   ]
  },
  {
   "cell_type": "markdown",
   "id": "d506bcde",
   "metadata": {
    "deletable": false,
    "editable": false,
    "id": "57964554"
   },
   "source": [
    "**Задание 6. В данных могут встречаться артефакты (аномалии) — значения, которые не отражают действительность и появились по какой-то ошибке. таким артефактом будет отрицательное количество дней трудового стажа в столбце `days_employed`. Для реальных данных это нормально. Обработайте значения в этом столбце: замените все отрицательные значения положительными с помощью метода `abs()`.**"
   ]
  },
  {
   "cell_type": "code",
   "execution_count": 6,
   "id": "c383febe",
   "metadata": {
    "deletable": false,
    "id": "f6f055bf"
   },
   "outputs": [],
   "source": [
    "data['days_employed'] = data['days_employed'].abs()"
   ]
  },
  {
   "cell_type": "markdown",
   "id": "1051eea0",
   "metadata": {
    "deletable": false,
    "editable": false,
    "id": "6107dd2f"
   },
   "source": [
    "**Задание 7. Для каждого типа занятости выведите медианное значение трудового стажа `days_employed` в днях.**"
   ]
  },
  {
   "cell_type": "code",
   "execution_count": 7,
   "id": "3852951c",
   "metadata": {
    "deletable": false,
    "id": "85a5faf6",
    "outputId": "801ef80e-522b-4668-f34e-565af7432bcf"
   },
   "outputs": [
    {
     "data": {
      "text/plain": [
       "income_type\n",
       "безработный        366413.652744\n",
       "в декрете            3296.759962\n",
       "госслужащий          2689.368353\n",
       "компаньон            1547.382223\n",
       "пенсионер          365213.306266\n",
       "предприниматель       520.848083\n",
       "сотрудник            1574.202821\n",
       "студент               578.751554\n",
       "Name: days_employed, dtype: float64"
      ]
     },
     "execution_count": 7,
     "metadata": {},
     "output_type": "execute_result"
    }
   ],
   "source": [
    "data.groupby('income_type')['days_employed'].agg('median')"
   ]
  },
  {
   "cell_type": "markdown",
   "id": "cdbe22a8",
   "metadata": {
    "deletable": false,
    "editable": false,
    "id": "38d1a030"
   },
   "source": [
    "У двух типов (безработные и пенсионеры) получатся аномально большие значения. Исправить такие значения сложно, поэтому оставьте их как есть. Тем более этот столбец не понадобится вам для исследования."
   ]
  },
  {
   "cell_type": "markdown",
   "id": "c8e35242",
   "metadata": {
    "deletable": false,
    "editable": false,
    "id": "d8a9f147"
   },
   "source": [
    "**Задание 8. Выведите перечень уникальных значений столбца `children`.**"
   ]
  },
  {
   "cell_type": "code",
   "execution_count": 8,
   "id": "2074e392",
   "metadata": {
    "deletable": false,
    "id": "ef5056eb",
    "outputId": "6975b15c-7f95-4697-d16d-a0c79b657b03"
   },
   "outputs": [
    {
     "data": {
      "text/plain": [
       "array([ 1,  0,  3,  2, -1,  4, 20,  5])"
      ]
     },
     "execution_count": 8,
     "metadata": {},
     "output_type": "execute_result"
    }
   ],
   "source": [
    "data['children'].unique()"
   ]
  },
  {
   "cell_type": "markdown",
   "id": "814a54ef",
   "metadata": {
    "deletable": false,
    "editable": false,
    "id": "40b9ebf2"
   },
   "source": [
    "**Задание 9. В столбце `children` есть два аномальных значения. Удалите строки, в которых встречаются такие аномальные значения из датафрейма `data`.**"
   ]
  },
  {
   "cell_type": "code",
   "execution_count": 9,
   "id": "b3a0d8ec",
   "metadata": {
    "deletable": false,
    "id": "3ff9801d"
   },
   "outputs": [],
   "source": [
    "data = data[(data['children'] != -1) & (data['children'] != 20)]"
   ]
  },
  {
   "cell_type": "markdown",
   "id": "f011499d",
   "metadata": {
    "deletable": false,
    "editable": false,
    "id": "bbc4d0ce"
   },
   "source": [
    "**Задание 10. Ещё раз выведите перечень уникальных значений столбца `children`, чтобы убедиться, что артефакты удалены.**"
   ]
  },
  {
   "cell_type": "code",
   "execution_count": 10,
   "id": "aa066fab",
   "metadata": {
    "deletable": false,
    "id": "ad4fa8b7",
    "outputId": "b2097101-d49d-44d9-901b-32a65c9463d1"
   },
   "outputs": [
    {
     "data": {
      "text/plain": [
       "array([1, 0, 3, 2, 4, 5])"
      ]
     },
     "execution_count": 10,
     "metadata": {},
     "output_type": "execute_result"
    }
   ],
   "source": [
    "data['children'].unique()"
   ]
  },
  {
   "cell_type": "markdown",
   "id": "eda62318",
   "metadata": {
    "deletable": false,
    "editable": false,
    "id": "75440b63"
   },
   "source": [
    "### Удаление пропусков (продолжение)"
   ]
  },
  {
   "cell_type": "markdown",
   "id": "c0870d19",
   "metadata": {
    "deletable": false,
    "editable": false,
    "id": "f4ea573f"
   },
   "source": [
    "**Задание 11. Заполните пропуски в столбце `days_employed` медианными значениями по каждого типа занятости `income_type`.**"
   ]
  },
  {
   "cell_type": "code",
   "execution_count": 11,
   "id": "96e1ffac",
   "metadata": {
    "deletable": false,
    "id": "af6b1a7e"
   },
   "outputs": [],
   "source": [
    "for t in data['income_type'].unique():\n",
    "    data.loc[(data['income_type'] == t) & (data['days_employed'].isna()), 'days_employed'] = \\\n",
    "    data.loc[(data['income_type'] == t), 'days_employed'].median()"
   ]
  },
  {
   "cell_type": "markdown",
   "id": "f1e4e8aa",
   "metadata": {
    "deletable": false,
    "editable": false,
    "id": "2753f40d"
   },
   "source": [
    "**Задание 12. Убедитесь, что все пропуски заполнены. Проверьте себя и ещё раз выведите количество пропущенных значений для каждого столбца с помощью двух методов.**"
   ]
  },
  {
   "cell_type": "code",
   "execution_count": 12,
   "id": "45c3c44c",
   "metadata": {
    "deletable": false,
    "id": "55f78bc2",
    "outputId": "8da1e4e1-358e-4e87-98c9-f261bce0a7b2"
   },
   "outputs": [
    {
     "data": {
      "text/plain": [
       "children            0\n",
       "days_employed       0\n",
       "dob_years           0\n",
       "education           0\n",
       "education_id        0\n",
       "family_status       0\n",
       "family_status_id    0\n",
       "gender              0\n",
       "income_type         0\n",
       "debt                0\n",
       "total_income        0\n",
       "purpose             0\n",
       "dtype: int64"
      ]
     },
     "execution_count": 12,
     "metadata": {},
     "output_type": "execute_result"
    }
   ],
   "source": [
    "data.isna().sum()"
   ]
  },
  {
   "cell_type": "markdown",
   "id": "58d84524",
   "metadata": {
    "deletable": false,
    "editable": false,
    "id": "ddc81e43"
   },
   "source": [
    "### Изменение типов данных"
   ]
  },
  {
   "cell_type": "markdown",
   "id": "b0ea88f4",
   "metadata": {
    "deletable": false,
    "editable": false,
    "id": "42d19d24"
   },
   "source": [
    "**Задание 13. Замените вещественный тип данных в столбце `total_income` на целочисленный с помощью метода `astype()`.**"
   ]
  },
  {
   "cell_type": "code",
   "execution_count": 13,
   "id": "41ca1976",
   "metadata": {
    "deletable": false,
    "id": "920b65ad"
   },
   "outputs": [],
   "source": [
    "data['total_income'] = data['total_income'].astype(int)"
   ]
  },
  {
   "cell_type": "markdown",
   "id": "d9eb5a52",
   "metadata": {
    "deletable": false,
    "editable": false,
    "id": "80c420ba"
   },
   "source": [
    "### Обработка дубликатов"
   ]
  },
  {
   "cell_type": "markdown",
   "id": "f3b8b1f0",
   "metadata": {
    "deletable": false,
    "editable": false
   },
   "source": [
    "**Задание 14. Обработайте неявные дубликаты в столбце `education`. В этом столбце есть одни и те же значения, но записанные по-разному: с использованием заглавных и строчных букв. Приведите их к нижнему регистру. Проверьте остальные столбцы.**"
   ]
  },
  {
   "cell_type": "code",
   "execution_count": 14,
   "id": "f1c01e9d",
   "metadata": {
    "deletable": false
   },
   "outputs": [],
   "source": [
    "data['education'] = data['education'].str.lower()"
   ]
  },
  {
   "cell_type": "markdown",
   "id": "99589a2e",
   "metadata": {
    "deletable": false,
    "editable": false,
    "id": "dc587695"
   },
   "source": [
    "**Задание 15. Выведите на экран количество строк-дубликатов в данных. Если такие строки присутствуют, удалите их.**"
   ]
  },
  {
   "cell_type": "code",
   "execution_count": 15,
   "id": "d1ca7332",
   "metadata": {
    "deletable": false,
    "id": "3ee445e4",
    "outputId": "9684deba-1934-42d1-99e1-cda61740f822"
   },
   "outputs": [
    {
     "data": {
      "text/plain": [
       "71"
      ]
     },
     "execution_count": 15,
     "metadata": {},
     "output_type": "execute_result"
    }
   ],
   "source": [
    "data.duplicated().sum()"
   ]
  },
  {
   "cell_type": "code",
   "execution_count": 16,
   "id": "d5715954",
   "metadata": {
    "deletable": false,
    "id": "8575fe05"
   },
   "outputs": [],
   "source": [
    "data = data.drop_duplicates()"
   ]
  },
  {
   "cell_type": "markdown",
   "id": "a69a0644",
   "metadata": {
    "deletable": false,
    "editable": false,
    "id": "9904cf55"
   },
   "source": [
    "### Категоризация данных"
   ]
  },
  {
   "cell_type": "markdown",
   "id": "4f569b8d",
   "metadata": {
    "deletable": false,
    "editable": false,
    "id": "72fcc8a2"
   },
   "source": [
    "**Задание 16. На основании диапазонов, указанных ниже, создайте в датафрейме `data` столбец `total_income_category` с категориями:**\n",
    "\n",
    "- 0–30000 — `'E'`;\n",
    "- 30001–50000 — `'D'`;\n",
    "- 50001–200000 — `'C'`;\n",
    "- 200001–1000000 — `'B'`;\n",
    "- 1000001 и выше — `'A'`.\n",
    "\n",
    "\n",
    "**Например, кредитополучателю с доходом 25000 нужно назначить категорию `'E'`, а клиенту, получающему 235000, — `'B'`. Используйте собственную функцию с именем `categorize_income()` и метод `apply()`.**"
   ]
  },
  {
   "cell_type": "code",
   "execution_count": 17,
   "id": "847034b2",
   "metadata": {
    "deletable": false,
    "id": "e1771346"
   },
   "outputs": [],
   "source": [
    "def categorize_income(income):\n",
    "    try:\n",
    "        if 0 <= income <= 30000:\n",
    "            return 'E'\n",
    "        elif 30001 <= income <= 50000:\n",
    "            return 'D'\n",
    "        elif 50001 <= income <= 200000:\n",
    "            return 'C'\n",
    "        elif 200001 <= income <= 1000000:\n",
    "            return 'B'\n",
    "        elif income >= 1000001:\n",
    "            return 'A'\n",
    "    except:\n",
    "        pass"
   ]
  },
  {
   "cell_type": "code",
   "execution_count": 18,
   "id": "147efe68",
   "metadata": {
    "deletable": false,
    "id": "d5f3586d"
   },
   "outputs": [],
   "source": [
    "data['total_income_category'] = data['total_income'].apply(categorize_income)"
   ]
  },
  {
   "cell_type": "markdown",
   "id": "ced50297",
   "metadata": {
    "deletable": false,
    "editable": false,
    "id": "dde49b5c"
   },
   "source": [
    "**Задание 17. Выведите на экран перечень уникальных целей взятия кредита из столбца `purpose`.**"
   ]
  },
  {
   "cell_type": "code",
   "execution_count": 19,
   "id": "f5e40811",
   "metadata": {
    "deletable": false,
    "id": "f67ce9b3",
    "outputId": "673c12d9-7d7e-4ae0-9812-c622c89dd244"
   },
   "outputs": [
    {
     "data": {
      "text/plain": [
       "array(['покупка жилья', 'приобретение автомобиля',\n",
       "       'дополнительное образование', 'сыграть свадьбу',\n",
       "       'операции с жильем', 'образование', 'на проведение свадьбы',\n",
       "       'покупка жилья для семьи', 'покупка недвижимости',\n",
       "       'покупка коммерческой недвижимости', 'покупка жилой недвижимости',\n",
       "       'строительство собственной недвижимости', 'недвижимость',\n",
       "       'строительство недвижимости', 'на покупку подержанного автомобиля',\n",
       "       'на покупку своего автомобиля',\n",
       "       'операции с коммерческой недвижимостью',\n",
       "       'строительство жилой недвижимости', 'жилье',\n",
       "       'операции со своей недвижимостью', 'автомобили',\n",
       "       'заняться образованием', 'сделка с подержанным автомобилем',\n",
       "       'получение образования', 'автомобиль', 'свадьба',\n",
       "       'получение дополнительного образования', 'покупка своего жилья',\n",
       "       'операции с недвижимостью', 'получение высшего образования',\n",
       "       'свой автомобиль', 'сделка с автомобилем',\n",
       "       'профильное образование', 'высшее образование',\n",
       "       'покупка жилья для сдачи', 'на покупку автомобиля', 'ремонт жилью',\n",
       "       'заняться высшим образованием'], dtype=object)"
      ]
     },
     "execution_count": 19,
     "metadata": {},
     "output_type": "execute_result"
    }
   ],
   "source": [
    "data['purpose'].unique()"
   ]
  },
  {
   "cell_type": "markdown",
   "id": "e214b3f9",
   "metadata": {
    "deletable": false,
    "editable": false,
    "id": "85d0aef0"
   },
   "source": [
    "**Задание 18. Создайте функцию, которая на основании данных из столбца `purpose` сформирует новый столбец `purpose_category`, в который войдут следующие категории:**\n",
    "\n",
    "- `'операции с автомобилем'`,\n",
    "- `'операции с недвижимостью'`,\n",
    "- `'проведение свадьбы'`,\n",
    "- `'получение образования'`.\n",
    "\n",
    "**Например, если в столбце `purpose` находится подстрока `'на покупку автомобиля'`, то в столбце `purpose_category` должна появиться строка `'операции с автомобилем'`.**\n",
    "\n",
    "**Используйте собственную функцию с именем `categorize_purpose()` и метод `apply()`. Изучите данные в столбце `purpose` и определите, какие подстроки помогут вам правильно определить категорию.**"
   ]
  },
  {
   "cell_type": "code",
   "execution_count": 20,
   "id": "69d63672",
   "metadata": {
    "deletable": false,
    "id": "e149fab4"
   },
   "outputs": [],
   "source": [
    "def categorize_purpose(row):\n",
    "    try:\n",
    "        if 'автом' in row:\n",
    "            return 'операции с автомобилем'\n",
    "        elif 'жил' in row or 'недвиж' in row:\n",
    "            return 'операции с недвижимостью'\n",
    "        elif 'свад' in row:\n",
    "            return 'проведение свадьбы'\n",
    "        elif 'образов' in row:\n",
    "            return 'получение образования'\n",
    "    except:\n",
    "        return 'нет категории'"
   ]
  },
  {
   "cell_type": "code",
   "execution_count": 21,
   "id": "269f4c4c",
   "metadata": {
    "deletable": false,
    "id": "bf36e69b"
   },
   "outputs": [],
   "source": [
    "data['purpose_category'] = data['purpose'].apply(categorize_purpose)"
   ]
  },
  {
   "cell_type": "markdown",
   "id": "5ed5d73a",
   "metadata": {
    "deletable": false,
    "editable": false,
    "id": "09b242bf"
   },
   "source": [
    "### Шаг 3. Исследуйте данные и ответьте на вопросы"
   ]
  },
  {
   "cell_type": "markdown",
   "id": "bcaba3e3",
   "metadata": {
    "deletable": false,
    "editable": false,
    "id": "c5d66278"
   },
   "source": [
    "#### 3.1 Есть ли зависимость между количеством детей и возвратом кредита в срок?"
   ]
  },
  {
   "cell_type": "markdown",
   "id": "ba6d46a8",
   "metadata": {
    "deletable": false,
    "id": "2cacfc4a"
   },
   "source": [
    "Для анализа зависимости сделаем следующие действия:\n",
    "1. Cоздадим доп. столбец children_count , в котором сделаем категоризацию детей:\n",
    "   - *нет детей*, если детей нет;\n",
    "   - *есть дети*, если 1 или 2 ребенка;\n",
    "   - *многодетный*, если 3 и более детей;\n",
    "2. Cоздадим сводную таблицу."
   ]
  },
  {
   "cell_type": "code",
   "execution_count": 22,
   "id": "0a88175f",
   "metadata": {},
   "outputs": [],
   "source": [
    "# Создадим функцию категоризации по детям\n",
    "def child_category(child):\n",
    "    if 1 <= child <= 2:\n",
    "        return 'есть дети'\n",
    "    if child >= 3:\n",
    "        return 'многодетная'\n",
    "    return 'нет детей'"
   ]
  },
  {
   "cell_type": "code",
   "execution_count": 23,
   "id": "2088ecdd",
   "metadata": {},
   "outputs": [],
   "source": [
    "# Создадим доп. столбец и применим к нему функцию\n",
    "data['children_count'] = data['children'].apply(child_category)"
   ]
  },
  {
   "cell_type": "code",
   "execution_count": 24,
   "id": "dd5383ed",
   "metadata": {},
   "outputs": [
    {
     "data": {
      "text/html": [
       "<div>\n",
       "<style scoped>\n",
       "    .dataframe tbody tr th:only-of-type {\n",
       "        vertical-align: middle;\n",
       "    }\n",
       "\n",
       "    .dataframe tbody tr th {\n",
       "        vertical-align: top;\n",
       "    }\n",
       "\n",
       "    .dataframe thead th {\n",
       "        text-align: right;\n",
       "    }\n",
       "</style>\n",
       "<table border=\"1\" class=\"dataframe\">\n",
       "  <thead>\n",
       "    <tr style=\"text-align: right;\">\n",
       "      <th></th>\n",
       "      <th>children</th>\n",
       "      <th>days_employed</th>\n",
       "      <th>dob_years</th>\n",
       "      <th>education</th>\n",
       "      <th>education_id</th>\n",
       "      <th>family_status</th>\n",
       "      <th>family_status_id</th>\n",
       "      <th>gender</th>\n",
       "      <th>income_type</th>\n",
       "      <th>debt</th>\n",
       "      <th>total_income</th>\n",
       "      <th>purpose</th>\n",
       "      <th>total_income_category</th>\n",
       "      <th>purpose_category</th>\n",
       "      <th>children_count</th>\n",
       "    </tr>\n",
       "  </thead>\n",
       "  <tbody>\n",
       "    <tr>\n",
       "      <th>21520</th>\n",
       "      <td>1</td>\n",
       "      <td>4529.316663</td>\n",
       "      <td>43</td>\n",
       "      <td>среднее</td>\n",
       "      <td>1</td>\n",
       "      <td>гражданский брак</td>\n",
       "      <td>1</td>\n",
       "      <td>F</td>\n",
       "      <td>компаньон</td>\n",
       "      <td>0</td>\n",
       "      <td>224791</td>\n",
       "      <td>операции с жильем</td>\n",
       "      <td>B</td>\n",
       "      <td>операции с недвижимостью</td>\n",
       "      <td>есть дети</td>\n",
       "    </tr>\n",
       "    <tr>\n",
       "      <th>21521</th>\n",
       "      <td>0</td>\n",
       "      <td>343937.404131</td>\n",
       "      <td>67</td>\n",
       "      <td>среднее</td>\n",
       "      <td>1</td>\n",
       "      <td>женат / замужем</td>\n",
       "      <td>0</td>\n",
       "      <td>F</td>\n",
       "      <td>пенсионер</td>\n",
       "      <td>0</td>\n",
       "      <td>155999</td>\n",
       "      <td>сделка с автомобилем</td>\n",
       "      <td>C</td>\n",
       "      <td>операции с автомобилем</td>\n",
       "      <td>нет детей</td>\n",
       "    </tr>\n",
       "    <tr>\n",
       "      <th>21522</th>\n",
       "      <td>1</td>\n",
       "      <td>2113.346888</td>\n",
       "      <td>38</td>\n",
       "      <td>среднее</td>\n",
       "      <td>1</td>\n",
       "      <td>гражданский брак</td>\n",
       "      <td>1</td>\n",
       "      <td>M</td>\n",
       "      <td>сотрудник</td>\n",
       "      <td>1</td>\n",
       "      <td>89672</td>\n",
       "      <td>недвижимость</td>\n",
       "      <td>C</td>\n",
       "      <td>операции с недвижимостью</td>\n",
       "      <td>есть дети</td>\n",
       "    </tr>\n",
       "    <tr>\n",
       "      <th>21523</th>\n",
       "      <td>3</td>\n",
       "      <td>3112.481705</td>\n",
       "      <td>38</td>\n",
       "      <td>среднее</td>\n",
       "      <td>1</td>\n",
       "      <td>женат / замужем</td>\n",
       "      <td>0</td>\n",
       "      <td>M</td>\n",
       "      <td>сотрудник</td>\n",
       "      <td>1</td>\n",
       "      <td>244093</td>\n",
       "      <td>на покупку своего автомобиля</td>\n",
       "      <td>B</td>\n",
       "      <td>операции с автомобилем</td>\n",
       "      <td>многодетная</td>\n",
       "    </tr>\n",
       "    <tr>\n",
       "      <th>21524</th>\n",
       "      <td>2</td>\n",
       "      <td>1984.507589</td>\n",
       "      <td>40</td>\n",
       "      <td>среднее</td>\n",
       "      <td>1</td>\n",
       "      <td>женат / замужем</td>\n",
       "      <td>0</td>\n",
       "      <td>F</td>\n",
       "      <td>сотрудник</td>\n",
       "      <td>0</td>\n",
       "      <td>82047</td>\n",
       "      <td>на покупку автомобиля</td>\n",
       "      <td>C</td>\n",
       "      <td>операции с автомобилем</td>\n",
       "      <td>есть дети</td>\n",
       "    </tr>\n",
       "  </tbody>\n",
       "</table>\n",
       "</div>"
      ],
      "text/plain": [
       "       children  days_employed  dob_years education  education_id  \\\n",
       "21520         1    4529.316663         43   среднее             1   \n",
       "21521         0  343937.404131         67   среднее             1   \n",
       "21522         1    2113.346888         38   среднее             1   \n",
       "21523         3    3112.481705         38   среднее             1   \n",
       "21524         2    1984.507589         40   среднее             1   \n",
       "\n",
       "          family_status  family_status_id gender income_type  debt  \\\n",
       "21520  гражданский брак                 1      F   компаньон     0   \n",
       "21521   женат / замужем                 0      F   пенсионер     0   \n",
       "21522  гражданский брак                 1      M   сотрудник     1   \n",
       "21523   женат / замужем                 0      M   сотрудник     1   \n",
       "21524   женат / замужем                 0      F   сотрудник     0   \n",
       "\n",
       "       total_income                       purpose total_income_category  \\\n",
       "21520        224791             операции с жильем                     B   \n",
       "21521        155999          сделка с автомобилем                     C   \n",
       "21522         89672                  недвижимость                     C   \n",
       "21523        244093  на покупку своего автомобиля                     B   \n",
       "21524         82047         на покупку автомобиля                     C   \n",
       "\n",
       "               purpose_category children_count  \n",
       "21520  операции с недвижимостью      есть дети  \n",
       "21521    операции с автомобилем      нет детей  \n",
       "21522  операции с недвижимостью      есть дети  \n",
       "21523    операции с автомобилем    многодетная  \n",
       "21524    операции с автомобилем      есть дети  "
      ]
     },
     "execution_count": 24,
     "metadata": {},
     "output_type": "execute_result"
    }
   ],
   "source": [
    "# Проверим результат по последним 5 значениям датафрейма\n",
    "data.tail()"
   ]
  },
  {
   "cell_type": "markdown",
   "id": "f772c5c2",
   "metadata": {},
   "source": [
    "*Создадим сводную таблицу методом groupby().*"
   ]
  },
  {
   "cell_type": "code",
   "execution_count": 25,
   "id": "0d57a63a",
   "metadata": {},
   "outputs": [],
   "source": [
    "child_debt = data.groupby('children_count')['debt'].agg(['count','sum'])\n",
    "child_debt = child_debt.rename(columns={'count':'total','sum':'debt'})"
   ]
  },
  {
   "cell_type": "code",
   "execution_count": 26,
   "id": "8c148841",
   "metadata": {},
   "outputs": [],
   "source": [
    "# Считаем долю должников\n",
    "child_debt['share_of_debt'] = child_debt['debt']/child_debt['total']"
   ]
  },
  {
   "cell_type": "code",
   "execution_count": 27,
   "id": "af0886cb",
   "metadata": {},
   "outputs": [
    {
     "data": {
      "text/html": [
       "<div>\n",
       "<style scoped>\n",
       "    .dataframe tbody tr th:only-of-type {\n",
       "        vertical-align: middle;\n",
       "    }\n",
       "\n",
       "    .dataframe tbody tr th {\n",
       "        vertical-align: top;\n",
       "    }\n",
       "\n",
       "    .dataframe thead th {\n",
       "        text-align: right;\n",
       "    }\n",
       "</style>\n",
       "<table border=\"1\" class=\"dataframe\">\n",
       "  <thead>\n",
       "    <tr style=\"text-align: right;\">\n",
       "      <th></th>\n",
       "      <th>total</th>\n",
       "      <th>debt</th>\n",
       "      <th>share_of_debt</th>\n",
       "    </tr>\n",
       "    <tr>\n",
       "      <th>children_count</th>\n",
       "      <th></th>\n",
       "      <th></th>\n",
       "      <th></th>\n",
       "    </tr>\n",
       "  </thead>\n",
       "  <tbody>\n",
       "    <tr>\n",
       "      <th>есть дети</th>\n",
       "      <td>6860</td>\n",
       "      <td>638</td>\n",
       "      <td>9.3%</td>\n",
       "    </tr>\n",
       "    <tr>\n",
       "      <th>многодетная</th>\n",
       "      <td>380</td>\n",
       "      <td>31</td>\n",
       "      <td>8.2%</td>\n",
       "    </tr>\n",
       "    <tr>\n",
       "      <th>нет детей</th>\n",
       "      <td>14091</td>\n",
       "      <td>1063</td>\n",
       "      <td>7.5%</td>\n",
       "    </tr>\n",
       "  </tbody>\n",
       "</table>\n",
       "</div>"
      ],
      "text/plain": [
       "                total  debt share_of_debt\n",
       "children_count                           \n",
       "есть дети        6860   638          9.3%\n",
       "многодетная       380    31          8.2%\n",
       "нет детей       14091  1063          7.5%"
      ]
     },
     "execution_count": 27,
     "metadata": {},
     "output_type": "execute_result"
    }
   ],
   "source": [
    "# Переводим значения в столбце share_of_debt в проценты и выводим таблицу\n",
    "child_debt['share_of_debt'] = child_debt['share_of_debt'].map('{:.1%}'.format)\n",
    "child_debt"
   ]
  },
  {
   "cell_type": "markdown",
   "id": "d234b1b3",
   "metadata": {},
   "source": [
    "*Создаим функцию function создающую сводную таблицу методом pivot_table() с выводом на экран, где переменной будет интересующий нас столбец*"
   ]
  },
  {
   "cell_type": "code",
   "execution_count": 37,
   "id": "90f863d9",
   "metadata": {},
   "outputs": [],
   "source": [
    "def function(varibale):\n",
    "    df = data.pivot_table(index=varibale, values='debt', aggfunc={'count', 'sum', 'mean'})\n",
    "    df.columns = ['all_credits', 'share_debtors', 'all_debtors']\n",
    "    display(df.sort_values(by='share_debtors', ascending=False))"
   ]
  },
  {
   "cell_type": "code",
   "execution_count": 38,
   "id": "48a82cfe",
   "metadata": {},
   "outputs": [
    {
     "data": {
      "text/html": [
       "<div>\n",
       "<style scoped>\n",
       "    .dataframe tbody tr th:only-of-type {\n",
       "        vertical-align: middle;\n",
       "    }\n",
       "\n",
       "    .dataframe tbody tr th {\n",
       "        vertical-align: top;\n",
       "    }\n",
       "\n",
       "    .dataframe thead th {\n",
       "        text-align: right;\n",
       "    }\n",
       "</style>\n",
       "<table border=\"1\" class=\"dataframe\">\n",
       "  <thead>\n",
       "    <tr style=\"text-align: right;\">\n",
       "      <th></th>\n",
       "      <th>all_credits</th>\n",
       "      <th>share_debtors</th>\n",
       "      <th>all_debtors</th>\n",
       "    </tr>\n",
       "    <tr>\n",
       "      <th>children_count</th>\n",
       "      <th></th>\n",
       "      <th></th>\n",
       "      <th></th>\n",
       "    </tr>\n",
       "  </thead>\n",
       "  <tbody>\n",
       "    <tr>\n",
       "      <th>есть дети</th>\n",
       "      <td>6860.0</td>\n",
       "      <td>0.093003</td>\n",
       "      <td>638.0</td>\n",
       "    </tr>\n",
       "    <tr>\n",
       "      <th>многодетная</th>\n",
       "      <td>380.0</td>\n",
       "      <td>0.081579</td>\n",
       "      <td>31.0</td>\n",
       "    </tr>\n",
       "    <tr>\n",
       "      <th>нет детей</th>\n",
       "      <td>14091.0</td>\n",
       "      <td>0.075438</td>\n",
       "      <td>1063.0</td>\n",
       "    </tr>\n",
       "  </tbody>\n",
       "</table>\n",
       "</div>"
      ],
      "text/plain": [
       "                all_credits  share_debtors  all_debtors\n",
       "children_count                                         \n",
       "есть дети            6860.0       0.093003        638.0\n",
       "многодетная           380.0       0.081579         31.0\n",
       "нет детей           14091.0       0.075438       1063.0"
      ]
     },
     "metadata": {},
     "output_type": "display_data"
    }
   ],
   "source": [
    "# Вызовем функцию по столбцу children_count:\n",
    "function(['children_count'])"
   ]
  },
  {
   "cell_type": "markdown",
   "id": "fb9d60da",
   "metadata": {
    "deletable": false,
    "id": "3a6b99ec"
   },
   "source": [
    "**Вывод:** Как видно из сводной таблицы наименьшая доля должников у заемщиков без детей (7.5%).\n",
    "Наибольшая доля должников у заемщиков с 1-м и 2-мя детьми (9.3%), скорее всего это связано с возросшими финансовыми нагрузками.\n",
    "Гипотеза о зависимости между кол-вом детей и возвратом кредита подтверждается. \n",
    "У заемщиков с 3-мя и более детьми доля должников ниже (8.2%), чем у заемщиков с 1 и 2 детьми.\n",
    "Вероятно, это связано с тем, что существуют программы поддержки многодетных семей. Или количества заемщиков данной категории\n",
    "недостаточно для данного сравнения."
   ]
  },
  {
   "cell_type": "markdown",
   "id": "a445f647",
   "metadata": {
    "deletable": false,
    "editable": false,
    "id": "97be82ca"
   },
   "source": [
    "#### 3.2 Есть ли зависимость между семейным положением и возвратом кредита в срок?"
   ]
  },
  {
   "cell_type": "markdown",
   "id": "13f1b8d2",
   "metadata": {
    "deletable": false,
    "id": "dc3f7ee8"
   },
   "source": [
    "*Создадим сводную таблицу методом pivot_table().*"
   ]
  },
  {
   "cell_type": "code",
   "execution_count": 28,
   "id": "c1c3cfaf",
   "metadata": {},
   "outputs": [],
   "source": [
    "family_status_debt = data.pivot_table(index = ['family_status'], values = 'debt', aggfunc = {'count','sum'})\n",
    "family_status_debt = family_status_debt.rename(columns={'count':'total','sum':'debt'})"
   ]
  },
  {
   "cell_type": "code",
   "execution_count": 29,
   "id": "171f4b28",
   "metadata": {},
   "outputs": [],
   "source": [
    "# Считаем долю должников\n",
    "family_status_debt['share_of_debt'] = family_status_debt['debt']/family_status_debt['total']"
   ]
  },
  {
   "cell_type": "code",
   "execution_count": 30,
   "id": "dcc67ded",
   "metadata": {},
   "outputs": [
    {
     "data": {
      "text/html": [
       "<div>\n",
       "<style scoped>\n",
       "    .dataframe tbody tr th:only-of-type {\n",
       "        vertical-align: middle;\n",
       "    }\n",
       "\n",
       "    .dataframe tbody tr th {\n",
       "        vertical-align: top;\n",
       "    }\n",
       "\n",
       "    .dataframe thead th {\n",
       "        text-align: right;\n",
       "    }\n",
       "</style>\n",
       "<table border=\"1\" class=\"dataframe\">\n",
       "  <thead>\n",
       "    <tr style=\"text-align: right;\">\n",
       "      <th></th>\n",
       "      <th>total</th>\n",
       "      <th>debt</th>\n",
       "      <th>share_of_debt</th>\n",
       "    </tr>\n",
       "    <tr>\n",
       "      <th>family_status</th>\n",
       "      <th></th>\n",
       "      <th></th>\n",
       "      <th></th>\n",
       "    </tr>\n",
       "  </thead>\n",
       "  <tbody>\n",
       "    <tr>\n",
       "      <th>Не женат / не замужем</th>\n",
       "      <td>2796</td>\n",
       "      <td>273</td>\n",
       "      <td>9.8%</td>\n",
       "    </tr>\n",
       "    <tr>\n",
       "      <th>гражданский брак</th>\n",
       "      <td>4134</td>\n",
       "      <td>385</td>\n",
       "      <td>9.3%</td>\n",
       "    </tr>\n",
       "    <tr>\n",
       "      <th>женат / замужем</th>\n",
       "      <td>12261</td>\n",
       "      <td>927</td>\n",
       "      <td>7.6%</td>\n",
       "    </tr>\n",
       "    <tr>\n",
       "      <th>в разводе</th>\n",
       "      <td>1189</td>\n",
       "      <td>84</td>\n",
       "      <td>7.1%</td>\n",
       "    </tr>\n",
       "    <tr>\n",
       "      <th>вдовец / вдова</th>\n",
       "      <td>951</td>\n",
       "      <td>63</td>\n",
       "      <td>6.6%</td>\n",
       "    </tr>\n",
       "  </tbody>\n",
       "</table>\n",
       "</div>"
      ],
      "text/plain": [
       "                       total  debt share_of_debt\n",
       "family_status                                   \n",
       "Не женат / не замужем   2796   273          9.8%\n",
       "гражданский брак        4134   385          9.3%\n",
       "женат / замужем        12261   927          7.6%\n",
       "в разводе               1189    84          7.1%\n",
       "вдовец / вдова           951    63          6.6%"
      ]
     },
     "execution_count": 30,
     "metadata": {},
     "output_type": "execute_result"
    }
   ],
   "source": [
    "# Переводим значения в столбце share_of_debt в проценты и выводим таблицу\n",
    "family_status_debt['share_of_debt'] = family_status_debt['share_of_debt'].map('{:.1%}'.format)\n",
    "family_status_debt.sort_values(by='share_of_debt', ascending=False)"
   ]
  },
  {
   "cell_type": "code",
   "execution_count": 39,
   "id": "1ae15691",
   "metadata": {},
   "outputs": [
    {
     "data": {
      "text/html": [
       "<div>\n",
       "<style scoped>\n",
       "    .dataframe tbody tr th:only-of-type {\n",
       "        vertical-align: middle;\n",
       "    }\n",
       "\n",
       "    .dataframe tbody tr th {\n",
       "        vertical-align: top;\n",
       "    }\n",
       "\n",
       "    .dataframe thead th {\n",
       "        text-align: right;\n",
       "    }\n",
       "</style>\n",
       "<table border=\"1\" class=\"dataframe\">\n",
       "  <thead>\n",
       "    <tr style=\"text-align: right;\">\n",
       "      <th></th>\n",
       "      <th>all_credits</th>\n",
       "      <th>share_debtors</th>\n",
       "      <th>all_debtors</th>\n",
       "    </tr>\n",
       "    <tr>\n",
       "      <th>family_status</th>\n",
       "      <th></th>\n",
       "      <th></th>\n",
       "      <th></th>\n",
       "    </tr>\n",
       "  </thead>\n",
       "  <tbody>\n",
       "    <tr>\n",
       "      <th>Не женат / не замужем</th>\n",
       "      <td>2796.0</td>\n",
       "      <td>0.097639</td>\n",
       "      <td>273.0</td>\n",
       "    </tr>\n",
       "    <tr>\n",
       "      <th>гражданский брак</th>\n",
       "      <td>4134.0</td>\n",
       "      <td>0.093130</td>\n",
       "      <td>385.0</td>\n",
       "    </tr>\n",
       "    <tr>\n",
       "      <th>женат / замужем</th>\n",
       "      <td>12261.0</td>\n",
       "      <td>0.075606</td>\n",
       "      <td>927.0</td>\n",
       "    </tr>\n",
       "    <tr>\n",
       "      <th>в разводе</th>\n",
       "      <td>1189.0</td>\n",
       "      <td>0.070648</td>\n",
       "      <td>84.0</td>\n",
       "    </tr>\n",
       "    <tr>\n",
       "      <th>вдовец / вдова</th>\n",
       "      <td>951.0</td>\n",
       "      <td>0.066246</td>\n",
       "      <td>63.0</td>\n",
       "    </tr>\n",
       "  </tbody>\n",
       "</table>\n",
       "</div>"
      ],
      "text/plain": [
       "                       all_credits  share_debtors  all_debtors\n",
       "family_status                                                 \n",
       "Не женат / не замужем       2796.0       0.097639        273.0\n",
       "гражданский брак            4134.0       0.093130        385.0\n",
       "женат / замужем            12261.0       0.075606        927.0\n",
       "в разводе                   1189.0       0.070648         84.0\n",
       "вдовец / вдова               951.0       0.066246         63.0"
      ]
     },
     "metadata": {},
     "output_type": "display_data"
    }
   ],
   "source": [
    "# Вызовем функцию по столбцу family_status:\n",
    "function(['family_status'])"
   ]
  },
  {
   "cell_type": "markdown",
   "id": "dbeb9b3e",
   "metadata": {
    "deletable": false,
    "id": "1cef7837"
   },
   "source": [
    "**Вывод:** Да, действительно. зависимость есть. Люди разведенные или ставшие вдовцом/вдовой, то есть люди состоявшие ранее в браке обладают наименьшими показателями доли должников (7.1% и 6.6% соответственно (Могут быть объеденны в единую категорию)).\n",
    "Заемщики не сотоящие в браке: не женат/не замужем (9.8%) и состоящие в гражданском браке (9.3%) - имею наивысшие значения доли\n",
    "должников. Возможно данные категории заемщиков обладают меньшей ответственностью.\n",
    "Заемщики состоящие в браке являются медианным значением в данной сводной таблице (7.6%). \n",
    "Возможные причины: наличие детей, финансовые трудности и т.д."
   ]
  },
  {
   "cell_type": "markdown",
   "id": "5e4c7a59",
   "metadata": {
    "deletable": false,
    "editable": false,
    "id": "1e8b2fca"
   },
   "source": [
    "#### 3.3 Есть ли зависимость между уровнем дохода и возвратом кредита в срок?"
   ]
  },
  {
   "cell_type": "markdown",
   "id": "5fb46823",
   "metadata": {
    "deletable": false,
    "id": "cd7e3720"
   },
   "source": [
    "*Создадим сводную таблицу методом pivot_table().*"
   ]
  },
  {
   "cell_type": "code",
   "execution_count": 31,
   "id": "8951d807",
   "metadata": {},
   "outputs": [],
   "source": [
    "total_income_debt = data.pivot_table(index = [ 'total_income_category'], values = 'debt', aggfunc = {'count','sum'})\n",
    "total_income_debt = total_income_debt.rename(columns={'count':'total','sum':'debt'})"
   ]
  },
  {
   "cell_type": "code",
   "execution_count": 32,
   "id": "3fc0733e",
   "metadata": {},
   "outputs": [],
   "source": [
    "# Считаем долю должников\n",
    "total_income_debt['share_of_debt'] = total_income_debt['debt']/total_income_debt['total']"
   ]
  },
  {
   "cell_type": "code",
   "execution_count": 33,
   "id": "10dc8d6f",
   "metadata": {},
   "outputs": [
    {
     "data": {
      "text/html": [
       "<div>\n",
       "<style scoped>\n",
       "    .dataframe tbody tr th:only-of-type {\n",
       "        vertical-align: middle;\n",
       "    }\n",
       "\n",
       "    .dataframe tbody tr th {\n",
       "        vertical-align: top;\n",
       "    }\n",
       "\n",
       "    .dataframe thead th {\n",
       "        text-align: right;\n",
       "    }\n",
       "</style>\n",
       "<table border=\"1\" class=\"dataframe\">\n",
       "  <thead>\n",
       "    <tr style=\"text-align: right;\">\n",
       "      <th></th>\n",
       "      <th>total</th>\n",
       "      <th>debt</th>\n",
       "      <th>share_of_debt</th>\n",
       "    </tr>\n",
       "    <tr>\n",
       "      <th>total_income_category</th>\n",
       "      <th></th>\n",
       "      <th></th>\n",
       "      <th></th>\n",
       "    </tr>\n",
       "  </thead>\n",
       "  <tbody>\n",
       "    <tr>\n",
       "      <th>E</th>\n",
       "      <td>22</td>\n",
       "      <td>2</td>\n",
       "      <td>9.1%</td>\n",
       "    </tr>\n",
       "    <tr>\n",
       "      <th>C</th>\n",
       "      <td>15921</td>\n",
       "      <td>1353</td>\n",
       "      <td>8.5%</td>\n",
       "    </tr>\n",
       "    <tr>\n",
       "      <th>A</th>\n",
       "      <td>25</td>\n",
       "      <td>2</td>\n",
       "      <td>8.0%</td>\n",
       "    </tr>\n",
       "    <tr>\n",
       "      <th>B</th>\n",
       "      <td>5014</td>\n",
       "      <td>354</td>\n",
       "      <td>7.1%</td>\n",
       "    </tr>\n",
       "    <tr>\n",
       "      <th>D</th>\n",
       "      <td>349</td>\n",
       "      <td>21</td>\n",
       "      <td>6.0%</td>\n",
       "    </tr>\n",
       "  </tbody>\n",
       "</table>\n",
       "</div>"
      ],
      "text/plain": [
       "                       total  debt share_of_debt\n",
       "total_income_category                           \n",
       "E                         22     2          9.1%\n",
       "C                      15921  1353          8.5%\n",
       "A                         25     2          8.0%\n",
       "B                       5014   354          7.1%\n",
       "D                        349    21          6.0%"
      ]
     },
     "execution_count": 33,
     "metadata": {},
     "output_type": "execute_result"
    }
   ],
   "source": [
    "# Переводим значения в столбце share_of_debt в проценты и выводим таблицу\n",
    "total_income_debt['share_of_debt'] = total_income_debt['share_of_debt'].map('{:.1%}'.format)\n",
    "total_income_debt.sort_values(by='share_of_debt', ascending=False)"
   ]
  },
  {
   "cell_type": "code",
   "execution_count": 40,
   "id": "d25fbe1f",
   "metadata": {
    "scrolled": true
   },
   "outputs": [
    {
     "data": {
      "text/html": [
       "<div>\n",
       "<style scoped>\n",
       "    .dataframe tbody tr th:only-of-type {\n",
       "        vertical-align: middle;\n",
       "    }\n",
       "\n",
       "    .dataframe tbody tr th {\n",
       "        vertical-align: top;\n",
       "    }\n",
       "\n",
       "    .dataframe thead th {\n",
       "        text-align: right;\n",
       "    }\n",
       "</style>\n",
       "<table border=\"1\" class=\"dataframe\">\n",
       "  <thead>\n",
       "    <tr style=\"text-align: right;\">\n",
       "      <th></th>\n",
       "      <th>all_credits</th>\n",
       "      <th>share_debtors</th>\n",
       "      <th>all_debtors</th>\n",
       "    </tr>\n",
       "    <tr>\n",
       "      <th>total_income_category</th>\n",
       "      <th></th>\n",
       "      <th></th>\n",
       "      <th></th>\n",
       "    </tr>\n",
       "  </thead>\n",
       "  <tbody>\n",
       "    <tr>\n",
       "      <th>E</th>\n",
       "      <td>22.0</td>\n",
       "      <td>0.090909</td>\n",
       "      <td>2.0</td>\n",
       "    </tr>\n",
       "    <tr>\n",
       "      <th>C</th>\n",
       "      <td>15921.0</td>\n",
       "      <td>0.084982</td>\n",
       "      <td>1353.0</td>\n",
       "    </tr>\n",
       "    <tr>\n",
       "      <th>A</th>\n",
       "      <td>25.0</td>\n",
       "      <td>0.080000</td>\n",
       "      <td>2.0</td>\n",
       "    </tr>\n",
       "    <tr>\n",
       "      <th>B</th>\n",
       "      <td>5014.0</td>\n",
       "      <td>0.070602</td>\n",
       "      <td>354.0</td>\n",
       "    </tr>\n",
       "    <tr>\n",
       "      <th>D</th>\n",
       "      <td>349.0</td>\n",
       "      <td>0.060172</td>\n",
       "      <td>21.0</td>\n",
       "    </tr>\n",
       "  </tbody>\n",
       "</table>\n",
       "</div>"
      ],
      "text/plain": [
       "                       all_credits  share_debtors  all_debtors\n",
       "total_income_category                                         \n",
       "E                             22.0       0.090909          2.0\n",
       "C                          15921.0       0.084982       1353.0\n",
       "A                             25.0       0.080000          2.0\n",
       "B                           5014.0       0.070602        354.0\n",
       "D                            349.0       0.060172         21.0"
      ]
     },
     "metadata": {},
     "output_type": "display_data"
    }
   ],
   "source": [
    "# Вызовем функцию по столбцу total_income_category:\n",
    "function(['total_income_category'])"
   ]
  },
  {
   "cell_type": "markdown",
   "id": "a03f02c7",
   "metadata": {
    "deletable": false,
    "id": "e8593def"
   },
   "source": [
    "**Вывод:** Зависимость между уровнем дохода и возвратом кредита в срок есть. \n",
    "Количества заемщиков категорий А  и Е (1 000 000 и выше, 0 - 30 000) недостаточно для данного сравнения.\n",
    "Наибольший показатель доли должников у категории С (50 000 - 200 000) и состовляет 8.5%. Вероятно данная категория\n",
    "имеет большую финансовую нагрузку при меньшем доходе, чем категории B (200 000 - 1 000 000) с долей задолжности (7.1%)\n",
    "Самый низкий показатель доли должников у категории D (30 000 - 50 000) - 6%. Скорее всего, из-за низкого дохода, определяющим фактором являются дополнительные расходы, связанные с появлением просрочки оплаты."
   ]
  },
  {
   "cell_type": "markdown",
   "id": "1ac09102",
   "metadata": {
    "deletable": false,
    "editable": false,
    "id": "99ecbd1f"
   },
   "source": [
    "#### 3.4 Как разные цели кредита влияют на его возврат в срок?"
   ]
  },
  {
   "cell_type": "markdown",
   "id": "c50e1ac2",
   "metadata": {
    "deletable": false,
    "id": "2b687290"
   },
   "source": [
    "*Создадим сводную таблицу методом groupby().*"
   ]
  },
  {
   "cell_type": "code",
   "execution_count": 34,
   "id": "6254af6f",
   "metadata": {},
   "outputs": [],
   "source": [
    "purpose_category_debt = data.groupby('purpose_category')['debt'].agg(['count','sum'])\n",
    "purpose_category_debt = purpose_category_debt.rename(columns={'count':'total','sum':'debt'})"
   ]
  },
  {
   "cell_type": "code",
   "execution_count": 35,
   "id": "90a53dab",
   "metadata": {},
   "outputs": [],
   "source": [
    "# Считаем долю должников\n",
    "purpose_category_debt['share_of_debt'] = purpose_category_debt['debt']/purpose_category_debt['total']"
   ]
  },
  {
   "cell_type": "code",
   "execution_count": 36,
   "id": "408540df",
   "metadata": {},
   "outputs": [
    {
     "data": {
      "text/html": [
       "<div>\n",
       "<style scoped>\n",
       "    .dataframe tbody tr th:only-of-type {\n",
       "        vertical-align: middle;\n",
       "    }\n",
       "\n",
       "    .dataframe tbody tr th {\n",
       "        vertical-align: top;\n",
       "    }\n",
       "\n",
       "    .dataframe thead th {\n",
       "        text-align: right;\n",
       "    }\n",
       "</style>\n",
       "<table border=\"1\" class=\"dataframe\">\n",
       "  <thead>\n",
       "    <tr style=\"text-align: right;\">\n",
       "      <th></th>\n",
       "      <th>total</th>\n",
       "      <th>debt</th>\n",
       "      <th>share_of_debt</th>\n",
       "    </tr>\n",
       "    <tr>\n",
       "      <th>purpose_category</th>\n",
       "      <th></th>\n",
       "      <th></th>\n",
       "      <th></th>\n",
       "    </tr>\n",
       "  </thead>\n",
       "  <tbody>\n",
       "    <tr>\n",
       "      <th>операции с автомобилем</th>\n",
       "      <td>4279</td>\n",
       "      <td>400</td>\n",
       "      <td>9.3%</td>\n",
       "    </tr>\n",
       "    <tr>\n",
       "      <th>получение образования</th>\n",
       "      <td>3988</td>\n",
       "      <td>369</td>\n",
       "      <td>9.3%</td>\n",
       "    </tr>\n",
       "    <tr>\n",
       "      <th>проведение свадьбы</th>\n",
       "      <td>2313</td>\n",
       "      <td>183</td>\n",
       "      <td>7.9%</td>\n",
       "    </tr>\n",
       "    <tr>\n",
       "      <th>операции с недвижимостью</th>\n",
       "      <td>10751</td>\n",
       "      <td>780</td>\n",
       "      <td>7.3%</td>\n",
       "    </tr>\n",
       "  </tbody>\n",
       "</table>\n",
       "</div>"
      ],
      "text/plain": [
       "                          total  debt share_of_debt\n",
       "purpose_category                                   \n",
       "операции с автомобилем     4279   400          9.3%\n",
       "получение образования      3988   369          9.3%\n",
       "проведение свадьбы         2313   183          7.9%\n",
       "операции с недвижимостью  10751   780          7.3%"
      ]
     },
     "execution_count": 36,
     "metadata": {},
     "output_type": "execute_result"
    }
   ],
   "source": [
    "# Переводим значения в столбце share_of_debt в проценты и выводим таблицу\n",
    "purpose_category_debt['share_of_debt'] = purpose_category_debt['share_of_debt'].map('{:.1%}'.format)\n",
    "purpose_category_debt.sort_values(by='share_of_debt', ascending=False)"
   ]
  },
  {
   "cell_type": "code",
   "execution_count": 41,
   "id": "07fdfe5d",
   "metadata": {
    "scrolled": true
   },
   "outputs": [
    {
     "data": {
      "text/html": [
       "<div>\n",
       "<style scoped>\n",
       "    .dataframe tbody tr th:only-of-type {\n",
       "        vertical-align: middle;\n",
       "    }\n",
       "\n",
       "    .dataframe tbody tr th {\n",
       "        vertical-align: top;\n",
       "    }\n",
       "\n",
       "    .dataframe thead th {\n",
       "        text-align: right;\n",
       "    }\n",
       "</style>\n",
       "<table border=\"1\" class=\"dataframe\">\n",
       "  <thead>\n",
       "    <tr style=\"text-align: right;\">\n",
       "      <th></th>\n",
       "      <th>all_credits</th>\n",
       "      <th>share_debtors</th>\n",
       "      <th>all_debtors</th>\n",
       "    </tr>\n",
       "    <tr>\n",
       "      <th>purpose_category</th>\n",
       "      <th></th>\n",
       "      <th></th>\n",
       "      <th></th>\n",
       "    </tr>\n",
       "  </thead>\n",
       "  <tbody>\n",
       "    <tr>\n",
       "      <th>операции с автомобилем</th>\n",
       "      <td>4279.0</td>\n",
       "      <td>0.093480</td>\n",
       "      <td>400.0</td>\n",
       "    </tr>\n",
       "    <tr>\n",
       "      <th>получение образования</th>\n",
       "      <td>3988.0</td>\n",
       "      <td>0.092528</td>\n",
       "      <td>369.0</td>\n",
       "    </tr>\n",
       "    <tr>\n",
       "      <th>проведение свадьбы</th>\n",
       "      <td>2313.0</td>\n",
       "      <td>0.079118</td>\n",
       "      <td>183.0</td>\n",
       "    </tr>\n",
       "    <tr>\n",
       "      <th>операции с недвижимостью</th>\n",
       "      <td>10751.0</td>\n",
       "      <td>0.072551</td>\n",
       "      <td>780.0</td>\n",
       "    </tr>\n",
       "  </tbody>\n",
       "</table>\n",
       "</div>"
      ],
      "text/plain": [
       "                          all_credits  share_debtors  all_debtors\n",
       "purpose_category                                                 \n",
       "операции с автомобилем         4279.0       0.093480        400.0\n",
       "получение образования          3988.0       0.092528        369.0\n",
       "проведение свадьбы             2313.0       0.079118        183.0\n",
       "операции с недвижимостью      10751.0       0.072551        780.0"
      ]
     },
     "metadata": {},
     "output_type": "display_data"
    }
   ],
   "source": [
    "# Вызовем функцию по столбцу purpose_category:\n",
    "function(['purpose_category'])"
   ]
  },
  {
   "cell_type": "markdown",
   "id": "e39cb84c",
   "metadata": {
    "deletable": false,
    "id": "b4bb2ce6"
   },
   "source": [
    "**Вывод:** Наиболее благонадежной целью взятие кредита являются операции с недвижимостью (доля должников наименьшая - 7.3%)\n",
    "Самые большие доли должников (9.3%) связанны с кредитами на операции с автомобилями и получением образования.\n"
   ]
  },
  {
   "cell_type": "markdown",
   "id": "ca597da9",
   "metadata": {
    "deletable": false,
    "editable": false,
    "id": "09c3ac4c"
   },
   "source": [
    "#### 3.5 Приведите возможные причины появления пропусков в исходных данных."
   ]
  },
  {
   "cell_type": "markdown",
   "id": "ab360db3",
   "metadata": {
    "deletable": false,
    "id": "9da2ceda"
   },
   "source": [
    "*Ответ:*причины пропусков данных в двух столбцах days_employed и total_income (количество пропусков одинаково):\n",
    " - неверный ввод данных;\n",
    " - сокрытие информации;\n",
    " - повреждение файла данных при сохранении;\n",
    " - технические проблемы. "
   ]
  },
  {
   "cell_type": "markdown",
   "id": "72c306bb",
   "metadata": {
    "deletable": false,
    "editable": false,
    "id": "7b0487d6"
   },
   "source": [
    "#### 3.6 Объясните, почему заполнить пропуски медианным значением — лучшее решение для количественных переменных."
   ]
  },
  {
   "cell_type": "markdown",
   "id": "bbcf4a28",
   "metadata": {
    "deletable": false,
    "id": "7ecf2b8e"
   },
   "source": [
    "*Ответ:* заполние пропусков медианным значением — лучшее решение для количественных переменных из-за устойчивости медианы к выбросам и аномальным значениям."
   ]
  },
  {
   "cell_type": "markdown",
   "id": "bd726505",
   "metadata": {
    "deletable": false,
    "editable": false,
    "id": "6db5255a"
   },
   "source": [
    "### Шаг 4: общий вывод."
   ]
  },
  {
   "cell_type": "raw",
   "id": "7a133d30",
   "metadata": {
    "deletable": false,
    "id": "bad65432"
   },
   "source": []
  },
  {
   "cell_type": "markdown",
   "id": "c0e90eed",
   "metadata": {},
   "source": [
    "В предоставленном наборе данных (размером 21525 строк на 12 колонок) была проведена предобработка данных для иследования по четырем гипотезам, которые и были подтверждены:\n",
    "1. Есть ли зависимость между количеством детей и возвратом кредита в срок?\n",
    "2. Есть ли зависимость между семейным положением и возвратом кредита в срок?\n",
    "3. Есть ли зависимость между уровнем дохода и возвратом кредита в срок?\n",
    "4. Как разные цели кредита влияют на его возврат в срок?\n",
    "- При исследовании данных были обнаружены и удалены строки-дубликаты данных. \n",
    "- Так же были найден и удалены аномальные значения в стобце children. \n",
    "- Обнаружены пропуски данных в двух столбцах days_employed и total_income (количество пропусков одинаково). Для дальнейшего иследования эти пропуски были заполнены медианными значениями их столбцов.Причинами появления пропусков в данных могут быть: неверный ввод данных, сокрытие информации, повреждение файла данных при сохранении, технические проблемы.\n",
    "- В столбце education выявлены неявные дубликаты(присутствовали есть одни и те же значения, но записанные по-разному: с использованием заглавных и строчных букв) - приведены к нижнему регистру. \n",
    "- В столбце total_income вещественный тип данных заменен на целочисленный.\n",
    "- Была произведена категоризация данных по столбцам total_income по пяти категориям, purpose по четырем категория, children по трем категориям. Это позволило не только провести более качественный анализ данных, но и выявить недостаток данных для сравнения в некоторых категориях."
   ]
  },
  {
   "cell_type": "markdown",
   "id": "07053da3",
   "metadata": {
    "deletable": false,
    "id": "bad65432"
   },
   "source": [
    "По результатам проведенного исследования можно сформировать образ наиболее благонадежного заемщика банка:\n",
    " - ранее состоял в браке (в разводе, вдовец / вдова);\n",
    " - не имеет детей;\n",
    " - со средним доходом от 200 000;\n",
    " - берущий кредит на операции с недвижимостью.\n",
    "\n",
    "Наименее благонадежным заемщиком банка является заемщик:\n",
    "  - не состоит в браке (не женат / не замужем, гражданский брак);\n",
    "  - имеет детей (1-го или 2-х);\n",
    "  - со средним доходом от 50 000 до 200 000;\n",
    "  - берущий кредит на операции с автомобилем или получение образования."
   ]
  }
 ],
 "metadata": {
  "ExecuteTimeLog": [
   {
    "duration": 451,
    "start_time": "2023-04-27T06:27:43.164Z"
   },
   {
    "duration": 31,
    "start_time": "2023-04-27T06:27:48.522Z"
   },
   {
    "duration": 16,
    "start_time": "2023-04-27T06:27:52.358Z"
   },
   {
    "duration": 18,
    "start_time": "2023-04-27T06:27:55.828Z"
   },
   {
    "duration": 39,
    "start_time": "2023-04-27T06:27:59.009Z"
   },
   {
    "duration": 4,
    "start_time": "2023-04-27T06:28:03.028Z"
   },
   {
    "duration": 11,
    "start_time": "2023-04-27T06:28:07.053Z"
   },
   {
    "duration": 4,
    "start_time": "2023-04-27T06:28:10.935Z"
   },
   {
    "duration": 17,
    "start_time": "2023-04-27T06:28:14.945Z"
   },
   {
    "duration": 4,
    "start_time": "2023-04-27T06:28:18.508Z"
   },
   {
    "duration": 38,
    "start_time": "2023-04-27T06:28:22.109Z"
   },
   {
    "duration": 10,
    "start_time": "2023-04-27T06:28:25.904Z"
   },
   {
    "duration": 4,
    "start_time": "2023-04-27T06:28:29.774Z"
   },
   {
    "duration": 12,
    "start_time": "2023-04-27T06:28:32.759Z"
   },
   {
    "duration": 20,
    "start_time": "2023-04-27T06:28:35.969Z"
   },
   {
    "duration": 17,
    "start_time": "2023-04-27T06:28:38.714Z"
   },
   {
    "duration": 3,
    "start_time": "2023-04-27T06:28:43.660Z"
   },
   {
    "duration": 10,
    "start_time": "2023-04-27T06:28:47.084Z"
   },
   {
    "duration": 6,
    "start_time": "2023-04-27T06:28:50.608Z"
   },
   {
    "duration": 4,
    "start_time": "2023-04-27T06:28:56.805Z"
   },
   {
    "duration": 9,
    "start_time": "2023-04-27T06:29:00.884Z"
   },
   {
    "duration": 3,
    "start_time": "2023-04-27T08:35:00.449Z"
   },
   {
    "duration": 7,
    "start_time": "2023-04-27T08:35:04.303Z"
   },
   {
    "duration": 9,
    "start_time": "2023-04-27T08:35:08.220Z"
   },
   {
    "duration": 20,
    "start_time": "2023-04-27T08:35:46.057Z"
   },
   {
    "duration": 8,
    "start_time": "2023-04-27T08:39:33.321Z"
   },
   {
    "duration": 4,
    "start_time": "2023-04-27T08:39:36.239Z"
   },
   {
    "duration": 7,
    "start_time": "2023-04-27T08:39:37.634Z"
   },
   {
    "duration": 594,
    "start_time": "2023-04-27T09:19:52.808Z"
   },
   {
    "duration": 97,
    "start_time": "2023-04-27T09:20:09.271Z"
   },
   {
    "duration": 479,
    "start_time": "2023-04-27T09:20:50.872Z"
   },
   {
    "duration": 21,
    "start_time": "2023-04-27T09:20:54.549Z"
   },
   {
    "duration": 16,
    "start_time": "2023-04-27T09:20:59.989Z"
   },
   {
    "duration": 10,
    "start_time": "2023-04-27T09:21:03.483Z"
   },
   {
    "duration": 34,
    "start_time": "2023-04-27T09:21:07.581Z"
   },
   {
    "duration": 3,
    "start_time": "2023-04-27T09:21:16.325Z"
   },
   {
    "duration": 9,
    "start_time": "2023-04-27T09:21:19.370Z"
   },
   {
    "duration": 5,
    "start_time": "2023-04-27T09:21:23.495Z"
   },
   {
    "duration": 8,
    "start_time": "2023-04-27T09:21:26.570Z"
   },
   {
    "duration": 6,
    "start_time": "2023-04-27T09:21:32.886Z"
   },
   {
    "duration": 4,
    "start_time": "2023-04-27T09:21:36.455Z"
   },
   {
    "duration": 33,
    "start_time": "2023-04-27T09:21:40.046Z"
   },
   {
    "duration": 11,
    "start_time": "2023-04-27T09:21:43.551Z"
   },
   {
    "duration": 4,
    "start_time": "2023-04-27T09:21:47.420Z"
   },
   {
    "duration": 17,
    "start_time": "2023-04-27T09:21:50.797Z"
   },
   {
    "duration": 19,
    "start_time": "2023-04-27T09:21:55.101Z"
   },
   {
    "duration": 16,
    "start_time": "2023-04-27T09:21:57.815Z"
   },
   {
    "duration": 3,
    "start_time": "2023-04-27T09:22:03.412Z"
   },
   {
    "duration": 10,
    "start_time": "2023-04-27T09:22:06.936Z"
   },
   {
    "duration": 6,
    "start_time": "2023-04-27T09:22:10.371Z"
   },
   {
    "duration": 4,
    "start_time": "2023-04-27T09:22:14.706Z"
   },
   {
    "duration": 19,
    "start_time": "2023-04-27T09:22:17.931Z"
   },
   {
    "duration": 4,
    "start_time": "2023-04-27T09:22:23.316Z"
   },
   {
    "duration": 8,
    "start_time": "2023-04-27T09:22:26.391Z"
   },
   {
    "duration": 15,
    "start_time": "2023-04-27T09:22:29.950Z"
   },
   {
    "duration": 9,
    "start_time": "2023-04-27T09:22:34.751Z"
   },
   {
    "duration": 4,
    "start_time": "2023-04-27T09:22:37.686Z"
   },
   {
    "duration": 7,
    "start_time": "2023-04-27T09:22:41.392Z"
   },
   {
    "duration": 498,
    "start_time": "2023-04-28T03:42:30.905Z"
   },
   {
    "duration": 23,
    "start_time": "2023-04-28T03:42:34.681Z"
   },
   {
    "duration": 13,
    "start_time": "2023-04-28T03:42:39.661Z"
   },
   {
    "duration": 9,
    "start_time": "2023-04-28T03:42:43.785Z"
   },
   {
    "duration": 28,
    "start_time": "2023-04-28T03:42:49.335Z"
   },
   {
    "duration": 4,
    "start_time": "2023-04-28T03:42:52.889Z"
   },
   {
    "duration": 8,
    "start_time": "2023-04-28T03:42:56.281Z"
   },
   {
    "duration": 3,
    "start_time": "2023-04-28T03:43:01.007Z"
   },
   {
    "duration": 7,
    "start_time": "2023-04-28T03:43:05.174Z"
   },
   {
    "duration": 4,
    "start_time": "2023-04-28T03:43:09.556Z"
   },
   {
    "duration": 34,
    "start_time": "2023-04-28T03:43:15.106Z"
   },
   {
    "duration": 15,
    "start_time": "2023-04-28T03:43:19.533Z"
   },
   {
    "duration": 4,
    "start_time": "2023-04-28T03:43:23.308Z"
   },
   {
    "duration": 11,
    "start_time": "2023-04-28T03:43:27.241Z"
   },
   {
    "duration": 18,
    "start_time": "2023-04-28T03:43:31.007Z"
   },
   {
    "duration": 17,
    "start_time": "2023-04-28T03:43:34.532Z"
   },
   {
    "duration": 3,
    "start_time": "2023-04-28T03:43:40.892Z"
   },
   {
    "duration": 9,
    "start_time": "2023-04-28T03:43:45.137Z"
   },
   {
    "duration": 6,
    "start_time": "2023-04-28T03:43:48.272Z"
   },
   {
    "duration": 3,
    "start_time": "2023-04-28T03:43:57.287Z"
   },
   {
    "duration": 8,
    "start_time": "2023-04-28T03:44:02.297Z"
   },
   {
    "duration": 3,
    "start_time": "2023-04-28T03:44:06.992Z"
   },
   {
    "duration": 8,
    "start_time": "2023-04-28T03:44:11.446Z"
   },
   {
    "duration": 13,
    "start_time": "2023-04-28T03:44:33.979Z"
   },
   {
    "duration": 12,
    "start_time": "2023-04-28T03:44:50.450Z"
   },
   {
    "duration": 7,
    "start_time": "2023-04-28T03:44:54.124Z"
   },
   {
    "duration": 7,
    "start_time": "2023-04-28T03:44:58.235Z"
   },
   {
    "duration": 19,
    "start_time": "2023-04-28T03:53:46.864Z"
   },
   {
    "duration": 3,
    "start_time": "2023-04-28T03:53:49.534Z"
   },
   {
    "duration": 8,
    "start_time": "2023-04-28T03:53:51.244Z"
   },
   {
    "duration": 12,
    "start_time": "2023-04-28T04:29:43.453Z"
   },
   {
    "duration": 4,
    "start_time": "2023-04-28T04:29:45.342Z"
   },
   {
    "duration": 8,
    "start_time": "2023-04-28T04:29:47.261Z"
   },
   {
    "duration": 7,
    "start_time": "2023-04-28T04:35:13.573Z"
   },
   {
    "duration": 4,
    "start_time": "2023-04-28T04:35:15.221Z"
   },
   {
    "duration": 8,
    "start_time": "2023-04-28T04:35:17.339Z"
   },
   {
    "duration": 53,
    "start_time": "2023-04-28T07:55:14.010Z"
   },
   {
    "duration": 609,
    "start_time": "2023-04-28T07:55:22.180Z"
   },
   {
    "duration": 35,
    "start_time": "2023-04-28T07:55:22.792Z"
   },
   {
    "duration": 17,
    "start_time": "2023-04-28T07:55:22.831Z"
   },
   {
    "duration": 10,
    "start_time": "2023-04-28T07:55:22.850Z"
   },
   {
    "duration": 65,
    "start_time": "2023-04-28T07:55:22.863Z"
   },
   {
    "duration": 3,
    "start_time": "2023-04-28T07:55:22.930Z"
   },
   {
    "duration": 9,
    "start_time": "2023-04-28T07:55:22.935Z"
   },
   {
    "duration": 4,
    "start_time": "2023-04-28T07:55:22.946Z"
   },
   {
    "duration": 7,
    "start_time": "2023-04-28T07:55:22.951Z"
   },
   {
    "duration": 5,
    "start_time": "2023-04-28T07:55:22.960Z"
   },
   {
    "duration": 48,
    "start_time": "2023-04-28T07:55:22.993Z"
   },
   {
    "duration": 9,
    "start_time": "2023-04-28T07:55:23.043Z"
   },
   {
    "duration": 6,
    "start_time": "2023-04-28T07:55:23.054Z"
   },
   {
    "duration": 12,
    "start_time": "2023-04-28T07:55:23.063Z"
   },
   {
    "duration": 29,
    "start_time": "2023-04-28T07:55:23.095Z"
   },
   {
    "duration": 27,
    "start_time": "2023-04-28T07:55:23.128Z"
   },
   {
    "duration": 5,
    "start_time": "2023-04-28T07:55:23.158Z"
   },
   {
    "duration": 38,
    "start_time": "2023-04-28T07:55:23.166Z"
   },
   {
    "duration": 17,
    "start_time": "2023-04-28T07:55:23.215Z"
   },
   {
    "duration": 4,
    "start_time": "2023-04-28T07:55:23.236Z"
   },
   {
    "duration": 17,
    "start_time": "2023-04-28T07:55:23.243Z"
   },
   {
    "duration": 5,
    "start_time": "2023-04-28T07:55:23.263Z"
   },
   {
    "duration": 9,
    "start_time": "2023-04-28T07:55:23.271Z"
   },
   {
    "duration": 36,
    "start_time": "2023-04-28T07:55:23.284Z"
   },
   {
    "duration": 10,
    "start_time": "2023-04-28T07:55:23.328Z"
   },
   {
    "duration": 4,
    "start_time": "2023-04-28T07:55:23.340Z"
   },
   {
    "duration": 14,
    "start_time": "2023-04-28T07:55:23.346Z"
   },
   {
    "duration": 36,
    "start_time": "2023-04-28T07:55:23.362Z"
   },
   {
    "duration": 5,
    "start_time": "2023-04-28T07:55:23.400Z"
   },
   {
    "duration": 22,
    "start_time": "2023-04-28T07:55:23.417Z"
   },
   {
    "duration": 17,
    "start_time": "2023-04-28T07:55:23.442Z"
   },
   {
    "duration": 4,
    "start_time": "2023-04-28T07:55:23.461Z"
   },
   {
    "duration": 15,
    "start_time": "2023-04-28T07:55:23.467Z"
   },
   {
    "duration": 17,
    "start_time": "2023-04-28T07:55:23.484Z"
   },
   {
    "duration": 19,
    "start_time": "2023-04-28T07:55:23.506Z"
   },
   {
    "duration": 10,
    "start_time": "2023-04-28T07:55:23.527Z"
   },
   {
    "duration": 6,
    "start_time": "2023-04-28T07:56:13.787Z"
   },
   {
    "duration": 43,
    "start_time": "2023-04-28T11:06:14.911Z"
   },
   {
    "duration": 556,
    "start_time": "2023-04-28T11:06:32.815Z"
   },
   {
    "duration": 82,
    "start_time": "2023-04-28T11:07:00.662Z"
   },
   {
    "duration": 455,
    "start_time": "2023-04-28T11:07:10.716Z"
   },
   {
    "duration": 26,
    "start_time": "2023-04-28T11:07:14.574Z"
   },
   {
    "duration": 15,
    "start_time": "2023-04-28T11:07:19.217Z"
   },
   {
    "duration": 10,
    "start_time": "2023-04-28T11:07:23.217Z"
   },
   {
    "duration": 39,
    "start_time": "2023-04-28T11:07:28.271Z"
   },
   {
    "duration": 5,
    "start_time": "2023-04-28T11:07:31.914Z"
   },
   {
    "duration": 8,
    "start_time": "2023-04-28T11:07:35.317Z"
   },
   {
    "duration": 5,
    "start_time": "2023-04-28T11:07:39.027Z"
   },
   {
    "duration": 6,
    "start_time": "2023-04-28T11:07:43.273Z"
   },
   {
    "duration": 5,
    "start_time": "2023-04-28T11:07:47.117Z"
   },
   {
    "duration": 50,
    "start_time": "2023-04-28T11:07:51.073Z"
   },
   {
    "duration": 11,
    "start_time": "2023-04-28T11:07:55.527Z"
   },
   {
    "duration": 5,
    "start_time": "2023-04-28T11:08:01.070Z"
   },
   {
    "duration": 10,
    "start_time": "2023-04-28T11:08:05.170Z"
   },
   {
    "duration": 22,
    "start_time": "2023-04-28T11:08:08.012Z"
   },
   {
    "duration": 17,
    "start_time": "2023-04-28T11:08:10.619Z"
   },
   {
    "duration": 4,
    "start_time": "2023-04-28T11:08:18.318Z"
   },
   {
    "duration": 9,
    "start_time": "2023-04-28T11:08:21.480Z"
   },
   {
    "duration": 5,
    "start_time": "2023-04-28T11:08:24.944Z"
   },
   {
    "duration": 3,
    "start_time": "2023-04-28T11:08:34.021Z"
   },
   {
    "duration": 18,
    "start_time": "2023-04-28T11:08:37.909Z"
   },
   {
    "duration": 3,
    "start_time": "2023-04-28T11:08:41.617Z"
   },
   {
    "duration": 7,
    "start_time": "2023-04-28T11:08:44.579Z"
   },
   {
    "duration": 13,
    "start_time": "2023-04-28T11:08:51.074Z"
   },
   {
    "duration": 9,
    "start_time": "2023-04-28T11:08:54.840Z"
   },
   {
    "duration": 4,
    "start_time": "2023-04-28T11:08:58.116Z"
   },
   {
    "duration": 9,
    "start_time": "2023-04-28T11:09:01.830Z"
   },
   {
    "duration": 21,
    "start_time": "2023-04-28T11:09:07.050Z"
   },
   {
    "duration": 3,
    "start_time": "2023-04-28T11:09:12.375Z"
   },
   {
    "duration": 9,
    "start_time": "2023-04-28T11:09:15.631Z"
   },
   {
    "duration": 14,
    "start_time": "2023-04-28T11:09:50.328Z"
   },
   {
    "duration": 4,
    "start_time": "2023-04-28T11:09:53.643Z"
   },
   {
    "duration": 9,
    "start_time": "2023-04-28T11:09:56.342Z"
   },
   {
    "duration": 9,
    "start_time": "2023-04-28T11:10:00.126Z"
   },
   {
    "duration": 9,
    "start_time": "2023-04-28T11:10:03.420Z"
   },
   {
    "duration": 8,
    "start_time": "2023-04-28T11:10:05.978Z"
   },
   {
    "duration": 3,
    "start_time": "2023-04-28T14:12:41.641Z"
   },
   {
    "duration": 24,
    "start_time": "2023-04-28T14:12:46.788Z"
   },
   {
    "duration": 23,
    "start_time": "2023-04-28T14:17:01.714Z"
   },
   {
    "duration": 21,
    "start_time": "2023-04-28T14:17:44.098Z"
   },
   {
    "duration": 23,
    "start_time": "2023-04-28T14:18:22.581Z"
   }
  ],
  "colab": {
   "name": "dpp_template_part2.ipynb",
   "provenance": []
  },
  "kernelspec": {
   "display_name": "Python 3 (ipykernel)",
   "language": "python",
   "name": "python3"
  },
  "language_info": {
   "codemirror_mode": {
    "name": "ipython",
    "version": 3
   },
   "file_extension": ".py",
   "mimetype": "text/x-python",
   "name": "python",
   "nbconvert_exporter": "python",
   "pygments_lexer": "ipython3",
   "version": "3.9.19"
  },
  "toc": {
   "base_numbering": 1,
   "nav_menu": {},
   "number_sections": true,
   "sideBar": true,
   "skip_h1_title": true,
   "title_cell": "Table of Contents",
   "title_sidebar": "Contents",
   "toc_cell": false,
   "toc_position": {},
   "toc_section_display": true,
   "toc_window_display": false
  }
 },
 "nbformat": 4,
 "nbformat_minor": 5
}
