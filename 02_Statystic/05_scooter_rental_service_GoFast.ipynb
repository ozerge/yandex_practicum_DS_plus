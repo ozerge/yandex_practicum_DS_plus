{
 "cells": [
  {
   "cell_type": "markdown",
   "id": "457e7d0e",
   "metadata": {},
   "source": [
    "# Анализ данных сервиса аренды самокатов"
   ]
  },
  {
   "cell_type": "markdown",
   "id": "d7c6a45d",
   "metadata": {},
   "source": [
    "\n",
    "# Описание проекта\n",
    "\n",
    "Вы аналитик популярного сервиса аренды самокатов GoFast. Вам передали данные о некоторых пользователях из нескольких городов, а также об их поездках. Проанализируйте данные и проверьте некоторые гипотезы, которые могут помочь бизнесу вырасти.\n",
    "\n",
    "Чтобы совершать поездки по городу, пользователи сервиса GoFast пользуются мобильным приложением. \n",
    "\n",
    "Сервисом можно пользоваться:\n",
    "\n",
    "- без подписки\n",
    "    - абонентская плата отсутствует;\n",
    "    - стоимость одной минуты поездки — 8 рублей;\n",
    "    - стоимость старта (начала поездки) — 50 рублей;\n",
    "- с подпиской Ultra\n",
    "    - абонентская плата — 199 рублей в месяц;\n",
    "    - стоимость одной минуты поездки — 6 рублей;\n",
    "    - стоимость старта — бесплатно."
   ]
  },
  {
   "cell_type": "markdown",
   "id": "0f24b760",
   "metadata": {},
   "source": [
    "Цель проекта - подготовка данных для проверки гипотиз, которые помогут развитию сервиса аренды самокатов.\n",
    "\n",
    "Последовательность выполнения проекта:\n",
    "\n",
    "- Обзор файлов с данными  \n",
    "- Предобработка данных (обработка пропусков и дубликатов, изменение типов колонок).\n",
    "- Анализ данных\n",
    "- Объеденение данных\n",
    "- Выделение данных по подпискам\n",
    "- Подсчет выручки, выделение в отдельный столбец\n",
    "- Проверка гипотез\n",
    "- Выводы и рекомендации."
   ]
  },
  {
   "cell_type": "markdown",
   "id": "eb569c1e",
   "metadata": {},
   "source": [
    "# Исходные данные.  \n",
    "\n",
    "В основных данных, разбитых на три датасета, есть информация о пользователях, их поездках и подписках.\n",
    "\n",
    "\n",
    "\n",
    "***Пользователи*** — users_go.csv\n",
    "\n",
    "user_id — уникальный идентификатор пользователя  \n",
    "name — имя пользователя  \n",
    "age — возраст  \n",
    "city — город  \n",
    "subscription_type — тип подписки (free, ultra)  \n",
    "\n",
    "***Поeздки*** — rides_go.csv\n",
    "\n",
    "user_id — уникальный идентификатор пользователя  \n",
    "distance — расстояние, которое пользователь проехал в текущей сессии (в метрах)  \n",
    "duration — продолжительность сессии (в минутах) — время с того момента, как пользователь нажал кнопку «Начать поездку» до момента, как он нажал кнопку «Завершить поездку»  \n",
    "date — дата совершения поездки  \n",
    "\n",
    "***Подписки*** — subscriptions_go.csv\n",
    "\n",
    "subscription_type — тип подписки\n",
    "minute_price — стоимость одной минуты поездки по данной подписке  \n",
    "start_ride_price — стоимость начала поездки  \n",
    "subscription_fee — стоимость ежемесячного платежа  "
   ]
  },
  {
   "cell_type": "markdown",
   "id": "c42cbe00",
   "metadata": {},
   "source": [
    "#### Шаг 1. Загрузка данных"
   ]
  },
  {
   "cell_type": "markdown",
   "id": "dea88d9b",
   "metadata": {},
   "source": [
    "Для начала импортируем нужные библиотеки"
   ]
  },
  {
   "cell_type": "code",
   "execution_count": 1,
   "id": "72576667",
   "metadata": {},
   "outputs": [],
   "source": [
    "import pandas as pd\n",
    "import matplotlib.pyplot as plt\n",
    "import numpy as np\n",
    "from scipy import stats as st\n",
    "from scipy.stats import binom\n",
    "from math import sqrt"
   ]
  },
  {
   "cell_type": "markdown",
   "id": "83c9d972",
   "metadata": {},
   "source": []
  },
  {
   "cell_type": "code",
   "execution_count": 2,
   "id": "eff9f206",
   "metadata": {},
   "outputs": [],
   "source": [
    "# открываем и сохраняем файлы users_go.csv, rides_go.csv и subscriptions_go.csv в датафреймы из директории или по ссылке:\n",
    "try:\n",
    "    df_users = pd.read_csv('/datasets/users_go.csv')\n",
    "    df_riders = pd.read_csv('/datasets/rides_go.csv')\n",
    "    df_subs = pd.read_csv('/datasets/subscriptions_go.csv')\n",
    "except:\n",
    "    df_users = pd.read_csv('https://code.s3.yandex.net/datasets/users_go.csv')\n",
    "    df_riders = pd.read_csv('https://code.s3.yandex.net/datasets/rides_go.csv')\n",
    "    df_subs = pd.read_csv('https://code.s3.yandex.net/datasets/subscriptions_go.csv')"
   ]
  },
  {
   "cell_type": "code",
   "execution_count": 3,
   "id": "26ca2071",
   "metadata": {},
   "outputs": [],
   "source": [
    "# Установим опцию по выводу всех колонок dataframe:\n",
    "pd.set_option('display.max_columns', None)"
   ]
  },
  {
   "cell_type": "markdown",
   "id": "542da8e0",
   "metadata": {},
   "source": [
    "***Датафрейм с пользователями***"
   ]
  },
  {
   "cell_type": "code",
   "execution_count": 4,
   "id": "a39a4ad0",
   "metadata": {},
   "outputs": [
    {
     "name": "stdout",
     "output_type": "stream",
     "text": [
      "<class 'pandas.core.frame.DataFrame'>\n",
      "RangeIndex: 1565 entries, 0 to 1564\n",
      "Data columns (total 5 columns):\n",
      " #   Column             Non-Null Count  Dtype \n",
      "---  ------             --------------  ----- \n",
      " 0   user_id            1565 non-null   int64 \n",
      " 1   name               1565 non-null   object\n",
      " 2   age                1565 non-null   int64 \n",
      " 3   city               1565 non-null   object\n",
      " 4   subscription_type  1565 non-null   object\n",
      "dtypes: int64(2), object(3)\n",
      "memory usage: 61.3+ KB\n"
     ]
    }
   ],
   "source": [
    "#Посмотрим полную информацию датафрейма df_users:\n",
    "df_users.info()"
   ]
  },
  {
   "cell_type": "code",
   "execution_count": 5,
   "id": "7baa4158",
   "metadata": {},
   "outputs": [
    {
     "data": {
      "text/html": [
       "<div>\n",
       "<style scoped>\n",
       "    .dataframe tbody tr th:only-of-type {\n",
       "        vertical-align: middle;\n",
       "    }\n",
       "\n",
       "    .dataframe tbody tr th {\n",
       "        vertical-align: top;\n",
       "    }\n",
       "\n",
       "    .dataframe thead th {\n",
       "        text-align: right;\n",
       "    }\n",
       "</style>\n",
       "<table border=\"1\" class=\"dataframe\">\n",
       "  <thead>\n",
       "    <tr style=\"text-align: right;\">\n",
       "      <th></th>\n",
       "      <th>user_id</th>\n",
       "      <th>name</th>\n",
       "      <th>age</th>\n",
       "      <th>city</th>\n",
       "      <th>subscription_type</th>\n",
       "    </tr>\n",
       "  </thead>\n",
       "  <tbody>\n",
       "    <tr>\n",
       "      <th>0</th>\n",
       "      <td>1</td>\n",
       "      <td>Кира</td>\n",
       "      <td>22</td>\n",
       "      <td>Тюмень</td>\n",
       "      <td>ultra</td>\n",
       "    </tr>\n",
       "    <tr>\n",
       "      <th>1</th>\n",
       "      <td>2</td>\n",
       "      <td>Станислав</td>\n",
       "      <td>31</td>\n",
       "      <td>Омск</td>\n",
       "      <td>ultra</td>\n",
       "    </tr>\n",
       "    <tr>\n",
       "      <th>2</th>\n",
       "      <td>3</td>\n",
       "      <td>Алексей</td>\n",
       "      <td>20</td>\n",
       "      <td>Москва</td>\n",
       "      <td>ultra</td>\n",
       "    </tr>\n",
       "    <tr>\n",
       "      <th>3</th>\n",
       "      <td>4</td>\n",
       "      <td>Константин</td>\n",
       "      <td>26</td>\n",
       "      <td>Ростов-на-Дону</td>\n",
       "      <td>ultra</td>\n",
       "    </tr>\n",
       "    <tr>\n",
       "      <th>4</th>\n",
       "      <td>5</td>\n",
       "      <td>Адель</td>\n",
       "      <td>28</td>\n",
       "      <td>Омск</td>\n",
       "      <td>ultra</td>\n",
       "    </tr>\n",
       "  </tbody>\n",
       "</table>\n",
       "</div>"
      ],
      "text/plain": [
       "   user_id        name  age            city subscription_type\n",
       "0        1        Кира   22          Тюмень             ultra\n",
       "1        2   Станислав   31            Омск             ultra\n",
       "2        3     Алексей   20          Москва             ultra\n",
       "3        4  Константин   26  Ростов-на-Дону             ultra\n",
       "4        5       Адель   28            Омск             ultra"
      ]
     },
     "execution_count": 5,
     "metadata": {},
     "output_type": "execute_result"
    }
   ],
   "source": [
    "# выведем первые пять строк датафрейма df_users:\n",
    "df_users.head()"
   ]
  },
  {
   "cell_type": "markdown",
   "id": "93070838",
   "metadata": {},
   "source": [
    "В датасете df_users 5 столбцов и 1564 записей. Датасет содержит информацию о пользователе - его id, имени, возрасте, местоположении и виде подписки на сервис аренды. Столбцы датафрейма имеют тип object, int64 и float64. Пропусков нет."
   ]
  },
  {
   "cell_type": "markdown",
   "id": "59819ca5",
   "metadata": {},
   "source": [
    "***Датафрейм с поездками***"
   ]
  },
  {
   "cell_type": "code",
   "execution_count": 6,
   "id": "31e77294",
   "metadata": {},
   "outputs": [
    {
     "name": "stdout",
     "output_type": "stream",
     "text": [
      "<class 'pandas.core.frame.DataFrame'>\n",
      "RangeIndex: 18068 entries, 0 to 18067\n",
      "Data columns (total 4 columns):\n",
      " #   Column    Non-Null Count  Dtype  \n",
      "---  ------    --------------  -----  \n",
      " 0   user_id   18068 non-null  int64  \n",
      " 1   distance  18068 non-null  float64\n",
      " 2   duration  18068 non-null  float64\n",
      " 3   date      18068 non-null  object \n",
      "dtypes: float64(2), int64(1), object(1)\n",
      "memory usage: 564.8+ KB\n"
     ]
    }
   ],
   "source": [
    "#Посмотрим полную информацию датафрейма df_riders:\n",
    "df_riders.info()"
   ]
  },
  {
   "cell_type": "code",
   "execution_count": 7,
   "id": "b2a06c0c",
   "metadata": {},
   "outputs": [
    {
     "data": {
      "text/html": [
       "<div>\n",
       "<style scoped>\n",
       "    .dataframe tbody tr th:only-of-type {\n",
       "        vertical-align: middle;\n",
       "    }\n",
       "\n",
       "    .dataframe tbody tr th {\n",
       "        vertical-align: top;\n",
       "    }\n",
       "\n",
       "    .dataframe thead th {\n",
       "        text-align: right;\n",
       "    }\n",
       "</style>\n",
       "<table border=\"1\" class=\"dataframe\">\n",
       "  <thead>\n",
       "    <tr style=\"text-align: right;\">\n",
       "      <th></th>\n",
       "      <th>user_id</th>\n",
       "      <th>distance</th>\n",
       "      <th>duration</th>\n",
       "      <th>date</th>\n",
       "    </tr>\n",
       "  </thead>\n",
       "  <tbody>\n",
       "    <tr>\n",
       "      <th>0</th>\n",
       "      <td>1</td>\n",
       "      <td>4409.919140</td>\n",
       "      <td>25.599769</td>\n",
       "      <td>2021-01-01</td>\n",
       "    </tr>\n",
       "    <tr>\n",
       "      <th>1</th>\n",
       "      <td>1</td>\n",
       "      <td>2617.592153</td>\n",
       "      <td>15.816871</td>\n",
       "      <td>2021-01-18</td>\n",
       "    </tr>\n",
       "    <tr>\n",
       "      <th>2</th>\n",
       "      <td>1</td>\n",
       "      <td>754.159807</td>\n",
       "      <td>6.232113</td>\n",
       "      <td>2021-04-20</td>\n",
       "    </tr>\n",
       "    <tr>\n",
       "      <th>3</th>\n",
       "      <td>1</td>\n",
       "      <td>2694.783254</td>\n",
       "      <td>18.511000</td>\n",
       "      <td>2021-08-11</td>\n",
       "    </tr>\n",
       "    <tr>\n",
       "      <th>4</th>\n",
       "      <td>1</td>\n",
       "      <td>4028.687306</td>\n",
       "      <td>26.265803</td>\n",
       "      <td>2021-08-28</td>\n",
       "    </tr>\n",
       "  </tbody>\n",
       "</table>\n",
       "</div>"
      ],
      "text/plain": [
       "   user_id     distance   duration        date\n",
       "0        1  4409.919140  25.599769  2021-01-01\n",
       "1        1  2617.592153  15.816871  2021-01-18\n",
       "2        1   754.159807   6.232113  2021-04-20\n",
       "3        1  2694.783254  18.511000  2021-08-11\n",
       "4        1  4028.687306  26.265803  2021-08-28"
      ]
     },
     "execution_count": 7,
     "metadata": {},
     "output_type": "execute_result"
    }
   ],
   "source": [
    "# выведем первые пять строк датафрейма df_riders:\n",
    "df_riders.head()"
   ]
  },
  {
   "cell_type": "markdown",
   "id": "847c7982",
   "metadata": {},
   "source": [
    "В датасете df_riders 4 столбца и 18068 записей. Датасет содержит информацию о пользователе - его id, расстояние, которое пользователь проехал в текущей сессии (в метрах), продолжительность сессии (в минутах) и дату совершения поездки имени. Столбцы датафрейма имеют тип object, int64 и float64. Пропусков нет."
   ]
  },
  {
   "cell_type": "markdown",
   "id": "036b64d6",
   "metadata": {},
   "source": [
    "***Датафрейм с подпиской***"
   ]
  },
  {
   "cell_type": "code",
   "execution_count": 8,
   "id": "d075b7c0",
   "metadata": {},
   "outputs": [
    {
     "name": "stdout",
     "output_type": "stream",
     "text": [
      "<class 'pandas.core.frame.DataFrame'>\n",
      "RangeIndex: 2 entries, 0 to 1\n",
      "Data columns (total 4 columns):\n",
      " #   Column             Non-Null Count  Dtype \n",
      "---  ------             --------------  ----- \n",
      " 0   subscription_type  2 non-null      object\n",
      " 1   minute_price       2 non-null      int64 \n",
      " 2   start_ride_price   2 non-null      int64 \n",
      " 3   subscription_fee   2 non-null      int64 \n",
      "dtypes: int64(3), object(1)\n",
      "memory usage: 192.0+ bytes\n"
     ]
    }
   ],
   "source": [
    "#Посмотрим полную информацию датафрейма df_subs:\n",
    "df_subs.info()"
   ]
  },
  {
   "cell_type": "code",
   "execution_count": 9,
   "id": "b5333aea",
   "metadata": {},
   "outputs": [
    {
     "data": {
      "text/html": [
       "<div>\n",
       "<style scoped>\n",
       "    .dataframe tbody tr th:only-of-type {\n",
       "        vertical-align: middle;\n",
       "    }\n",
       "\n",
       "    .dataframe tbody tr th {\n",
       "        vertical-align: top;\n",
       "    }\n",
       "\n",
       "    .dataframe thead th {\n",
       "        text-align: right;\n",
       "    }\n",
       "</style>\n",
       "<table border=\"1\" class=\"dataframe\">\n",
       "  <thead>\n",
       "    <tr style=\"text-align: right;\">\n",
       "      <th></th>\n",
       "      <th>subscription_type</th>\n",
       "      <th>minute_price</th>\n",
       "      <th>start_ride_price</th>\n",
       "      <th>subscription_fee</th>\n",
       "    </tr>\n",
       "  </thead>\n",
       "  <tbody>\n",
       "    <tr>\n",
       "      <th>0</th>\n",
       "      <td>free</td>\n",
       "      <td>8</td>\n",
       "      <td>50</td>\n",
       "      <td>0</td>\n",
       "    </tr>\n",
       "    <tr>\n",
       "      <th>1</th>\n",
       "      <td>ultra</td>\n",
       "      <td>6</td>\n",
       "      <td>0</td>\n",
       "      <td>199</td>\n",
       "    </tr>\n",
       "  </tbody>\n",
       "</table>\n",
       "</div>"
      ],
      "text/plain": [
       "  subscription_type  minute_price  start_ride_price  subscription_fee\n",
       "0              free             8                50                 0\n",
       "1             ultra             6                 0               199"
      ]
     },
     "execution_count": 9,
     "metadata": {},
     "output_type": "execute_result"
    }
   ],
   "source": [
    "# выведем первые пять строк датафрейма df_subs:\n",
    "df_subs.head()"
   ]
  },
  {
   "cell_type": "markdown",
   "id": "8e7d3449",
   "metadata": {},
   "source": [
    "В датасете df_subs 4 столбца и всего 2 записи с описанием подписки: тип подписки, стоимость одной минуты поездки по данной подписке, стоимость начала поездки и стоимость ежемесячного платежа. Столбцы датафрейма имеют тип object и int64. Пропусков нет."
   ]
  },
  {
   "cell_type": "markdown",
   "id": "e95ebca7",
   "metadata": {},
   "source": [
    "#### Шаг 2. Предобработка данных"
   ]
  },
  {
   "cell_type": "markdown",
   "id": "1030a844",
   "metadata": {},
   "source": [
    "*Приведем столбец `date` из датафрейма `df_riders` к типу datetime.*"
   ]
  },
  {
   "cell_type": "code",
   "execution_count": 10,
   "id": "af6d202c",
   "metadata": {},
   "outputs": [],
   "source": [
    "# Переведем значения в столбце date (дата совершения поездки) в формат даты:\n",
    "df_riders['date'] = pd.to_datetime(df_riders['date'], format='%Y-%m-%d')"
   ]
  },
  {
   "cell_type": "code",
   "execution_count": 11,
   "id": "e3ae4629",
   "metadata": {},
   "outputs": [
    {
     "name": "stdout",
     "output_type": "stream",
     "text": [
      "<class 'pandas.core.frame.DataFrame'>\n",
      "RangeIndex: 18068 entries, 0 to 18067\n",
      "Data columns (total 4 columns):\n",
      " #   Column    Non-Null Count  Dtype         \n",
      "---  ------    --------------  -----         \n",
      " 0   user_id   18068 non-null  int64         \n",
      " 1   distance  18068 non-null  float64       \n",
      " 2   duration  18068 non-null  float64       \n",
      " 3   date      18068 non-null  datetime64[ns]\n",
      "dtypes: datetime64[ns](1), float64(2), int64(1)\n",
      "memory usage: 564.8 KB\n"
     ]
    }
   ],
   "source": [
    "# Проверяем:\n",
    "df_riders.info()"
   ]
  },
  {
   "cell_type": "markdown",
   "id": "77a6b925",
   "metadata": {},
   "source": [
    "Проверим датафреймы на явные дубликаты"
   ]
  },
  {
   "cell_type": "code",
   "execution_count": 12,
   "id": "b6cde06f",
   "metadata": {},
   "outputs": [
    {
     "data": {
      "text/plain": [
       "31"
      ]
     },
     "execution_count": 12,
     "metadata": {},
     "output_type": "execute_result"
    }
   ],
   "source": [
    "# датафрейм df_users:\n",
    "df_users.duplicated().sum()"
   ]
  },
  {
   "cell_type": "code",
   "execution_count": 13,
   "id": "19d934b6",
   "metadata": {},
   "outputs": [
    {
     "data": {
      "text/html": [
       "<div>\n",
       "<style scoped>\n",
       "    .dataframe tbody tr th:only-of-type {\n",
       "        vertical-align: middle;\n",
       "    }\n",
       "\n",
       "    .dataframe tbody tr th {\n",
       "        vertical-align: top;\n",
       "    }\n",
       "\n",
       "    .dataframe thead th {\n",
       "        text-align: right;\n",
       "    }\n",
       "</style>\n",
       "<table border=\"1\" class=\"dataframe\">\n",
       "  <thead>\n",
       "    <tr style=\"text-align: right;\">\n",
       "      <th></th>\n",
       "      <th>user_id</th>\n",
       "      <th>name</th>\n",
       "      <th>age</th>\n",
       "      <th>city</th>\n",
       "      <th>subscription_type</th>\n",
       "    </tr>\n",
       "  </thead>\n",
       "  <tbody>\n",
       "    <tr>\n",
       "      <th>15</th>\n",
       "      <td>16</td>\n",
       "      <td>Амалия</td>\n",
       "      <td>27</td>\n",
       "      <td>Краснодар</td>\n",
       "      <td>ultra</td>\n",
       "    </tr>\n",
       "    <tr>\n",
       "      <th>42</th>\n",
       "      <td>43</td>\n",
       "      <td>Стефания</td>\n",
       "      <td>22</td>\n",
       "      <td>Омск</td>\n",
       "      <td>ultra</td>\n",
       "    </tr>\n",
       "    <tr>\n",
       "      <th>46</th>\n",
       "      <td>47</td>\n",
       "      <td>Юрий</td>\n",
       "      <td>28</td>\n",
       "      <td>Тюмень</td>\n",
       "      <td>ultra</td>\n",
       "    </tr>\n",
       "    <tr>\n",
       "      <th>71</th>\n",
       "      <td>72</td>\n",
       "      <td>Никита</td>\n",
       "      <td>25</td>\n",
       "      <td>Москва</td>\n",
       "      <td>ultra</td>\n",
       "    </tr>\n",
       "    <tr>\n",
       "      <th>107</th>\n",
       "      <td>108</td>\n",
       "      <td>Влада</td>\n",
       "      <td>29</td>\n",
       "      <td>Тюмень</td>\n",
       "      <td>ultra</td>\n",
       "    </tr>\n",
       "    <tr>\n",
       "      <th>...</th>\n",
       "      <td>...</td>\n",
       "      <td>...</td>\n",
       "      <td>...</td>\n",
       "      <td>...</td>\n",
       "      <td>...</td>\n",
       "    </tr>\n",
       "    <tr>\n",
       "      <th>1560</th>\n",
       "      <td>829</td>\n",
       "      <td>Федор</td>\n",
       "      <td>29</td>\n",
       "      <td>Пятигорск</td>\n",
       "      <td>free</td>\n",
       "    </tr>\n",
       "    <tr>\n",
       "      <th>1561</th>\n",
       "      <td>809</td>\n",
       "      <td>Юрий</td>\n",
       "      <td>26</td>\n",
       "      <td>Сочи</td>\n",
       "      <td>free</td>\n",
       "    </tr>\n",
       "    <tr>\n",
       "      <th>1562</th>\n",
       "      <td>307</td>\n",
       "      <td>Ясмина</td>\n",
       "      <td>19</td>\n",
       "      <td>Краснодар</td>\n",
       "      <td>ultra</td>\n",
       "    </tr>\n",
       "    <tr>\n",
       "      <th>1563</th>\n",
       "      <td>47</td>\n",
       "      <td>Юрий</td>\n",
       "      <td>28</td>\n",
       "      <td>Тюмень</td>\n",
       "      <td>ultra</td>\n",
       "    </tr>\n",
       "    <tr>\n",
       "      <th>1564</th>\n",
       "      <td>1045</td>\n",
       "      <td>Артемий</td>\n",
       "      <td>28</td>\n",
       "      <td>Ростов-на-Дону</td>\n",
       "      <td>free</td>\n",
       "    </tr>\n",
       "  </tbody>\n",
       "</table>\n",
       "<p>62 rows × 5 columns</p>\n",
       "</div>"
      ],
      "text/plain": [
       "      user_id      name  age            city subscription_type\n",
       "15         16    Амалия   27       Краснодар             ultra\n",
       "42         43  Стефания   22            Омск             ultra\n",
       "46         47      Юрий   28          Тюмень             ultra\n",
       "71         72    Никита   25          Москва             ultra\n",
       "107       108     Влада   29          Тюмень             ultra\n",
       "...       ...       ...  ...             ...               ...\n",
       "1560      829     Федор   29       Пятигорск              free\n",
       "1561      809      Юрий   26            Сочи              free\n",
       "1562      307    Ясмина   19       Краснодар             ultra\n",
       "1563       47      Юрий   28          Тюмень             ultra\n",
       "1564     1045   Артемий   28  Ростов-на-Дону              free\n",
       "\n",
       "[62 rows x 5 columns]"
      ]
     },
     "execution_count": 13,
     "metadata": {},
     "output_type": "execute_result"
    }
   ],
   "source": [
    "# скорее всего дубликаты содержатся в столбце user_id, проверяем:\n",
    "df_users[df_users['user_id'].duplicated(keep=False)]"
   ]
  },
  {
   "cell_type": "code",
   "execution_count": 14,
   "id": "bbc32460",
   "metadata": {},
   "outputs": [],
   "source": [
    "# удаляем дубликаты:\n",
    "df_users.drop_duplicates(inplace=True)"
   ]
  },
  {
   "cell_type": "code",
   "execution_count": 15,
   "id": "628e4b2d",
   "metadata": {},
   "outputs": [
    {
     "data": {
      "text/plain": [
       "array(['Тюмень', 'Омск', 'Москва', 'Ростов-на-Дону', 'Краснодар',\n",
       "       'Пятигорск', 'Екатеринбург', 'Сочи'], dtype=object)"
      ]
     },
     "execution_count": 15,
     "metadata": {},
     "output_type": "execute_result"
    }
   ],
   "source": [
    "# сразу проверим на не явные дубликаты:\n",
    "df_users['city'].unique()"
   ]
  },
  {
   "cell_type": "code",
   "execution_count": 16,
   "id": "78a84200",
   "metadata": {},
   "outputs": [
    {
     "data": {
      "text/plain": [
       "array(['Кира', 'Станислав', 'Алексей', 'Константин', 'Адель', 'Регина',\n",
       "       'Игорь', 'Юрий', 'Ян', 'Валерий', 'Агата', 'Марк', 'Ева',\n",
       "       'Антонина', 'Валерия', 'Амалия', 'Даниил', 'Аделина', 'Святогор',\n",
       "       'Борис', 'Вероника', 'Ростислав', 'Назар', 'Эдуард', 'Василий',\n",
       "       'Денис', 'Тамара', 'Николай', 'Эвелина', 'Федор', 'Руслан', 'Иван',\n",
       "       'Любовь', 'Ярослава', 'Майя', 'Ильдар', 'Данила', 'Нина',\n",
       "       'Стефания', 'Ясмина', 'Дмитрий', 'Александр', 'Одиссей', 'Арсений',\n",
       "       'Алла', 'Таисия', 'Максим', 'Юлиана', 'Павел', 'Карина', 'Алиса',\n",
       "       'Лидия', 'Рамиль', 'Родион', 'Ника', 'Оксана', 'Анастасия',\n",
       "       'Маргарита', 'Вера', 'Тимур', 'Никита', 'Лев', 'Влад', 'Артур',\n",
       "       'Анна', 'Ольга', 'Вячеслав', 'Ксения', 'Виталина', 'Владислав',\n",
       "       'Тамерлан', 'Амина', 'Вадим', 'Олеся', 'Зарина', 'Егор', 'Гордей',\n",
       "       'Лилия', 'Святослав', 'Роберт', 'Амир', 'Влада', 'Богдан',\n",
       "       'Полина', 'Марат', 'Елисей', 'Макар', 'Алина', 'Глеб', 'Андрей',\n",
       "       'Альбина', 'Людмила', 'Марсель', 'Милена', 'Диана', 'Дарина',\n",
       "       'Данил', 'Артемий', 'Лиана', 'Альберт', 'Герман', 'Жанна', 'Нелли',\n",
       "       'Евгения', 'Ариана', 'Самира', 'Захар', 'Эльвира', 'Екатерина',\n",
       "       'Инна', 'Демид', 'Яна', 'Михаил', 'Татьяна', 'Степан', 'Мелания',\n",
       "       'Тимофей', 'Ирина', 'Анжелика', 'Владислава', 'Елизавета',\n",
       "       'Мадина', 'Снежана', 'Даниэль', 'Рустам', 'Каролина', 'Ангелина',\n",
       "       'Владимир', 'Виктория', 'Валентина', 'Семен', 'Арина', 'Лариса',\n",
       "       'Есения', 'Галина', 'Кирилл', 'Игнат', 'Виталий', 'Эмилия',\n",
       "       'Виолетта', 'Яромир', 'Софья', 'Мирослава', 'Евгений', 'Варвара',\n",
       "       'Платон', 'Наталия', 'Анатолий', 'Кристина', 'Всеволод', 'Дарья',\n",
       "       'Наташа', 'Мария', 'Марина', 'Василиса', 'Юлия', 'Илья', 'Злата',\n",
       "       'Роман', 'Наталья', 'Элина', 'Арсен', 'Айдар', 'Алия', 'Виктор',\n",
       "       'Мирон', 'Ульяна', 'Георгий', 'Петр', 'Эльмира', 'Олег', 'Дамир',\n",
       "       'Самир', 'Ярослав', 'Камилла', 'Сергей', 'Эмиль', 'Радмир',\n",
       "       'Савелий', 'Елена', 'Антон', 'Мирослав', 'София', 'Тихон', 'Артём',\n",
       "       'Давид', 'Григорий', 'Алёна', 'Светлана', 'Леонид', 'Александра',\n",
       "       'Василина', 'Милана', 'Матвей'], dtype=object)"
      ]
     },
     "execution_count": 16,
     "metadata": {},
     "output_type": "execute_result"
    }
   ],
   "source": [
    "df_users['name'].unique()"
   ]
  },
  {
   "cell_type": "code",
   "execution_count": 17,
   "id": "5b1b1696",
   "metadata": {},
   "outputs": [
    {
     "data": {
      "text/plain": [
       "array(['ultra', 'free'], dtype=object)"
      ]
     },
     "execution_count": 17,
     "metadata": {},
     "output_type": "execute_result"
    }
   ],
   "source": [
    "df_users['subscription_type'].unique()"
   ]
  },
  {
   "cell_type": "code",
   "execution_count": 18,
   "id": "bb8bbcac",
   "metadata": {},
   "outputs": [
    {
     "data": {
      "text/plain": [
       "0"
      ]
     },
     "execution_count": 18,
     "metadata": {},
     "output_type": "execute_result"
    }
   ],
   "source": [
    "# проверяем остались еще дубликаты:\n",
    "df_users.duplicated().sum()"
   ]
  },
  {
   "cell_type": "code",
   "execution_count": 19,
   "id": "e4239018",
   "metadata": {},
   "outputs": [
    {
     "data": {
      "text/plain": [
       "0"
      ]
     },
     "execution_count": 19,
     "metadata": {},
     "output_type": "execute_result"
    }
   ],
   "source": [
    "# датафрейм df_riders:\n",
    "df_riders.duplicated().sum()"
   ]
  },
  {
   "cell_type": "code",
   "execution_count": 20,
   "id": "0eb3d1b5",
   "metadata": {},
   "outputs": [
    {
     "data": {
      "text/plain": [
       "0"
      ]
     },
     "execution_count": 20,
     "metadata": {},
     "output_type": "execute_result"
    }
   ],
   "source": [
    "# датафрейм df_subs:\n",
    "df_subs.duplicated().sum()"
   ]
  },
  {
   "cell_type": "markdown",
   "id": "34772c39",
   "metadata": {},
   "source": [
    "Создадим новый столбец с номером месяца на основе столбца `date` датасета `df_riders`"
   ]
  },
  {
   "cell_type": "markdown",
   "id": "4fba83bf",
   "metadata": {},
   "source": [
    "проверяем за какой период представлены данные, чтобы данные из разных годов не собрались по месяцам в один месяц"
   ]
  },
  {
   "cell_type": "code",
   "execution_count": 21,
   "id": "e794b7e2",
   "metadata": {},
   "outputs": [
    {
     "data": {
      "text/plain": [
       "array([2021])"
      ]
     },
     "execution_count": 21,
     "metadata": {},
     "output_type": "execute_result"
    }
   ],
   "source": [
    "df_riders['date'].dt.year.unique()"
   ]
  },
  {
   "cell_type": "markdown",
   "id": "f19b7a72",
   "metadata": {},
   "source": [
    "Данные представлены всего за один год"
   ]
  },
  {
   "cell_type": "code",
   "execution_count": 22,
   "id": "b18cae62",
   "metadata": {},
   "outputs": [],
   "source": [
    "# Добавляем в датасет столбец с номером месяца:\n",
    "df_riders['month'] = df_riders['date'].dt.month"
   ]
  },
  {
   "cell_type": "code",
   "execution_count": 23,
   "id": "17a0be76",
   "metadata": {},
   "outputs": [
    {
     "data": {
      "text/html": [
       "<div>\n",
       "<style scoped>\n",
       "    .dataframe tbody tr th:only-of-type {\n",
       "        vertical-align: middle;\n",
       "    }\n",
       "\n",
       "    .dataframe tbody tr th {\n",
       "        vertical-align: top;\n",
       "    }\n",
       "\n",
       "    .dataframe thead th {\n",
       "        text-align: right;\n",
       "    }\n",
       "</style>\n",
       "<table border=\"1\" class=\"dataframe\">\n",
       "  <thead>\n",
       "    <tr style=\"text-align: right;\">\n",
       "      <th></th>\n",
       "      <th>user_id</th>\n",
       "      <th>distance</th>\n",
       "      <th>duration</th>\n",
       "      <th>date</th>\n",
       "      <th>month</th>\n",
       "    </tr>\n",
       "  </thead>\n",
       "  <tbody>\n",
       "    <tr>\n",
       "      <th>0</th>\n",
       "      <td>1</td>\n",
       "      <td>4409.919140</td>\n",
       "      <td>25.599769</td>\n",
       "      <td>2021-01-01</td>\n",
       "      <td>1</td>\n",
       "    </tr>\n",
       "    <tr>\n",
       "      <th>1</th>\n",
       "      <td>1</td>\n",
       "      <td>2617.592153</td>\n",
       "      <td>15.816871</td>\n",
       "      <td>2021-01-18</td>\n",
       "      <td>1</td>\n",
       "    </tr>\n",
       "    <tr>\n",
       "      <th>2</th>\n",
       "      <td>1</td>\n",
       "      <td>754.159807</td>\n",
       "      <td>6.232113</td>\n",
       "      <td>2021-04-20</td>\n",
       "      <td>4</td>\n",
       "    </tr>\n",
       "    <tr>\n",
       "      <th>3</th>\n",
       "      <td>1</td>\n",
       "      <td>2694.783254</td>\n",
       "      <td>18.511000</td>\n",
       "      <td>2021-08-11</td>\n",
       "      <td>8</td>\n",
       "    </tr>\n",
       "    <tr>\n",
       "      <th>4</th>\n",
       "      <td>1</td>\n",
       "      <td>4028.687306</td>\n",
       "      <td>26.265803</td>\n",
       "      <td>2021-08-28</td>\n",
       "      <td>8</td>\n",
       "    </tr>\n",
       "  </tbody>\n",
       "</table>\n",
       "</div>"
      ],
      "text/plain": [
       "   user_id     distance   duration       date  month\n",
       "0        1  4409.919140  25.599769 2021-01-01      1\n",
       "1        1  2617.592153  15.816871 2021-01-18      1\n",
       "2        1   754.159807   6.232113 2021-04-20      4\n",
       "3        1  2694.783254  18.511000 2021-08-11      8\n",
       "4        1  4028.687306  26.265803 2021-08-28      8"
      ]
     },
     "execution_count": 23,
     "metadata": {},
     "output_type": "execute_result"
    }
   ],
   "source": [
    "# Проверяем:\n",
    "df_riders.head()"
   ]
  },
  {
   "cell_type": "markdown",
   "id": "07cff7b0",
   "metadata": {},
   "source": [
    "**Вывод:**\n",
    "\n",
    "Удалили строки-дубликаты (дубликаты в столбце`user_id` датафрейма df_users). \n",
    "Добавили столбец month с номером месяца.\n",
    "Пропущенных данных в датафремах нет."
   ]
  },
  {
   "cell_type": "markdown",
   "id": "212593c7",
   "metadata": {},
   "source": [
    "#### Шаг 3. Исследовательский анализ данных"
   ]
  },
  {
   "cell_type": "markdown",
   "id": "7fcba81a",
   "metadata": {},
   "source": [
    "Опишите и визуализируйте общую информацию о пользователях и поездках:"
   ]
  },
  {
   "cell_type": "markdown",
   "id": "e95aed14",
   "metadata": {},
   "source": [
    "##### частота встречаемости городов"
   ]
  },
  {
   "cell_type": "code",
   "execution_count": 24,
   "id": "3780fa4d",
   "metadata": {},
   "outputs": [
    {
     "data": {
      "text/plain": [
       "Пятигорск         219\n",
       "Екатеринбург      204\n",
       "Ростов-на-Дону    198\n",
       "Краснодар         193\n",
       "Сочи              189\n",
       "Омск              183\n",
       "Тюмень            180\n",
       "Москва            168\n",
       "Name: city, dtype: int64"
      ]
     },
     "execution_count": 24,
     "metadata": {},
     "output_type": "execute_result"
    }
   ],
   "source": [
    "# Подсчитаем кол-во пользователей по городам:\n",
    "users_by_city = df_users['city'].value_counts()\n",
    "users_by_city"
   ]
  },
  {
   "cell_type": "code",
   "execution_count": 25,
   "id": "032a91b7",
   "metadata": {},
   "outputs": [
    {
     "data": {
      "image/png": "[encoded data removed]",
      "text/plain": [
       "<Figure size 504x504 with 1 Axes>"
      ]
     },
     "metadata": {},
     "output_type": "display_data"
    }
   ],
   "source": [
    "# Посмотрим график распределения кол-ва пользователей по городам:\n",
    "users_by_city.plot(title='Распределение пользователей по городам',\n",
    "                   kind='pie', \n",
    "                   y='users_by_city',\n",
    "                   autopct = '%1.0f%%',\n",
    "                   figsize=(7,7));"
   ]
  },
  {
   "cell_type": "markdown",
   "id": "b7380950",
   "metadata": {},
   "source": [
    "**Вывод:**\n",
    "\n",
    "Наибольшее кол-во пользователей в Пятигорске - 219, Наименьшее в Москве -168."
   ]
  },
  {
   "cell_type": "markdown",
   "id": "af3d82f3",
   "metadata": {},
   "source": [
    "<div class=\"alert-info\" style=\"padding: 20px; border-radius: 10px\">\n",
    "<b>Комментарий студента 💎</b>\n",
    "\n",
    "Единственный плюс в данном случае - данные на круговой диаграмме подчеркивают свою равномерность. Потому и решил строить ее, а не столбчатую.</div>"
   ]
  },
  {
   "cell_type": "code",
   "execution_count": 26,
   "id": "a1c6b592",
   "metadata": {},
   "outputs": [
    {
     "data": {
      "image/png": "[encoded data removed]",
      "text/plain": [
       "<Figure size 720x504 with 1 Axes>"
      ]
     },
     "metadata": {
      "needs_background": "light"
     },
     "output_type": "display_data"
    }
   ],
   "source": [
    "# Посмотрим график распределения кол-ва пользователей по городам:\n",
    "users_by_city.plot(title='Распределение пользователей по городам',\n",
    "                   kind='bar', \n",
    "                   y='users_by_city', \n",
    "                   figsize=(10,7))\n",
    "plt.xticks(rotation = 15);"
   ]
  },
  {
   "cell_type": "markdown",
   "id": "85c77547",
   "metadata": {},
   "source": [
    "##### Соотношение пользователей с подпиской и без подписки"
   ]
  },
  {
   "cell_type": "code",
   "execution_count": 27,
   "id": "3252422d",
   "metadata": {},
   "outputs": [
    {
     "data": {
      "text/plain": [
       "free     835\n",
       "ultra    699\n",
       "Name: subscription_type, dtype: int64"
      ]
     },
     "execution_count": 27,
     "metadata": {},
     "output_type": "execute_result"
    }
   ],
   "source": [
    "# Подсчитаем кол-во пользователей с подпиской и без:\n",
    "sub_count = df_users['subscription_type'].value_counts()\n",
    "sub_count"
   ]
  },
  {
   "cell_type": "code",
   "execution_count": 28,
   "id": "abde9d13",
   "metadata": {},
   "outputs": [
    {
     "data": {
      "image/png": "[encoded data removed]",
      "text/plain": [
       "<Figure size 504x504 with 1 Axes>"
      ]
     },
     "metadata": {
      "needs_background": "light"
     },
     "output_type": "display_data"
    }
   ],
   "source": [
    "# Посмотрим график распределения кол-ва пользователей по подписке:\n",
    "sub_count.plot(title='Распределение пользователей по городам', \n",
    "               kind='bar',\n",
    "               y='users_by_city',\n",
    "               figsize=(7,7), \n",
    "               grid=True)\n",
    "plt.xticks(rotation = 0);"
   ]
  },
  {
   "cell_type": "markdown",
   "id": "3d2b8090",
   "metadata": {},
   "source": [
    "**Вывод:**\n",
    "\n",
    "Кол-во пользователей без подписки - 835, пользователей с подпиской - 699. Пользователей без подписки больше, но всего процентов на 20, а значит у компании-прокатчика есть неплохая база постоянных клиентов"
   ]
  },
  {
   "cell_type": "markdown",
   "id": "7d6ec635",
   "metadata": {},
   "source": [
    "##### Возраст пользователей"
   ]
  },
  {
   "cell_type": "code",
   "execution_count": 29,
   "id": "c77f84c5",
   "metadata": {},
   "outputs": [
    {
     "data": {
      "image/png": "[encoded data removed]",
      "text/plain": [
       "<Figure size 576x504 with 1 Axes>"
      ]
     },
     "metadata": {
      "needs_background": "light"
     },
     "output_type": "display_data"
    }
   ],
   "source": [
    "# Посторим гистограмму распределения пользователей по возрасту:\n",
    "df_users.hist(['age'], figsize=(8, 7))\n",
    "plt.title('Возраст пользователей')\n",
    "plt.xlabel('Возраст, лет')\n",
    "plt.ylabel('Количество пользователей');"
   ]
  },
  {
   "cell_type": "code",
   "execution_count": 30,
   "id": "ac059137",
   "metadata": {},
   "outputs": [
    {
     "data": {
      "text/plain": [
       "664     12\n",
       "66      12\n",
       "727     12\n",
       "34      12\n",
       "235     13\n",
       "1249    13\n",
       "314     13\n",
       "83      13\n",
       "553     13\n",
       "1241    13\n",
       "Name: age, dtype: int64"
      ]
     },
     "execution_count": 30,
     "metadata": {},
     "output_type": "execute_result"
    }
   ],
   "source": [
    "# Посмотрим на наименьший возраст пользователей сервисом:\n",
    "df_users['age'].sort_values().head(10)"
   ]
  },
  {
   "cell_type": "code",
   "execution_count": 31,
   "id": "0e1133c4",
   "metadata": {},
   "outputs": [
    {
     "data": {
      "text/plain": [
       "1201    43\n",
       "961     39\n",
       "804     38\n",
       "453     38\n",
       "383     38\n",
       "205     37\n",
       "848     37\n",
       "721     36\n",
       "1491    36\n",
       "644     36\n",
       "Name: age, dtype: int64"
      ]
     },
     "execution_count": 31,
     "metadata": {},
     "output_type": "execute_result"
    }
   ],
   "source": [
    "# Посмотрим на наибольший возраст пользователей сервисом:\n",
    "df_users['age'].sort_values(ascending=False).head(10)"
   ]
  },
  {
   "cell_type": "code",
   "execution_count": 32,
   "id": "1d61ded2",
   "metadata": {},
   "outputs": [
    {
     "data": {
      "text/html": [
       "<div>\n",
       "<style scoped>\n",
       "    .dataframe tbody tr th:only-of-type {\n",
       "        vertical-align: middle;\n",
       "    }\n",
       "\n",
       "    .dataframe tbody tr th {\n",
       "        vertical-align: top;\n",
       "    }\n",
       "\n",
       "    .dataframe thead th {\n",
       "        text-align: right;\n",
       "    }\n",
       "</style>\n",
       "<table border=\"1\" class=\"dataframe\">\n",
       "  <thead>\n",
       "    <tr style=\"text-align: right;\">\n",
       "      <th></th>\n",
       "      <th>user_id</th>\n",
       "      <th>age</th>\n",
       "    </tr>\n",
       "  </thead>\n",
       "  <tbody>\n",
       "    <tr>\n",
       "      <th>count</th>\n",
       "      <td>1534.000000</td>\n",
       "      <td>1534.000000</td>\n",
       "    </tr>\n",
       "    <tr>\n",
       "      <th>mean</th>\n",
       "      <td>767.500000</td>\n",
       "      <td>24.903520</td>\n",
       "    </tr>\n",
       "    <tr>\n",
       "      <th>std</th>\n",
       "      <td>442.971971</td>\n",
       "      <td>4.572367</td>\n",
       "    </tr>\n",
       "    <tr>\n",
       "      <th>min</th>\n",
       "      <td>1.000000</td>\n",
       "      <td>12.000000</td>\n",
       "    </tr>\n",
       "    <tr>\n",
       "      <th>25%</th>\n",
       "      <td>384.250000</td>\n",
       "      <td>22.000000</td>\n",
       "    </tr>\n",
       "    <tr>\n",
       "      <th>50%</th>\n",
       "      <td>767.500000</td>\n",
       "      <td>25.000000</td>\n",
       "    </tr>\n",
       "    <tr>\n",
       "      <th>75%</th>\n",
       "      <td>1150.750000</td>\n",
       "      <td>28.000000</td>\n",
       "    </tr>\n",
       "    <tr>\n",
       "      <th>max</th>\n",
       "      <td>1534.000000</td>\n",
       "      <td>43.000000</td>\n",
       "    </tr>\n",
       "  </tbody>\n",
       "</table>\n",
       "</div>"
      ],
      "text/plain": [
       "           user_id          age\n",
       "count  1534.000000  1534.000000\n",
       "mean    767.500000    24.903520\n",
       "std     442.971971     4.572367\n",
       "min       1.000000    12.000000\n",
       "25%     384.250000    22.000000\n",
       "50%     767.500000    25.000000\n",
       "75%    1150.750000    28.000000\n",
       "max    1534.000000    43.000000"
      ]
     },
     "execution_count": 32,
     "metadata": {},
     "output_type": "execute_result"
    }
   ],
   "source": [
    "df_users.describe()"
   ]
  },
  {
   "cell_type": "markdown",
   "id": "c03d2e94",
   "metadata": {},
   "source": [
    "**Вывод:**\n",
    "\n",
    "Самыми младшими являются пользователи от 12 до 13 лет.\n",
    "Самыми старшими - от 36 до 43 лет.\n",
    "Основная часть пользователей возрастом от 22 до 28 лет. Медиана: 25 лет. Все что меньше 15 лет и больше 40 можно считать редкими значениями."
   ]
  },
  {
   "cell_type": "markdown",
   "id": "86124a2a",
   "metadata": {},
   "source": [
    "##### Расстояние, которое пользователь преодолел за одну поездку"
   ]
  },
  {
   "cell_type": "code",
   "execution_count": 33,
   "id": "c4cf2466",
   "metadata": {},
   "outputs": [
    {
     "data": {
      "image/png": "[encoded data removed]",
      "text/plain": [
       "<Figure size 576x504 with 1 Axes>"
      ]
     },
     "metadata": {
      "needs_background": "light"
     },
     "output_type": "display_data"
    }
   ],
   "source": [
    "# Построим диаграмму размаха расстояния, которое пользователь преодолел за одну поездку:\n",
    "df_riders.boxplot(column='distance', figsize=(8, 7))\n",
    "plt.title('Раcстояние поезки')\n",
    "plt.ylabel('Расстояние, м');"
   ]
  },
  {
   "cell_type": "code",
   "execution_count": 34,
   "id": "1c6ffb34",
   "metadata": {},
   "outputs": [
    {
     "data": {
      "text/plain": [
       "11555     0.855683\n",
       "9541      2.570787\n",
       "13690     4.329506\n",
       "8658      6.784447\n",
       "7841      7.097072\n",
       "8906     11.283615\n",
       "8324     12.233115\n",
       "13940    15.000606\n",
       "15626    15.366168\n",
       "11862    15.630873\n",
       "Name: distance, dtype: float64"
      ]
     },
     "execution_count": 34,
     "metadata": {},
     "output_type": "execute_result"
    }
   ],
   "source": [
    "# Посмотрим на самые короткие поездки по протяженности (в метрах) пользователей сервисом:\n",
    "df_riders['distance'].sort_values().head(10)"
   ]
  },
  {
   "cell_type": "code",
   "execution_count": 35,
   "id": "262f3315",
   "metadata": {},
   "outputs": [
    {
     "data": {
      "text/plain": [
       "16309    7211.007745\n",
       "16484    7066.003772\n",
       "15580    6908.491343\n",
       "17171    6760.940067\n",
       "17242    6724.932981\n",
       "10341    6671.969833\n",
       "11385    6601.197575\n",
       "12086    6538.937375\n",
       "10915    6535.386520\n",
       "11319    6503.600402\n",
       "Name: distance, dtype: float64"
      ]
     },
     "execution_count": 35,
     "metadata": {},
     "output_type": "execute_result"
    }
   ],
   "source": [
    "# Посмотрим на самые длинные поездки пользователейпо протяженности (в метрах) пользователей сервисом:\n",
    "df_riders['distance'].sort_values(ascending=False).head(10)"
   ]
  },
  {
   "cell_type": "markdown",
   "id": "8e7b99c7",
   "metadata": {},
   "source": [
    "**Вывод:** \n",
    "Самая короткая дистанция - 0.86 метра, самая длинная - 7.2 км\n",
    "В основном пользователи проезжают от 2.5 км примерно до 4 км."
   ]
  },
  {
   "cell_type": "markdown",
   "id": "5456886a",
   "metadata": {},
   "source": [
    "##### Продолжительность поездок"
   ]
  },
  {
   "cell_type": "code",
   "execution_count": 36,
   "id": "5a82a279",
   "metadata": {},
   "outputs": [
    {
     "data": {
      "image/png": "[encoded data removed]",
      "text/plain": [
       "<Figure size 576x504 with 1 Axes>"
      ]
     },
     "metadata": {
      "needs_background": "light"
     },
     "output_type": "display_data"
    }
   ],
   "source": [
    "# Построим диаграмму размаха продолжительности поездок пользователей:\n",
    "df_riders.boxplot(column='duration', figsize=(8, 7))\n",
    "plt.title('Продолжительность поездок')\n",
    "plt.ylabel('Время, мин.');"
   ]
  },
  {
   "cell_type": "code",
   "execution_count": 37,
   "id": "486c8d09",
   "metadata": {},
   "outputs": [
    {
     "data": {
      "text/plain": [
       "12013    0.5\n",
       "17314    0.5\n",
       "15029    0.5\n",
       "7437     0.5\n",
       "12967    0.5\n",
       "15015    0.5\n",
       "13012    0.5\n",
       "7508     0.5\n",
       "16589    0.5\n",
       "9049     0.5\n",
       "Name: duration, dtype: float64"
      ]
     },
     "execution_count": 37,
     "metadata": {},
     "output_type": "execute_result"
    }
   ],
   "source": [
    "# Посмотрим на самые короткие поездки по времени (в минутах) пользователей сервисом:\n",
    "df_riders['duration'].sort_values().head(10)"
   ]
  },
  {
   "cell_type": "code",
   "execution_count": 38,
   "id": "c3c91ebf",
   "metadata": {},
   "outputs": [
    {
     "data": {
      "text/plain": [
       "4215    40.823963\n",
       "4709    39.873856\n",
       "2623    39.526602\n",
       "1998    38.352763\n",
       "6453    38.265229\n",
       "143     38.125729\n",
       "3729    37.014141\n",
       "499     36.906491\n",
       "6348    36.809310\n",
       "4653    36.622595\n",
       "Name: duration, dtype: float64"
      ]
     },
     "execution_count": 38,
     "metadata": {},
     "output_type": "execute_result"
    }
   ],
   "source": [
    "# Посмотрим на самые длинные поездки по времени (в минутах) пользователей сервисом:\n",
    "df_riders['duration'].sort_values(ascending=False).head(10)"
   ]
  },
  {
   "cell_type": "markdown",
   "id": "c9c81c4d",
   "metadata": {},
   "source": [
    "**Вывод:** \n",
    "Самая короткая по времени поездка - 0.5 минуты, самая длинная - 41 минута\n",
    "В основном пользователи тратят на поездку от 13 до 22 минут."
   ]
  },
  {
   "cell_type": "markdown",
   "id": "01555377",
   "metadata": {},
   "source": [
    "***Итоговый вывод***\n",
    "\n",
    "*Частота встречаемости городов:* наибольшее кол-во пользователей в Пятигорске - 219, Наименьшее в Москве -168, по-видимому из-за того, что Пятигорск по площади в разы меньше Москвы - в этом городе удобнее пользоваться сервисом для покрытия расстояния. Кол-во пользователей представленных в выборке примерно одинаковое.  \n",
    "\n",
    "*Соотношение пользователей с подпиской и без подписки:* кол-во пользователей без подписки - 835 (~ 54%), пользователей с подпиской - 699 (~46%)  \n",
    "\n",
    "*Возраст пользователей:* самыми младшими являются пользователи от 12 до 13 лет. Самыми старшими - от 36 до 43 лет.Наибольшее кол-во пользователей сервиса от 20 до 30 лет.  \n",
    "\n",
    "*Расстояние, которое пользователь преодолел за одну поездку:* cамая короткая дистанция - 0.86 метра, самая длинная - 7.2 км. Короткая дистанция может быть связана с технической неисправностью самоката, его разряженности или же пользователь просто \"передумал\". В основном пользователи проезжают от 2.5 км примерно до 4 км.  \n",
    "\n",
    "*Продолжительность поездок:* cамая короткая по времени поездка - 0.5 минуты, самая длинная - 41 минута. Так же как и в случае с пройденной дистанцией можно объяснить маленькую продолжительность поезки(тех. неисправность или же пользователь решил отказаться от поезки) В основном пользователи тратят на поездку от 13 до 22 минут.\n"
   ]
  },
  {
   "cell_type": "markdown",
   "id": "4ef51331",
   "metadata": {},
   "source": [
    "#### Шаг 4. Объединение данных"
   ]
  },
  {
   "cell_type": "markdown",
   "id": "80904ddd",
   "metadata": {},
   "source": [
    "##### Объединим данные о пользователях, поездках и подписках в один датафрейм"
   ]
  },
  {
   "cell_type": "markdown",
   "id": "3d419cea",
   "metadata": {},
   "source": [
    "Посмотрим информацию о датафремах еще раз:"
   ]
  },
  {
   "cell_type": "code",
   "execution_count": 39,
   "id": "98e3d422",
   "metadata": {},
   "outputs": [
    {
     "name": "stdout",
     "output_type": "stream",
     "text": [
      "<class 'pandas.core.frame.DataFrame'>\n",
      "Int64Index: 1534 entries, 0 to 1533\n",
      "Data columns (total 5 columns):\n",
      " #   Column             Non-Null Count  Dtype \n",
      "---  ------             --------------  ----- \n",
      " 0   user_id            1534 non-null   int64 \n",
      " 1   name               1534 non-null   object\n",
      " 2   age                1534 non-null   int64 \n",
      " 3   city               1534 non-null   object\n",
      " 4   subscription_type  1534 non-null   object\n",
      "dtypes: int64(2), object(3)\n",
      "memory usage: 71.9+ KB\n"
     ]
    }
   ],
   "source": [
    "# Датафрем о пользователях:\n",
    "df_users.info()"
   ]
  },
  {
   "cell_type": "code",
   "execution_count": 40,
   "id": "011e9839",
   "metadata": {},
   "outputs": [
    {
     "name": "stdout",
     "output_type": "stream",
     "text": [
      "<class 'pandas.core.frame.DataFrame'>\n",
      "RangeIndex: 18068 entries, 0 to 18067\n",
      "Data columns (total 5 columns):\n",
      " #   Column    Non-Null Count  Dtype         \n",
      "---  ------    --------------  -----         \n",
      " 0   user_id   18068 non-null  int64         \n",
      " 1   distance  18068 non-null  float64       \n",
      " 2   duration  18068 non-null  float64       \n",
      " 3   date      18068 non-null  datetime64[ns]\n",
      " 4   month     18068 non-null  int64         \n",
      "dtypes: datetime64[ns](1), float64(2), int64(2)\n",
      "memory usage: 705.9 KB\n"
     ]
    }
   ],
   "source": [
    "# Датафрем о поездках:\n",
    "df_riders.info()"
   ]
  },
  {
   "cell_type": "code",
   "execution_count": 41,
   "id": "37c94404",
   "metadata": {},
   "outputs": [
    {
     "name": "stdout",
     "output_type": "stream",
     "text": [
      "<class 'pandas.core.frame.DataFrame'>\n",
      "RangeIndex: 2 entries, 0 to 1\n",
      "Data columns (total 4 columns):\n",
      " #   Column             Non-Null Count  Dtype \n",
      "---  ------             --------------  ----- \n",
      " 0   subscription_type  2 non-null      object\n",
      " 1   minute_price       2 non-null      int64 \n",
      " 2   start_ride_price   2 non-null      int64 \n",
      " 3   subscription_fee   2 non-null      int64 \n",
      "dtypes: int64(3), object(1)\n",
      "memory usage: 192.0+ bytes\n"
     ]
    }
   ],
   "source": [
    "# Датафрем о подписках:\n",
    "df_subs.info()"
   ]
  },
  {
   "cell_type": "code",
   "execution_count": 42,
   "id": "6bf288b5",
   "metadata": {},
   "outputs": [],
   "source": [
    "# объеденим датафреймы df_users и df_riders в один по столбцу user_id:\n",
    "df = df_users.merge(df_riders, on='user_id', how='left')"
   ]
  },
  {
   "cell_type": "code",
   "execution_count": 43,
   "id": "ca3a9160",
   "metadata": {},
   "outputs": [
    {
     "name": "stdout",
     "output_type": "stream",
     "text": [
      "<class 'pandas.core.frame.DataFrame'>\n",
      "Int64Index: 18068 entries, 0 to 18067\n",
      "Data columns (total 9 columns):\n",
      " #   Column             Non-Null Count  Dtype         \n",
      "---  ------             --------------  -----         \n",
      " 0   user_id            18068 non-null  int64         \n",
      " 1   name               18068 non-null  object        \n",
      " 2   age                18068 non-null  int64         \n",
      " 3   city               18068 non-null  object        \n",
      " 4   subscription_type  18068 non-null  object        \n",
      " 5   distance           18068 non-null  float64       \n",
      " 6   duration           18068 non-null  float64       \n",
      " 7   date               18068 non-null  datetime64[ns]\n",
      " 8   month              18068 non-null  int64         \n",
      "dtypes: datetime64[ns](1), float64(2), int64(3), object(3)\n",
      "memory usage: 1.4+ MB\n"
     ]
    }
   ],
   "source": [
    "df.info()"
   ]
  },
  {
   "cell_type": "code",
   "execution_count": 44,
   "id": "34f69e4b",
   "metadata": {},
   "outputs": [],
   "source": [
    "# объеденим датафреймы df и df_subs в один по столбцу subscription_type:\n",
    "df = df.merge(df_subs, on='subscription_type', how='left')"
   ]
  },
  {
   "cell_type": "code",
   "execution_count": 45,
   "id": "73e8fb5a",
   "metadata": {},
   "outputs": [
    {
     "data": {
      "text/html": [
       "<div>\n",
       "<style scoped>\n",
       "    .dataframe tbody tr th:only-of-type {\n",
       "        vertical-align: middle;\n",
       "    }\n",
       "\n",
       "    .dataframe tbody tr th {\n",
       "        vertical-align: top;\n",
       "    }\n",
       "\n",
       "    .dataframe thead th {\n",
       "        text-align: right;\n",
       "    }\n",
       "</style>\n",
       "<table border=\"1\" class=\"dataframe\">\n",
       "  <thead>\n",
       "    <tr style=\"text-align: right;\">\n",
       "      <th></th>\n",
       "      <th>user_id</th>\n",
       "      <th>name</th>\n",
       "      <th>age</th>\n",
       "      <th>city</th>\n",
       "      <th>subscription_type</th>\n",
       "      <th>distance</th>\n",
       "      <th>duration</th>\n",
       "      <th>date</th>\n",
       "      <th>month</th>\n",
       "      <th>minute_price</th>\n",
       "      <th>start_ride_price</th>\n",
       "      <th>subscription_fee</th>\n",
       "    </tr>\n",
       "  </thead>\n",
       "  <tbody>\n",
       "    <tr>\n",
       "      <th>0</th>\n",
       "      <td>1</td>\n",
       "      <td>Кира</td>\n",
       "      <td>22</td>\n",
       "      <td>Тюмень</td>\n",
       "      <td>ultra</td>\n",
       "      <td>4409.919140</td>\n",
       "      <td>25.599769</td>\n",
       "      <td>2021-01-01</td>\n",
       "      <td>1</td>\n",
       "      <td>6</td>\n",
       "      <td>0</td>\n",
       "      <td>199</td>\n",
       "    </tr>\n",
       "    <tr>\n",
       "      <th>1</th>\n",
       "      <td>1</td>\n",
       "      <td>Кира</td>\n",
       "      <td>22</td>\n",
       "      <td>Тюмень</td>\n",
       "      <td>ultra</td>\n",
       "      <td>2617.592153</td>\n",
       "      <td>15.816871</td>\n",
       "      <td>2021-01-18</td>\n",
       "      <td>1</td>\n",
       "      <td>6</td>\n",
       "      <td>0</td>\n",
       "      <td>199</td>\n",
       "    </tr>\n",
       "    <tr>\n",
       "      <th>2</th>\n",
       "      <td>1</td>\n",
       "      <td>Кира</td>\n",
       "      <td>22</td>\n",
       "      <td>Тюмень</td>\n",
       "      <td>ultra</td>\n",
       "      <td>754.159807</td>\n",
       "      <td>6.232113</td>\n",
       "      <td>2021-04-20</td>\n",
       "      <td>4</td>\n",
       "      <td>6</td>\n",
       "      <td>0</td>\n",
       "      <td>199</td>\n",
       "    </tr>\n",
       "    <tr>\n",
       "      <th>3</th>\n",
       "      <td>1</td>\n",
       "      <td>Кира</td>\n",
       "      <td>22</td>\n",
       "      <td>Тюмень</td>\n",
       "      <td>ultra</td>\n",
       "      <td>2694.783254</td>\n",
       "      <td>18.511000</td>\n",
       "      <td>2021-08-11</td>\n",
       "      <td>8</td>\n",
       "      <td>6</td>\n",
       "      <td>0</td>\n",
       "      <td>199</td>\n",
       "    </tr>\n",
       "    <tr>\n",
       "      <th>4</th>\n",
       "      <td>1</td>\n",
       "      <td>Кира</td>\n",
       "      <td>22</td>\n",
       "      <td>Тюмень</td>\n",
       "      <td>ultra</td>\n",
       "      <td>4028.687306</td>\n",
       "      <td>26.265803</td>\n",
       "      <td>2021-08-28</td>\n",
       "      <td>8</td>\n",
       "      <td>6</td>\n",
       "      <td>0</td>\n",
       "      <td>199</td>\n",
       "    </tr>\n",
       "    <tr>\n",
       "      <th>...</th>\n",
       "      <td>...</td>\n",
       "      <td>...</td>\n",
       "      <td>...</td>\n",
       "      <td>...</td>\n",
       "      <td>...</td>\n",
       "      <td>...</td>\n",
       "      <td>...</td>\n",
       "      <td>...</td>\n",
       "      <td>...</td>\n",
       "      <td>...</td>\n",
       "      <td>...</td>\n",
       "      <td>...</td>\n",
       "    </tr>\n",
       "    <tr>\n",
       "      <th>18063</th>\n",
       "      <td>1534</td>\n",
       "      <td>Альберт</td>\n",
       "      <td>25</td>\n",
       "      <td>Краснодар</td>\n",
       "      <td>free</td>\n",
       "      <td>3781.098080</td>\n",
       "      <td>19.822962</td>\n",
       "      <td>2021-11-04</td>\n",
       "      <td>11</td>\n",
       "      <td>8</td>\n",
       "      <td>50</td>\n",
       "      <td>0</td>\n",
       "    </tr>\n",
       "    <tr>\n",
       "      <th>18064</th>\n",
       "      <td>1534</td>\n",
       "      <td>Альберт</td>\n",
       "      <td>25</td>\n",
       "      <td>Краснодар</td>\n",
       "      <td>free</td>\n",
       "      <td>2840.423057</td>\n",
       "      <td>21.409799</td>\n",
       "      <td>2021-11-16</td>\n",
       "      <td>11</td>\n",
       "      <td>8</td>\n",
       "      <td>50</td>\n",
       "      <td>0</td>\n",
       "    </tr>\n",
       "    <tr>\n",
       "      <th>18065</th>\n",
       "      <td>1534</td>\n",
       "      <td>Альберт</td>\n",
       "      <td>25</td>\n",
       "      <td>Краснодар</td>\n",
       "      <td>free</td>\n",
       "      <td>3826.185507</td>\n",
       "      <td>18.435051</td>\n",
       "      <td>2021-11-18</td>\n",
       "      <td>11</td>\n",
       "      <td>8</td>\n",
       "      <td>50</td>\n",
       "      <td>0</td>\n",
       "    </tr>\n",
       "    <tr>\n",
       "      <th>18066</th>\n",
       "      <td>1534</td>\n",
       "      <td>Альберт</td>\n",
       "      <td>25</td>\n",
       "      <td>Краснодар</td>\n",
       "      <td>free</td>\n",
       "      <td>2902.308661</td>\n",
       "      <td>16.674362</td>\n",
       "      <td>2021-11-27</td>\n",
       "      <td>11</td>\n",
       "      <td>8</td>\n",
       "      <td>50</td>\n",
       "      <td>0</td>\n",
       "    </tr>\n",
       "    <tr>\n",
       "      <th>18067</th>\n",
       "      <td>1534</td>\n",
       "      <td>Альберт</td>\n",
       "      <td>25</td>\n",
       "      <td>Краснодар</td>\n",
       "      <td>free</td>\n",
       "      <td>2371.711192</td>\n",
       "      <td>15.893917</td>\n",
       "      <td>2021-12-29</td>\n",
       "      <td>12</td>\n",
       "      <td>8</td>\n",
       "      <td>50</td>\n",
       "      <td>0</td>\n",
       "    </tr>\n",
       "  </tbody>\n",
       "</table>\n",
       "<p>18068 rows × 12 columns</p>\n",
       "</div>"
      ],
      "text/plain": [
       "       user_id     name  age       city subscription_type     distance  \\\n",
       "0            1     Кира   22     Тюмень             ultra  4409.919140   \n",
       "1            1     Кира   22     Тюмень             ultra  2617.592153   \n",
       "2            1     Кира   22     Тюмень             ultra   754.159807   \n",
       "3            1     Кира   22     Тюмень             ultra  2694.783254   \n",
       "4            1     Кира   22     Тюмень             ultra  4028.687306   \n",
       "...        ...      ...  ...        ...               ...          ...   \n",
       "18063     1534  Альберт   25  Краснодар              free  3781.098080   \n",
       "18064     1534  Альберт   25  Краснодар              free  2840.423057   \n",
       "18065     1534  Альберт   25  Краснодар              free  3826.185507   \n",
       "18066     1534  Альберт   25  Краснодар              free  2902.308661   \n",
       "18067     1534  Альберт   25  Краснодар              free  2371.711192   \n",
       "\n",
       "        duration       date  month  minute_price  start_ride_price  \\\n",
       "0      25.599769 2021-01-01      1             6                 0   \n",
       "1      15.816871 2021-01-18      1             6                 0   \n",
       "2       6.232113 2021-04-20      4             6                 0   \n",
       "3      18.511000 2021-08-11      8             6                 0   \n",
       "4      26.265803 2021-08-28      8             6                 0   \n",
       "...          ...        ...    ...           ...               ...   \n",
       "18063  19.822962 2021-11-04     11             8                50   \n",
       "18064  21.409799 2021-11-16     11             8                50   \n",
       "18065  18.435051 2021-11-18     11             8                50   \n",
       "18066  16.674362 2021-11-27     11             8                50   \n",
       "18067  15.893917 2021-12-29     12             8                50   \n",
       "\n",
       "       subscription_fee  \n",
       "0                   199  \n",
       "1                   199  \n",
       "2                   199  \n",
       "3                   199  \n",
       "4                   199  \n",
       "...                 ...  \n",
       "18063                 0  \n",
       "18064                 0  \n",
       "18065                 0  \n",
       "18066                 0  \n",
       "18067                 0  \n",
       "\n",
       "[18068 rows x 12 columns]"
      ]
     },
     "execution_count": 45,
     "metadata": {},
     "output_type": "execute_result"
    }
   ],
   "source": [
    "# посмотрим на полученный после всех объеденений датафрейм:\n",
    "df"
   ]
  },
  {
   "cell_type": "code",
   "execution_count": 46,
   "id": "67dddb4c",
   "metadata": {},
   "outputs": [
    {
     "name": "stdout",
     "output_type": "stream",
     "text": [
      "<class 'pandas.core.frame.DataFrame'>\n",
      "Int64Index: 18068 entries, 0 to 18067\n",
      "Data columns (total 12 columns):\n",
      " #   Column             Non-Null Count  Dtype         \n",
      "---  ------             --------------  -----         \n",
      " 0   user_id            18068 non-null  int64         \n",
      " 1   name               18068 non-null  object        \n",
      " 2   age                18068 non-null  int64         \n",
      " 3   city               18068 non-null  object        \n",
      " 4   subscription_type  18068 non-null  object        \n",
      " 5   distance           18068 non-null  float64       \n",
      " 6   duration           18068 non-null  float64       \n",
      " 7   date               18068 non-null  datetime64[ns]\n",
      " 8   month              18068 non-null  int64         \n",
      " 9   minute_price       18068 non-null  int64         \n",
      " 10  start_ride_price   18068 non-null  int64         \n",
      " 11  subscription_fee   18068 non-null  int64         \n",
      "dtypes: datetime64[ns](1), float64(2), int64(6), object(3)\n",
      "memory usage: 1.8+ MB\n"
     ]
    }
   ],
   "source": [
    "# Посмотрим полную информацию объединенного датафрейма:\n",
    "df.info()"
   ]
  },
  {
   "cell_type": "markdown",
   "id": "4d820717",
   "metadata": {},
   "source": [
    "***Вывод***  \n",
    "Объединили все данные в одну таблицу, добавив информацию о подписках и поездках. Полученный датафрем `df` содержит 12 столбца и 18068 записей. Пропусков нет."
   ]
  },
  {
   "cell_type": "markdown",
   "id": "c2692334",
   "metadata": {},
   "source": [
    "##### Создадим датафрейм с данными о пользователях без подписки"
   ]
  },
  {
   "cell_type": "code",
   "execution_count": 47,
   "id": "8d61c20e",
   "metadata": {},
   "outputs": [
    {
     "data": {
      "text/html": [
       "<div>\n",
       "<style scoped>\n",
       "    .dataframe tbody tr th:only-of-type {\n",
       "        vertical-align: middle;\n",
       "    }\n",
       "\n",
       "    .dataframe tbody tr th {\n",
       "        vertical-align: top;\n",
       "    }\n",
       "\n",
       "    .dataframe thead th {\n",
       "        text-align: right;\n",
       "    }\n",
       "</style>\n",
       "<table border=\"1\" class=\"dataframe\">\n",
       "  <thead>\n",
       "    <tr style=\"text-align: right;\">\n",
       "      <th></th>\n",
       "      <th>user_id</th>\n",
       "      <th>name</th>\n",
       "      <th>age</th>\n",
       "      <th>city</th>\n",
       "      <th>subscription_type</th>\n",
       "      <th>distance</th>\n",
       "      <th>duration</th>\n",
       "      <th>date</th>\n",
       "      <th>month</th>\n",
       "      <th>minute_price</th>\n",
       "      <th>start_ride_price</th>\n",
       "      <th>subscription_fee</th>\n",
       "    </tr>\n",
       "  </thead>\n",
       "  <tbody>\n",
       "    <tr>\n",
       "      <th>6500</th>\n",
       "      <td>700</td>\n",
       "      <td>Айдар</td>\n",
       "      <td>22</td>\n",
       "      <td>Омск</td>\n",
       "      <td>free</td>\n",
       "      <td>2515.690719</td>\n",
       "      <td>14.944286</td>\n",
       "      <td>2021-01-02</td>\n",
       "      <td>1</td>\n",
       "      <td>8</td>\n",
       "      <td>50</td>\n",
       "      <td>0</td>\n",
       "    </tr>\n",
       "    <tr>\n",
       "      <th>6501</th>\n",
       "      <td>700</td>\n",
       "      <td>Айдар</td>\n",
       "      <td>22</td>\n",
       "      <td>Омск</td>\n",
       "      <td>free</td>\n",
       "      <td>846.932642</td>\n",
       "      <td>16.234663</td>\n",
       "      <td>2021-02-01</td>\n",
       "      <td>2</td>\n",
       "      <td>8</td>\n",
       "      <td>50</td>\n",
       "      <td>0</td>\n",
       "    </tr>\n",
       "    <tr>\n",
       "      <th>6502</th>\n",
       "      <td>700</td>\n",
       "      <td>Айдар</td>\n",
       "      <td>22</td>\n",
       "      <td>Омск</td>\n",
       "      <td>free</td>\n",
       "      <td>4004.434142</td>\n",
       "      <td>20.016628</td>\n",
       "      <td>2021-02-04</td>\n",
       "      <td>2</td>\n",
       "      <td>8</td>\n",
       "      <td>50</td>\n",
       "      <td>0</td>\n",
       "    </tr>\n",
       "    <tr>\n",
       "      <th>6503</th>\n",
       "      <td>700</td>\n",
       "      <td>Айдар</td>\n",
       "      <td>22</td>\n",
       "      <td>Омск</td>\n",
       "      <td>free</td>\n",
       "      <td>1205.911290</td>\n",
       "      <td>9.782872</td>\n",
       "      <td>2021-02-10</td>\n",
       "      <td>2</td>\n",
       "      <td>8</td>\n",
       "      <td>50</td>\n",
       "      <td>0</td>\n",
       "    </tr>\n",
       "    <tr>\n",
       "      <th>6504</th>\n",
       "      <td>700</td>\n",
       "      <td>Айдар</td>\n",
       "      <td>22</td>\n",
       "      <td>Омск</td>\n",
       "      <td>free</td>\n",
       "      <td>3047.379435</td>\n",
       "      <td>17.427673</td>\n",
       "      <td>2021-02-14</td>\n",
       "      <td>2</td>\n",
       "      <td>8</td>\n",
       "      <td>50</td>\n",
       "      <td>0</td>\n",
       "    </tr>\n",
       "    <tr>\n",
       "      <th>...</th>\n",
       "      <td>...</td>\n",
       "      <td>...</td>\n",
       "      <td>...</td>\n",
       "      <td>...</td>\n",
       "      <td>...</td>\n",
       "      <td>...</td>\n",
       "      <td>...</td>\n",
       "      <td>...</td>\n",
       "      <td>...</td>\n",
       "      <td>...</td>\n",
       "      <td>...</td>\n",
       "      <td>...</td>\n",
       "    </tr>\n",
       "    <tr>\n",
       "      <th>18063</th>\n",
       "      <td>1534</td>\n",
       "      <td>Альберт</td>\n",
       "      <td>25</td>\n",
       "      <td>Краснодар</td>\n",
       "      <td>free</td>\n",
       "      <td>3781.098080</td>\n",
       "      <td>19.822962</td>\n",
       "      <td>2021-11-04</td>\n",
       "      <td>11</td>\n",
       "      <td>8</td>\n",
       "      <td>50</td>\n",
       "      <td>0</td>\n",
       "    </tr>\n",
       "    <tr>\n",
       "      <th>18064</th>\n",
       "      <td>1534</td>\n",
       "      <td>Альберт</td>\n",
       "      <td>25</td>\n",
       "      <td>Краснодар</td>\n",
       "      <td>free</td>\n",
       "      <td>2840.423057</td>\n",
       "      <td>21.409799</td>\n",
       "      <td>2021-11-16</td>\n",
       "      <td>11</td>\n",
       "      <td>8</td>\n",
       "      <td>50</td>\n",
       "      <td>0</td>\n",
       "    </tr>\n",
       "    <tr>\n",
       "      <th>18065</th>\n",
       "      <td>1534</td>\n",
       "      <td>Альберт</td>\n",
       "      <td>25</td>\n",
       "      <td>Краснодар</td>\n",
       "      <td>free</td>\n",
       "      <td>3826.185507</td>\n",
       "      <td>18.435051</td>\n",
       "      <td>2021-11-18</td>\n",
       "      <td>11</td>\n",
       "      <td>8</td>\n",
       "      <td>50</td>\n",
       "      <td>0</td>\n",
       "    </tr>\n",
       "    <tr>\n",
       "      <th>18066</th>\n",
       "      <td>1534</td>\n",
       "      <td>Альберт</td>\n",
       "      <td>25</td>\n",
       "      <td>Краснодар</td>\n",
       "      <td>free</td>\n",
       "      <td>2902.308661</td>\n",
       "      <td>16.674362</td>\n",
       "      <td>2021-11-27</td>\n",
       "      <td>11</td>\n",
       "      <td>8</td>\n",
       "      <td>50</td>\n",
       "      <td>0</td>\n",
       "    </tr>\n",
       "    <tr>\n",
       "      <th>18067</th>\n",
       "      <td>1534</td>\n",
       "      <td>Альберт</td>\n",
       "      <td>25</td>\n",
       "      <td>Краснодар</td>\n",
       "      <td>free</td>\n",
       "      <td>2371.711192</td>\n",
       "      <td>15.893917</td>\n",
       "      <td>2021-12-29</td>\n",
       "      <td>12</td>\n",
       "      <td>8</td>\n",
       "      <td>50</td>\n",
       "      <td>0</td>\n",
       "    </tr>\n",
       "  </tbody>\n",
       "</table>\n",
       "<p>11568 rows × 12 columns</p>\n",
       "</div>"
      ],
      "text/plain": [
       "       user_id     name  age       city subscription_type     distance  \\\n",
       "6500       700    Айдар   22       Омск              free  2515.690719   \n",
       "6501       700    Айдар   22       Омск              free   846.932642   \n",
       "6502       700    Айдар   22       Омск              free  4004.434142   \n",
       "6503       700    Айдар   22       Омск              free  1205.911290   \n",
       "6504       700    Айдар   22       Омск              free  3047.379435   \n",
       "...        ...      ...  ...        ...               ...          ...   \n",
       "18063     1534  Альберт   25  Краснодар              free  3781.098080   \n",
       "18064     1534  Альберт   25  Краснодар              free  2840.423057   \n",
       "18065     1534  Альберт   25  Краснодар              free  3826.185507   \n",
       "18066     1534  Альберт   25  Краснодар              free  2902.308661   \n",
       "18067     1534  Альберт   25  Краснодар              free  2371.711192   \n",
       "\n",
       "        duration       date  month  minute_price  start_ride_price  \\\n",
       "6500   14.944286 2021-01-02      1             8                50   \n",
       "6501   16.234663 2021-02-01      2             8                50   \n",
       "6502   20.016628 2021-02-04      2             8                50   \n",
       "6503    9.782872 2021-02-10      2             8                50   \n",
       "6504   17.427673 2021-02-14      2             8                50   \n",
       "...          ...        ...    ...           ...               ...   \n",
       "18063  19.822962 2021-11-04     11             8                50   \n",
       "18064  21.409799 2021-11-16     11             8                50   \n",
       "18065  18.435051 2021-11-18     11             8                50   \n",
       "18066  16.674362 2021-11-27     11             8                50   \n",
       "18067  15.893917 2021-12-29     12             8                50   \n",
       "\n",
       "       subscription_fee  \n",
       "6500                  0  \n",
       "6501                  0  \n",
       "6502                  0  \n",
       "6503                  0  \n",
       "6504                  0  \n",
       "...                 ...  \n",
       "18063                 0  \n",
       "18064                 0  \n",
       "18065                 0  \n",
       "18066                 0  \n",
       "18067                 0  \n",
       "\n",
       "[11568 rows x 12 columns]"
      ]
     },
     "execution_count": 47,
     "metadata": {},
     "output_type": "execute_result"
    }
   ],
   "source": [
    "sub_free = df.query(\"`subscription_type` == 'free'\")\n",
    "sub_free"
   ]
  },
  {
   "cell_type": "markdown",
   "id": "ad1fa153",
   "metadata": {},
   "source": [
    "**Визуализируем информацию о расстоянии поездки для пользователей без подписки**"
   ]
  },
  {
   "cell_type": "code",
   "execution_count": 48,
   "id": "572cf8b3",
   "metadata": {},
   "outputs": [
    {
     "data": {
      "image/png": "[encoded data removed]",
      "text/plain": [
       "<Figure size 576x504 with 1 Axes>"
      ]
     },
     "metadata": {
      "needs_background": "light"
     },
     "output_type": "display_data"
    }
   ],
   "source": [
    "sub_free.hist(['distance'], bins= 30, figsize=(8,7))\n",
    "plt.title('Расстояние для пользователей без подписки')\n",
    "plt.xlabel('Расстояние, м')\n",
    "plt.ylabel('Количество пользователей');"
   ]
  },
  {
   "cell_type": "markdown",
   "id": "e734f8b9",
   "metadata": {},
   "source": [
    "Пользователи без подписки проезжают от 2 до 5 км, есть пользователи, которые проехали свыше 6 км. Пик кол-ва пользователей приходится на расстояние в 2,5 км"
   ]
  },
  {
   "cell_type": "markdown",
   "id": "c4584988",
   "metadata": {},
   "source": [
    "**Визуализируем информацию о продолжительности времени поездки для пользователей без подписки**"
   ]
  },
  {
   "cell_type": "code",
   "execution_count": 49,
   "id": "0223fb2b",
   "metadata": {},
   "outputs": [
    {
     "data": {
      "image/png": "[encoded data removed]",
      "text/plain": [
       "<Figure size 576x504 with 1 Axes>"
      ]
     },
     "metadata": {
      "needs_background": "light"
     },
     "output_type": "display_data"
    }
   ],
   "source": [
    "sub_free.hist(['duration'], bins= 30, figsize=(8,7))\n",
    "plt.title('Продолжительность времени поезки для пользователей без подписки')\n",
    "plt.xlabel('Продолжительность, мин.')\n",
    "plt.ylabel('Количество пользователей');"
   ]
  },
  {
   "cell_type": "markdown",
   "id": "d4c48306",
   "metadata": {},
   "source": [
    "Для пользователей без подписки время поездки составляет от 5 до 30 минут."
   ]
  },
  {
   "cell_type": "markdown",
   "id": "497217f0",
   "metadata": {},
   "source": [
    "##### Создадим датафрейм с данными о пользователях с подпиской"
   ]
  },
  {
   "cell_type": "code",
   "execution_count": 50,
   "id": "1cdbb5d6",
   "metadata": {},
   "outputs": [
    {
     "data": {
      "text/html": [
       "<div>\n",
       "<style scoped>\n",
       "    .dataframe tbody tr th:only-of-type {\n",
       "        vertical-align: middle;\n",
       "    }\n",
       "\n",
       "    .dataframe tbody tr th {\n",
       "        vertical-align: top;\n",
       "    }\n",
       "\n",
       "    .dataframe thead th {\n",
       "        text-align: right;\n",
       "    }\n",
       "</style>\n",
       "<table border=\"1\" class=\"dataframe\">\n",
       "  <thead>\n",
       "    <tr style=\"text-align: right;\">\n",
       "      <th></th>\n",
       "      <th>user_id</th>\n",
       "      <th>name</th>\n",
       "      <th>age</th>\n",
       "      <th>city</th>\n",
       "      <th>subscription_type</th>\n",
       "      <th>distance</th>\n",
       "      <th>duration</th>\n",
       "      <th>date</th>\n",
       "      <th>month</th>\n",
       "      <th>minute_price</th>\n",
       "      <th>start_ride_price</th>\n",
       "      <th>subscription_fee</th>\n",
       "    </tr>\n",
       "  </thead>\n",
       "  <tbody>\n",
       "    <tr>\n",
       "      <th>0</th>\n",
       "      <td>1</td>\n",
       "      <td>Кира</td>\n",
       "      <td>22</td>\n",
       "      <td>Тюмень</td>\n",
       "      <td>ultra</td>\n",
       "      <td>4409.919140</td>\n",
       "      <td>25.599769</td>\n",
       "      <td>2021-01-01</td>\n",
       "      <td>1</td>\n",
       "      <td>6</td>\n",
       "      <td>0</td>\n",
       "      <td>199</td>\n",
       "    </tr>\n",
       "    <tr>\n",
       "      <th>1</th>\n",
       "      <td>1</td>\n",
       "      <td>Кира</td>\n",
       "      <td>22</td>\n",
       "      <td>Тюмень</td>\n",
       "      <td>ultra</td>\n",
       "      <td>2617.592153</td>\n",
       "      <td>15.816871</td>\n",
       "      <td>2021-01-18</td>\n",
       "      <td>1</td>\n",
       "      <td>6</td>\n",
       "      <td>0</td>\n",
       "      <td>199</td>\n",
       "    </tr>\n",
       "    <tr>\n",
       "      <th>2</th>\n",
       "      <td>1</td>\n",
       "      <td>Кира</td>\n",
       "      <td>22</td>\n",
       "      <td>Тюмень</td>\n",
       "      <td>ultra</td>\n",
       "      <td>754.159807</td>\n",
       "      <td>6.232113</td>\n",
       "      <td>2021-04-20</td>\n",
       "      <td>4</td>\n",
       "      <td>6</td>\n",
       "      <td>0</td>\n",
       "      <td>199</td>\n",
       "    </tr>\n",
       "    <tr>\n",
       "      <th>3</th>\n",
       "      <td>1</td>\n",
       "      <td>Кира</td>\n",
       "      <td>22</td>\n",
       "      <td>Тюмень</td>\n",
       "      <td>ultra</td>\n",
       "      <td>2694.783254</td>\n",
       "      <td>18.511000</td>\n",
       "      <td>2021-08-11</td>\n",
       "      <td>8</td>\n",
       "      <td>6</td>\n",
       "      <td>0</td>\n",
       "      <td>199</td>\n",
       "    </tr>\n",
       "    <tr>\n",
       "      <th>4</th>\n",
       "      <td>1</td>\n",
       "      <td>Кира</td>\n",
       "      <td>22</td>\n",
       "      <td>Тюмень</td>\n",
       "      <td>ultra</td>\n",
       "      <td>4028.687306</td>\n",
       "      <td>26.265803</td>\n",
       "      <td>2021-08-28</td>\n",
       "      <td>8</td>\n",
       "      <td>6</td>\n",
       "      <td>0</td>\n",
       "      <td>199</td>\n",
       "    </tr>\n",
       "    <tr>\n",
       "      <th>...</th>\n",
       "      <td>...</td>\n",
       "      <td>...</td>\n",
       "      <td>...</td>\n",
       "      <td>...</td>\n",
       "      <td>...</td>\n",
       "      <td>...</td>\n",
       "      <td>...</td>\n",
       "      <td>...</td>\n",
       "      <td>...</td>\n",
       "      <td>...</td>\n",
       "      <td>...</td>\n",
       "      <td>...</td>\n",
       "    </tr>\n",
       "    <tr>\n",
       "      <th>6495</th>\n",
       "      <td>699</td>\n",
       "      <td>Оксана</td>\n",
       "      <td>22</td>\n",
       "      <td>Москва</td>\n",
       "      <td>ultra</td>\n",
       "      <td>3973.046497</td>\n",
       "      <td>24.671163</td>\n",
       "      <td>2021-08-29</td>\n",
       "      <td>8</td>\n",
       "      <td>6</td>\n",
       "      <td>0</td>\n",
       "      <td>199</td>\n",
       "    </tr>\n",
       "    <tr>\n",
       "      <th>6496</th>\n",
       "      <td>699</td>\n",
       "      <td>Оксана</td>\n",
       "      <td>22</td>\n",
       "      <td>Москва</td>\n",
       "      <td>ultra</td>\n",
       "      <td>3288.702563</td>\n",
       "      <td>15.892886</td>\n",
       "      <td>2021-09-12</td>\n",
       "      <td>9</td>\n",
       "      <td>6</td>\n",
       "      <td>0</td>\n",
       "      <td>199</td>\n",
       "    </tr>\n",
       "    <tr>\n",
       "      <th>6497</th>\n",
       "      <td>699</td>\n",
       "      <td>Оксана</td>\n",
       "      <td>22</td>\n",
       "      <td>Москва</td>\n",
       "      <td>ultra</td>\n",
       "      <td>3076.159348</td>\n",
       "      <td>14.389525</td>\n",
       "      <td>2021-09-26</td>\n",
       "      <td>9</td>\n",
       "      <td>6</td>\n",
       "      <td>0</td>\n",
       "      <td>199</td>\n",
       "    </tr>\n",
       "    <tr>\n",
       "      <th>6498</th>\n",
       "      <td>699</td>\n",
       "      <td>Оксана</td>\n",
       "      <td>22</td>\n",
       "      <td>Москва</td>\n",
       "      <td>ultra</td>\n",
       "      <td>4707.845501</td>\n",
       "      <td>15.839579</td>\n",
       "      <td>2021-10-17</td>\n",
       "      <td>10</td>\n",
       "      <td>6</td>\n",
       "      <td>0</td>\n",
       "      <td>199</td>\n",
       "    </tr>\n",
       "    <tr>\n",
       "      <th>6499</th>\n",
       "      <td>699</td>\n",
       "      <td>Оксана</td>\n",
       "      <td>22</td>\n",
       "      <td>Москва</td>\n",
       "      <td>ultra</td>\n",
       "      <td>3202.890770</td>\n",
       "      <td>25.217345</td>\n",
       "      <td>2021-12-03</td>\n",
       "      <td>12</td>\n",
       "      <td>6</td>\n",
       "      <td>0</td>\n",
       "      <td>199</td>\n",
       "    </tr>\n",
       "  </tbody>\n",
       "</table>\n",
       "<p>6500 rows × 12 columns</p>\n",
       "</div>"
      ],
      "text/plain": [
       "      user_id    name  age    city subscription_type     distance   duration  \\\n",
       "0           1    Кира   22  Тюмень             ultra  4409.919140  25.599769   \n",
       "1           1    Кира   22  Тюмень             ultra  2617.592153  15.816871   \n",
       "2           1    Кира   22  Тюмень             ultra   754.159807   6.232113   \n",
       "3           1    Кира   22  Тюмень             ultra  2694.783254  18.511000   \n",
       "4           1    Кира   22  Тюмень             ultra  4028.687306  26.265803   \n",
       "...       ...     ...  ...     ...               ...          ...        ...   \n",
       "6495      699  Оксана   22  Москва             ultra  3973.046497  24.671163   \n",
       "6496      699  Оксана   22  Москва             ultra  3288.702563  15.892886   \n",
       "6497      699  Оксана   22  Москва             ultra  3076.159348  14.389525   \n",
       "6498      699  Оксана   22  Москва             ultra  4707.845501  15.839579   \n",
       "6499      699  Оксана   22  Москва             ultra  3202.890770  25.217345   \n",
       "\n",
       "           date  month  minute_price  start_ride_price  subscription_fee  \n",
       "0    2021-01-01      1             6                 0               199  \n",
       "1    2021-01-18      1             6                 0               199  \n",
       "2    2021-04-20      4             6                 0               199  \n",
       "3    2021-08-11      8             6                 0               199  \n",
       "4    2021-08-28      8             6                 0               199  \n",
       "...         ...    ...           ...               ...               ...  \n",
       "6495 2021-08-29      8             6                 0               199  \n",
       "6496 2021-09-12      9             6                 0               199  \n",
       "6497 2021-09-26      9             6                 0               199  \n",
       "6498 2021-10-17     10             6                 0               199  \n",
       "6499 2021-12-03     12             6                 0               199  \n",
       "\n",
       "[6500 rows x 12 columns]"
      ]
     },
     "execution_count": 50,
     "metadata": {},
     "output_type": "execute_result"
    }
   ],
   "source": [
    "sub_ultra = df.query(\"`subscription_type` == 'ultra'\")\n",
    "sub_ultra"
   ]
  },
  {
   "cell_type": "markdown",
   "id": "e0948b20",
   "metadata": {},
   "source": [
    "**Визуализируем информацию о расстоянии поездки для пользователей с подпиской**"
   ]
  },
  {
   "cell_type": "code",
   "execution_count": 51,
   "id": "be0f5792",
   "metadata": {},
   "outputs": [
    {
     "data": {
      "image/png": "[encoded data removed]",
      "text/plain": [
       "<Figure size 576x504 with 1 Axes>"
      ]
     },
     "metadata": {
      "needs_background": "light"
     },
     "output_type": "display_data"
    }
   ],
   "source": [
    "sub_ultra.hist(['distance'], bins= 30, figsize=(8,7))\n",
    "plt.title('Расстояние для пользователей с подпиской')\n",
    "plt.xlabel('Расстояние, м')\n",
    "plt.ylabel('Количество пользователей');"
   ]
  },
  {
   "cell_type": "markdown",
   "id": "8d4f6422",
   "metadata": {},
   "source": [
    "**Визуализируем информацию о продолжительности времени поездки для пользователей с подпиской**"
   ]
  },
  {
   "cell_type": "code",
   "execution_count": 52,
   "id": "754c6f11",
   "metadata": {},
   "outputs": [
    {
     "data": {
      "image/png": "[encoded data removed]",
      "text/plain": [
       "<Figure size 576x504 with 1 Axes>"
      ]
     },
     "metadata": {
      "needs_background": "light"
     },
     "output_type": "display_data"
    }
   ],
   "source": [
    "sub_ultra.hist(['duration'], bins= 30, figsize=(8,7))\n",
    "plt.title('Продолжительность времени поезки для пользователей с подпиской')\n",
    "plt.xlabel('Продолжительность, мин.')\n",
    "plt.ylabel('Количество пользователей');"
   ]
  },
  {
   "cell_type": "markdown",
   "id": "01579117",
   "metadata": {},
   "source": [
    "***Вывод***  \n",
    "\n",
    "Объединили данные о пользователях, поездках и тарифах в один датафрейм.\n",
    "\n",
    "Выделили два датафрейма - sub_free и sub_ultra (датасет для пользователей без подписки и датасет для пользоваетелей с подпиской)\n",
    "\n",
    "Визуализировали информацию о расстоянии и времени для пользователей с подпиской и без:\n",
    "\n",
    "Для пользователей без подписки время поездки составляет от 5 до 30 минут, и проезжают от 2 до 5 км, есть пользователи, которые проехали свыше 6 км. Пик кол-ва пользователей приходится на расстояние в 2,5 км\n",
    "\n",
    "Для пользователей без подписки - в основном время укладывается в промежуток от 10 до 29 минут. Пик кол-ва пользователей приходится на расстояние в 3 км.\n",
    "\n",
    "Так же в обеих группах замечен всплеск в районе 1000 метров и продолжительностью 5-10 мин, скорее всего это \"интерес\" пользователей к новому сервису аренды.\n",
    "\n",
    "У пользователей без подписки значительно больше коротких поездок - до 1 км и в целом максимальная дальность поездки выше, чем у платных пользователей.\n",
    "\n",
    "Таким образом, можно сделать вывод, что пользователи без подписки проезжают большее расстояние, чем пользователи на платном тарифе. При этом и те и другие пользователи укладываются в интервал до 30 минут.\n",
    "\n",
    "Выборка пользователей без подписки почти в два раза превышает выборку пользователей с подпиской (11568 на 6500)."
   ]
  },
  {
   "cell_type": "markdown",
   "id": "402d620f",
   "metadata": {},
   "source": [
    "#### Шаг 5. Подсчёт выручки"
   ]
  },
  {
   "cell_type": "markdown",
   "id": "c01f1407",
   "metadata": {},
   "source": [
    "##### Создадим датафрейм с агрегированными данными о поездках на основе датафрейма с объединёнными данными. Найдем суммарное расстояние, количество поездок и суммарное время для каждого пользователя за каждый месяц"
   ]
  },
  {
   "cell_type": "code",
   "execution_count": 53,
   "id": "d54ac15e",
   "metadata": {},
   "outputs": [],
   "source": [
    "# Создадим сводную таблицу:\n",
    "df_pivot = df.pivot_table(index=['month', 'user_id'],\n",
    "                          values = ['distance', 'duration', 'name', 'subscription_type'],\n",
    "                          aggfunc = {'distance': 'sum',\n",
    "                                     'duration' : 'sum',\n",
    "                                     'name' : len,\n",
    "                                     'subscription_type' : 'min'})"
   ]
  },
  {
   "cell_type": "code",
   "execution_count": 54,
   "id": "2531450f",
   "metadata": {},
   "outputs": [
    {
     "name": "stdout",
     "output_type": "stream",
     "text": [
      "<class 'pandas.core.frame.DataFrame'>\n",
      "MultiIndex: 11331 entries, (1, 1) to (12, 1534)\n",
      "Data columns (total 4 columns):\n",
      " #   Column             Non-Null Count  Dtype  \n",
      "---  ------             --------------  -----  \n",
      " 0   distance           11331 non-null  float64\n",
      " 1   duration           11331 non-null  float64\n",
      " 2   name               11331 non-null  int64  \n",
      " 3   subscription_type  11331 non-null  object \n",
      "dtypes: float64(2), int64(1), object(1)\n",
      "memory usage: 399.5+ KB\n"
     ]
    }
   ],
   "source": [
    "df_pivot.info()"
   ]
  },
  {
   "cell_type": "markdown",
   "id": "b54f96e9",
   "metadata": {},
   "source": [
    "пропусков нет."
   ]
  },
  {
   "cell_type": "code",
   "execution_count": 55,
   "id": "49a4dcba",
   "metadata": {},
   "outputs": [],
   "source": [
    "#Переименновываем столбцы:\n",
    "df_pivot.columns = ['distance', 'duration','trips', 'subscription_type']"
   ]
  },
  {
   "cell_type": "code",
   "execution_count": 56,
   "id": "8dc2d53f",
   "metadata": {},
   "outputs": [],
   "source": [
    "# каждое значение из столбца duration округляется с помощью «потолка»:\n",
    "df_pivot['duration'] = np.ceil(df_pivot['duration'])"
   ]
  },
  {
   "cell_type": "code",
   "execution_count": 57,
   "id": "117609cd",
   "metadata": {},
   "outputs": [
    {
     "data": {
      "text/html": [
       "<div>\n",
       "<style scoped>\n",
       "    .dataframe tbody tr th:only-of-type {\n",
       "        vertical-align: middle;\n",
       "    }\n",
       "\n",
       "    .dataframe tbody tr th {\n",
       "        vertical-align: top;\n",
       "    }\n",
       "\n",
       "    .dataframe thead th {\n",
       "        text-align: right;\n",
       "    }\n",
       "</style>\n",
       "<table border=\"1\" class=\"dataframe\">\n",
       "  <thead>\n",
       "    <tr style=\"text-align: right;\">\n",
       "      <th></th>\n",
       "      <th></th>\n",
       "      <th>distance</th>\n",
       "      <th>duration</th>\n",
       "      <th>trips</th>\n",
       "      <th>subscription_type</th>\n",
       "    </tr>\n",
       "    <tr>\n",
       "      <th>month</th>\n",
       "      <th>user_id</th>\n",
       "      <th></th>\n",
       "      <th></th>\n",
       "      <th></th>\n",
       "      <th></th>\n",
       "    </tr>\n",
       "  </thead>\n",
       "  <tbody>\n",
       "    <tr>\n",
       "      <th rowspan=\"5\" valign=\"top\">1</th>\n",
       "      <th>1</th>\n",
       "      <td>7027.511294</td>\n",
       "      <td>42.0</td>\n",
       "      <td>2</td>\n",
       "      <td>ultra</td>\n",
       "    </tr>\n",
       "    <tr>\n",
       "      <th>1061</th>\n",
       "      <td>12637.249630</td>\n",
       "      <td>42.0</td>\n",
       "      <td>3</td>\n",
       "      <td>free</td>\n",
       "    </tr>\n",
       "    <tr>\n",
       "      <th>1063</th>\n",
       "      <td>3276.362299</td>\n",
       "      <td>10.0</td>\n",
       "      <td>1</td>\n",
       "      <td>free</td>\n",
       "    </tr>\n",
       "    <tr>\n",
       "      <th>1064</th>\n",
       "      <td>5297.324649</td>\n",
       "      <td>15.0</td>\n",
       "      <td>1</td>\n",
       "      <td>free</td>\n",
       "    </tr>\n",
       "    <tr>\n",
       "      <th>1065</th>\n",
       "      <td>14547.099333</td>\n",
       "      <td>97.0</td>\n",
       "      <td>4</td>\n",
       "      <td>free</td>\n",
       "    </tr>\n",
       "    <tr>\n",
       "      <th>...</th>\n",
       "      <th>...</th>\n",
       "      <td>...</td>\n",
       "      <td>...</td>\n",
       "      <td>...</td>\n",
       "      <td>...</td>\n",
       "    </tr>\n",
       "    <tr>\n",
       "      <th rowspan=\"5\" valign=\"top\">12</th>\n",
       "      <th>618</th>\n",
       "      <td>5269.450142</td>\n",
       "      <td>32.0</td>\n",
       "      <td>2</td>\n",
       "      <td>ultra</td>\n",
       "    </tr>\n",
       "    <tr>\n",
       "      <th>619</th>\n",
       "      <td>2955.251037</td>\n",
       "      <td>17.0</td>\n",
       "      <td>1</td>\n",
       "      <td>ultra</td>\n",
       "    </tr>\n",
       "    <tr>\n",
       "      <th>620</th>\n",
       "      <td>3972.842520</td>\n",
       "      <td>14.0</td>\n",
       "      <td>1</td>\n",
       "      <td>ultra</td>\n",
       "    </tr>\n",
       "    <tr>\n",
       "      <th>600</th>\n",
       "      <td>3698.618505</td>\n",
       "      <td>14.0</td>\n",
       "      <td>1</td>\n",
       "      <td>ultra</td>\n",
       "    </tr>\n",
       "    <tr>\n",
       "      <th>1534</th>\n",
       "      <td>2371.711192</td>\n",
       "      <td>16.0</td>\n",
       "      <td>1</td>\n",
       "      <td>free</td>\n",
       "    </tr>\n",
       "  </tbody>\n",
       "</table>\n",
       "<p>11331 rows × 4 columns</p>\n",
       "</div>"
      ],
      "text/plain": [
       "                   distance  duration  trips subscription_type\n",
       "month user_id                                                 \n",
       "1     1         7027.511294      42.0      2             ultra\n",
       "      1061     12637.249630      42.0      3              free\n",
       "      1063      3276.362299      10.0      1              free\n",
       "      1064      5297.324649      15.0      1              free\n",
       "      1065     14547.099333      97.0      4              free\n",
       "...                     ...       ...    ...               ...\n",
       "12    618       5269.450142      32.0      2             ultra\n",
       "      619       2955.251037      17.0      1             ultra\n",
       "      620       3972.842520      14.0      1             ultra\n",
       "      600       3698.618505      14.0      1             ultra\n",
       "      1534      2371.711192      16.0      1              free\n",
       "\n",
       "[11331 rows x 4 columns]"
      ]
     },
     "execution_count": 57,
     "metadata": {},
     "output_type": "execute_result"
    }
   ],
   "source": [
    "# Посмотрим на сводную таблицу, отсортированную по месяцу:\n",
    "df_pivot.sort_values(by='month')"
   ]
  },
  {
   "cell_type": "code",
   "execution_count": 58,
   "id": "bd538e14",
   "metadata": {},
   "outputs": [
    {
     "data": {
      "text/html": [
       "<div>\n",
       "<style scoped>\n",
       "    .dataframe tbody tr th:only-of-type {\n",
       "        vertical-align: middle;\n",
       "    }\n",
       "\n",
       "    .dataframe tbody tr th {\n",
       "        vertical-align: top;\n",
       "    }\n",
       "\n",
       "    .dataframe thead th {\n",
       "        text-align: right;\n",
       "    }\n",
       "</style>\n",
       "<table border=\"1\" class=\"dataframe\">\n",
       "  <thead>\n",
       "    <tr style=\"text-align: right;\">\n",
       "      <th></th>\n",
       "      <th></th>\n",
       "      <th>distance</th>\n",
       "      <th>duration</th>\n",
       "      <th>trips</th>\n",
       "      <th>subscription_type</th>\n",
       "    </tr>\n",
       "    <tr>\n",
       "      <th>month</th>\n",
       "      <th>user_id</th>\n",
       "      <th></th>\n",
       "      <th></th>\n",
       "      <th></th>\n",
       "      <th></th>\n",
       "    </tr>\n",
       "  </thead>\n",
       "  <tbody>\n",
       "    <tr>\n",
       "      <th>1</th>\n",
       "      <th>1000</th>\n",
       "      <td>8896.242665</td>\n",
       "      <td>58.0</td>\n",
       "      <td>2</td>\n",
       "      <td>free</td>\n",
       "    </tr>\n",
       "    <tr>\n",
       "      <th>2</th>\n",
       "      <th>1000</th>\n",
       "      <td>8563.372738</td>\n",
       "      <td>53.0</td>\n",
       "      <td>2</td>\n",
       "      <td>free</td>\n",
       "    </tr>\n",
       "    <tr>\n",
       "      <th>3</th>\n",
       "      <th>1000</th>\n",
       "      <td>8125.115681</td>\n",
       "      <td>49.0</td>\n",
       "      <td>3</td>\n",
       "      <td>free</td>\n",
       "    </tr>\n",
       "    <tr>\n",
       "      <th>4</th>\n",
       "      <th>1000</th>\n",
       "      <td>6209.113980</td>\n",
       "      <td>28.0</td>\n",
       "      <td>2</td>\n",
       "      <td>free</td>\n",
       "    </tr>\n",
       "    <tr>\n",
       "      <th>6</th>\n",
       "      <th>1000</th>\n",
       "      <td>7347.037513</td>\n",
       "      <td>49.0</td>\n",
       "      <td>2</td>\n",
       "      <td>free</td>\n",
       "    </tr>\n",
       "    <tr>\n",
       "      <th>7</th>\n",
       "      <th>1000</th>\n",
       "      <td>2093.948848</td>\n",
       "      <td>12.0</td>\n",
       "      <td>1</td>\n",
       "      <td>free</td>\n",
       "    </tr>\n",
       "    <tr>\n",
       "      <th>8</th>\n",
       "      <th>1000</th>\n",
       "      <td>652.585149</td>\n",
       "      <td>7.0</td>\n",
       "      <td>1</td>\n",
       "      <td>free</td>\n",
       "    </tr>\n",
       "    <tr>\n",
       "      <th>10</th>\n",
       "      <th>1000</th>\n",
       "      <td>4887.494194</td>\n",
       "      <td>31.0</td>\n",
       "      <td>2</td>\n",
       "      <td>free</td>\n",
       "    </tr>\n",
       "    <tr>\n",
       "      <th>11</th>\n",
       "      <th>1000</th>\n",
       "      <td>5387.122991</td>\n",
       "      <td>26.0</td>\n",
       "      <td>2</td>\n",
       "      <td>free</td>\n",
       "    </tr>\n",
       "  </tbody>\n",
       "</table>\n",
       "</div>"
      ],
      "text/plain": [
       "                  distance  duration  trips subscription_type\n",
       "month user_id                                                \n",
       "1     1000     8896.242665      58.0      2              free\n",
       "2     1000     8563.372738      53.0      2              free\n",
       "3     1000     8125.115681      49.0      3              free\n",
       "4     1000     6209.113980      28.0      2              free\n",
       "6     1000     7347.037513      49.0      2              free\n",
       "7     1000     2093.948848      12.0      1              free\n",
       "8     1000      652.585149       7.0      1              free\n",
       "10    1000     4887.494194      31.0      2              free\n",
       "11    1000     5387.122991      26.0      2              free"
      ]
     },
     "execution_count": 58,
     "metadata": {},
     "output_type": "execute_result"
    }
   ],
   "source": [
    "# Посмотрим на произвольно выбранного пользователя:\n",
    "df_pivot.query('user_id == 1000')"
   ]
  },
  {
   "cell_type": "markdown",
   "id": "d24675fe",
   "metadata": {},
   "source": [
    "##### Добавим столбец с помесячной выручкой, которую принёс каждый пользователь."
   ]
  },
  {
   "cell_type": "code",
   "execution_count": 59,
   "id": "557fb9d6",
   "metadata": {},
   "outputs": [],
   "source": [
    "# Функция для помесячной выручке каждого пользователя:\n",
    "def revenue(row):\n",
    "    if row['subscription_type'] == 'free':\n",
    "        return (df_subs['start_ride_price'][0] * row['trips'] +\n",
    "        df_subs['minute_price'][0] * row['duration'] + df_subs['subscription_fee'][0])\n",
    "    elif row['subscription_type'] == 'ultra':\n",
    "        return (df_subs['start_ride_price'][1] * row['trips'] +\n",
    "        df_subs['minute_price'][1] * row['duration'] + df_subs['subscription_fee'][1])\n",
    "    else:\n",
    "        return 'Not such sub'"
   ]
  },
  {
   "cell_type": "code",
   "execution_count": 60,
   "id": "adb8d57c",
   "metadata": {},
   "outputs": [],
   "source": [
    "# Добавим столбец с помесячной выручкой:\n",
    "df_pivot['revenue_per_month'] = df_pivot.apply(revenue, axis=1)"
   ]
  },
  {
   "cell_type": "code",
   "execution_count": 61,
   "id": "24f7c41c",
   "metadata": {},
   "outputs": [
    {
     "data": {
      "text/html": [
       "<div>\n",
       "<style scoped>\n",
       "    .dataframe tbody tr th:only-of-type {\n",
       "        vertical-align: middle;\n",
       "    }\n",
       "\n",
       "    .dataframe tbody tr th {\n",
       "        vertical-align: top;\n",
       "    }\n",
       "\n",
       "    .dataframe thead th {\n",
       "        text-align: right;\n",
       "    }\n",
       "</style>\n",
       "<table border=\"1\" class=\"dataframe\">\n",
       "  <thead>\n",
       "    <tr style=\"text-align: right;\">\n",
       "      <th></th>\n",
       "      <th></th>\n",
       "      <th>distance</th>\n",
       "      <th>duration</th>\n",
       "      <th>trips</th>\n",
       "      <th>subscription_type</th>\n",
       "      <th>revenue_per_month</th>\n",
       "    </tr>\n",
       "    <tr>\n",
       "      <th>month</th>\n",
       "      <th>user_id</th>\n",
       "      <th></th>\n",
       "      <th></th>\n",
       "      <th></th>\n",
       "      <th></th>\n",
       "      <th></th>\n",
       "    </tr>\n",
       "  </thead>\n",
       "  <tbody>\n",
       "    <tr>\n",
       "      <th rowspan=\"5\" valign=\"top\">1</th>\n",
       "      <th>1</th>\n",
       "      <td>7027.511294</td>\n",
       "      <td>42.0</td>\n",
       "      <td>2</td>\n",
       "      <td>ultra</td>\n",
       "      <td>451.0</td>\n",
       "    </tr>\n",
       "    <tr>\n",
       "      <th>3</th>\n",
       "      <td>3061.777147</td>\n",
       "      <td>13.0</td>\n",
       "      <td>1</td>\n",
       "      <td>ultra</td>\n",
       "      <td>277.0</td>\n",
       "    </tr>\n",
       "    <tr>\n",
       "      <th>5</th>\n",
       "      <td>3914.646990</td>\n",
       "      <td>13.0</td>\n",
       "      <td>1</td>\n",
       "      <td>ultra</td>\n",
       "      <td>277.0</td>\n",
       "    </tr>\n",
       "    <tr>\n",
       "      <th>7</th>\n",
       "      <td>6478.080979</td>\n",
       "      <td>28.0</td>\n",
       "      <td>2</td>\n",
       "      <td>ultra</td>\n",
       "      <td>367.0</td>\n",
       "    </tr>\n",
       "    <tr>\n",
       "      <th>12</th>\n",
       "      <td>3577.151148</td>\n",
       "      <td>33.0</td>\n",
       "      <td>1</td>\n",
       "      <td>ultra</td>\n",
       "      <td>397.0</td>\n",
       "    </tr>\n",
       "    <tr>\n",
       "      <th>...</th>\n",
       "      <th>...</th>\n",
       "      <td>...</td>\n",
       "      <td>...</td>\n",
       "      <td>...</td>\n",
       "      <td>...</td>\n",
       "      <td>...</td>\n",
       "    </tr>\n",
       "    <tr>\n",
       "      <th rowspan=\"5\" valign=\"top\">12</th>\n",
       "      <th>1525</th>\n",
       "      <td>4597.854350</td>\n",
       "      <td>34.0</td>\n",
       "      <td>1</td>\n",
       "      <td>free</td>\n",
       "      <td>322.0</td>\n",
       "    </tr>\n",
       "    <tr>\n",
       "      <th>1526</th>\n",
       "      <td>3644.121544</td>\n",
       "      <td>23.0</td>\n",
       "      <td>1</td>\n",
       "      <td>free</td>\n",
       "      <td>234.0</td>\n",
       "    </tr>\n",
       "    <tr>\n",
       "      <th>1528</th>\n",
       "      <td>3998.569324</td>\n",
       "      <td>11.0</td>\n",
       "      <td>1</td>\n",
       "      <td>free</td>\n",
       "      <td>138.0</td>\n",
       "    </tr>\n",
       "    <tr>\n",
       "      <th>1532</th>\n",
       "      <td>6111.889853</td>\n",
       "      <td>41.0</td>\n",
       "      <td>2</td>\n",
       "      <td>free</td>\n",
       "      <td>428.0</td>\n",
       "    </tr>\n",
       "    <tr>\n",
       "      <th>1534</th>\n",
       "      <td>2371.711192</td>\n",
       "      <td>16.0</td>\n",
       "      <td>1</td>\n",
       "      <td>free</td>\n",
       "      <td>178.0</td>\n",
       "    </tr>\n",
       "  </tbody>\n",
       "</table>\n",
       "<p>11331 rows × 5 columns</p>\n",
       "</div>"
      ],
      "text/plain": [
       "                  distance  duration  trips subscription_type  \\\n",
       "month user_id                                                   \n",
       "1     1        7027.511294      42.0      2             ultra   \n",
       "      3        3061.777147      13.0      1             ultra   \n",
       "      5        3914.646990      13.0      1             ultra   \n",
       "      7        6478.080979      28.0      2             ultra   \n",
       "      12       3577.151148      33.0      1             ultra   \n",
       "...                    ...       ...    ...               ...   \n",
       "12    1525     4597.854350      34.0      1              free   \n",
       "      1526     3644.121544      23.0      1              free   \n",
       "      1528     3998.569324      11.0      1              free   \n",
       "      1532     6111.889853      41.0      2              free   \n",
       "      1534     2371.711192      16.0      1              free   \n",
       "\n",
       "               revenue_per_month  \n",
       "month user_id                     \n",
       "1     1                    451.0  \n",
       "      3                    277.0  \n",
       "      5                    277.0  \n",
       "      7                    367.0  \n",
       "      12                   397.0  \n",
       "...                          ...  \n",
       "12    1525                 322.0  \n",
       "      1526                 234.0  \n",
       "      1528                 138.0  \n",
       "      1532                 428.0  \n",
       "      1534                 178.0  \n",
       "\n",
       "[11331 rows x 5 columns]"
      ]
     },
     "execution_count": 61,
     "metadata": {},
     "output_type": "execute_result"
    }
   ],
   "source": [
    "# Проверяем:\n",
    "df_pivot"
   ]
  },
  {
   "cell_type": "code",
   "execution_count": 62,
   "id": "5fd3a9fc",
   "metadata": {},
   "outputs": [
    {
     "data": {
      "text/html": [
       "<div>\n",
       "<style scoped>\n",
       "    .dataframe tbody tr th:only-of-type {\n",
       "        vertical-align: middle;\n",
       "    }\n",
       "\n",
       "    .dataframe tbody tr th {\n",
       "        vertical-align: top;\n",
       "    }\n",
       "\n",
       "    .dataframe thead th {\n",
       "        text-align: right;\n",
       "    }\n",
       "</style>\n",
       "<table border=\"1\" class=\"dataframe\">\n",
       "  <thead>\n",
       "    <tr style=\"text-align: right;\">\n",
       "      <th></th>\n",
       "      <th></th>\n",
       "      <th>distance</th>\n",
       "      <th>duration</th>\n",
       "      <th>trips</th>\n",
       "      <th>subscription_type</th>\n",
       "      <th>revenue_per_month</th>\n",
       "    </tr>\n",
       "    <tr>\n",
       "      <th>month</th>\n",
       "      <th>user_id</th>\n",
       "      <th></th>\n",
       "      <th></th>\n",
       "      <th></th>\n",
       "      <th></th>\n",
       "      <th></th>\n",
       "    </tr>\n",
       "  </thead>\n",
       "  <tbody>\n",
       "    <tr>\n",
       "      <th>1</th>\n",
       "      <th>1000</th>\n",
       "      <td>8896.242665</td>\n",
       "      <td>58.0</td>\n",
       "      <td>2</td>\n",
       "      <td>free</td>\n",
       "      <td>564.0</td>\n",
       "    </tr>\n",
       "    <tr>\n",
       "      <th>2</th>\n",
       "      <th>1000</th>\n",
       "      <td>8563.372738</td>\n",
       "      <td>53.0</td>\n",
       "      <td>2</td>\n",
       "      <td>free</td>\n",
       "      <td>524.0</td>\n",
       "    </tr>\n",
       "    <tr>\n",
       "      <th>3</th>\n",
       "      <th>1000</th>\n",
       "      <td>8125.115681</td>\n",
       "      <td>49.0</td>\n",
       "      <td>3</td>\n",
       "      <td>free</td>\n",
       "      <td>542.0</td>\n",
       "    </tr>\n",
       "    <tr>\n",
       "      <th>4</th>\n",
       "      <th>1000</th>\n",
       "      <td>6209.113980</td>\n",
       "      <td>28.0</td>\n",
       "      <td>2</td>\n",
       "      <td>free</td>\n",
       "      <td>324.0</td>\n",
       "    </tr>\n",
       "    <tr>\n",
       "      <th>6</th>\n",
       "      <th>1000</th>\n",
       "      <td>7347.037513</td>\n",
       "      <td>49.0</td>\n",
       "      <td>2</td>\n",
       "      <td>free</td>\n",
       "      <td>492.0</td>\n",
       "    </tr>\n",
       "    <tr>\n",
       "      <th>7</th>\n",
       "      <th>1000</th>\n",
       "      <td>2093.948848</td>\n",
       "      <td>12.0</td>\n",
       "      <td>1</td>\n",
       "      <td>free</td>\n",
       "      <td>146.0</td>\n",
       "    </tr>\n",
       "    <tr>\n",
       "      <th>8</th>\n",
       "      <th>1000</th>\n",
       "      <td>652.585149</td>\n",
       "      <td>7.0</td>\n",
       "      <td>1</td>\n",
       "      <td>free</td>\n",
       "      <td>106.0</td>\n",
       "    </tr>\n",
       "    <tr>\n",
       "      <th>10</th>\n",
       "      <th>1000</th>\n",
       "      <td>4887.494194</td>\n",
       "      <td>31.0</td>\n",
       "      <td>2</td>\n",
       "      <td>free</td>\n",
       "      <td>348.0</td>\n",
       "    </tr>\n",
       "    <tr>\n",
       "      <th>11</th>\n",
       "      <th>1000</th>\n",
       "      <td>5387.122991</td>\n",
       "      <td>26.0</td>\n",
       "      <td>2</td>\n",
       "      <td>free</td>\n",
       "      <td>308.0</td>\n",
       "    </tr>\n",
       "  </tbody>\n",
       "</table>\n",
       "</div>"
      ],
      "text/plain": [
       "                  distance  duration  trips subscription_type  \\\n",
       "month user_id                                                   \n",
       "1     1000     8896.242665      58.0      2              free   \n",
       "2     1000     8563.372738      53.0      2              free   \n",
       "3     1000     8125.115681      49.0      3              free   \n",
       "4     1000     6209.113980      28.0      2              free   \n",
       "6     1000     7347.037513      49.0      2              free   \n",
       "7     1000     2093.948848      12.0      1              free   \n",
       "8     1000      652.585149       7.0      1              free   \n",
       "10    1000     4887.494194      31.0      2              free   \n",
       "11    1000     5387.122991      26.0      2              free   \n",
       "\n",
       "               revenue_per_month  \n",
       "month user_id                     \n",
       "1     1000                 564.0  \n",
       "2     1000                 524.0  \n",
       "3     1000                 542.0  \n",
       "4     1000                 324.0  \n",
       "6     1000                 492.0  \n",
       "7     1000                 146.0  \n",
       "8     1000                 106.0  \n",
       "10    1000                 348.0  \n",
       "11    1000                 308.0  "
      ]
     },
     "execution_count": 62,
     "metadata": {},
     "output_type": "execute_result"
    }
   ],
   "source": [
    "# Посмотрим на произвольно выбранного пользователя:\n",
    "df_pivot.query('user_id == 1000')"
   ]
  },
  {
   "cell_type": "markdown",
   "id": "db535d82",
   "metadata": {},
   "source": [
    "***Вывод***  \n",
    "\n",
    "Нашли суммарное расстояние, количество поездок и суммарное время для каждого пользователя за каждый месяц.  \n",
    "\n",
    "Для каждого пользователя добавили столбец с помесячной выручкой."
   ]
  },
  {
   "cell_type": "markdown",
   "id": "41545ac0",
   "metadata": {},
   "source": [
    "#### Шаг 6. Проверка гипотез"
   ]
  },
  {
   "cell_type": "markdown",
   "id": "f31aea4a",
   "metadata": {},
   "source": [
    "##### Важно понять, тратят ли пользователи с подпиской больше времени на поездки? \n",
    "\n",
    "Если да, то пользователи с подпиской могут быть «выгоднее» для компании. Проверьте гипотезу. Используйте исходные данные о продолжительности каждой сессии — отдельно для подписчиков и тех, у кого нет подписки."
   ]
  },
  {
   "cell_type": "markdown",
   "id": "8966210b",
   "metadata": {},
   "source": [
    "Гипотеза: пользователи с подпиской тратят больше времени на поездки, чем пользователи без подписки.\n",
    "    \n",
    "Сформулируем нулевую гипотезу:  \n",
    "H_0: Продолжительность поездки ('duration') пользователей с подпиской (ultra) = продолжительность поездки (duration) пользователей без подписки (free).\n",
    "\n",
    "Сформулируем альтернативную гипотезу:  \n",
    "H_1: Продолжительность поездки ('duration') пользователей с подпиской (ultra) > продолжительность поездки (duration) пользователей без подписки (free).\n",
    "\n",
    "Уровень статистичиской значимости примем:  \n",
    "alpha = 0.05"
   ]
  },
  {
   "cell_type": "code",
   "execution_count": 63,
   "id": "35407f8e",
   "metadata": {},
   "outputs": [
    {
     "name": "stdout",
     "output_type": "stream",
     "text": [
      "5.6757813771289775e-37\n",
      "Отвергаем нулевую гипотезу\n"
     ]
    }
   ],
   "source": [
    "# Продолжительность поездки без подписки:\n",
    "free_dur = sub_free['duration']\n",
    "\n",
    "# Продолжительность поездки c подпиской:\n",
    "ultra_dur = sub_ultra['duration'] \n",
    "\n",
    "# Уровень значимости:\n",
    "alpha = 0.05\n",
    "\n",
    "# Проводим ttest для двух выборок, \n",
    "# в качестве альтернативной используем одностороннюю гипотизу \"больше\":\n",
    "results = st.ttest_ind(ultra_dur, \n",
    "                       free_dur,\n",
    "                       equal_var = False, # выборки разного размера \n",
    "                       alternative = 'greater')\n",
    "\n",
    "\n",
    "\n",
    "print(results.pvalue)\n",
    "\n",
    "if results.pvalue < alpha:\n",
    "    print('Отвергаем нулевую гипотезу')\n",
    "else:\n",
    "    print('Не удалось отвергнуть нулевую гипотезу')"
   ]
  },
  {
   "cell_type": "markdown",
   "id": "3d660393",
   "metadata": {},
   "source": [
    "***Вывод***  \n",
    "\n",
    "Полученное значение p-value меньше заданного уровня значимости, поэтому можно отвергнуть нулевую гипотезу. Есть основание говорить, что пользователи с подпиской (ultra) тратят больше времени на поездки, чем пользователи без подписки."
   ]
  },
  {
   "cell_type": "markdown",
   "id": "aa51b8ca",
   "metadata": {},
   "source": [
    "##### Расстояние одной поездки в 3130 метров — оптимальное с точки зрения износа самоката. Можно ли сказать, что расстояние, которое проезжают пользователи с подпиской за одну поездку, не превышает 3130 метров? Проверьте гипотезу и сделайте выводы."
   ]
  },
  {
   "cell_type": "markdown",
   "id": "d30f74a5",
   "metadata": {},
   "source": [
    "Гипотеза: пользователи с подпиской проезжают расстояние, не превышающее 3130 метров за одну поездку.\n",
    "\n",
    "Сформулируем нулевую гипотезу:  \n",
    "H_0: Расстояние (distance) поездки пользователей с подпиской (ultra) = 3130 метрам.\n",
    "\n",
    "Сформулируем альтернативную гипотезу:  \n",
    "H_1: Расстояние (distance) поездки пользователей с подпиской (ultra) <  3130 метра.\n",
    "\n",
    "Уровень статистичиской значимости примем:  \n",
    "alpha = 0.05"
   ]
  },
  {
   "cell_type": "code",
   "execution_count": 64,
   "id": "05a5e329",
   "metadata": {},
   "outputs": [
    {
     "name": "stdout",
     "output_type": "stream",
     "text": [
      "0.08046311521502146\n",
      "Не удалось отвергнуть нулевую гипотезу\n"
     ]
    }
   ],
   "source": [
    "# Расстояние поездки c подпиской:\n",
    "ultra_dist = sub_ultra['distance']\n",
    "\n",
    "# Оптимальное расстояние:\n",
    "distance = 3130.0\n",
    "\n",
    "# Уровень значимости:\n",
    "alpha = 0.05\n",
    "\n",
    "# Проводим ttest для одной выборки, в качестве альтернативной используем одностороннюю гипотизу \"меньше\":\n",
    "results = st.ttest_1samp(\n",
    "    ultra_dist, \n",
    "    distance,\n",
    "    alternative='less')\n",
    "    \n",
    "print(results.pvalue)\n",
    "\n",
    "if (results.pvalue < alpha):\n",
    "    print('Отвергаем нулевую гипотезу')\n",
    "else:\n",
    "    print('Не удалось отвергнуть нулевую гипотезу')"
   ]
  },
  {
   "cell_type": "markdown",
   "id": "b0f788df",
   "metadata": {},
   "source": [
    "***Вывод***  \n",
    "\n",
    "Полученное значение p-value больше заданного уровня значимости, не удалось отвергнуть нулевую гипотезу. Нет оснований утверждать, что пользователи с подпиской проезжают расстояние, не превышающее 3130 метров."
   ]
  },
  {
   "cell_type": "code",
   "execution_count": 65,
   "id": "3b278850",
   "metadata": {},
   "outputs": [
    {
     "name": "stdout",
     "output_type": "stream",
     "text": [
      "0.9195368847849785\n",
      "Не удалось отвергнуть нулевую гипотезу\n"
     ]
    }
   ],
   "source": [
    "# Расстояние поездки c подпиской:\n",
    "ultra_dist = sub_ultra['distance']\n",
    "\n",
    "# Оптимальное расстояние:\n",
    "distance = 3130.0\n",
    "\n",
    "# Уровень значимости:\n",
    "alpha = 0.05\n",
    "\n",
    "# Проводим ttest для одной выборки, в качестве альтернативной используем одностороннюю гипотизу \"меньше\":\n",
    "results = st.ttest_1samp(\n",
    "    ultra_dist, \n",
    "    distance,\n",
    "    alternative='greater')\n",
    "    \n",
    "print(results.pvalue)\n",
    "\n",
    "if (results.pvalue < alpha):\n",
    "    print('Отвергаем нулевую гипотезу')\n",
    "else:\n",
    "    print('Не удалось отвергнуть нулевую гипотезу')"
   ]
  },
  {
   "cell_type": "markdown",
   "id": "0c73d0da",
   "metadata": {},
   "source": [
    "##### Проверьте гипотезу о том, будет ли помесячная выручка от пользователей с подпиской по месяцам выше, чем выручка от пользователей без подписки."
   ]
  },
  {
   "cell_type": "markdown",
   "id": "39541342",
   "metadata": {},
   "source": [
    "Гипотеза: помесячная выручка от пользователей с подпиской по месяцам выше, чем выручка от пользователей без подписки.\n",
    "\n",
    "Сформулируем нулевую гипотезу:  \n",
    "H_0: Помесячная выручка ('revenue_per_month') пользователей с подпиской (ultra) = помесячная выручка ('revenue_per_month') пользователей без подписки (free).\n",
    "\n",
    "Сформулируем альтернативную гипотезу:  \n",
    "H_1: Помесячная выручка ('revenue_per_month') пользователей с подпиской (ultra) > помесячная выручка ('revenue_per_month') пользователей без подписки (free).  \n",
    "\n",
    "Уровень статистичиской значимости примем:  \n",
    "alpha = 0.05"
   ]
  },
  {
   "cell_type": "code",
   "execution_count": 66,
   "id": "77496b37",
   "metadata": {},
   "outputs": [
    {
     "name": "stdout",
     "output_type": "stream",
     "text": [
      "2.8130926188487286e-35\n",
      "Отвергаем нулевую гипотезу\n"
     ]
    }
   ],
   "source": [
    "# Помесячная выручка поездки без подписки:\n",
    "free_per_month = df_pivot.loc[df_pivot.subscription_type == 'free', 'revenue_per_month']\n",
    "\n",
    "# Помесячная выручка поездки с подпиской:\n",
    "ultra_per_month = df_pivot.loc[df_pivot.subscription_type == 'ultra', 'revenue_per_month'] \n",
    "\n",
    "# Уровень значимости:\n",
    "alpha = 0.05\n",
    "\n",
    "\n",
    "# Проводим ttest для двух выборок, в качестве альтернативной используем одностороннюю гипотизу \"больше\":\n",
    "results = st.ttest_ind(ultra_per_month, \n",
    "                       free_per_month,\n",
    "                       alternative = 'greater')\n",
    "\n",
    "print(results.pvalue)\n",
    "\n",
    "if results.pvalue < alpha:\n",
    "    print('Отвергаем нулевую гипотезу')\n",
    "else:\n",
    "    print('Не удалось отвергнуть нулевую гипотезу')"
   ]
  },
  {
   "cell_type": "markdown",
   "id": "18685cbe",
   "metadata": {},
   "source": [
    "***Вывод***  \n",
    "\n",
    "Полученное значение p-value меньше заданного уровня значимости, поэтому можно отвергнуть нулевую гипотезу. Есть основание утверждать, что помесячная выручка от пользователей с подпиской по месяцам выше, чем выручка от пользователей без подписки."
   ]
  },
  {
   "cell_type": "markdown",
   "id": "aa859e8b",
   "metadata": {},
   "source": [
    "#####  Какой тест вам понадобился бы для проверки гипотезы о том, что количество обращений в техподдержку значимо снизилось в следствии обновления сервера, с которыми взаимодействует мобильное приложение."
   ]
  },
  {
   "cell_type": "markdown",
   "id": "7a61e6e0",
   "metadata": {},
   "source": [
    "Представьте такую ситуацию: техническая команда сервиса обновила сервера, с которыми взаимодействует мобильное приложение. Она надеется, что из-за этого количество обращений в техподдержку значимо снизилось. Некоторый файл содержит для каждого пользователя данные о количестве обращений до обновления и после него. Какой тест вам понадобился бы для проверки этой гипотезы?"
   ]
  },
  {
   "cell_type": "markdown",
   "id": "fc8d86fa",
   "metadata": {},
   "source": [
    "Гипотеза о равенстве среднего значения генеральной совокупности до и после изменения для двух зависимых (парных) выборок.  \n",
    "\n",
    "Гипотезы в таком случае будут сформулированы так: \n",
    "\n",
    "H_0: μ1 == μ2  \n",
    "H_1: μ1 != μ2  \n",
    "\n",
    "где μ1 и μ2 — средние значения до и после изменения."
   ]
  },
  {
   "cell_type": "markdown",
   "id": "2eb0f497",
   "metadata": {},
   "source": [
    "***Вывод***  \n",
    "Используемый при этой гипотезе метод: `scipy.stats.ttest_rel()`.  Для решения потребуется тест на равенство средних для зависимых выборок, до и после изменений."
   ]
  },
  {
   "cell_type": "markdown",
   "id": "61213c5e",
   "metadata": {},
   "source": [
    "#### Шаг 7 (необязательное задание) Распределения"
   ]
  },
  {
   "cell_type": "markdown",
   "id": "a6bd3192",
   "metadata": {},
   "source": [
    "##### \n",
    "Отделу маркетинга GoFast поставили задачу: нужно провести акцию с раздачей промокодов на один бесплатный месяц подписки, в рамках которой как минимум 100 существующих клиентов должны продлить эту подписку. То есть по завершении периода действия подписки пользователь может либо отказаться от неё, либо продлить, совершив соответствующий платёж. Эта акция уже проводилась ранее и по итогу выяснилось, что после бесплатного пробного периода подписку продлевают 10 % пользователей. Выясните, какое минимальное количество промокодов нужно разослать, чтобы вероятность не выполнить план была примерно 5 %. Подберите параметры распределения, описывающего эту ситуацию, постройте график распределения и сформулируйте ответ на вопрос о количестве промокодов."
   ]
  },
  {
   "cell_type": "code",
   "execution_count": 67,
   "id": "c0b03c60",
   "metadata": {},
   "outputs": [
    {
     "data": {
      "image/png": "[encoded data removed]",
      "text/plain": [
       "<Figure size 432x288 with 1 Axes>"
      ]
     },
     "metadata": {
      "needs_background": "light"
     },
     "output_type": "display_data"
    }
   ],
   "source": [
    "# задаем параметры биномиального распределения\n",
    "n = 1000\n",
    "p = 0.1\n",
    " \n",
    "# задаем диапазон значений k для построения графика\n",
    "max_value = 150\n",
    " \n",
    "binom_probs = []\n",
    "# для всех значений от 0 до 150\n",
    "for k in range(max_value + 1):\n",
    "    # рассчитываем значения вероятности для биномиального распределения\n",
    "    binom_prob = binom.pmf(k, n, p)\n",
    "    # добавляем в соответствующие списки\n",
    "    binom_probs.append(binom_prob)\n",
    "     \n",
    "# рисуем графики\n",
    "plt.plot(range(max_value + 1), binom_probs, 'bo',\n",
    "         label=f'Биномиальное распределение с n={n} и p={p}');"
   ]
  },
  {
   "cell_type": "code",
   "execution_count": 68,
   "id": "f16df17c",
   "metadata": {},
   "outputs": [
    {
     "name": "stdout",
     "output_type": "stream",
     "text": [
      "0.9512064034722397\n"
     ]
    }
   ],
   "source": [
    "# задаём параметры подбором n биномиального распределения, чтобы выполнить условие задачи\n",
    "n = 1170\n",
    "p = 0.1\n",
    "\n",
    "# зададим параметры нормального распределения равными\n",
    "# мат.ожиданию и дисперсии биномиального распределения\n",
    "mu = n * p\n",
    "sigma = sqrt(n * p * (1 - p))\n",
    "\n",
    "\n",
    "# задаём нормальное распределение с математическим ожиданием 18 \n",
    "# и стандартным отклонением ~3.29\n",
    "distr = st.norm(mu, sigma) \n",
    "\n",
    "# границы интервала\n",
    "x = 100\n",
    "\n",
    "\n",
    "# считаем вероятность получить значение от y1:\n",
    "result = 1- distr.cdf(x)\n",
    "print(result)\n"
   ]
  },
  {
   "cell_type": "markdown",
   "id": "daa9c07a",
   "metadata": {},
   "source": [
    "***Ответ:***  минимальное количество промокодов, чтобы вероятность не выполнить план была примерно 5 %. - 1170"
   ]
  },
  {
   "cell_type": "markdown",
   "id": "7ab373b5",
   "metadata": {},
   "source": [
    "##### \n",
    "Отдел маркетинга рассылает клиентам push-уведомления в мобильном приложении. Клиенты могут открыть его или не открывать. Известно, что уведомления открывают около 40 % получивших клиентов. Отдел планирует разослать 1 млн уведомлений. С помощью аппроксимации постройте примерный график распределения и оцените вероятность того, что уведомление откроют не более 399,5 тыс. пользователей."
   ]
  },
  {
   "cell_type": "code",
   "execution_count": 69,
   "id": "717042b7",
   "metadata": {},
   "outputs": [
    {
     "data": {
      "image/png": "[encoded data removed]",
      "text/plain": [
       "<Figure size 432x288 with 1 Axes>"
      ]
     },
     "metadata": {
      "needs_background": "light"
     },
     "output_type": "display_data"
    }
   ],
   "source": [
    "# задаем параметры биномиального распределения\n",
    "n = 1000\n",
    "p = 0.4\n",
    " \n",
    "# задаем диапазон значений k для построения графика\n",
    "max_value = 500\n",
    " \n",
    "binom_probs = []\n",
    "# для всех значений от 0 до 150\n",
    "for k in range(max_value + 1):\n",
    "    # рассчитываем значения вероятности для биномиального распределения\n",
    "    # и распределения Пуассона\n",
    "    binom_prob = binom.pmf(k, n, p)\n",
    "    # добавляем в соответствующие списки\n",
    "    binom_probs.append(binom_prob)\n",
    "     \n",
    "# рисуем графики\n",
    "plt.plot(range(max_value + 1), binom_probs, 'bo',\n",
    "         label=f'Биномиальное распределение с n={n} и p={p}');"
   ]
  },
  {
   "cell_type": "code",
   "execution_count": 70,
   "id": "5c01ccaa",
   "metadata": {},
   "outputs": [
    {
     "name": "stdout",
     "output_type": "stream",
     "text": [
      "0.48712642829977193\n"
     ]
    }
   ],
   "source": [
    "# задаём параметры биномиального распределения\n",
    "n = 1000\n",
    "p = 0.4\n",
    "\n",
    "# зададим параметры нормального распределения равными\n",
    "# мат.ожиданию и дисперсии биномиального распределения\n",
    "mu = n * p\n",
    "sigma = sqrt(n * p * (1 - p))\n",
    "\n",
    "distr = st.norm(mu, sigma) \n",
    "\n",
    "# граница интервала\n",
    "x = 399.500\n",
    "\n",
    "\n",
    "# считаем вероятность получить значение до x:\n",
    "result = distr.cdf(x)\n",
    "print(result)"
   ]
  },
  {
   "cell_type": "markdown",
   "id": "0daed04a",
   "metadata": {},
   "source": [
    "***Ответ:***  вероятность того, что уведомление откроют не более 399,5 тыс. пользователей. - примерно 49 %"
   ]
  },
  {
   "cell_type": "markdown",
   "id": "1e33c67a",
   "metadata": {},
   "source": [
    "#### Общий вывод"
   ]
  },
  {
   "cell_type": "markdown",
   "id": "1383a8e4",
   "metadata": {},
   "source": [
    "Предоставленны 3 наборах данных:\n",
    " - с пользователями (df_users - 5 столбцов и 1564 строк)\n",
    " - информацией о поездках (df_riders - 4 столбца и 18068 строк)\n",
    " - информацией о подписках (df_subs -  4 столбца и 2 строк)  \n",
    " \n",
    "Проведена предобработка данных (согласно приведенному ниже чек-листу):\n",
    "- привели столбец date к типу даты pandas\n",
    "- пропусков не было ни в одном из датафреймов. \n",
    "- удалили дубликаты из датафрейма с пользователями. \n",
    "- добавили столбец с номером месяца.  \n",
    "\n",
    "Провели исследовательский анализ данных:\n",
    " - Частота встречаемости городов: наибольшее кол-во пользователей в Пятигорске - 219, Наименьшее в Москве -168, по-видимому из-за того, что Пятигорск по площади в разы меньше Москвы - в этом городе удобнее пользоваться сервисом для покрытия расстояния. Кол-во пользователей представленных в выборке примерно одинаковое.\n",
    "\n",
    " - Соотношение пользователей с подпиской и без подписки: кол-во пользователей без подписки - 835 (~ 54%), пользователей с подпиской - 699 (~46%). Пользователей без подписки больше, но всего процентов на 20, а значит у компании-прокатчика есть неплохая база постоянных клиентов\n",
    "\n",
    " - Возраст пользователей: самыми младшими являются пользователи от 12 до 13 лет. Самыми старшими - от 36 до 43 лет. Основная часть пользователей возрастом от 22 до 28 лет. Медиана: 25 лет. Все что меньше 15 лет и больше 40 можно считать редкими значениями.\n",
    "\n",
    " - Расстояние, которое пользователь преодолел за одну поездку: cамая короткая дистанция - 0.86 метра, самая длинная - 7.2 км. Короткая дистанция может быть связана с технической неисправностью самоката, его разряженности или же пользователь просто \"передумал\". В основном пользователи проезжают от 2.5 км примерно до 4 км.\n",
    "\n",
    " - Продолжительность поездок: cамая короткая по времени поездка - 0.5 минуты, самая длинная - 41 минута. Так же как и в случае с пройденной дистанцией можно объяснить маленькую продолжительность поезки(тех. неисправность или же пользователь решил отказаться от поезки) В основном пользователи тратят на поездку от 13 до 22 минут.\n",
    "\n",
    "Объединили данные о пользователях, поездках и тарифах в один датафрейм.\n",
    "\n",
    "Выделили два датафрейма - sub_free и sub_ultra (датасет для пользователей без подписки и датасет для пользоваетелей с подпиской)\n",
    "\n",
    "Визуализировали информацию о расстоянии и времени для пользователей с подпиской и без:\n",
    "- для пользователей без подписки время поездки составляет от 5 до 30 минут, и проезжают от 2 до 5 км, есть пользователи, которые проехали свыше 6 км. Пик кол-ва пользователей приходится на расстояние в 2,5 км\n",
    "- для пользователей с подпиской. В основном время укладывается в промежуток от 10 до 29 минут. Пик кол-ва пользователей приходится на расстояние в 3 км.  \n",
    "\n",
    "Так же в обеих группах замечен всплеск в районе 1000 метров и продолжительностью 5-10 мин, скорее всего это \"интерес\" пользователей к новому сервису аренды. У пользователей без подписки значительно больше коротких поездок - до 1 км и в целом максимальная дальность поездки выше, чем у платных пользователей.\n",
    "\n",
    "\n",
    "Таким образом, можно сделать вывод, что пользователи без подписки проезжают большее расстояние, чем пользователи на платном тарифе. При этом и те и другие пользователи укладываются в интервал до 30 минут.\n",
    "\n",
    "Выборка пользователей без подписки почти в два раза превышает выборку пользователей с подпиской (11568 на 6500).\n",
    "\n",
    "Создали датафрейм с агрегированными данными о поездках на основе датафрейма с объединёнными данными,а так же рассчитали суммарное расстояние, количество поездок и суммарное время для каждого пользователя за каждый месяц.  \n",
    "\n",
    "В этот же датафрейм добавили столбец с помесячной выручкой, которую принёс каждый пользователь.\n",
    "\n",
    "Проверили гипотезы:\n",
    "\n",
    " - Проверили гипотезу: тратят ли пользователи с подпиской больше времени на поездки?\n",
    "     - отвергли нулевую гипотезу. Есть основание говорить, что пользователи с подпиской (ultra) тратят больше времени на поездки, чем пользователи без подписки\n",
    " - Проверили гипотезу. Можно ли сказать, что расстояние, которое проезжают пользователи с подпиской за одну поездку, не превышает 3130 метров?\n",
    "     - не удалось отвергнуть нулевую гипотезу. Нет оснований утверждать, что пользователи с подпиской проезжают расстояние, не превышающее 3130 метров.\n",
    " - Проверили гипотезу о том, будет ли помесячная выручка от пользователей с подпиской по месяцам выше, чем выручка от пользователей без подписки.\n",
    "     - отвергли нулевую гипотезу. Есть основание утверждать, что помесячная выручка от пользователей с подпиской по месяцам выше, чем выручка от пользователей без подписки\n",
    " - Какой тест вам понадобился бы для проверки гипотезы о том, что количество обращений в техподдержку значимо снизилось в следствии обновления сервера, с которыми взаимодействует мобильное приложение.\n",
    "     - Гипотеза о равенстве среднего значения генеральной совокупности до и после изменения для двух зависимых (парных) выборок. Используемый при этой гипотезе метод: `scipy.stats.ttest_rel()`"
   ]
  },
  {
   "cell_type": "markdown",
   "id": "e03f75a9",
   "metadata": {},
   "source": [
    "***Рекомендации по развитию сервиса аренды самокатов:***  \n",
    "Образ идеального пользователя - пользователь аренды самокатов с подпиской, проезжающего за одну поезку расстояние в районе 3130 метров, живущий в малых городах(по сравнению с Москвой в малых городах пользователей больше) затративающий на поездку от 15 до 20 минут.\n",
    "\n",
    "На основании того, что пользователи с подпиской тратят больше времени на одну поездку и помесячная выручка больше, чем у пользователей без подписки - мотивировать переход пользователей на подписку ultra. Проводить больше акций, к примеру, раздачи промокодов.   \n",
    "\n",
    "Для более развернутых рекомендаций нужено провести доп.анализ по стоимости одного километра для пользователей с/без подписки, а так же добавить в выборку время начала и конца поездки для анализа часа пика. Провести анализ по размещению площадок для самокатов так, чтоб пробеги были в районе 3130 метров  и укладывались в 20 минутный интервал - для уменьшения степени износа самокатов (нахождения \"золотой середины\" между доходом и расходом на обслуживание). Этот анализ даст возможность увеличить кол-во пользователй в больших (в первую очередь) и малых городах."
   ]
  },
  {
   "cell_type": "markdown",
   "id": "890b2a39",
   "metadata": {},
   "source": [
    "**Чек-лист готовности проекта**\n",
    "\n",
    "Поставьте 'x' в выполненных пунктах. Далее нажмите Shift+Enter."
   ]
  },
  {
   "cell_type": "markdown",
   "id": "bd2bd6ba",
   "metadata": {},
   "source": [
    "- [x]  Загрузите данных. Считайте CSV-файлы с данными с помощью библиотеки pandas и сохранили их в датафреймы. Пути к файлам:\n",
    "            - /datasets/users_go.csv\n",
    "            - /datasets/rides_go.csv\n",
    "            - /datasets/subscriptions_go.csv\n",
    "- [x]  Выведите первые строки каждого набора данных. Изучите общую информацию о каждом датафрейме.\n",
    "- [x]  Предобработка данных\n",
    "     - Приведите столбец date к типу даты pandas.\n",
    "     - Создайте новый столбец с номером месяца на основе столбца date.\n",
    "     - Проверьте наличие пропущенных значений и дубликатов в датафреймах.\n",
    "- [x]  Исследовательский анализ данных. Опишите и визуализируйте общую информацию о пользователях и поездках:\n",
    "    - частота встречаемости городов;\n",
    "    - соотношение пользователей с подпиской и без подписки;\n",
    "    - возраст пользователей;\n",
    "    - расстояние, которое пользователь преодолел за одну поездку;\n",
    "    - продолжительность поездок.\n",
    "- [x]  Объедините данных\n",
    "    - Объедините данные о пользователях, поездках и подписках в один датафрейм, методом merge().\n",
    "    - Создайте ещё два датафрейма из датафрейма: c данными о пользователях без подписки и с данными о пользователях с подпиской.\n",
    "    - Визуализируйте информацию о расстоянии и времени поездок для пользователей обеих категорий.\n",
    "- [x]  Подсчёт выручки.\n",
    "    - Создайте датафрейм с агрегированными данными о поездках на основе датафрейма с объединёнными данными,а так же рассчитали суммарное расстояние, количество поездок и суммарное время для каждого пользователя за каждый месяц.\n",
    "    - В этот же датафрейм добавили столбец с помесячной выручкой, которую принёс каждый пользователь. \n",
    "- [x]  Проверка гипотез\n",
    "    - Проверьте гипотезу: тратят ли пользователи с подпиской больше времени на поездки?\n",
    "    - Проверьте гипотезу. Расстояние одной поездки в 3130 метров — оптимальное с точки зрения износа самоката. Можно ли сказать, что расстояние, которое проезжают пользователи с подпиской за одну поездку, не превышает 3130 метров?\n",
    "    - Проверьте гипотезу о том, будет ли помесячная выручка от пользователей с подпиской по месяцам выше, чем выручка от пользователей без подписки.\n",
    "    - Какой тест вам понадобился бы для проверки гипотезы о том, что количество обращений в техподдержку значимо снизилось в следствии обновления сервера, с которыми взаимодействует мобильное приложение.\n",
    "- [x]  в каждом этапе есть промежуточные выводы\n",
    "- [x]  есть общий вывод"
   ]
  }
 ],
 "metadata": {
  "ExecuteTimeLog": [
   {
    "duration": 420,
    "start_time": "2023-06-30T05:31:01.342Z"
   },
   {
    "duration": 195,
    "start_time": "2023-06-30T05:31:03.097Z"
   },
   {
    "duration": 2,
    "start_time": "2023-06-30T05:31:04.515Z"
   },
   {
    "duration": 14,
    "start_time": "2023-06-30T06:35:38.115Z"
   },
   {
    "duration": 14,
    "start_time": "2023-06-30T06:36:47.318Z"
   },
   {
    "duration": 70,
    "start_time": "2023-06-30T06:37:01.093Z"
   },
   {
    "duration": 24,
    "start_time": "2023-06-30T06:37:08.797Z"
   },
   {
    "duration": 12,
    "start_time": "2023-06-30T06:37:34.441Z"
   },
   {
    "duration": 9,
    "start_time": "2023-06-30T06:37:44.760Z"
   },
   {
    "duration": 10,
    "start_time": "2023-06-30T06:38:32.736Z"
   },
   {
    "duration": 14,
    "start_time": "2023-06-30T06:40:55.930Z"
   },
   {
    "duration": 13,
    "start_time": "2023-06-30T06:40:57.216Z"
   },
   {
    "duration": 10,
    "start_time": "2023-06-30T06:40:57.934Z"
   },
   {
    "duration": 7,
    "start_time": "2023-06-30T06:40:59.059Z"
   },
   {
    "duration": 65,
    "start_time": "2023-07-03T04:03:39.788Z"
   },
   {
    "duration": 5,
    "start_time": "2023-07-03T04:03:46.884Z"
   },
   {
    "duration": 16,
    "start_time": "2023-07-03T04:03:53.493Z"
   },
   {
    "duration": 377,
    "start_time": "2023-07-03T04:04:37.136Z"
   },
   {
    "duration": 252,
    "start_time": "2023-07-03T04:04:37.515Z"
   },
   {
    "duration": 3,
    "start_time": "2023-07-03T04:04:37.769Z"
   },
   {
    "duration": 21,
    "start_time": "2023-07-03T04:04:37.773Z"
   },
   {
    "duration": 41,
    "start_time": "2023-07-03T04:04:37.796Z"
   },
   {
    "duration": 19,
    "start_time": "2023-07-03T04:04:37.838Z"
   },
   {
    "duration": 18,
    "start_time": "2023-07-03T04:04:37.858Z"
   },
   {
    "duration": 51,
    "start_time": "2023-07-03T04:04:37.878Z"
   },
   {
    "duration": 21,
    "start_time": "2023-07-03T04:04:37.934Z"
   },
   {
    "duration": 146,
    "start_time": "2023-07-03T04:13:39.289Z"
   },
   {
    "duration": 74,
    "start_time": "2023-07-03T04:14:28.462Z"
   },
   {
    "duration": 9,
    "start_time": "2023-07-03T04:14:39.626Z"
   },
   {
    "duration": 11,
    "start_time": "2023-07-03T04:15:06.129Z"
   },
   {
    "duration": 20,
    "start_time": "2023-07-03T04:24:45.422Z"
   },
   {
    "duration": 7,
    "start_time": "2023-07-03T04:26:58.838Z"
   },
   {
    "duration": 8,
    "start_time": "2023-07-03T04:27:06.581Z"
   },
   {
    "duration": 17,
    "start_time": "2023-07-03T04:28:31.137Z"
   },
   {
    "duration": 33,
    "start_time": "2023-07-03T04:29:35.388Z"
   },
   {
    "duration": 12,
    "start_time": "2023-07-03T04:29:57.655Z"
   },
   {
    "duration": 5,
    "start_time": "2023-07-03T04:31:00.359Z"
   },
   {
    "duration": 6,
    "start_time": "2023-07-03T04:31:11.653Z"
   },
   {
    "duration": 10,
    "start_time": "2023-07-03T04:32:18.662Z"
   },
   {
    "duration": 7,
    "start_time": "2023-07-03T04:35:34.258Z"
   },
   {
    "duration": 11,
    "start_time": "2023-07-03T04:36:57.102Z"
   },
   {
    "duration": 4,
    "start_time": "2023-07-03T04:38:13.979Z"
   },
   {
    "duration": 16,
    "start_time": "2023-07-03T04:39:21.530Z"
   },
   {
    "duration": 10,
    "start_time": "2023-07-03T04:39:38.334Z"
   },
   {
    "duration": 5,
    "start_time": "2023-07-03T04:41:23.165Z"
   },
   {
    "duration": 5,
    "start_time": "2023-07-03T04:42:05.183Z"
   },
   {
    "duration": 7,
    "start_time": "2023-07-03T04:50:25.245Z"
   },
   {
    "duration": 20,
    "start_time": "2023-07-03T04:50:35.923Z"
   },
   {
    "duration": 6,
    "start_time": "2023-07-03T04:54:19.843Z"
   },
   {
    "duration": 8,
    "start_time": "2023-07-03T04:55:04.089Z"
   },
   {
    "duration": 404,
    "start_time": "2023-07-03T04:58:33.934Z"
   },
   {
    "duration": 101,
    "start_time": "2023-07-03T04:58:34.340Z"
   },
   {
    "duration": 3,
    "start_time": "2023-07-03T04:58:34.450Z"
   },
   {
    "duration": 20,
    "start_time": "2023-07-03T04:58:34.455Z"
   },
   {
    "duration": 13,
    "start_time": "2023-07-03T04:58:34.477Z"
   },
   {
    "duration": 25,
    "start_time": "2023-07-03T04:58:34.492Z"
   },
   {
    "duration": 36,
    "start_time": "2023-07-03T04:58:34.519Z"
   },
   {
    "duration": 17,
    "start_time": "2023-07-03T04:58:34.556Z"
   },
   {
    "duration": 9,
    "start_time": "2023-07-03T04:58:34.575Z"
   },
   {
    "duration": 9,
    "start_time": "2023-07-03T04:58:34.585Z"
   },
   {
    "duration": 29,
    "start_time": "2023-07-03T04:58:34.596Z"
   },
   {
    "duration": 31,
    "start_time": "2023-07-03T04:58:34.626Z"
   },
   {
    "duration": 11,
    "start_time": "2023-07-03T04:58:34.659Z"
   },
   {
    "duration": 6,
    "start_time": "2023-07-03T04:58:34.672Z"
   },
   {
    "duration": 8,
    "start_time": "2023-07-03T04:58:34.680Z"
   },
   {
    "duration": 17,
    "start_time": "2023-07-03T04:58:34.689Z"
   },
   {
    "duration": 36,
    "start_time": "2023-07-03T04:58:34.724Z"
   },
   {
    "duration": 6,
    "start_time": "2023-07-03T04:58:34.761Z"
   },
   {
    "duration": 9,
    "start_time": "2023-07-03T04:58:34.769Z"
   },
   {
    "duration": 4,
    "start_time": "2023-07-03T04:58:34.780Z"
   },
   {
    "duration": 6,
    "start_time": "2023-07-03T04:58:34.786Z"
   },
   {
    "duration": 5,
    "start_time": "2023-07-03T04:58:34.793Z"
   },
   {
    "duration": 47,
    "start_time": "2023-07-03T04:58:34.809Z"
   },
   {
    "duration": 3,
    "start_time": "2023-07-03T05:46:17.216Z"
   },
   {
    "duration": 7,
    "start_time": "2023-07-03T05:46:27.762Z"
   },
   {
    "duration": 539,
    "start_time": "2023-07-03T05:48:14.812Z"
   },
   {
    "duration": 127,
    "start_time": "2023-07-03T05:48:49.087Z"
   },
   {
    "duration": 268,
    "start_time": "2023-07-03T05:51:11.297Z"
   },
   {
    "duration": 149,
    "start_time": "2023-07-03T05:51:25.684Z"
   },
   {
    "duration": 200,
    "start_time": "2023-07-03T05:54:03.088Z"
   },
   {
    "duration": 3,
    "start_time": "2023-07-03T05:55:43.123Z"
   },
   {
    "duration": 144,
    "start_time": "2023-07-03T05:55:52.940Z"
   },
   {
    "duration": 139,
    "start_time": "2023-07-03T05:56:30.818Z"
   },
   {
    "duration": 152,
    "start_time": "2023-07-03T05:56:41.427Z"
   },
   {
    "duration": 163,
    "start_time": "2023-07-03T05:58:10.024Z"
   },
   {
    "duration": 175,
    "start_time": "2023-07-03T05:58:24.748Z"
   },
   {
    "duration": 179,
    "start_time": "2023-07-03T05:58:33.765Z"
   },
   {
    "duration": 132,
    "start_time": "2023-07-03T05:58:48.451Z"
   },
   {
    "duration": 139,
    "start_time": "2023-07-03T05:59:24.648Z"
   },
   {
    "duration": 137,
    "start_time": "2023-07-03T05:59:38.329Z"
   },
   {
    "duration": 153,
    "start_time": "2023-07-03T05:59:47.284Z"
   },
   {
    "duration": 23,
    "start_time": "2023-07-03T06:00:08.795Z"
   },
   {
    "duration": 10,
    "start_time": "2023-07-03T06:00:22.970Z"
   },
   {
    "duration": 184,
    "start_time": "2023-07-03T06:00:43.447Z"
   },
   {
    "duration": 132,
    "start_time": "2023-07-03T06:10:53.335Z"
   },
   {
    "duration": 137,
    "start_time": "2023-07-03T06:12:18.122Z"
   },
   {
    "duration": 146,
    "start_time": "2023-07-03T06:13:12.029Z"
   },
   {
    "duration": 6,
    "start_time": "2023-07-03T06:20:49.548Z"
   },
   {
    "duration": 126,
    "start_time": "2023-07-03T06:23:12.381Z"
   },
   {
    "duration": 142,
    "start_time": "2023-07-03T06:23:56.891Z"
   },
   {
    "duration": 176,
    "start_time": "2023-07-03T06:24:41.444Z"
   },
   {
    "duration": 119,
    "start_time": "2023-07-03T06:26:46.855Z"
   },
   {
    "duration": 197,
    "start_time": "2023-07-03T06:27:09.362Z"
   },
   {
    "duration": 120,
    "start_time": "2023-07-03T06:27:45.741Z"
   },
   {
    "duration": 3,
    "start_time": "2023-07-03T06:31:51.192Z"
   },
   {
    "duration": 575,
    "start_time": "2023-07-03T06:32:39.980Z"
   },
   {
    "duration": 95,
    "start_time": "2023-07-03T06:32:40.556Z"
   },
   {
    "duration": 2,
    "start_time": "2023-07-03T06:32:40.652Z"
   },
   {
    "duration": 15,
    "start_time": "2023-07-03T06:32:40.656Z"
   },
   {
    "duration": 12,
    "start_time": "2023-07-03T06:32:40.673Z"
   },
   {
    "duration": 22,
    "start_time": "2023-07-03T06:32:40.687Z"
   },
   {
    "duration": 35,
    "start_time": "2023-07-03T06:32:40.715Z"
   },
   {
    "duration": 10,
    "start_time": "2023-07-03T06:32:40.751Z"
   },
   {
    "duration": 6,
    "start_time": "2023-07-03T06:32:40.763Z"
   },
   {
    "duration": 17,
    "start_time": "2023-07-03T06:32:40.771Z"
   },
   {
    "duration": 9,
    "start_time": "2023-07-03T06:32:40.789Z"
   },
   {
    "duration": 40,
    "start_time": "2023-07-03T06:32:40.805Z"
   },
   {
    "duration": 12,
    "start_time": "2023-07-03T06:32:40.846Z"
   },
   {
    "duration": 4,
    "start_time": "2023-07-03T06:32:40.862Z"
   },
   {
    "duration": 4,
    "start_time": "2023-07-03T06:32:40.867Z"
   },
   {
    "duration": 6,
    "start_time": "2023-07-03T06:32:40.872Z"
   },
   {
    "duration": 5,
    "start_time": "2023-07-03T06:32:40.879Z"
   },
   {
    "duration": 7,
    "start_time": "2023-07-03T06:32:40.886Z"
   },
   {
    "duration": 54,
    "start_time": "2023-07-03T06:32:40.894Z"
   },
   {
    "duration": 6,
    "start_time": "2023-07-03T06:32:40.949Z"
   },
   {
    "duration": 8,
    "start_time": "2023-07-03T06:32:40.956Z"
   },
   {
    "duration": 4,
    "start_time": "2023-07-03T06:32:40.966Z"
   },
   {
    "duration": 7,
    "start_time": "2023-07-03T06:32:40.971Z"
   },
   {
    "duration": 19,
    "start_time": "2023-07-03T06:32:40.979Z"
   },
   {
    "duration": 213,
    "start_time": "2023-07-03T06:32:41.012Z"
   },
   {
    "duration": 6,
    "start_time": "2023-07-03T06:32:41.238Z"
   },
   {
    "duration": 145,
    "start_time": "2023-07-03T06:32:41.246Z"
   },
   {
    "duration": 215,
    "start_time": "2023-07-03T06:36:44.214Z"
   },
   {
    "duration": 192,
    "start_time": "2023-07-03T06:37:24.285Z"
   },
   {
    "duration": 218,
    "start_time": "2023-07-03T06:37:34.447Z"
   },
   {
    "duration": 165,
    "start_time": "2023-07-03T06:37:50.058Z"
   },
   {
    "duration": 127,
    "start_time": "2023-07-03T06:38:28.239Z"
   },
   {
    "duration": 191,
    "start_time": "2023-07-03T06:51:46.046Z"
   },
   {
    "duration": 182,
    "start_time": "2023-07-03T06:51:57.560Z"
   },
   {
    "duration": 141,
    "start_time": "2023-07-03T06:52:23.727Z"
   },
   {
    "duration": 130,
    "start_time": "2023-07-03T06:52:35.841Z"
   },
   {
    "duration": 108,
    "start_time": "2023-07-03T06:53:48.139Z"
   },
   {
    "duration": 5,
    "start_time": "2023-07-03T06:53:57.282Z"
   },
   {
    "duration": 15,
    "start_time": "2023-07-03T06:55:00.718Z"
   },
   {
    "duration": 174,
    "start_time": "2023-07-03T07:00:14.057Z"
   },
   {
    "duration": 147,
    "start_time": "2023-07-03T07:05:00.734Z"
   },
   {
    "duration": 124,
    "start_time": "2023-07-03T07:05:31.618Z"
   },
   {
    "duration": 133,
    "start_time": "2023-07-03T07:09:48.954Z"
   },
   {
    "duration": 7,
    "start_time": "2023-07-03T07:12:29.740Z"
   },
   {
    "duration": 26,
    "start_time": "2023-07-03T07:14:01.818Z"
   },
   {
    "duration": 276,
    "start_time": "2023-07-03T07:19:06.437Z"
   },
   {
    "duration": 175,
    "start_time": "2023-07-03T07:22:05.622Z"
   },
   {
    "duration": 19,
    "start_time": "2023-07-03T07:23:20.236Z"
   },
   {
    "duration": 6,
    "start_time": "2023-07-03T07:24:55.185Z"
   },
   {
    "duration": 137,
    "start_time": "2023-07-03T07:26:55.742Z"
   },
   {
    "duration": 12,
    "start_time": "2023-07-03T07:27:13.338Z"
   },
   {
    "duration": 7,
    "start_time": "2023-07-03T07:27:13.866Z"
   },
   {
    "duration": 870,
    "start_time": "2023-07-03T07:27:37.245Z"
   },
   {
    "duration": 141,
    "start_time": "2023-07-03T07:27:38.126Z"
   },
   {
    "duration": 2,
    "start_time": "2023-07-03T07:27:38.270Z"
   },
   {
    "duration": 16,
    "start_time": "2023-07-03T07:27:38.273Z"
   },
   {
    "duration": 100,
    "start_time": "2023-07-03T07:27:38.293Z"
   },
   {
    "duration": 92,
    "start_time": "2023-07-03T07:27:38.395Z"
   },
   {
    "duration": 12,
    "start_time": "2023-07-03T07:27:38.489Z"
   },
   {
    "duration": 78,
    "start_time": "2023-07-03T07:27:38.502Z"
   },
   {
    "duration": 33,
    "start_time": "2023-07-03T07:27:38.582Z"
   },
   {
    "duration": 69,
    "start_time": "2023-07-03T07:27:38.617Z"
   },
   {
    "duration": 10,
    "start_time": "2023-07-03T07:27:38.688Z"
   },
   {
    "duration": 88,
    "start_time": "2023-07-03T07:27:38.699Z"
   },
   {
    "duration": 22,
    "start_time": "2023-07-03T07:27:38.789Z"
   },
   {
    "duration": 69,
    "start_time": "2023-07-03T07:27:38.814Z"
   },
   {
    "duration": 51,
    "start_time": "2023-07-03T07:27:38.884Z"
   },
   {
    "duration": 61,
    "start_time": "2023-07-03T07:27:38.937Z"
   },
   {
    "duration": 64,
    "start_time": "2023-07-03T07:27:39.002Z"
   },
   {
    "duration": 19,
    "start_time": "2023-07-03T07:27:39.067Z"
   },
   {
    "duration": 76,
    "start_time": "2023-07-03T07:27:39.087Z"
   },
   {
    "duration": 15,
    "start_time": "2023-07-03T07:27:39.164Z"
   },
   {
    "duration": 8,
    "start_time": "2023-07-03T07:27:39.181Z"
   },
   {
    "duration": 6,
    "start_time": "2023-07-03T07:27:39.190Z"
   },
   {
    "duration": 64,
    "start_time": "2023-07-03T07:27:39.197Z"
   },
   {
    "duration": 9,
    "start_time": "2023-07-03T07:27:39.269Z"
   },
   {
    "duration": 201,
    "start_time": "2023-07-03T07:27:39.280Z"
   },
   {
    "duration": 8,
    "start_time": "2023-07-03T07:27:39.482Z"
   },
   {
    "duration": 204,
    "start_time": "2023-07-03T07:27:39.492Z"
   },
   {
    "duration": 167,
    "start_time": "2023-07-03T07:27:39.699Z"
   },
   {
    "duration": 9,
    "start_time": "2023-07-03T07:27:39.871Z"
   },
   {
    "duration": 95,
    "start_time": "2023-07-03T07:27:39.884Z"
   },
   {
    "duration": 272,
    "start_time": "2023-07-03T07:27:39.981Z"
   },
   {
    "duration": 16,
    "start_time": "2023-07-03T07:27:40.261Z"
   },
   {
    "duration": 17,
    "start_time": "2023-07-03T07:27:40.278Z"
   },
   {
    "duration": 295,
    "start_time": "2023-07-03T07:27:40.297Z"
   },
   {
    "duration": 29,
    "start_time": "2023-07-03T07:27:40.594Z"
   },
   {
    "duration": 59,
    "start_time": "2023-07-03T07:27:40.624Z"
   },
   {
    "duration": 911,
    "start_time": "2023-07-03T07:52:25.044Z"
   },
   {
    "duration": 136,
    "start_time": "2023-07-03T07:52:25.957Z"
   },
   {
    "duration": 98,
    "start_time": "2023-07-03T07:52:26.098Z"
   },
   {
    "duration": 63,
    "start_time": "2023-07-03T07:52:26.198Z"
   },
   {
    "duration": 55,
    "start_time": "2023-07-03T07:52:26.269Z"
   },
   {
    "duration": 94,
    "start_time": "2023-07-03T07:52:26.335Z"
   },
   {
    "duration": 102,
    "start_time": "2023-07-03T07:52:26.441Z"
   },
   {
    "duration": 136,
    "start_time": "2023-07-03T07:52:26.547Z"
   },
   {
    "duration": 64,
    "start_time": "2023-07-03T07:52:26.685Z"
   },
   {
    "duration": 59,
    "start_time": "2023-07-03T07:52:26.751Z"
   },
   {
    "duration": 66,
    "start_time": "2023-07-03T07:52:26.815Z"
   },
   {
    "duration": 70,
    "start_time": "2023-07-03T07:52:26.887Z"
   },
   {
    "duration": 62,
    "start_time": "2023-07-03T07:52:26.961Z"
   },
   {
    "duration": 40,
    "start_time": "2023-07-03T07:52:27.029Z"
   },
   {
    "duration": 112,
    "start_time": "2023-07-03T07:52:27.081Z"
   },
   {
    "duration": 89,
    "start_time": "2023-07-03T07:52:27.194Z"
   },
   {
    "duration": 97,
    "start_time": "2023-07-03T07:52:27.284Z"
   },
   {
    "duration": 32,
    "start_time": "2023-07-03T07:52:27.389Z"
   },
   {
    "duration": 123,
    "start_time": "2023-07-03T07:52:27.426Z"
   },
   {
    "duration": 42,
    "start_time": "2023-07-03T07:52:27.554Z"
   },
   {
    "duration": 76,
    "start_time": "2023-07-03T07:52:27.608Z"
   },
   {
    "duration": 9,
    "start_time": "2023-07-03T07:52:27.686Z"
   },
   {
    "duration": 84,
    "start_time": "2023-07-03T07:52:27.697Z"
   },
   {
    "duration": 51,
    "start_time": "2023-07-03T07:52:27.786Z"
   },
   {
    "duration": 228,
    "start_time": "2023-07-03T07:52:27.845Z"
   },
   {
    "duration": 12,
    "start_time": "2023-07-03T07:52:28.077Z"
   },
   {
    "duration": 316,
    "start_time": "2023-07-03T07:52:28.093Z"
   },
   {
    "duration": 213,
    "start_time": "2023-07-03T07:52:28.410Z"
   },
   {
    "duration": 13,
    "start_time": "2023-07-03T07:52:28.624Z"
   },
   {
    "duration": 71,
    "start_time": "2023-07-03T07:52:28.638Z"
   },
   {
    "duration": 275,
    "start_time": "2023-07-03T07:52:28.710Z"
   },
   {
    "duration": 32,
    "start_time": "2023-07-03T07:52:28.989Z"
   },
   {
    "duration": 20,
    "start_time": "2023-07-03T07:52:29.033Z"
   },
   {
    "duration": 286,
    "start_time": "2023-07-03T07:52:29.054Z"
   },
   {
    "duration": 17,
    "start_time": "2023-07-03T07:52:29.344Z"
   },
   {
    "duration": 129,
    "start_time": "2023-07-03T07:52:29.365Z"
   },
   {
    "duration": 9,
    "start_time": "2023-07-03T08:19:22.578Z"
   },
   {
    "duration": 38,
    "start_time": "2023-07-03T08:19:42.697Z"
   },
   {
    "duration": 35,
    "start_time": "2023-07-03T08:20:07.639Z"
   },
   {
    "duration": 19,
    "start_time": "2023-07-03T08:22:31.149Z"
   },
   {
    "duration": 30,
    "start_time": "2023-07-03T08:22:37.133Z"
   },
   {
    "duration": 19,
    "start_time": "2023-07-03T08:24:52.030Z"
   },
   {
    "duration": 23,
    "start_time": "2023-07-03T08:25:48.359Z"
   },
   {
    "duration": 32,
    "start_time": "2023-07-03T10:04:34.231Z"
   },
   {
    "duration": 22,
    "start_time": "2023-07-03T10:04:44.572Z"
   },
   {
    "duration": 184,
    "start_time": "2023-07-03T10:20:06.797Z"
   },
   {
    "duration": 139,
    "start_time": "2023-07-03T10:20:36.430Z"
   },
   {
    "duration": 139,
    "start_time": "2023-07-03T10:20:54.928Z"
   },
   {
    "duration": 2468,
    "start_time": "2023-07-03T10:21:39.341Z"
   },
   {
    "duration": 182,
    "start_time": "2023-07-03T10:22:04.768Z"
   },
   {
    "duration": 119,
    "start_time": "2023-07-03T10:22:21.597Z"
   },
   {
    "duration": 211,
    "start_time": "2023-07-03T10:22:27.791Z"
   },
   {
    "duration": 148,
    "start_time": "2023-07-03T10:22:43.938Z"
   },
   {
    "duration": 189,
    "start_time": "2023-07-03T10:23:20.296Z"
   },
   {
    "duration": 172,
    "start_time": "2023-07-03T10:23:42.818Z"
   },
   {
    "duration": 197,
    "start_time": "2023-07-03T10:23:56.852Z"
   },
   {
    "duration": 225,
    "start_time": "2023-07-03T10:24:08.348Z"
   },
   {
    "duration": 211,
    "start_time": "2023-07-03T10:24:46.549Z"
   },
   {
    "duration": 160,
    "start_time": "2023-07-03T10:24:59.189Z"
   },
   {
    "duration": 168,
    "start_time": "2023-07-03T10:26:18.484Z"
   },
   {
    "duration": 191,
    "start_time": "2023-07-03T10:27:39.735Z"
   },
   {
    "duration": 197,
    "start_time": "2023-07-03T10:28:42.826Z"
   },
   {
    "duration": 208,
    "start_time": "2023-07-03T10:31:04.227Z"
   },
   {
    "duration": 31,
    "start_time": "2023-07-03T10:33:33.102Z"
   },
   {
    "duration": 163,
    "start_time": "2023-07-03T10:36:33.589Z"
   },
   {
    "duration": 183,
    "start_time": "2023-07-03T10:36:35.678Z"
   },
   {
    "duration": 732,
    "start_time": "2023-07-03T10:38:09.021Z"
   },
   {
    "duration": 170,
    "start_time": "2023-07-03T10:38:09.755Z"
   },
   {
    "duration": 2,
    "start_time": "2023-07-03T10:38:09.927Z"
   },
   {
    "duration": 30,
    "start_time": "2023-07-03T10:38:09.930Z"
   },
   {
    "duration": 20,
    "start_time": "2023-07-03T10:38:09.962Z"
   },
   {
    "duration": 10,
    "start_time": "2023-07-03T10:38:09.983Z"
   },
   {
    "duration": 29,
    "start_time": "2023-07-03T10:38:09.994Z"
   },
   {
    "duration": 24,
    "start_time": "2023-07-03T10:38:10.026Z"
   },
   {
    "duration": 10,
    "start_time": "2023-07-03T10:38:10.051Z"
   },
   {
    "duration": 15,
    "start_time": "2023-07-03T10:38:10.063Z"
   },
   {
    "duration": 73,
    "start_time": "2023-07-03T10:38:10.079Z"
   },
   {
    "duration": 18,
    "start_time": "2023-07-03T10:38:10.154Z"
   },
   {
    "duration": 83,
    "start_time": "2023-07-03T10:38:10.173Z"
   },
   {
    "duration": 28,
    "start_time": "2023-07-03T10:38:10.259Z"
   },
   {
    "duration": 55,
    "start_time": "2023-07-03T10:38:10.288Z"
   },
   {
    "duration": 19,
    "start_time": "2023-07-03T10:38:10.344Z"
   },
   {
    "duration": 22,
    "start_time": "2023-07-03T10:38:10.364Z"
   },
   {
    "duration": 40,
    "start_time": "2023-07-03T10:38:10.387Z"
   },
   {
    "duration": 16,
    "start_time": "2023-07-03T10:38:10.428Z"
   },
   {
    "duration": 24,
    "start_time": "2023-07-03T10:38:10.445Z"
   },
   {
    "duration": 24,
    "start_time": "2023-07-03T10:38:10.470Z"
   },
   {
    "duration": 45,
    "start_time": "2023-07-03T10:38:10.495Z"
   },
   {
    "duration": 19,
    "start_time": "2023-07-03T10:38:10.542Z"
   },
   {
    "duration": 65,
    "start_time": "2023-07-03T10:38:10.562Z"
   },
   {
    "duration": 216,
    "start_time": "2023-07-03T10:38:10.628Z"
   },
   {
    "duration": 5,
    "start_time": "2023-07-03T10:38:10.846Z"
   },
   {
    "duration": 128,
    "start_time": "2023-07-03T10:38:10.853Z"
   },
   {
    "duration": 161,
    "start_time": "2023-07-03T10:38:10.982Z"
   },
   {
    "duration": 5,
    "start_time": "2023-07-03T10:38:11.144Z"
   },
   {
    "duration": 14,
    "start_time": "2023-07-03T10:38:11.150Z"
   },
   {
    "duration": 130,
    "start_time": "2023-07-03T10:38:11.166Z"
   },
   {
    "duration": 18,
    "start_time": "2023-07-03T10:38:11.298Z"
   },
   {
    "duration": 13,
    "start_time": "2023-07-03T10:38:11.325Z"
   },
   {
    "duration": 191,
    "start_time": "2023-07-03T10:38:11.339Z"
   },
   {
    "duration": 8,
    "start_time": "2023-07-03T10:38:11.534Z"
   },
   {
    "duration": 10,
    "start_time": "2023-07-03T10:38:11.543Z"
   },
   {
    "duration": 15,
    "start_time": "2023-07-03T10:38:11.554Z"
   },
   {
    "duration": 11,
    "start_time": "2023-07-03T10:38:11.570Z"
   },
   {
    "duration": 14,
    "start_time": "2023-07-03T10:38:11.583Z"
   },
   {
    "duration": 31,
    "start_time": "2023-07-03T10:38:11.598Z"
   },
   {
    "duration": 32,
    "start_time": "2023-07-03T10:38:11.632Z"
   },
   {
    "duration": 173,
    "start_time": "2023-07-03T10:38:11.666Z"
   },
   {
    "duration": 189,
    "start_time": "2023-07-03T10:38:11.841Z"
   },
   {
    "duration": 18,
    "start_time": "2023-07-03T10:38:12.032Z"
   },
   {
    "duration": 185,
    "start_time": "2023-07-03T10:38:12.052Z"
   },
   {
    "duration": 189,
    "start_time": "2023-07-03T10:38:12.239Z"
   },
   {
    "duration": 914,
    "start_time": "2023-07-03T11:03:10.331Z"
   },
   {
    "duration": 66,
    "start_time": "2023-07-03T11:03:11.247Z"
   },
   {
    "duration": 2,
    "start_time": "2023-07-03T11:03:11.315Z"
   },
   {
    "duration": 18,
    "start_time": "2023-07-03T11:03:11.318Z"
   },
   {
    "duration": 17,
    "start_time": "2023-07-03T11:03:11.338Z"
   },
   {
    "duration": 14,
    "start_time": "2023-07-03T11:03:11.356Z"
   },
   {
    "duration": 7,
    "start_time": "2023-07-03T11:03:11.372Z"
   },
   {
    "duration": 9,
    "start_time": "2023-07-03T11:03:11.380Z"
   },
   {
    "duration": 6,
    "start_time": "2023-07-03T11:03:11.391Z"
   },
   {
    "duration": 10,
    "start_time": "2023-07-03T11:03:11.399Z"
   },
   {
    "duration": 11,
    "start_time": "2023-07-03T11:03:11.410Z"
   },
   {
    "duration": 11,
    "start_time": "2023-07-03T11:03:11.422Z"
   },
   {
    "duration": 11,
    "start_time": "2023-07-03T11:03:11.435Z"
   },
   {
    "duration": 18,
    "start_time": "2023-07-03T11:03:11.448Z"
   },
   {
    "duration": 25,
    "start_time": "2023-07-03T11:03:11.467Z"
   },
   {
    "duration": 33,
    "start_time": "2023-07-03T11:03:11.493Z"
   },
   {
    "duration": 12,
    "start_time": "2023-07-03T11:03:11.527Z"
   },
   {
    "duration": 9,
    "start_time": "2023-07-03T11:03:11.540Z"
   },
   {
    "duration": 15,
    "start_time": "2023-07-03T11:03:11.550Z"
   },
   {
    "duration": 16,
    "start_time": "2023-07-03T11:03:11.567Z"
   },
   {
    "duration": 23,
    "start_time": "2023-07-03T11:03:11.584Z"
   },
   {
    "duration": 15,
    "start_time": "2023-07-03T11:03:11.608Z"
   },
   {
    "duration": 7,
    "start_time": "2023-07-03T11:03:11.624Z"
   },
   {
    "duration": 8,
    "start_time": "2023-07-03T11:03:11.633Z"
   },
   {
    "duration": 137,
    "start_time": "2023-07-03T11:03:11.642Z"
   },
   {
    "duration": 6,
    "start_time": "2023-07-03T11:03:11.780Z"
   },
   {
    "duration": 138,
    "start_time": "2023-07-03T11:03:11.788Z"
   },
   {
    "duration": 152,
    "start_time": "2023-07-03T11:03:11.927Z"
   },
   {
    "duration": 5,
    "start_time": "2023-07-03T11:03:12.080Z"
   },
   {
    "duration": 14,
    "start_time": "2023-07-03T11:03:12.086Z"
   },
   {
    "duration": 133,
    "start_time": "2023-07-03T11:03:12.101Z"
   },
   {
    "duration": 7,
    "start_time": "2023-07-03T11:03:12.236Z"
   },
   {
    "duration": 7,
    "start_time": "2023-07-03T11:03:12.244Z"
   },
   {
    "duration": 176,
    "start_time": "2023-07-03T11:03:12.252Z"
   },
   {
    "duration": 6,
    "start_time": "2023-07-03T11:03:12.430Z"
   },
   {
    "duration": 13,
    "start_time": "2023-07-03T11:03:12.437Z"
   },
   {
    "duration": 13,
    "start_time": "2023-07-03T11:03:12.451Z"
   },
   {
    "duration": 20,
    "start_time": "2023-07-03T11:03:12.465Z"
   },
   {
    "duration": 13,
    "start_time": "2023-07-03T11:03:12.486Z"
   },
   {
    "duration": 24,
    "start_time": "2023-07-03T11:03:12.500Z"
   },
   {
    "duration": 28,
    "start_time": "2023-07-03T11:03:12.527Z"
   },
   {
    "duration": 162,
    "start_time": "2023-07-03T11:03:12.556Z"
   },
   {
    "duration": 186,
    "start_time": "2023-07-03T11:03:12.719Z"
   },
   {
    "duration": 18,
    "start_time": "2023-07-03T11:03:12.906Z"
   },
   {
    "duration": 154,
    "start_time": "2023-07-03T11:03:12.926Z"
   },
   {
    "duration": 179,
    "start_time": "2023-07-03T11:03:13.081Z"
   },
   {
    "duration": 216,
    "start_time": "2023-07-03T11:20:08.495Z"
   },
   {
    "duration": 656,
    "start_time": "2023-07-03T14:38:38.861Z"
   },
   {
    "duration": 193,
    "start_time": "2023-07-03T14:38:39.519Z"
   },
   {
    "duration": 3,
    "start_time": "2023-07-03T14:38:39.714Z"
   },
   {
    "duration": 17,
    "start_time": "2023-07-03T14:38:39.719Z"
   },
   {
    "duration": 13,
    "start_time": "2023-07-03T14:38:39.738Z"
   },
   {
    "duration": 11,
    "start_time": "2023-07-03T14:38:39.752Z"
   },
   {
    "duration": 8,
    "start_time": "2023-07-03T14:38:39.764Z"
   },
   {
    "duration": 10,
    "start_time": "2023-07-03T14:38:39.773Z"
   },
   {
    "duration": 16,
    "start_time": "2023-07-03T14:38:39.784Z"
   },
   {
    "duration": 6,
    "start_time": "2023-07-03T14:38:39.802Z"
   },
   {
    "duration": 10,
    "start_time": "2023-07-03T14:38:39.809Z"
   },
   {
    "duration": 6,
    "start_time": "2023-07-03T14:38:39.820Z"
   },
   {
    "duration": 15,
    "start_time": "2023-07-03T14:38:39.828Z"
   },
   {
    "duration": 10,
    "start_time": "2023-07-03T14:38:39.844Z"
   },
   {
    "duration": 10,
    "start_time": "2023-07-03T14:38:39.856Z"
   },
   {
    "duration": 9,
    "start_time": "2023-07-03T14:38:39.868Z"
   },
   {
    "duration": 23,
    "start_time": "2023-07-03T14:38:39.879Z"
   },
   {
    "duration": 20,
    "start_time": "2023-07-03T14:38:39.904Z"
   },
   {
    "duration": 10,
    "start_time": "2023-07-03T14:38:39.926Z"
   },
   {
    "duration": 4,
    "start_time": "2023-07-03T14:38:39.937Z"
   },
   {
    "duration": 21,
    "start_time": "2023-07-03T14:38:39.943Z"
   },
   {
    "duration": 6,
    "start_time": "2023-07-03T14:38:39.966Z"
   },
   {
    "duration": 20,
    "start_time": "2023-07-03T14:38:39.973Z"
   },
   {
    "duration": 11,
    "start_time": "2023-07-03T14:38:39.995Z"
   },
   {
    "duration": 177,
    "start_time": "2023-07-03T14:38:40.007Z"
   },
   {
    "duration": 5,
    "start_time": "2023-07-03T14:38:40.186Z"
   },
   {
    "duration": 111,
    "start_time": "2023-07-03T14:38:40.192Z"
   },
   {
    "duration": 145,
    "start_time": "2023-07-03T14:38:40.306Z"
   },
   {
    "duration": 5,
    "start_time": "2023-07-03T14:38:40.452Z"
   },
   {
    "duration": 7,
    "start_time": "2023-07-03T14:38:40.458Z"
   },
   {
    "duration": 125,
    "start_time": "2023-07-03T14:38:40.466Z"
   },
   {
    "duration": 13,
    "start_time": "2023-07-03T14:38:40.592Z"
   },
   {
    "duration": 7,
    "start_time": "2023-07-03T14:38:40.606Z"
   },
   {
    "duration": 163,
    "start_time": "2023-07-03T14:38:40.614Z"
   },
   {
    "duration": 7,
    "start_time": "2023-07-03T14:38:40.779Z"
   },
   {
    "duration": 17,
    "start_time": "2023-07-03T14:38:40.787Z"
   },
   {
    "duration": 15,
    "start_time": "2023-07-03T14:38:40.805Z"
   },
   {
    "duration": 12,
    "start_time": "2023-07-03T14:38:40.822Z"
   },
   {
    "duration": 8,
    "start_time": "2023-07-03T14:38:40.835Z"
   },
   {
    "duration": 22,
    "start_time": "2023-07-03T14:38:40.845Z"
   },
   {
    "duration": 37,
    "start_time": "2023-07-03T14:38:40.868Z"
   },
   {
    "duration": 166,
    "start_time": "2023-07-03T14:38:40.906Z"
   },
   {
    "duration": 170,
    "start_time": "2023-07-03T14:38:41.074Z"
   },
   {
    "duration": 17,
    "start_time": "2023-07-03T14:38:41.245Z"
   },
   {
    "duration": 154,
    "start_time": "2023-07-03T14:38:41.263Z"
   },
   {
    "duration": 182,
    "start_time": "2023-07-03T14:38:41.419Z"
   },
   {
    "duration": 766,
    "start_time": "2023-07-03T14:39:14.286Z"
   },
   {
    "duration": 68,
    "start_time": "2023-07-03T14:39:15.054Z"
   },
   {
    "duration": 3,
    "start_time": "2023-07-03T14:39:15.123Z"
   },
   {
    "duration": 16,
    "start_time": "2023-07-03T14:39:15.127Z"
   },
   {
    "duration": 11,
    "start_time": "2023-07-03T14:39:15.145Z"
   },
   {
    "duration": 9,
    "start_time": "2023-07-03T14:39:15.158Z"
   },
   {
    "duration": 8,
    "start_time": "2023-07-03T14:39:15.169Z"
   },
   {
    "duration": 20,
    "start_time": "2023-07-03T14:39:15.179Z"
   },
   {
    "duration": 8,
    "start_time": "2023-07-03T14:39:15.201Z"
   },
   {
    "duration": 10,
    "start_time": "2023-07-03T14:39:15.210Z"
   },
   {
    "duration": 11,
    "start_time": "2023-07-03T14:39:15.221Z"
   },
   {
    "duration": 9,
    "start_time": "2023-07-03T14:39:15.233Z"
   },
   {
    "duration": 18,
    "start_time": "2023-07-03T14:39:15.244Z"
   },
   {
    "duration": 35,
    "start_time": "2023-07-03T14:39:15.266Z"
   },
   {
    "duration": 5,
    "start_time": "2023-07-03T14:39:15.303Z"
   },
   {
    "duration": 8,
    "start_time": "2023-07-03T14:39:15.310Z"
   },
   {
    "duration": 7,
    "start_time": "2023-07-03T14:39:15.320Z"
   },
   {
    "duration": 12,
    "start_time": "2023-07-03T14:39:15.328Z"
   },
   {
    "duration": 12,
    "start_time": "2023-07-03T14:39:15.341Z"
   },
   {
    "duration": 6,
    "start_time": "2023-07-03T14:39:15.354Z"
   },
   {
    "duration": 13,
    "start_time": "2023-07-03T14:39:15.362Z"
   },
   {
    "duration": 26,
    "start_time": "2023-07-03T14:39:15.377Z"
   },
   {
    "duration": 20,
    "start_time": "2023-07-03T14:39:15.405Z"
   },
   {
    "duration": 8,
    "start_time": "2023-07-03T14:39:15.426Z"
   },
   {
    "duration": 156,
    "start_time": "2023-07-03T14:39:15.435Z"
   },
   {
    "duration": 11,
    "start_time": "2023-07-03T14:39:15.592Z"
   },
   {
    "duration": 130,
    "start_time": "2023-07-03T14:39:15.604Z"
   },
   {
    "duration": 160,
    "start_time": "2023-07-03T14:39:15.735Z"
   },
   {
    "duration": 8,
    "start_time": "2023-07-03T14:39:15.896Z"
   },
   {
    "duration": 10,
    "start_time": "2023-07-03T14:39:15.906Z"
   },
   {
    "duration": 131,
    "start_time": "2023-07-03T14:39:15.917Z"
   },
   {
    "duration": 7,
    "start_time": "2023-07-03T14:39:16.050Z"
   },
   {
    "duration": 31,
    "start_time": "2023-07-03T14:39:16.058Z"
   },
   {
    "duration": 248,
    "start_time": "2023-07-03T14:39:16.091Z"
   },
   {
    "duration": 7,
    "start_time": "2023-07-03T14:39:16.341Z"
   },
   {
    "duration": 17,
    "start_time": "2023-07-03T14:39:16.350Z"
   },
   {
    "duration": 10,
    "start_time": "2023-07-03T14:39:16.370Z"
   },
   {
    "duration": 43,
    "start_time": "2023-07-03T14:39:16.382Z"
   },
   {
    "duration": 11,
    "start_time": "2023-07-03T14:39:16.426Z"
   },
   {
    "duration": 37,
    "start_time": "2023-07-03T14:39:16.439Z"
   },
   {
    "duration": 18,
    "start_time": "2023-07-03T14:39:16.480Z"
   },
   {
    "duration": 158,
    "start_time": "2023-07-03T14:39:16.499Z"
   },
   {
    "duration": 180,
    "start_time": "2023-07-03T14:39:16.658Z"
   },
   {
    "duration": 17,
    "start_time": "2023-07-03T14:39:16.839Z"
   },
   {
    "duration": 155,
    "start_time": "2023-07-03T14:39:16.857Z"
   },
   {
    "duration": 177,
    "start_time": "2023-07-03T14:39:17.014Z"
   },
   {
    "duration": 95,
    "start_time": "2023-07-03T15:25:30.419Z"
   },
   {
    "duration": 372,
    "start_time": "2023-07-03T15:30:24.478Z"
   },
   {
    "duration": 3,
    "start_time": "2023-07-03T15:30:55.087Z"
   },
   {
    "duration": 3,
    "start_time": "2023-07-03T15:30:57.981Z"
   },
   {
    "duration": 7,
    "start_time": "2023-07-03T15:31:39.684Z"
   },
   {
    "duration": 553,
    "start_time": "2023-07-03T15:34:38.055Z"
   },
   {
    "duration": 64,
    "start_time": "2023-07-03T15:34:38.609Z"
   },
   {
    "duration": 2,
    "start_time": "2023-07-03T15:34:38.675Z"
   },
   {
    "duration": 20,
    "start_time": "2023-07-03T15:34:38.679Z"
   },
   {
    "duration": 13,
    "start_time": "2023-07-03T15:34:38.700Z"
   },
   {
    "duration": 11,
    "start_time": "2023-07-03T15:34:38.714Z"
   },
   {
    "duration": 20,
    "start_time": "2023-07-03T15:34:38.726Z"
   },
   {
    "duration": 17,
    "start_time": "2023-07-03T15:34:38.748Z"
   },
   {
    "duration": 8,
    "start_time": "2023-07-03T15:34:38.766Z"
   },
   {
    "duration": 19,
    "start_time": "2023-07-03T15:34:38.777Z"
   },
   {
    "duration": 9,
    "start_time": "2023-07-03T15:34:38.798Z"
   },
   {
    "duration": 6,
    "start_time": "2023-07-03T15:34:38.809Z"
   },
   {
    "duration": 17,
    "start_time": "2023-07-03T15:34:38.816Z"
   },
   {
    "duration": 28,
    "start_time": "2023-07-03T15:34:38.835Z"
   },
   {
    "duration": 6,
    "start_time": "2023-07-03T15:34:38.864Z"
   },
   {
    "duration": 18,
    "start_time": "2023-07-03T15:34:38.871Z"
   },
   {
    "duration": 7,
    "start_time": "2023-07-03T15:34:38.890Z"
   },
   {
    "duration": 11,
    "start_time": "2023-07-03T15:34:38.898Z"
   },
   {
    "duration": 9,
    "start_time": "2023-07-03T15:34:38.910Z"
   },
   {
    "duration": 5,
    "start_time": "2023-07-03T15:34:38.920Z"
   },
   {
    "duration": 8,
    "start_time": "2023-07-03T15:34:38.926Z"
   },
   {
    "duration": 9,
    "start_time": "2023-07-03T15:34:38.935Z"
   },
   {
    "duration": 15,
    "start_time": "2023-07-03T15:34:38.945Z"
   },
   {
    "duration": 6,
    "start_time": "2023-07-03T15:34:38.962Z"
   },
   {
    "duration": 147,
    "start_time": "2023-07-03T15:34:38.969Z"
   },
   {
    "duration": 5,
    "start_time": "2023-07-03T15:34:39.117Z"
   },
   {
    "duration": 114,
    "start_time": "2023-07-03T15:34:39.124Z"
   },
   {
    "duration": 146,
    "start_time": "2023-07-03T15:34:39.242Z"
   },
   {
    "duration": 13,
    "start_time": "2023-07-03T15:34:39.390Z"
   },
   {
    "duration": 22,
    "start_time": "2023-07-03T15:34:39.404Z"
   },
   {
    "duration": 132,
    "start_time": "2023-07-03T15:34:39.428Z"
   },
   {
    "duration": 6,
    "start_time": "2023-07-03T15:34:39.561Z"
   },
   {
    "duration": 9,
    "start_time": "2023-07-03T15:34:39.569Z"
   },
   {
    "duration": 161,
    "start_time": "2023-07-03T15:34:39.579Z"
   },
   {
    "duration": 6,
    "start_time": "2023-07-03T15:34:39.741Z"
   },
   {
    "duration": 10,
    "start_time": "2023-07-03T15:34:39.749Z"
   },
   {
    "duration": 14,
    "start_time": "2023-07-03T15:34:39.760Z"
   },
   {
    "duration": 19,
    "start_time": "2023-07-03T15:34:39.775Z"
   },
   {
    "duration": 11,
    "start_time": "2023-07-03T15:34:39.795Z"
   },
   {
    "duration": 29,
    "start_time": "2023-07-03T15:34:39.807Z"
   },
   {
    "duration": 28,
    "start_time": "2023-07-03T15:34:39.838Z"
   },
   {
    "duration": 160,
    "start_time": "2023-07-03T15:34:39.868Z"
   },
   {
    "duration": 179,
    "start_time": "2023-07-03T15:34:40.029Z"
   },
   {
    "duration": 18,
    "start_time": "2023-07-03T15:34:40.210Z"
   },
   {
    "duration": 153,
    "start_time": "2023-07-03T15:34:40.229Z"
   },
   {
    "duration": 172,
    "start_time": "2023-07-03T15:34:40.383Z"
   },
   {
    "duration": 90,
    "start_time": "2023-07-03T15:34:40.557Z"
   },
   {
    "duration": 2,
    "start_time": "2023-07-03T15:34:40.648Z"
   },
   {
    "duration": 17,
    "start_time": "2023-07-03T15:34:40.652Z"
   },
   {
    "duration": 26,
    "start_time": "2023-07-03T15:34:40.670Z"
   },
   {
    "duration": 15,
    "start_time": "2023-07-03T15:42:35.959Z"
   },
   {
    "duration": 2,
    "start_time": "2023-07-03T15:43:05.315Z"
   },
   {
    "duration": 4,
    "start_time": "2023-07-03T15:43:05.794Z"
   },
   {
    "duration": 14,
    "start_time": "2023-07-03T15:43:06.667Z"
   },
   {
    "duration": 86,
    "start_time": "2023-07-03T15:43:11.031Z"
   },
   {
    "duration": 2,
    "start_time": "2023-07-03T15:43:11.539Z"
   },
   {
    "duration": 3,
    "start_time": "2023-07-03T15:43:11.885Z"
   },
   {
    "duration": 16,
    "start_time": "2023-07-03T15:43:12.291Z"
   },
   {
    "duration": 13,
    "start_time": "2023-07-03T15:43:16.266Z"
   },
   {
    "duration": 682,
    "start_time": "2023-07-03T15:44:40.581Z"
   },
   {
    "duration": 63,
    "start_time": "2023-07-03T15:44:41.265Z"
   },
   {
    "duration": 2,
    "start_time": "2023-07-03T15:44:41.330Z"
   },
   {
    "duration": 14,
    "start_time": "2023-07-03T15:44:41.334Z"
   },
   {
    "duration": 10,
    "start_time": "2023-07-03T15:44:41.350Z"
   },
   {
    "duration": 8,
    "start_time": "2023-07-03T15:44:41.362Z"
   },
   {
    "duration": 7,
    "start_time": "2023-07-03T15:44:41.372Z"
   },
   {
    "duration": 9,
    "start_time": "2023-07-03T15:44:41.381Z"
   },
   {
    "duration": 6,
    "start_time": "2023-07-03T15:44:41.399Z"
   },
   {
    "duration": 8,
    "start_time": "2023-07-03T15:44:41.407Z"
   },
   {
    "duration": 9,
    "start_time": "2023-07-03T15:44:41.416Z"
   },
   {
    "duration": 5,
    "start_time": "2023-07-03T15:44:41.426Z"
   },
   {
    "duration": 12,
    "start_time": "2023-07-03T15:44:41.432Z"
   },
   {
    "duration": 7,
    "start_time": "2023-07-03T15:44:41.446Z"
   },
   {
    "duration": 9,
    "start_time": "2023-07-03T15:44:41.454Z"
   },
   {
    "duration": 36,
    "start_time": "2023-07-03T15:44:41.464Z"
   },
   {
    "duration": 5,
    "start_time": "2023-07-03T15:44:41.502Z"
   },
   {
    "duration": 8,
    "start_time": "2023-07-03T15:44:41.509Z"
   },
   {
    "duration": 8,
    "start_time": "2023-07-03T15:44:41.518Z"
   },
   {
    "duration": 7,
    "start_time": "2023-07-03T15:44:41.527Z"
   },
   {
    "duration": 15,
    "start_time": "2023-07-03T15:44:41.536Z"
   },
   {
    "duration": 14,
    "start_time": "2023-07-03T15:44:41.553Z"
   },
   {
    "duration": 24,
    "start_time": "2023-07-03T15:44:41.569Z"
   },
   {
    "duration": 5,
    "start_time": "2023-07-03T15:44:41.599Z"
   },
   {
    "duration": 144,
    "start_time": "2023-07-03T15:44:41.606Z"
   },
   {
    "duration": 5,
    "start_time": "2023-07-03T15:44:41.752Z"
   },
   {
    "duration": 115,
    "start_time": "2023-07-03T15:44:41.759Z"
   },
   {
    "duration": 149,
    "start_time": "2023-07-03T15:44:41.878Z"
   },
   {
    "duration": 6,
    "start_time": "2023-07-03T15:44:42.028Z"
   },
   {
    "duration": 6,
    "start_time": "2023-07-03T15:44:42.036Z"
   },
   {
    "duration": 147,
    "start_time": "2023-07-03T15:44:42.044Z"
   },
   {
    "duration": 9,
    "start_time": "2023-07-03T15:44:42.192Z"
   },
   {
    "duration": 8,
    "start_time": "2023-07-03T15:44:42.203Z"
   },
   {
    "duration": 166,
    "start_time": "2023-07-03T15:44:42.212Z"
   },
   {
    "duration": 7,
    "start_time": "2023-07-03T15:44:42.379Z"
   },
   {
    "duration": 16,
    "start_time": "2023-07-03T15:44:42.388Z"
   },
   {
    "duration": 14,
    "start_time": "2023-07-03T15:44:42.405Z"
   },
   {
    "duration": 11,
    "start_time": "2023-07-03T15:44:42.420Z"
   },
   {
    "duration": 9,
    "start_time": "2023-07-03T15:44:42.432Z"
   },
   {
    "duration": 17,
    "start_time": "2023-07-03T15:44:42.442Z"
   },
   {
    "duration": 19,
    "start_time": "2023-07-03T15:44:42.460Z"
   },
   {
    "duration": 188,
    "start_time": "2023-07-03T15:44:42.500Z"
   },
   {
    "duration": 213,
    "start_time": "2023-07-03T15:44:42.690Z"
   },
   {
    "duration": 17,
    "start_time": "2023-07-03T15:44:42.904Z"
   },
   {
    "duration": 160,
    "start_time": "2023-07-03T15:44:42.922Z"
   },
   {
    "duration": 163,
    "start_time": "2023-07-03T15:44:43.083Z"
   },
   {
    "duration": 89,
    "start_time": "2023-07-03T15:44:43.248Z"
   },
   {
    "duration": 3,
    "start_time": "2023-07-03T15:44:43.338Z"
   },
   {
    "duration": 12,
    "start_time": "2023-07-03T15:44:43.343Z"
   },
   {
    "duration": 25,
    "start_time": "2023-07-03T15:44:43.356Z"
   },
   {
    "duration": 22,
    "start_time": "2023-07-03T15:44:43.383Z"
   },
   {
    "duration": 3,
    "start_time": "2023-07-03T15:44:59.307Z"
   },
   {
    "duration": 4,
    "start_time": "2023-07-03T15:44:59.742Z"
   },
   {
    "duration": 14,
    "start_time": "2023-07-03T15:45:00.253Z"
   },
   {
    "duration": 12,
    "start_time": "2023-07-03T15:45:00.807Z"
   },
   {
    "duration": 4,
    "start_time": "2023-07-03T16:16:21.020Z"
   },
   {
    "duration": 1420,
    "start_time": "2023-07-03T16:16:57.442Z"
   },
   {
    "duration": 607,
    "start_time": "2023-07-03T16:25:48.693Z"
   },
   {
    "duration": 169,
    "start_time": "2023-07-03T16:25:49.302Z"
   },
   {
    "duration": 2,
    "start_time": "2023-07-03T16:25:49.472Z"
   },
   {
    "duration": 27,
    "start_time": "2023-07-03T16:25:49.475Z"
   },
   {
    "duration": 10,
    "start_time": "2023-07-03T16:25:49.505Z"
   },
   {
    "duration": 13,
    "start_time": "2023-07-03T16:25:49.516Z"
   },
   {
    "duration": 8,
    "start_time": "2023-07-03T16:25:49.531Z"
   },
   {
    "duration": 13,
    "start_time": "2023-07-03T16:25:49.540Z"
   },
   {
    "duration": 9,
    "start_time": "2023-07-03T16:25:49.554Z"
   },
   {
    "duration": 10,
    "start_time": "2023-07-03T16:25:49.564Z"
   },
   {
    "duration": 26,
    "start_time": "2023-07-03T16:25:49.576Z"
   },
   {
    "duration": 5,
    "start_time": "2023-07-03T16:25:49.603Z"
   },
   {
    "duration": 23,
    "start_time": "2023-07-03T16:25:49.609Z"
   },
   {
    "duration": 21,
    "start_time": "2023-07-03T16:25:49.634Z"
   },
   {
    "duration": 6,
    "start_time": "2023-07-03T16:25:49.657Z"
   },
   {
    "duration": 6,
    "start_time": "2023-07-03T16:25:49.664Z"
   },
   {
    "duration": 5,
    "start_time": "2023-07-03T16:25:49.672Z"
   },
   {
    "duration": 7,
    "start_time": "2023-07-03T16:25:49.678Z"
   },
   {
    "duration": 14,
    "start_time": "2023-07-03T16:25:49.686Z"
   },
   {
    "duration": 4,
    "start_time": "2023-07-03T16:25:49.702Z"
   },
   {
    "duration": 6,
    "start_time": "2023-07-03T16:25:49.707Z"
   },
   {
    "duration": 4,
    "start_time": "2023-07-03T16:25:49.714Z"
   },
   {
    "duration": 8,
    "start_time": "2023-07-03T16:25:49.719Z"
   },
   {
    "duration": 6,
    "start_time": "2023-07-03T16:25:49.728Z"
   },
   {
    "duration": 172,
    "start_time": "2023-07-03T16:25:49.735Z"
   },
   {
    "duration": 6,
    "start_time": "2023-07-03T16:25:49.908Z"
   },
   {
    "duration": 113,
    "start_time": "2023-07-03T16:25:49.915Z"
   },
   {
    "duration": 151,
    "start_time": "2023-07-03T16:25:50.029Z"
   },
   {
    "duration": 5,
    "start_time": "2023-07-03T16:25:50.181Z"
   },
   {
    "duration": 13,
    "start_time": "2023-07-03T16:25:50.187Z"
   },
   {
    "duration": 125,
    "start_time": "2023-07-03T16:25:50.201Z"
   },
   {
    "duration": 7,
    "start_time": "2023-07-03T16:25:50.327Z"
   },
   {
    "duration": 9,
    "start_time": "2023-07-03T16:25:50.335Z"
   },
   {
    "duration": 172,
    "start_time": "2023-07-03T16:25:50.345Z"
   },
   {
    "duration": 7,
    "start_time": "2023-07-03T16:25:50.519Z"
   },
   {
    "duration": 18,
    "start_time": "2023-07-03T16:25:50.528Z"
   },
   {
    "duration": 12,
    "start_time": "2023-07-03T16:25:50.548Z"
   },
   {
    "duration": 15,
    "start_time": "2023-07-03T16:25:50.562Z"
   },
   {
    "duration": 21,
    "start_time": "2023-07-03T16:25:50.578Z"
   },
   {
    "duration": 17,
    "start_time": "2023-07-03T16:25:50.601Z"
   },
   {
    "duration": 20,
    "start_time": "2023-07-03T16:25:50.622Z"
   },
   {
    "duration": 182,
    "start_time": "2023-07-03T16:25:50.644Z"
   },
   {
    "duration": 176,
    "start_time": "2023-07-03T16:25:50.828Z"
   },
   {
    "duration": 24,
    "start_time": "2023-07-03T16:25:51.006Z"
   },
   {
    "duration": 162,
    "start_time": "2023-07-03T16:25:51.031Z"
   },
   {
    "duration": 166,
    "start_time": "2023-07-03T16:25:51.194Z"
   },
   {
    "duration": 89,
    "start_time": "2023-07-03T16:25:51.361Z"
   },
   {
    "duration": 3,
    "start_time": "2023-07-03T16:25:51.451Z"
   },
   {
    "duration": 8,
    "start_time": "2023-07-03T16:25:51.455Z"
   },
   {
    "duration": 26,
    "start_time": "2023-07-03T16:25:51.464Z"
   },
   {
    "duration": 34,
    "start_time": "2023-07-03T16:25:51.492Z"
   },
   {
    "duration": 4,
    "start_time": "2023-07-03T16:25:51.527Z"
   },
   {
    "duration": 1350,
    "start_time": "2023-07-03T16:25:51.532Z"
   },
   {
    "duration": 96,
    "start_time": "2023-07-03T16:46:00.399Z"
   },
   {
    "duration": 3,
    "start_time": "2023-07-03T16:46:00.895Z"
   },
   {
    "duration": 3,
    "start_time": "2023-07-03T16:46:01.270Z"
   },
   {
    "duration": 14,
    "start_time": "2023-07-03T16:46:01.674Z"
   },
   {
    "duration": 13,
    "start_time": "2023-07-03T16:46:02.425Z"
   },
   {
    "duration": 14,
    "start_time": "2023-07-03T16:46:08.499Z"
   },
   {
    "duration": 2080,
    "start_time": "2023-07-03T16:46:09.311Z"
   },
   {
    "duration": 332,
    "start_time": "2023-07-03T16:46:51.085Z"
   },
   {
    "duration": 3,
    "start_time": "2023-07-03T16:46:51.566Z"
   },
   {
    "duration": 384,
    "start_time": "2023-07-03T16:47:02.120Z"
   },
   {
    "duration": 876,
    "start_time": "2023-07-03T16:47:49.981Z"
   },
   {
    "duration": 3,
    "start_time": "2023-07-03T16:47:51.180Z"
   },
   {
    "duration": 3,
    "start_time": "2023-07-03T16:47:53.537Z"
   },
   {
    "duration": 14,
    "start_time": "2023-07-03T16:47:54.255Z"
   },
   {
    "duration": 17,
    "start_time": "2023-07-03T16:47:56.792Z"
   },
   {
    "duration": 3,
    "start_time": "2023-07-03T16:47:57.659Z"
   },
   {
    "duration": 1352,
    "start_time": "2023-07-03T16:47:58.486Z"
   },
   {
    "duration": 3,
    "start_time": "2023-07-03T16:48:48.765Z"
   },
   {
    "duration": 340,
    "start_time": "2023-07-03T16:48:49.620Z"
   },
   {
    "duration": 360,
    "start_time": "2023-07-03T16:52:41.863Z"
   },
   {
    "duration": 16,
    "start_time": "2023-07-03T16:53:01.174Z"
   },
   {
    "duration": 16,
    "start_time": "2023-07-03T16:53:34.756Z"
   },
   {
    "duration": 12,
    "start_time": "2023-07-03T16:53:47.942Z"
   },
   {
    "duration": 631,
    "start_time": "2023-07-03T16:56:55.218Z"
   },
   {
    "duration": 84,
    "start_time": "2023-07-03T16:56:55.850Z"
   },
   {
    "duration": 3,
    "start_time": "2023-07-03T16:56:55.935Z"
   },
   {
    "duration": 24,
    "start_time": "2023-07-03T16:56:55.940Z"
   },
   {
    "duration": 15,
    "start_time": "2023-07-03T16:56:55.966Z"
   },
   {
    "duration": 11,
    "start_time": "2023-07-03T16:56:55.983Z"
   },
   {
    "duration": 50,
    "start_time": "2023-07-03T16:56:55.996Z"
   },
   {
    "duration": 27,
    "start_time": "2023-07-03T16:56:56.049Z"
   },
   {
    "duration": 13,
    "start_time": "2023-07-03T16:56:56.077Z"
   },
   {
    "duration": 40,
    "start_time": "2023-07-03T16:56:56.092Z"
   },
   {
    "duration": 19,
    "start_time": "2023-07-03T16:56:56.134Z"
   },
   {
    "duration": 10,
    "start_time": "2023-07-03T16:56:56.155Z"
   },
   {
    "duration": 17,
    "start_time": "2023-07-03T16:56:56.166Z"
   },
   {
    "duration": 36,
    "start_time": "2023-07-03T16:56:56.189Z"
   },
   {
    "duration": 13,
    "start_time": "2023-07-03T16:56:56.227Z"
   },
   {
    "duration": 9,
    "start_time": "2023-07-03T16:56:56.242Z"
   },
   {
    "duration": 10,
    "start_time": "2023-07-03T16:56:56.253Z"
   },
   {
    "duration": 15,
    "start_time": "2023-07-03T16:56:56.265Z"
   },
   {
    "duration": 32,
    "start_time": "2023-07-03T16:56:56.281Z"
   },
   {
    "duration": 18,
    "start_time": "2023-07-03T16:56:56.314Z"
   },
   {
    "duration": 17,
    "start_time": "2023-07-03T16:56:56.334Z"
   },
   {
    "duration": 9,
    "start_time": "2023-07-03T16:56:56.353Z"
   },
   {
    "duration": 14,
    "start_time": "2023-07-03T16:56:56.363Z"
   },
   {
    "duration": 15,
    "start_time": "2023-07-03T16:56:56.379Z"
   },
   {
    "duration": 167,
    "start_time": "2023-07-03T16:56:56.395Z"
   },
   {
    "duration": 7,
    "start_time": "2023-07-03T16:56:56.563Z"
   },
   {
    "duration": 124,
    "start_time": "2023-07-03T16:56:56.571Z"
   },
   {
    "duration": 165,
    "start_time": "2023-07-03T16:56:56.696Z"
   },
   {
    "duration": 7,
    "start_time": "2023-07-03T16:56:56.863Z"
   },
   {
    "duration": 11,
    "start_time": "2023-07-03T16:56:56.871Z"
   },
   {
    "duration": 145,
    "start_time": "2023-07-03T16:56:56.883Z"
   },
   {
    "duration": 7,
    "start_time": "2023-07-03T16:56:57.030Z"
   },
   {
    "duration": 23,
    "start_time": "2023-07-03T16:56:57.038Z"
   },
   {
    "duration": 170,
    "start_time": "2023-07-03T16:56:57.063Z"
   },
   {
    "duration": 7,
    "start_time": "2023-07-03T16:56:57.234Z"
   },
   {
    "duration": 6,
    "start_time": "2023-07-03T16:56:57.242Z"
   },
   {
    "duration": 12,
    "start_time": "2023-07-03T16:56:57.250Z"
   },
   {
    "duration": 12,
    "start_time": "2023-07-03T16:56:57.263Z"
   },
   {
    "duration": 11,
    "start_time": "2023-07-03T16:56:57.306Z"
   },
   {
    "duration": 25,
    "start_time": "2023-07-03T16:56:57.318Z"
   },
   {
    "duration": 21,
    "start_time": "2023-07-03T16:56:57.347Z"
   },
   {
    "duration": 192,
    "start_time": "2023-07-03T16:56:57.370Z"
   },
   {
    "duration": 191,
    "start_time": "2023-07-03T16:56:57.563Z"
   },
   {
    "duration": 18,
    "start_time": "2023-07-03T16:56:57.755Z"
   },
   {
    "duration": 160,
    "start_time": "2023-07-03T16:56:57.775Z"
   },
   {
    "duration": 185,
    "start_time": "2023-07-03T16:56:57.937Z"
   },
   {
    "duration": 929,
    "start_time": "2023-07-03T16:56:58.124Z"
   },
   {
    "duration": 5,
    "start_time": "2023-07-03T16:56:59.055Z"
   },
   {
    "duration": 10,
    "start_time": "2023-07-03T16:56:59.062Z"
   },
   {
    "duration": 17,
    "start_time": "2023-07-03T16:56:59.073Z"
   },
   {
    "duration": 29,
    "start_time": "2023-07-03T16:56:59.091Z"
   },
   {
    "duration": 6,
    "start_time": "2023-07-03T16:56:59.122Z"
   },
   {
    "duration": 431,
    "start_time": "2023-07-03T16:56:59.133Z"
   },
   {
    "duration": 18,
    "start_time": "2023-07-03T16:56:59.566Z"
   },
   {
    "duration": 36,
    "start_time": "2023-07-03T16:56:59.585Z"
   },
   {
    "duration": 13,
    "start_time": "2023-07-03T16:58:40.982Z"
   },
   {
    "duration": 7,
    "start_time": "2023-07-03T16:58:42.259Z"
   },
   {
    "duration": 357,
    "start_time": "2023-07-03T16:58:42.948Z"
   },
   {
    "duration": 16,
    "start_time": "2023-07-03T16:58:43.405Z"
   },
   {
    "duration": 12,
    "start_time": "2023-07-03T16:58:44.076Z"
   },
   {
    "duration": 655,
    "start_time": "2023-07-03T17:12:24.258Z"
   },
   {
    "duration": 68,
    "start_time": "2023-07-03T17:12:24.915Z"
   },
   {
    "duration": 3,
    "start_time": "2023-07-03T17:12:24.986Z"
   },
   {
    "duration": 55,
    "start_time": "2023-07-03T17:12:24.990Z"
   },
   {
    "duration": 16,
    "start_time": "2023-07-03T17:12:25.048Z"
   },
   {
    "duration": 47,
    "start_time": "2023-07-03T17:12:25.065Z"
   },
   {
    "duration": 27,
    "start_time": "2023-07-03T17:12:25.118Z"
   },
   {
    "duration": 30,
    "start_time": "2023-07-03T17:12:25.146Z"
   },
   {
    "duration": 47,
    "start_time": "2023-07-03T17:12:25.177Z"
   },
   {
    "duration": 23,
    "start_time": "2023-07-03T17:12:25.226Z"
   },
   {
    "duration": 12,
    "start_time": "2023-07-03T17:12:25.250Z"
   },
   {
    "duration": 12,
    "start_time": "2023-07-03T17:12:25.264Z"
   },
   {
    "duration": 16,
    "start_time": "2023-07-03T17:12:25.277Z"
   },
   {
    "duration": 54,
    "start_time": "2023-07-03T17:12:25.295Z"
   },
   {
    "duration": 17,
    "start_time": "2023-07-03T17:12:25.350Z"
   },
   {
    "duration": 17,
    "start_time": "2023-07-03T17:12:25.369Z"
   },
   {
    "duration": 11,
    "start_time": "2023-07-03T17:12:25.388Z"
   },
   {
    "duration": 80,
    "start_time": "2023-07-03T17:12:25.401Z"
   },
   {
    "duration": 26,
    "start_time": "2023-07-03T17:12:25.482Z"
   },
   {
    "duration": 33,
    "start_time": "2023-07-03T17:12:25.510Z"
   },
   {
    "duration": 37,
    "start_time": "2023-07-03T17:12:25.546Z"
   },
   {
    "duration": 21,
    "start_time": "2023-07-03T17:12:25.584Z"
   },
   {
    "duration": 43,
    "start_time": "2023-07-03T17:12:25.606Z"
   },
   {
    "duration": 33,
    "start_time": "2023-07-03T17:12:25.650Z"
   },
   {
    "duration": 158,
    "start_time": "2023-07-03T17:12:25.685Z"
   },
   {
    "duration": 6,
    "start_time": "2023-07-03T17:12:25.844Z"
   },
   {
    "duration": 160,
    "start_time": "2023-07-03T17:12:25.851Z"
   },
   {
    "duration": 197,
    "start_time": "2023-07-03T17:12:26.012Z"
   },
   {
    "duration": 8,
    "start_time": "2023-07-03T17:12:26.219Z"
   },
   {
    "duration": 52,
    "start_time": "2023-07-03T17:12:26.228Z"
   },
   {
    "duration": 212,
    "start_time": "2023-07-03T17:12:26.282Z"
   },
   {
    "duration": 23,
    "start_time": "2023-07-03T17:12:26.495Z"
   },
   {
    "duration": 19,
    "start_time": "2023-07-03T17:12:26.520Z"
   },
   {
    "duration": 182,
    "start_time": "2023-07-03T17:12:26.541Z"
   },
   {
    "duration": 7,
    "start_time": "2023-07-03T17:12:26.725Z"
   },
   {
    "duration": 40,
    "start_time": "2023-07-03T17:12:26.734Z"
   },
   {
    "duration": 43,
    "start_time": "2023-07-03T17:12:26.775Z"
   },
   {
    "duration": 56,
    "start_time": "2023-07-03T17:12:26.819Z"
   },
   {
    "duration": 28,
    "start_time": "2023-07-03T17:12:26.877Z"
   },
   {
    "duration": 47,
    "start_time": "2023-07-03T17:12:26.906Z"
   },
   {
    "duration": 31,
    "start_time": "2023-07-03T17:12:26.959Z"
   },
   {
    "duration": 196,
    "start_time": "2023-07-03T17:12:26.992Z"
   },
   {
    "duration": 202,
    "start_time": "2023-07-03T17:12:27.190Z"
   },
   {
    "duration": 38,
    "start_time": "2023-07-03T17:12:27.394Z"
   },
   {
    "duration": 211,
    "start_time": "2023-07-03T17:12:27.434Z"
   },
   {
    "duration": 209,
    "start_time": "2023-07-03T17:12:27.647Z"
   },
   {
    "duration": 986,
    "start_time": "2023-07-03T17:12:27.858Z"
   },
   {
    "duration": 4,
    "start_time": "2023-07-03T17:12:28.845Z"
   },
   {
    "duration": 11,
    "start_time": "2023-07-03T17:12:28.851Z"
   },
   {
    "duration": 17,
    "start_time": "2023-07-03T17:12:28.864Z"
   },
   {
    "duration": 34,
    "start_time": "2023-07-03T17:12:28.883Z"
   },
   {
    "duration": 6,
    "start_time": "2023-07-03T17:12:28.919Z"
   },
   {
    "duration": 367,
    "start_time": "2023-07-03T17:12:28.927Z"
   },
   {
    "duration": 26,
    "start_time": "2023-07-03T17:12:29.296Z"
   },
   {
    "duration": 41,
    "start_time": "2023-07-03T17:12:29.323Z"
   },
   {
    "duration": 1272,
    "start_time": "2023-07-04T04:09:47.550Z"
   },
   {
    "duration": 194,
    "start_time": "2023-07-04T04:09:48.824Z"
   },
   {
    "duration": 3,
    "start_time": "2023-07-04T04:09:49.022Z"
   },
   {
    "duration": 17,
    "start_time": "2023-07-04T04:09:49.027Z"
   },
   {
    "duration": 20,
    "start_time": "2023-07-04T04:09:49.046Z"
   },
   {
    "duration": 11,
    "start_time": "2023-07-04T04:09:49.068Z"
   },
   {
    "duration": 8,
    "start_time": "2023-07-04T04:09:49.081Z"
   },
   {
    "duration": 13,
    "start_time": "2023-07-04T04:09:49.091Z"
   },
   {
    "duration": 11,
    "start_time": "2023-07-04T04:09:49.106Z"
   },
   {
    "duration": 12,
    "start_time": "2023-07-04T04:09:49.119Z"
   },
   {
    "duration": 13,
    "start_time": "2023-07-04T04:09:49.133Z"
   },
   {
    "duration": 17,
    "start_time": "2023-07-04T04:09:49.176Z"
   },
   {
    "duration": 19,
    "start_time": "2023-07-04T04:09:49.198Z"
   },
   {
    "duration": 17,
    "start_time": "2023-07-04T04:09:49.218Z"
   },
   {
    "duration": 22,
    "start_time": "2023-07-04T04:09:49.237Z"
   },
   {
    "duration": 14,
    "start_time": "2023-07-04T04:09:49.260Z"
   },
   {
    "duration": 5,
    "start_time": "2023-07-04T04:09:49.276Z"
   },
   {
    "duration": 6,
    "start_time": "2023-07-04T04:09:49.283Z"
   },
   {
    "duration": 10,
    "start_time": "2023-07-04T04:09:49.291Z"
   },
   {
    "duration": 5,
    "start_time": "2023-07-04T04:09:49.302Z"
   },
   {
    "duration": 17,
    "start_time": "2023-07-04T04:09:49.308Z"
   },
   {
    "duration": 5,
    "start_time": "2023-07-04T04:09:49.327Z"
   },
   {
    "duration": 9,
    "start_time": "2023-07-04T04:09:49.334Z"
   },
   {
    "duration": 31,
    "start_time": "2023-07-04T04:09:49.344Z"
   },
   {
    "duration": 145,
    "start_time": "2023-07-04T04:09:49.377Z"
   },
   {
    "duration": 5,
    "start_time": "2023-07-04T04:09:49.524Z"
   },
   {
    "duration": 129,
    "start_time": "2023-07-04T04:09:49.530Z"
   },
   {
    "duration": 166,
    "start_time": "2023-07-04T04:09:49.661Z"
   },
   {
    "duration": 5,
    "start_time": "2023-07-04T04:09:49.828Z"
   },
   {
    "duration": 9,
    "start_time": "2023-07-04T04:09:49.835Z"
   },
   {
    "duration": 139,
    "start_time": "2023-07-04T04:09:49.845Z"
   },
   {
    "duration": 7,
    "start_time": "2023-07-04T04:09:49.985Z"
   },
   {
    "duration": 7,
    "start_time": "2023-07-04T04:09:49.994Z"
   },
   {
    "duration": 149,
    "start_time": "2023-07-04T04:09:50.002Z"
   },
   {
    "duration": 8,
    "start_time": "2023-07-04T04:09:50.152Z"
   },
   {
    "duration": 7,
    "start_time": "2023-07-04T04:09:50.174Z"
   },
   {
    "duration": 44,
    "start_time": "2023-07-04T04:09:50.183Z"
   },
   {
    "duration": 29,
    "start_time": "2023-07-04T04:09:50.229Z"
   },
   {
    "duration": 31,
    "start_time": "2023-07-04T04:09:50.260Z"
   },
   {
    "duration": 20,
    "start_time": "2023-07-04T04:09:50.295Z"
   },
   {
    "duration": 23,
    "start_time": "2023-07-04T04:09:50.316Z"
   },
   {
    "duration": 179,
    "start_time": "2023-07-04T04:09:50.341Z"
   },
   {
    "duration": 192,
    "start_time": "2023-07-04T04:09:50.522Z"
   },
   {
    "duration": 20,
    "start_time": "2023-07-04T04:09:50.716Z"
   },
   {
    "duration": 175,
    "start_time": "2023-07-04T04:09:50.738Z"
   },
   {
    "duration": 184,
    "start_time": "2023-07-04T04:09:50.915Z"
   },
   {
    "duration": 922,
    "start_time": "2023-07-04T04:09:51.101Z"
   },
   {
    "duration": 2,
    "start_time": "2023-07-04T04:09:52.025Z"
   },
   {
    "duration": 48,
    "start_time": "2023-07-04T04:09:52.029Z"
   },
   {
    "duration": 36,
    "start_time": "2023-07-04T04:09:52.079Z"
   },
   {
    "duration": 24,
    "start_time": "2023-07-04T04:09:52.116Z"
   },
   {
    "duration": 13,
    "start_time": "2023-07-04T04:09:52.142Z"
   },
   {
    "duration": 340,
    "start_time": "2023-07-04T04:09:52.157Z"
   },
   {
    "duration": 19,
    "start_time": "2023-07-04T04:09:52.499Z"
   },
   {
    "duration": 27,
    "start_time": "2023-07-04T04:09:52.520Z"
   },
   {
    "duration": 6,
    "start_time": "2023-07-04T04:12:48.185Z"
   },
   {
    "duration": 701,
    "start_time": "2023-07-04T04:15:05.032Z"
   },
   {
    "duration": 7,
    "start_time": "2023-07-04T04:15:14.630Z"
   },
   {
    "duration": 6,
    "start_time": "2023-07-04T04:21:17.745Z"
   },
   {
    "duration": 6,
    "start_time": "2023-07-04T04:21:43.946Z"
   },
   {
    "duration": 7,
    "start_time": "2023-07-04T04:22:14.803Z"
   },
   {
    "duration": 6,
    "start_time": "2023-07-04T04:41:25.754Z"
   },
   {
    "duration": 8,
    "start_time": "2023-07-04T04:56:05.276Z"
   },
   {
    "duration": 6,
    "start_time": "2023-07-04T04:56:20.447Z"
   },
   {
    "duration": 7,
    "start_time": "2023-07-04T04:56:59.134Z"
   },
   {
    "duration": 5,
    "start_time": "2023-07-04T05:04:40.915Z"
   },
   {
    "duration": 11,
    "start_time": "2023-07-04T05:24:51.749Z"
   },
   {
    "duration": 14,
    "start_time": "2023-07-04T05:27:57.471Z"
   },
   {
    "duration": 11,
    "start_time": "2023-07-04T05:29:32.135Z"
   },
   {
    "duration": 110,
    "start_time": "2023-07-04T05:33:10.121Z"
   },
   {
    "duration": 10,
    "start_time": "2023-07-04T05:33:40.150Z"
   },
   {
    "duration": 15,
    "start_time": "2023-07-04T05:33:53.576Z"
   },
   {
    "duration": 1089,
    "start_time": "2023-07-04T06:01:36.044Z"
   },
   {
    "duration": 76,
    "start_time": "2023-07-04T06:01:37.136Z"
   },
   {
    "duration": 2,
    "start_time": "2023-07-04T06:01:37.214Z"
   },
   {
    "duration": 21,
    "start_time": "2023-07-04T06:01:37.219Z"
   },
   {
    "duration": 23,
    "start_time": "2023-07-04T06:01:37.242Z"
   },
   {
    "duration": 14,
    "start_time": "2023-07-04T06:01:37.267Z"
   },
   {
    "duration": 30,
    "start_time": "2023-07-04T06:01:37.282Z"
   },
   {
    "duration": 13,
    "start_time": "2023-07-04T06:01:37.314Z"
   },
   {
    "duration": 10,
    "start_time": "2023-07-04T06:01:37.329Z"
   },
   {
    "duration": 24,
    "start_time": "2023-07-04T06:01:37.341Z"
   },
   {
    "duration": 38,
    "start_time": "2023-07-04T06:01:37.367Z"
   },
   {
    "duration": 7,
    "start_time": "2023-07-04T06:01:37.407Z"
   },
   {
    "duration": 15,
    "start_time": "2023-07-04T06:01:37.415Z"
   },
   {
    "duration": 15,
    "start_time": "2023-07-04T06:01:37.432Z"
   },
   {
    "duration": 7,
    "start_time": "2023-07-04T06:01:37.448Z"
   },
   {
    "duration": 7,
    "start_time": "2023-07-04T06:01:37.456Z"
   },
   {
    "duration": 28,
    "start_time": "2023-07-04T06:01:37.465Z"
   },
   {
    "duration": 12,
    "start_time": "2023-07-04T06:01:37.495Z"
   },
   {
    "duration": 11,
    "start_time": "2023-07-04T06:01:37.509Z"
   },
   {
    "duration": 4,
    "start_time": "2023-07-04T06:01:37.521Z"
   },
   {
    "duration": 7,
    "start_time": "2023-07-04T06:01:37.527Z"
   },
   {
    "duration": 5,
    "start_time": "2023-07-04T06:01:37.535Z"
   },
   {
    "duration": 8,
    "start_time": "2023-07-04T06:01:37.541Z"
   },
   {
    "duration": 30,
    "start_time": "2023-07-04T06:01:37.551Z"
   },
   {
    "duration": 169,
    "start_time": "2023-07-04T06:01:37.583Z"
   },
   {
    "duration": 5,
    "start_time": "2023-07-04T06:01:37.754Z"
   },
   {
    "duration": 133,
    "start_time": "2023-07-04T06:01:37.761Z"
   },
   {
    "duration": 167,
    "start_time": "2023-07-04T06:01:37.897Z"
   },
   {
    "duration": 21,
    "start_time": "2023-07-04T06:01:38.065Z"
   },
   {
    "duration": 7,
    "start_time": "2023-07-04T06:01:38.092Z"
   },
   {
    "duration": 127,
    "start_time": "2023-07-04T06:01:38.100Z"
   },
   {
    "duration": 6,
    "start_time": "2023-07-04T06:01:38.229Z"
   },
   {
    "duration": 12,
    "start_time": "2023-07-04T06:01:38.237Z"
   },
   {
    "duration": 152,
    "start_time": "2023-07-04T06:01:38.251Z"
   },
   {
    "duration": 7,
    "start_time": "2023-07-04T06:01:38.404Z"
   },
   {
    "duration": 10,
    "start_time": "2023-07-04T06:01:38.413Z"
   },
   {
    "duration": 16,
    "start_time": "2023-07-04T06:01:38.424Z"
   },
   {
    "duration": 13,
    "start_time": "2023-07-04T06:01:38.442Z"
   },
   {
    "duration": 31,
    "start_time": "2023-07-04T06:01:38.457Z"
   },
   {
    "duration": 17,
    "start_time": "2023-07-04T06:01:38.493Z"
   },
   {
    "duration": 24,
    "start_time": "2023-07-04T06:01:38.512Z"
   },
   {
    "duration": 183,
    "start_time": "2023-07-04T06:01:38.537Z"
   },
   {
    "duration": 213,
    "start_time": "2023-07-04T06:01:38.722Z"
   },
   {
    "duration": 19,
    "start_time": "2023-07-04T06:01:38.936Z"
   },
   {
    "duration": 220,
    "start_time": "2023-07-04T06:01:38.957Z"
   },
   {
    "duration": 212,
    "start_time": "2023-07-04T06:01:39.178Z"
   },
   {
    "duration": 954,
    "start_time": "2023-07-04T06:01:39.392Z"
   },
   {
    "duration": 4,
    "start_time": "2023-07-04T06:01:40.348Z"
   },
   {
    "duration": 53,
    "start_time": "2023-07-04T06:01:40.353Z"
   },
   {
    "duration": 36,
    "start_time": "2023-07-04T06:01:40.407Z"
   },
   {
    "duration": 61,
    "start_time": "2023-07-04T06:01:40.444Z"
   },
   {
    "duration": 19,
    "start_time": "2023-07-04T06:01:40.507Z"
   },
   {
    "duration": 378,
    "start_time": "2023-07-04T06:01:40.528Z"
   },
   {
    "duration": 25,
    "start_time": "2023-07-04T06:01:40.909Z"
   },
   {
    "duration": 24,
    "start_time": "2023-07-04T06:01:40.936Z"
   },
   {
    "duration": 13,
    "start_time": "2023-07-04T06:01:40.975Z"
   },
   {
    "duration": 16,
    "start_time": "2023-07-04T06:01:40.991Z"
   },
   {
    "duration": 13,
    "start_time": "2023-07-04T06:01:41.008Z"
   },
   {
    "duration": 1171,
    "start_time": "2023-07-04T06:03:44.766Z"
   },
   {
    "duration": 78,
    "start_time": "2023-07-04T06:03:45.939Z"
   },
   {
    "duration": 3,
    "start_time": "2023-07-04T06:03:46.019Z"
   },
   {
    "duration": 15,
    "start_time": "2023-07-04T06:03:46.023Z"
   },
   {
    "duration": 16,
    "start_time": "2023-07-04T06:03:46.040Z"
   },
   {
    "duration": 15,
    "start_time": "2023-07-04T06:03:46.058Z"
   },
   {
    "duration": 38,
    "start_time": "2023-07-04T06:03:46.075Z"
   },
   {
    "duration": 13,
    "start_time": "2023-07-04T06:03:46.114Z"
   },
   {
    "duration": 13,
    "start_time": "2023-07-04T06:03:46.129Z"
   },
   {
    "duration": 12,
    "start_time": "2023-07-04T06:03:46.144Z"
   },
   {
    "duration": 21,
    "start_time": "2023-07-04T06:03:46.158Z"
   },
   {
    "duration": 5,
    "start_time": "2023-07-04T06:03:46.182Z"
   },
   {
    "duration": 21,
    "start_time": "2023-07-04T06:03:46.193Z"
   },
   {
    "duration": 12,
    "start_time": "2023-07-04T06:03:46.217Z"
   },
   {
    "duration": 5,
    "start_time": "2023-07-04T06:03:46.231Z"
   },
   {
    "duration": 20,
    "start_time": "2023-07-04T06:03:46.237Z"
   },
   {
    "duration": 20,
    "start_time": "2023-07-04T06:03:46.258Z"
   },
   {
    "duration": 20,
    "start_time": "2023-07-04T06:03:46.284Z"
   },
   {
    "duration": 25,
    "start_time": "2023-07-04T06:03:46.305Z"
   },
   {
    "duration": 12,
    "start_time": "2023-07-04T06:03:46.332Z"
   },
   {
    "duration": 13,
    "start_time": "2023-07-04T06:03:46.346Z"
   },
   {
    "duration": 8,
    "start_time": "2023-07-04T06:03:46.361Z"
   },
   {
    "duration": 35,
    "start_time": "2023-07-04T06:03:46.371Z"
   },
   {
    "duration": 25,
    "start_time": "2023-07-04T06:03:46.407Z"
   },
   {
    "duration": 186,
    "start_time": "2023-07-04T06:03:46.433Z"
   },
   {
    "duration": 10,
    "start_time": "2023-07-04T06:03:46.622Z"
   },
   {
    "duration": 163,
    "start_time": "2023-07-04T06:03:46.633Z"
   },
   {
    "duration": 192,
    "start_time": "2023-07-04T06:03:46.797Z"
   },
   {
    "duration": 8,
    "start_time": "2023-07-04T06:03:46.991Z"
   },
   {
    "duration": 24,
    "start_time": "2023-07-04T06:03:47.002Z"
   },
   {
    "duration": 150,
    "start_time": "2023-07-04T06:03:47.028Z"
   },
   {
    "duration": 7,
    "start_time": "2023-07-04T06:03:47.180Z"
   },
   {
    "duration": 27,
    "start_time": "2023-07-04T06:03:47.189Z"
   },
   {
    "duration": 150,
    "start_time": "2023-07-04T06:03:47.218Z"
   },
   {
    "duration": 20,
    "start_time": "2023-07-04T06:03:47.369Z"
   },
   {
    "duration": 25,
    "start_time": "2023-07-04T06:03:47.398Z"
   },
   {
    "duration": 25,
    "start_time": "2023-07-04T06:03:47.425Z"
   },
   {
    "duration": 41,
    "start_time": "2023-07-04T06:03:47.453Z"
   },
   {
    "duration": 42,
    "start_time": "2023-07-04T06:03:47.496Z"
   },
   {
    "duration": 30,
    "start_time": "2023-07-04T06:03:47.540Z"
   },
   {
    "duration": 47,
    "start_time": "2023-07-04T06:03:47.573Z"
   },
   {
    "duration": 192,
    "start_time": "2023-07-04T06:03:47.621Z"
   },
   {
    "duration": 211,
    "start_time": "2023-07-04T06:03:47.815Z"
   },
   {
    "duration": 19,
    "start_time": "2023-07-04T06:03:48.028Z"
   },
   {
    "duration": 181,
    "start_time": "2023-07-04T06:03:48.049Z"
   },
   {
    "duration": 202,
    "start_time": "2023-07-04T06:03:48.232Z"
   },
   {
    "duration": 991,
    "start_time": "2023-07-04T06:03:48.437Z"
   },
   {
    "duration": 3,
    "start_time": "2023-07-04T06:03:49.430Z"
   },
   {
    "duration": 11,
    "start_time": "2023-07-04T06:03:49.435Z"
   },
   {
    "duration": 26,
    "start_time": "2023-07-04T06:03:49.447Z"
   },
   {
    "duration": 29,
    "start_time": "2023-07-04T06:03:49.475Z"
   },
   {
    "duration": 13,
    "start_time": "2023-07-04T06:03:49.505Z"
   },
   {
    "duration": 381,
    "start_time": "2023-07-04T06:03:49.519Z"
   },
   {
    "duration": 24,
    "start_time": "2023-07-04T06:03:49.901Z"
   },
   {
    "duration": 13,
    "start_time": "2023-07-04T06:03:49.928Z"
   },
   {
    "duration": 5,
    "start_time": "2023-07-04T06:03:49.943Z"
   },
   {
    "duration": 38,
    "start_time": "2023-07-04T06:03:49.950Z"
   },
   {
    "duration": 18,
    "start_time": "2023-07-04T06:03:49.990Z"
   },
   {
    "duration": 52,
    "start_time": "2023-07-05T06:05:58.212Z"
   },
   {
    "duration": 1222,
    "start_time": "2023-07-05T06:06:44.250Z"
   },
   {
    "duration": 186,
    "start_time": "2023-07-05T06:06:45.475Z"
   },
   {
    "duration": 3,
    "start_time": "2023-07-05T06:06:45.662Z"
   },
   {
    "duration": 14,
    "start_time": "2023-07-05T06:06:45.666Z"
   },
   {
    "duration": 10,
    "start_time": "2023-07-05T06:06:45.682Z"
   },
   {
    "duration": 9,
    "start_time": "2023-07-05T06:06:45.693Z"
   },
   {
    "duration": 13,
    "start_time": "2023-07-05T06:06:45.704Z"
   },
   {
    "duration": 22,
    "start_time": "2023-07-05T06:06:45.718Z"
   },
   {
    "duration": 25,
    "start_time": "2023-07-05T06:06:45.742Z"
   },
   {
    "duration": 9,
    "start_time": "2023-07-05T06:06:45.769Z"
   },
   {
    "duration": 24,
    "start_time": "2023-07-05T06:06:45.779Z"
   },
   {
    "duration": 5,
    "start_time": "2023-07-05T06:06:45.805Z"
   },
   {
    "duration": 22,
    "start_time": "2023-07-05T06:06:45.811Z"
   },
   {
    "duration": 8,
    "start_time": "2023-07-05T06:06:45.836Z"
   },
   {
    "duration": 9,
    "start_time": "2023-07-05T06:06:45.845Z"
   },
   {
    "duration": 10,
    "start_time": "2023-07-05T06:06:45.855Z"
   },
   {
    "duration": 6,
    "start_time": "2023-07-05T06:06:45.866Z"
   },
   {
    "duration": 7,
    "start_time": "2023-07-05T06:06:45.873Z"
   },
   {
    "duration": 23,
    "start_time": "2023-07-05T06:06:45.881Z"
   },
   {
    "duration": 4,
    "start_time": "2023-07-05T06:06:45.905Z"
   },
   {
    "duration": 25,
    "start_time": "2023-07-05T06:06:45.910Z"
   },
   {
    "duration": 5,
    "start_time": "2023-07-05T06:06:45.937Z"
   },
   {
    "duration": 29,
    "start_time": "2023-07-05T06:06:45.944Z"
   },
   {
    "duration": 8,
    "start_time": "2023-07-05T06:06:45.977Z"
   },
   {
    "duration": 201,
    "start_time": "2023-07-05T06:06:45.987Z"
   },
   {
    "duration": 10,
    "start_time": "2023-07-05T06:06:46.190Z"
   },
   {
    "duration": 123,
    "start_time": "2023-07-05T06:06:46.202Z"
   },
   {
    "duration": 147,
    "start_time": "2023-07-05T06:06:46.327Z"
   },
   {
    "duration": 6,
    "start_time": "2023-07-05T06:06:46.476Z"
   },
   {
    "duration": 17,
    "start_time": "2023-07-05T06:06:46.483Z"
   },
   {
    "duration": 125,
    "start_time": "2023-07-05T06:06:46.501Z"
   },
   {
    "duration": 7,
    "start_time": "2023-07-05T06:06:46.628Z"
   },
   {
    "duration": 10,
    "start_time": "2023-07-05T06:06:46.636Z"
   },
   {
    "duration": 132,
    "start_time": "2023-07-05T06:06:46.647Z"
   },
   {
    "duration": 7,
    "start_time": "2023-07-05T06:06:46.781Z"
   },
   {
    "duration": 16,
    "start_time": "2023-07-05T06:06:46.789Z"
   },
   {
    "duration": 9,
    "start_time": "2023-07-05T06:06:46.806Z"
   },
   {
    "duration": 11,
    "start_time": "2023-07-05T06:06:46.817Z"
   },
   {
    "duration": 7,
    "start_time": "2023-07-05T06:06:46.830Z"
   },
   {
    "duration": 16,
    "start_time": "2023-07-05T06:06:46.839Z"
   },
   {
    "duration": 49,
    "start_time": "2023-07-05T06:06:46.858Z"
   },
   {
    "duration": 163,
    "start_time": "2023-07-05T06:06:46.908Z"
   },
   {
    "duration": 192,
    "start_time": "2023-07-05T06:06:47.073Z"
   },
   {
    "duration": 35,
    "start_time": "2023-07-05T06:06:47.267Z"
   },
   {
    "duration": 167,
    "start_time": "2023-07-05T06:06:47.304Z"
   },
   {
    "duration": 179,
    "start_time": "2023-07-05T06:06:47.472Z"
   },
   {
    "duration": 926,
    "start_time": "2023-07-05T06:06:47.652Z"
   },
   {
    "duration": 4,
    "start_time": "2023-07-05T06:06:48.579Z"
   },
   {
    "duration": 5,
    "start_time": "2023-07-05T06:06:48.585Z"
   },
   {
    "duration": 20,
    "start_time": "2023-07-05T06:06:48.591Z"
   },
   {
    "duration": 14,
    "start_time": "2023-07-05T06:06:48.612Z"
   },
   {
    "duration": 4,
    "start_time": "2023-07-05T06:06:48.628Z"
   },
   {
    "duration": 359,
    "start_time": "2023-07-05T06:06:48.633Z"
   },
   {
    "duration": 18,
    "start_time": "2023-07-05T06:06:48.993Z"
   },
   {
    "duration": 11,
    "start_time": "2023-07-05T06:06:49.012Z"
   },
   {
    "duration": 6,
    "start_time": "2023-07-05T06:06:49.025Z"
   },
   {
    "duration": 5,
    "start_time": "2023-07-05T06:06:49.033Z"
   },
   {
    "duration": 10,
    "start_time": "2023-07-05T06:06:49.039Z"
   },
   {
    "duration": 121,
    "start_time": "2023-07-05T06:06:49.051Z"
   },
   {
    "duration": 167,
    "start_time": "2023-07-05T06:07:21.905Z"
   },
   {
    "duration": 50765,
    "start_time": "2023-07-05T06:07:47.639Z"
   },
   {
    "duration": 40206,
    "start_time": "2023-07-05T06:08:52.189Z"
   },
   {
    "duration": 1096,
    "start_time": "2023-07-05T06:25:30.419Z"
   },
   {
    "duration": 66,
    "start_time": "2023-07-05T06:25:31.517Z"
   },
   {
    "duration": 2,
    "start_time": "2023-07-05T06:25:31.585Z"
   },
   {
    "duration": 50,
    "start_time": "2023-07-05T06:25:31.589Z"
   },
   {
    "duration": 32,
    "start_time": "2023-07-05T06:25:31.641Z"
   },
   {
    "duration": 49,
    "start_time": "2023-07-05T06:25:31.674Z"
   },
   {
    "duration": 34,
    "start_time": "2023-07-05T06:25:31.725Z"
   },
   {
    "duration": 48,
    "start_time": "2023-07-05T06:25:31.760Z"
   },
   {
    "duration": 64,
    "start_time": "2023-07-05T06:25:31.810Z"
   },
   {
    "duration": 50,
    "start_time": "2023-07-05T06:25:31.875Z"
   },
   {
    "duration": 25,
    "start_time": "2023-07-05T06:25:31.926Z"
   },
   {
    "duration": 13,
    "start_time": "2023-07-05T06:25:31.952Z"
   },
   {
    "duration": 30,
    "start_time": "2023-07-05T06:25:31.966Z"
   },
   {
    "duration": 25,
    "start_time": "2023-07-05T06:25:31.999Z"
   },
   {
    "duration": 18,
    "start_time": "2023-07-05T06:25:32.025Z"
   },
   {
    "duration": 34,
    "start_time": "2023-07-05T06:25:32.044Z"
   },
   {
    "duration": 26,
    "start_time": "2023-07-05T06:25:32.080Z"
   },
   {
    "duration": 45,
    "start_time": "2023-07-05T06:25:32.108Z"
   },
   {
    "duration": 43,
    "start_time": "2023-07-05T06:25:32.154Z"
   },
   {
    "duration": 25,
    "start_time": "2023-07-05T06:25:32.198Z"
   },
   {
    "duration": 47,
    "start_time": "2023-07-05T06:25:32.224Z"
   },
   {
    "duration": 22,
    "start_time": "2023-07-05T06:25:32.272Z"
   },
   {
    "duration": 64,
    "start_time": "2023-07-05T06:25:32.305Z"
   },
   {
    "duration": 34,
    "start_time": "2023-07-05T06:25:32.371Z"
   },
   {
    "duration": 181,
    "start_time": "2023-07-05T06:25:32.407Z"
   },
   {
    "duration": 10,
    "start_time": "2023-07-05T06:25:32.589Z"
   },
   {
    "duration": 118,
    "start_time": "2023-07-05T06:25:32.601Z"
   },
   {
    "duration": 144,
    "start_time": "2023-07-05T06:25:32.721Z"
   },
   {
    "duration": 5,
    "start_time": "2023-07-05T06:25:32.866Z"
   },
   {
    "duration": 9,
    "start_time": "2023-07-05T06:25:32.873Z"
   },
   {
    "duration": 128,
    "start_time": "2023-07-05T06:25:32.883Z"
   },
   {
    "duration": 6,
    "start_time": "2023-07-05T06:25:33.013Z"
   },
   {
    "duration": 12,
    "start_time": "2023-07-05T06:25:33.021Z"
   },
   {
    "duration": 135,
    "start_time": "2023-07-05T06:25:33.035Z"
   },
   {
    "duration": 7,
    "start_time": "2023-07-05T06:25:33.171Z"
   },
   {
    "duration": 24,
    "start_time": "2023-07-05T06:25:33.179Z"
   },
   {
    "duration": 16,
    "start_time": "2023-07-05T06:25:33.204Z"
   },
   {
    "duration": 14,
    "start_time": "2023-07-05T06:25:33.221Z"
   },
   {
    "duration": 9,
    "start_time": "2023-07-05T06:25:33.237Z"
   },
   {
    "duration": 31,
    "start_time": "2023-07-05T06:25:33.247Z"
   },
   {
    "duration": 24,
    "start_time": "2023-07-05T06:25:33.282Z"
   },
   {
    "duration": 170,
    "start_time": "2023-07-05T06:25:33.308Z"
   },
   {
    "duration": 169,
    "start_time": "2023-07-05T06:25:33.479Z"
   },
   {
    "duration": 18,
    "start_time": "2023-07-05T06:25:33.649Z"
   },
   {
    "duration": 156,
    "start_time": "2023-07-05T06:25:33.669Z"
   },
   {
    "duration": 164,
    "start_time": "2023-07-05T06:25:33.827Z"
   },
   {
    "duration": 944,
    "start_time": "2023-07-05T06:25:33.993Z"
   },
   {
    "duration": 2,
    "start_time": "2023-07-05T06:25:34.939Z"
   },
   {
    "duration": 44,
    "start_time": "2023-07-05T06:25:34.943Z"
   },
   {
    "duration": 23,
    "start_time": "2023-07-05T06:25:34.989Z"
   },
   {
    "duration": 23,
    "start_time": "2023-07-05T06:25:35.014Z"
   },
   {
    "duration": 26,
    "start_time": "2023-07-05T06:25:35.039Z"
   },
   {
    "duration": 384,
    "start_time": "2023-07-05T06:25:35.067Z"
   },
   {
    "duration": 16,
    "start_time": "2023-07-05T06:25:35.453Z"
   },
   {
    "duration": 25,
    "start_time": "2023-07-05T06:25:35.471Z"
   },
   {
    "duration": 8,
    "start_time": "2023-07-05T06:25:35.498Z"
   },
   {
    "duration": 11,
    "start_time": "2023-07-05T06:25:35.508Z"
   },
   {
    "duration": 15,
    "start_time": "2023-07-05T06:25:35.521Z"
   },
   {
    "duration": 147,
    "start_time": "2023-07-05T06:25:35.538Z"
   },
   {
    "duration": 5,
    "start_time": "2023-07-05T06:25:35.687Z"
   },
   {
    "duration": 149,
    "start_time": "2023-07-05T07:01:17.727Z"
   },
   {
    "duration": 5,
    "start_time": "2023-07-05T07:02:27.235Z"
   },
   {
    "duration": 128,
    "start_time": "2023-07-05T07:03:05.633Z"
   },
   {
    "duration": 1032,
    "start_time": "2023-07-05T07:04:11.394Z"
   },
   {
    "duration": 64,
    "start_time": "2023-07-05T07:04:12.427Z"
   },
   {
    "duration": 2,
    "start_time": "2023-07-05T07:04:12.492Z"
   },
   {
    "duration": 40,
    "start_time": "2023-07-05T07:04:12.496Z"
   },
   {
    "duration": 13,
    "start_time": "2023-07-05T07:04:12.537Z"
   },
   {
    "duration": 9,
    "start_time": "2023-07-05T07:04:12.551Z"
   },
   {
    "duration": 16,
    "start_time": "2023-07-05T07:04:12.561Z"
   },
   {
    "duration": 12,
    "start_time": "2023-07-05T07:04:12.579Z"
   },
   {
    "duration": 35,
    "start_time": "2023-07-05T07:04:12.593Z"
   },
   {
    "duration": 12,
    "start_time": "2023-07-05T07:04:12.630Z"
   },
   {
    "duration": 8,
    "start_time": "2023-07-05T07:04:12.643Z"
   },
   {
    "duration": 6,
    "start_time": "2023-07-05T07:04:12.653Z"
   },
   {
    "duration": 11,
    "start_time": "2023-07-05T07:04:12.660Z"
   },
   {
    "duration": 11,
    "start_time": "2023-07-05T07:04:12.673Z"
   },
   {
    "duration": 7,
    "start_time": "2023-07-05T07:04:12.685Z"
   },
   {
    "duration": 43,
    "start_time": "2023-07-05T07:04:12.693Z"
   },
   {
    "duration": 7,
    "start_time": "2023-07-05T07:04:12.738Z"
   },
   {
    "duration": 8,
    "start_time": "2023-07-05T07:04:12.747Z"
   },
   {
    "duration": 9,
    "start_time": "2023-07-05T07:04:12.756Z"
   },
   {
    "duration": 5,
    "start_time": "2023-07-05T07:04:12.766Z"
   },
   {
    "duration": 6,
    "start_time": "2023-07-05T07:04:12.772Z"
   },
   {
    "duration": 6,
    "start_time": "2023-07-05T07:04:12.779Z"
   },
   {
    "duration": 8,
    "start_time": "2023-07-05T07:04:12.786Z"
   },
   {
    "duration": 31,
    "start_time": "2023-07-05T07:04:12.796Z"
   },
   {
    "duration": 140,
    "start_time": "2023-07-05T07:04:12.829Z"
   },
   {
    "duration": 5,
    "start_time": "2023-07-05T07:04:12.970Z"
   },
   {
    "duration": 136,
    "start_time": "2023-07-05T07:04:12.977Z"
   },
   {
    "duration": 145,
    "start_time": "2023-07-05T07:04:13.116Z"
   },
   {
    "duration": 5,
    "start_time": "2023-07-05T07:04:13.262Z"
   },
   {
    "duration": 11,
    "start_time": "2023-07-05T07:04:13.268Z"
   },
   {
    "duration": 139,
    "start_time": "2023-07-05T07:04:13.280Z"
   },
   {
    "duration": 7,
    "start_time": "2023-07-05T07:04:13.429Z"
   },
   {
    "duration": 19,
    "start_time": "2023-07-05T07:04:13.437Z"
   },
   {
    "duration": 127,
    "start_time": "2023-07-05T07:04:13.458Z"
   },
   {
    "duration": 6,
    "start_time": "2023-07-05T07:04:13.586Z"
   },
   {
    "duration": 19,
    "start_time": "2023-07-05T07:04:13.593Z"
   },
   {
    "duration": 26,
    "start_time": "2023-07-05T07:04:13.613Z"
   },
   {
    "duration": 10,
    "start_time": "2023-07-05T07:04:13.641Z"
   },
   {
    "duration": 8,
    "start_time": "2023-07-05T07:04:13.652Z"
   },
   {
    "duration": 24,
    "start_time": "2023-07-05T07:04:13.662Z"
   },
   {
    "duration": 39,
    "start_time": "2023-07-05T07:04:13.687Z"
   },
   {
    "duration": 190,
    "start_time": "2023-07-05T07:04:13.727Z"
   },
   {
    "duration": 196,
    "start_time": "2023-07-05T07:04:13.920Z"
   },
   {
    "duration": 20,
    "start_time": "2023-07-05T07:04:14.121Z"
   },
   {
    "duration": 179,
    "start_time": "2023-07-05T07:04:14.143Z"
   },
   {
    "duration": 202,
    "start_time": "2023-07-05T07:04:14.328Z"
   },
   {
    "duration": 947,
    "start_time": "2023-07-05T07:04:14.531Z"
   },
   {
    "duration": 3,
    "start_time": "2023-07-05T07:04:15.479Z"
   },
   {
    "duration": 54,
    "start_time": "2023-07-05T07:04:15.484Z"
   },
   {
    "duration": 71,
    "start_time": "2023-07-05T07:04:15.540Z"
   },
   {
    "duration": 27,
    "start_time": "2023-07-05T07:04:15.612Z"
   },
   {
    "duration": 3,
    "start_time": "2023-07-05T07:04:15.641Z"
   },
   {
    "duration": 452,
    "start_time": "2023-07-05T07:04:15.646Z"
   },
   {
    "duration": 24,
    "start_time": "2023-07-05T07:04:16.107Z"
   },
   {
    "duration": 19,
    "start_time": "2023-07-05T07:04:16.133Z"
   },
   {
    "duration": 6,
    "start_time": "2023-07-05T07:04:16.154Z"
   },
   {
    "duration": 35,
    "start_time": "2023-07-05T07:04:16.162Z"
   },
   {
    "duration": 52,
    "start_time": "2023-07-05T07:04:16.205Z"
   },
   {
    "duration": 164,
    "start_time": "2023-07-05T07:04:16.259Z"
   },
   {
    "duration": 5,
    "start_time": "2023-07-05T07:04:16.425Z"
   },
   {
    "duration": 198,
    "start_time": "2023-07-05T07:04:16.432Z"
   },
   {
    "duration": 5,
    "start_time": "2023-07-05T07:04:16.632Z"
   },
   {
    "duration": 1145,
    "start_time": "2023-07-05T10:23:26.729Z"
   },
   {
    "duration": 83,
    "start_time": "2023-07-05T10:23:27.876Z"
   },
   {
    "duration": 3,
    "start_time": "2023-07-05T10:23:27.960Z"
   },
   {
    "duration": 18,
    "start_time": "2023-07-05T10:23:27.964Z"
   },
   {
    "duration": 11,
    "start_time": "2023-07-05T10:23:27.984Z"
   },
   {
    "duration": 44,
    "start_time": "2023-07-05T10:23:27.997Z"
   },
   {
    "duration": 7,
    "start_time": "2023-07-05T10:23:28.043Z"
   },
   {
    "duration": 15,
    "start_time": "2023-07-05T10:23:28.051Z"
   },
   {
    "duration": 23,
    "start_time": "2023-07-05T10:23:28.067Z"
   },
   {
    "duration": 51,
    "start_time": "2023-07-05T10:23:28.091Z"
   },
   {
    "duration": 26,
    "start_time": "2023-07-05T10:23:28.144Z"
   },
   {
    "duration": 26,
    "start_time": "2023-07-05T10:23:28.172Z"
   },
   {
    "duration": 40,
    "start_time": "2023-07-05T10:23:28.199Z"
   },
   {
    "duration": 11,
    "start_time": "2023-07-05T10:23:28.242Z"
   },
   {
    "duration": 5,
    "start_time": "2023-07-05T10:23:28.256Z"
   },
   {
    "duration": 20,
    "start_time": "2023-07-05T10:23:28.263Z"
   },
   {
    "duration": 47,
    "start_time": "2023-07-05T10:23:28.284Z"
   },
   {
    "duration": 12,
    "start_time": "2023-07-05T10:23:28.332Z"
   },
   {
    "duration": 7,
    "start_time": "2023-07-05T10:23:28.345Z"
   },
   {
    "duration": 4,
    "start_time": "2023-07-05T10:23:28.353Z"
   },
   {
    "duration": 10,
    "start_time": "2023-07-05T10:23:28.358Z"
   },
   {
    "duration": 14,
    "start_time": "2023-07-05T10:23:28.370Z"
   },
   {
    "duration": 21,
    "start_time": "2023-07-05T10:23:28.385Z"
   },
   {
    "duration": 32,
    "start_time": "2023-07-05T10:23:28.408Z"
   },
   {
    "duration": 146,
    "start_time": "2023-07-05T10:23:28.442Z"
   },
   {
    "duration": 5,
    "start_time": "2023-07-05T10:23:28.590Z"
   },
   {
    "duration": 147,
    "start_time": "2023-07-05T10:23:28.596Z"
   },
   {
    "duration": 154,
    "start_time": "2023-07-05T10:23:28.745Z"
   },
   {
    "duration": 6,
    "start_time": "2023-07-05T10:23:28.900Z"
   },
   {
    "duration": 39,
    "start_time": "2023-07-05T10:23:28.907Z"
   },
   {
    "duration": 132,
    "start_time": "2023-07-05T10:23:28.947Z"
   },
   {
    "duration": 7,
    "start_time": "2023-07-05T10:23:29.080Z"
   },
   {
    "duration": 17,
    "start_time": "2023-07-05T10:23:29.088Z"
   },
   {
    "duration": 139,
    "start_time": "2023-07-05T10:23:29.106Z"
   },
   {
    "duration": 7,
    "start_time": "2023-07-05T10:23:29.246Z"
   },
   {
    "duration": 10,
    "start_time": "2023-07-05T10:23:29.255Z"
   },
   {
    "duration": 17,
    "start_time": "2023-07-05T10:23:29.266Z"
   },
   {
    "duration": 18,
    "start_time": "2023-07-05T10:23:29.285Z"
   },
   {
    "duration": 29,
    "start_time": "2023-07-05T10:23:29.304Z"
   },
   {
    "duration": 56,
    "start_time": "2023-07-05T10:23:29.334Z"
   },
   {
    "duration": 30,
    "start_time": "2023-07-05T10:23:29.395Z"
   },
   {
    "duration": 187,
    "start_time": "2023-07-05T10:23:29.426Z"
   },
   {
    "duration": 198,
    "start_time": "2023-07-05T10:23:29.615Z"
   },
   {
    "duration": 19,
    "start_time": "2023-07-05T10:23:29.815Z"
   },
   {
    "duration": 166,
    "start_time": "2023-07-05T10:23:29.835Z"
   },
   {
    "duration": 193,
    "start_time": "2023-07-05T10:23:30.002Z"
   },
   {
    "duration": 1075,
    "start_time": "2023-07-05T10:23:30.197Z"
   },
   {
    "duration": 3,
    "start_time": "2023-07-05T10:23:31.274Z"
   },
   {
    "duration": 85,
    "start_time": "2023-07-05T10:23:31.279Z"
   },
   {
    "duration": 59,
    "start_time": "2023-07-05T10:23:31.365Z"
   },
   {
    "duration": 69,
    "start_time": "2023-07-05T10:23:31.426Z"
   },
   {
    "duration": 76,
    "start_time": "2023-07-05T10:23:31.497Z"
   },
   {
    "duration": 482,
    "start_time": "2023-07-05T10:23:31.575Z"
   },
   {
    "duration": 15,
    "start_time": "2023-07-05T10:23:32.058Z"
   },
   {
    "duration": 82,
    "start_time": "2023-07-05T10:23:32.074Z"
   },
   {
    "duration": 16,
    "start_time": "2023-07-05T10:23:32.157Z"
   },
   {
    "duration": 28,
    "start_time": "2023-07-05T10:23:32.174Z"
   },
   {
    "duration": 39,
    "start_time": "2023-07-05T10:23:32.204Z"
   },
   {
    "duration": 152,
    "start_time": "2023-07-05T10:23:32.245Z"
   },
   {
    "duration": 9,
    "start_time": "2023-07-05T10:23:32.398Z"
   },
   {
    "duration": 223,
    "start_time": "2023-07-05T10:23:32.409Z"
   },
   {
    "duration": 4,
    "start_time": "2023-07-05T10:23:32.634Z"
   },
   {
    "duration": 1131,
    "start_time": "2023-07-05T10:27:24.294Z"
   },
   {
    "duration": 65,
    "start_time": "2023-07-05T10:27:25.427Z"
   },
   {
    "duration": 3,
    "start_time": "2023-07-05T10:27:25.494Z"
   },
   {
    "duration": 30,
    "start_time": "2023-07-05T10:27:25.499Z"
   },
   {
    "duration": 17,
    "start_time": "2023-07-05T10:27:25.532Z"
   },
   {
    "duration": 10,
    "start_time": "2023-07-05T10:27:25.551Z"
   },
   {
    "duration": 10,
    "start_time": "2023-07-05T10:27:25.562Z"
   },
   {
    "duration": 10,
    "start_time": "2023-07-05T10:27:25.574Z"
   },
   {
    "duration": 19,
    "start_time": "2023-07-05T10:27:25.586Z"
   },
   {
    "duration": 12,
    "start_time": "2023-07-05T10:27:25.606Z"
   },
   {
    "duration": 10,
    "start_time": "2023-07-05T10:27:25.619Z"
   },
   {
    "duration": 5,
    "start_time": "2023-07-05T10:27:25.631Z"
   },
   {
    "duration": 17,
    "start_time": "2023-07-05T10:27:25.637Z"
   },
   {
    "duration": 11,
    "start_time": "2023-07-05T10:27:25.657Z"
   },
   {
    "duration": 9,
    "start_time": "2023-07-05T10:27:25.669Z"
   },
   {
    "duration": 9,
    "start_time": "2023-07-05T10:27:25.679Z"
   },
   {
    "duration": 14,
    "start_time": "2023-07-05T10:27:25.699Z"
   },
   {
    "duration": 7,
    "start_time": "2023-07-05T10:27:25.718Z"
   },
   {
    "duration": 8,
    "start_time": "2023-07-05T10:27:25.726Z"
   },
   {
    "duration": 5,
    "start_time": "2023-07-05T10:27:25.736Z"
   },
   {
    "duration": 7,
    "start_time": "2023-07-05T10:27:25.743Z"
   },
   {
    "duration": 5,
    "start_time": "2023-07-05T10:27:25.752Z"
   },
   {
    "duration": 7,
    "start_time": "2023-07-05T10:27:25.759Z"
   },
   {
    "duration": 9,
    "start_time": "2023-07-05T10:27:25.767Z"
   },
   {
    "duration": 155,
    "start_time": "2023-07-05T10:27:25.799Z"
   },
   {
    "duration": 7,
    "start_time": "2023-07-05T10:27:25.956Z"
   },
   {
    "duration": 166,
    "start_time": "2023-07-05T10:27:25.964Z"
   },
   {
    "duration": 216,
    "start_time": "2023-07-05T10:27:26.132Z"
   },
   {
    "duration": 5,
    "start_time": "2023-07-05T10:27:26.349Z"
   },
   {
    "duration": 7,
    "start_time": "2023-07-05T10:27:26.356Z"
   },
   {
    "duration": 155,
    "start_time": "2023-07-05T10:27:26.364Z"
   },
   {
    "duration": 7,
    "start_time": "2023-07-05T10:27:26.521Z"
   },
   {
    "duration": 12,
    "start_time": "2023-07-05T10:27:26.529Z"
   },
   {
    "duration": 119,
    "start_time": "2023-07-05T10:27:26.543Z"
   },
   {
    "duration": 7,
    "start_time": "2023-07-05T10:27:26.664Z"
   },
   {
    "duration": 8,
    "start_time": "2023-07-05T10:27:26.673Z"
   },
   {
    "duration": 35,
    "start_time": "2023-07-05T10:27:26.683Z"
   },
   {
    "duration": 18,
    "start_time": "2023-07-05T10:27:26.720Z"
   },
   {
    "duration": 12,
    "start_time": "2023-07-05T10:27:26.739Z"
   },
   {
    "duration": 17,
    "start_time": "2023-07-05T10:27:26.752Z"
   },
   {
    "duration": 45,
    "start_time": "2023-07-05T10:27:26.772Z"
   },
   {
    "duration": 169,
    "start_time": "2023-07-05T10:27:26.818Z"
   },
   {
    "duration": 186,
    "start_time": "2023-07-05T10:27:26.988Z"
   },
   {
    "duration": 33,
    "start_time": "2023-07-05T10:27:27.176Z"
   },
   {
    "duration": 151,
    "start_time": "2023-07-05T10:27:27.210Z"
   },
   {
    "duration": 186,
    "start_time": "2023-07-05T10:27:27.362Z"
   },
   {
    "duration": 962,
    "start_time": "2023-07-05T10:27:27.550Z"
   },
   {
    "duration": 3,
    "start_time": "2023-07-05T10:27:28.514Z"
   },
   {
    "duration": 21,
    "start_time": "2023-07-05T10:27:28.518Z"
   },
   {
    "duration": 20,
    "start_time": "2023-07-05T10:27:28.540Z"
   },
   {
    "duration": 23,
    "start_time": "2023-07-05T10:27:28.562Z"
   },
   {
    "duration": 4,
    "start_time": "2023-07-05T10:27:28.587Z"
   },
   {
    "duration": 377,
    "start_time": "2023-07-05T10:27:28.593Z"
   },
   {
    "duration": 16,
    "start_time": "2023-07-05T10:27:28.971Z"
   },
   {
    "duration": 28,
    "start_time": "2023-07-05T10:27:28.989Z"
   },
   {
    "duration": 17,
    "start_time": "2023-07-05T10:27:29.019Z"
   },
   {
    "duration": 7,
    "start_time": "2023-07-05T10:27:29.038Z"
   },
   {
    "duration": 16,
    "start_time": "2023-07-05T10:27:29.047Z"
   },
   {
    "duration": 131,
    "start_time": "2023-07-05T10:27:29.064Z"
   },
   {
    "duration": 14,
    "start_time": "2023-07-05T10:27:29.197Z"
   },
   {
    "duration": 172,
    "start_time": "2023-07-05T10:27:29.212Z"
   },
   {
    "duration": 5,
    "start_time": "2023-07-05T10:27:29.385Z"
   },
   {
    "duration": 147,
    "start_time": "2023-07-05T11:43:46.522Z"
   },
   {
    "duration": 1042,
    "start_time": "2023-07-05T11:58:28.384Z"
   },
   {
    "duration": 147,
    "start_time": "2023-07-05T11:58:29.427Z"
   },
   {
    "duration": 3,
    "start_time": "2023-07-05T11:58:29.576Z"
   },
   {
    "duration": 12,
    "start_time": "2023-07-05T11:58:29.580Z"
   },
   {
    "duration": 25,
    "start_time": "2023-07-05T11:58:29.593Z"
   },
   {
    "duration": 10,
    "start_time": "2023-07-05T11:58:29.620Z"
   },
   {
    "duration": 13,
    "start_time": "2023-07-05T11:58:29.631Z"
   },
   {
    "duration": 17,
    "start_time": "2023-07-05T11:58:29.646Z"
   },
   {
    "duration": 23,
    "start_time": "2023-07-05T11:58:29.664Z"
   },
   {
    "duration": 32,
    "start_time": "2023-07-05T11:58:29.688Z"
   },
   {
    "duration": 9,
    "start_time": "2023-07-05T11:58:29.722Z"
   },
   {
    "duration": 7,
    "start_time": "2023-07-05T11:58:29.733Z"
   },
   {
    "duration": 13,
    "start_time": "2023-07-05T11:58:29.742Z"
   },
   {
    "duration": 4,
    "start_time": "2023-07-05T11:58:29.757Z"
   },
   {
    "duration": 10,
    "start_time": "2023-07-05T11:58:29.763Z"
   },
   {
    "duration": 17,
    "start_time": "2023-07-05T11:58:29.774Z"
   },
   {
    "duration": 38,
    "start_time": "2023-07-05T11:58:29.792Z"
   },
   {
    "duration": 14,
    "start_time": "2023-07-05T11:58:29.831Z"
   },
   {
    "duration": 21,
    "start_time": "2023-07-05T11:58:29.847Z"
   },
   {
    "duration": 25,
    "start_time": "2023-07-05T11:58:29.869Z"
   },
   {
    "duration": 51,
    "start_time": "2023-07-05T11:58:29.896Z"
   },
   {
    "duration": 18,
    "start_time": "2023-07-05T11:58:29.949Z"
   },
   {
    "duration": 26,
    "start_time": "2023-07-05T11:58:29.968Z"
   },
   {
    "duration": 75,
    "start_time": "2023-07-05T11:58:29.996Z"
   },
   {
    "duration": 165,
    "start_time": "2023-07-05T11:58:30.073Z"
   },
   {
    "duration": 6,
    "start_time": "2023-07-05T11:58:30.239Z"
   },
   {
    "duration": 173,
    "start_time": "2023-07-05T11:58:30.247Z"
   },
   {
    "duration": 149,
    "start_time": "2023-07-05T11:58:30.422Z"
   },
   {
    "duration": 6,
    "start_time": "2023-07-05T11:58:30.573Z"
   },
   {
    "duration": 76,
    "start_time": "2023-07-05T11:58:30.580Z"
   },
   {
    "duration": 254,
    "start_time": "2023-07-05T11:58:30.658Z"
   },
   {
    "duration": 7,
    "start_time": "2023-07-05T11:58:30.919Z"
   },
   {
    "duration": 33,
    "start_time": "2023-07-05T11:58:30.928Z"
   },
   {
    "duration": 192,
    "start_time": "2023-07-05T11:58:30.963Z"
   },
   {
    "duration": 7,
    "start_time": "2023-07-05T11:58:31.156Z"
   },
   {
    "duration": 56,
    "start_time": "2023-07-05T11:58:31.164Z"
   },
   {
    "duration": 47,
    "start_time": "2023-07-05T11:58:31.222Z"
   },
   {
    "duration": 59,
    "start_time": "2023-07-05T11:58:31.271Z"
   },
   {
    "duration": 35,
    "start_time": "2023-07-05T11:58:31.332Z"
   },
   {
    "duration": 79,
    "start_time": "2023-07-05T11:58:31.369Z"
   },
   {
    "duration": 57,
    "start_time": "2023-07-05T11:58:31.452Z"
   },
   {
    "duration": 199,
    "start_time": "2023-07-05T11:58:31.510Z"
   },
   {
    "duration": 228,
    "start_time": "2023-07-05T11:58:31.711Z"
   },
   {
    "duration": 25,
    "start_time": "2023-07-05T11:58:31.941Z"
   },
   {
    "duration": 184,
    "start_time": "2023-07-05T11:58:31.968Z"
   },
   {
    "duration": 291,
    "start_time": "2023-07-05T11:58:32.204Z"
   },
   {
    "duration": 1174,
    "start_time": "2023-07-05T11:58:32.497Z"
   },
   {
    "duration": 3,
    "start_time": "2023-07-05T11:58:33.673Z"
   },
   {
    "duration": 42,
    "start_time": "2023-07-05T11:58:33.678Z"
   },
   {
    "duration": 46,
    "start_time": "2023-07-05T11:58:33.724Z"
   },
   {
    "duration": 15,
    "start_time": "2023-07-05T11:58:33.771Z"
   },
   {
    "duration": 4,
    "start_time": "2023-07-05T11:58:33.788Z"
   },
   {
    "duration": 364,
    "start_time": "2023-07-05T11:58:33.794Z"
   },
   {
    "duration": 21,
    "start_time": "2023-07-05T11:58:34.160Z"
   },
   {
    "duration": 47,
    "start_time": "2023-07-05T11:58:34.183Z"
   },
   {
    "duration": 6,
    "start_time": "2023-07-05T11:58:34.232Z"
   },
   {
    "duration": 20,
    "start_time": "2023-07-05T11:58:34.239Z"
   },
   {
    "duration": 11,
    "start_time": "2023-07-05T11:58:34.260Z"
   },
   {
    "duration": 116,
    "start_time": "2023-07-05T11:58:34.272Z"
   },
   {
    "duration": 26,
    "start_time": "2023-07-05T11:58:34.390Z"
   },
   {
    "duration": 191,
    "start_time": "2023-07-05T11:58:34.418Z"
   },
   {
    "duration": 11,
    "start_time": "2023-07-05T11:58:34.610Z"
   },
   {
    "duration": 1233,
    "start_time": "2023-07-05T12:00:05.795Z"
   },
   {
    "duration": 87,
    "start_time": "2023-07-05T12:00:07.030Z"
   },
   {
    "duration": 3,
    "start_time": "2023-07-05T12:00:07.119Z"
   },
   {
    "duration": 43,
    "start_time": "2023-07-05T12:00:07.124Z"
   },
   {
    "duration": 18,
    "start_time": "2023-07-05T12:00:07.170Z"
   },
   {
    "duration": 23,
    "start_time": "2023-07-05T12:00:07.191Z"
   },
   {
    "duration": 13,
    "start_time": "2023-07-05T12:00:07.216Z"
   },
   {
    "duration": 14,
    "start_time": "2023-07-05T12:00:07.230Z"
   },
   {
    "duration": 11,
    "start_time": "2023-07-05T12:00:07.246Z"
   },
   {
    "duration": 26,
    "start_time": "2023-07-05T12:00:07.259Z"
   },
   {
    "duration": 19,
    "start_time": "2023-07-05T12:00:07.287Z"
   },
   {
    "duration": 27,
    "start_time": "2023-07-05T12:00:07.307Z"
   },
   {
    "duration": 14,
    "start_time": "2023-07-05T12:00:07.335Z"
   },
   {
    "duration": 15,
    "start_time": "2023-07-05T12:00:07.353Z"
   },
   {
    "duration": 16,
    "start_time": "2023-07-05T12:00:07.370Z"
   },
   {
    "duration": 9,
    "start_time": "2023-07-05T12:00:07.387Z"
   },
   {
    "duration": 26,
    "start_time": "2023-07-05T12:00:07.398Z"
   },
   {
    "duration": 26,
    "start_time": "2023-07-05T12:00:07.426Z"
   },
   {
    "duration": 21,
    "start_time": "2023-07-05T12:00:07.454Z"
   },
   {
    "duration": 9,
    "start_time": "2023-07-05T12:00:07.477Z"
   },
   {
    "duration": 56,
    "start_time": "2023-07-05T12:00:07.488Z"
   },
   {
    "duration": 13,
    "start_time": "2023-07-05T12:00:07.546Z"
   },
   {
    "duration": 39,
    "start_time": "2023-07-05T12:00:07.561Z"
   },
   {
    "duration": 20,
    "start_time": "2023-07-05T12:00:07.604Z"
   },
   {
    "duration": 220,
    "start_time": "2023-07-05T12:00:07.625Z"
   },
   {
    "duration": 6,
    "start_time": "2023-07-05T12:00:07.847Z"
   },
   {
    "duration": 140,
    "start_time": "2023-07-05T12:00:07.854Z"
   },
   {
    "duration": 162,
    "start_time": "2023-07-05T12:00:07.995Z"
   },
   {
    "duration": 5,
    "start_time": "2023-07-05T12:00:08.158Z"
   },
   {
    "duration": 15,
    "start_time": "2023-07-05T12:00:08.165Z"
   },
   {
    "duration": 163,
    "start_time": "2023-07-05T12:00:08.182Z"
   },
   {
    "duration": 7,
    "start_time": "2023-07-05T12:00:08.346Z"
   },
   {
    "duration": 7,
    "start_time": "2023-07-05T12:00:08.354Z"
   },
   {
    "duration": 147,
    "start_time": "2023-07-05T12:00:08.362Z"
   },
   {
    "duration": 12,
    "start_time": "2023-07-05T12:00:08.510Z"
   },
   {
    "duration": 25,
    "start_time": "2023-07-05T12:00:08.523Z"
   },
   {
    "duration": 12,
    "start_time": "2023-07-05T12:00:08.550Z"
   },
   {
    "duration": 19,
    "start_time": "2023-07-05T12:00:08.563Z"
   },
   {
    "duration": 7,
    "start_time": "2023-07-05T12:00:08.584Z"
   },
   {
    "duration": 26,
    "start_time": "2023-07-05T12:00:08.593Z"
   },
   {
    "duration": 26,
    "start_time": "2023-07-05T12:00:08.624Z"
   },
   {
    "duration": 181,
    "start_time": "2023-07-05T12:00:08.651Z"
   },
   {
    "duration": 294,
    "start_time": "2023-07-05T12:00:08.834Z"
   },
   {
    "duration": 29,
    "start_time": "2023-07-05T12:00:09.130Z"
   },
   {
    "duration": 214,
    "start_time": "2023-07-05T12:00:09.161Z"
   },
   {
    "duration": 192,
    "start_time": "2023-07-05T12:00:09.377Z"
   },
   {
    "duration": 943,
    "start_time": "2023-07-05T12:00:09.570Z"
   },
   {
    "duration": 4,
    "start_time": "2023-07-05T12:00:10.514Z"
   },
   {
    "duration": 4,
    "start_time": "2023-07-05T12:00:10.520Z"
   },
   {
    "duration": 25,
    "start_time": "2023-07-05T12:00:10.525Z"
   },
   {
    "duration": 24,
    "start_time": "2023-07-05T12:00:10.551Z"
   },
   {
    "duration": 12,
    "start_time": "2023-07-05T12:00:10.577Z"
   },
   {
    "duration": 400,
    "start_time": "2023-07-05T12:00:10.590Z"
   },
   {
    "duration": 28,
    "start_time": "2023-07-05T12:00:10.992Z"
   },
   {
    "duration": 20,
    "start_time": "2023-07-05T12:00:11.022Z"
   },
   {
    "duration": 6,
    "start_time": "2023-07-05T12:00:11.045Z"
   },
   {
    "duration": 5,
    "start_time": "2023-07-05T12:00:11.052Z"
   },
   {
    "duration": 16,
    "start_time": "2023-07-05T12:00:11.059Z"
   },
   {
    "duration": 149,
    "start_time": "2023-07-05T12:00:11.077Z"
   },
   {
    "duration": 8,
    "start_time": "2023-07-05T12:00:11.227Z"
   },
   {
    "duration": 177,
    "start_time": "2023-07-05T12:00:11.236Z"
   },
   {
    "duration": 6,
    "start_time": "2023-07-05T12:00:11.415Z"
   },
   {
    "duration": 1249,
    "start_time": "2023-07-05T12:36:32.723Z"
   },
   {
    "duration": 352,
    "start_time": "2023-07-05T12:36:33.975Z"
   },
   {
    "duration": 5,
    "start_time": "2023-07-05T12:36:34.328Z"
   },
   {
    "duration": 25,
    "start_time": "2023-07-05T12:36:34.336Z"
   },
   {
    "duration": 30,
    "start_time": "2023-07-05T12:36:34.363Z"
   },
   {
    "duration": 28,
    "start_time": "2023-07-05T12:36:34.395Z"
   },
   {
    "duration": 17,
    "start_time": "2023-07-05T12:36:34.430Z"
   },
   {
    "duration": 24,
    "start_time": "2023-07-05T12:36:34.449Z"
   },
   {
    "duration": 21,
    "start_time": "2023-07-05T12:36:34.475Z"
   },
   {
    "duration": 44,
    "start_time": "2023-07-05T12:36:34.500Z"
   },
   {
    "duration": 29,
    "start_time": "2023-07-05T12:36:34.546Z"
   },
   {
    "duration": 19,
    "start_time": "2023-07-05T12:36:34.577Z"
   },
   {
    "duration": 42,
    "start_time": "2023-07-05T12:36:34.599Z"
   },
   {
    "duration": 18,
    "start_time": "2023-07-05T12:36:34.644Z"
   },
   {
    "duration": 29,
    "start_time": "2023-07-05T12:36:34.665Z"
   },
   {
    "duration": 46,
    "start_time": "2023-07-05T12:36:34.696Z"
   },
   {
    "duration": 26,
    "start_time": "2023-07-05T12:36:34.744Z"
   },
   {
    "duration": 28,
    "start_time": "2023-07-05T12:36:34.773Z"
   },
   {
    "duration": 169,
    "start_time": "2023-07-05T12:36:34.803Z"
   },
   {
    "duration": 92,
    "start_time": "2023-07-05T12:36:34.975Z"
   },
   {
    "duration": 71,
    "start_time": "2023-07-05T12:36:35.069Z"
   },
   {
    "duration": 38,
    "start_time": "2023-07-05T12:36:35.142Z"
   },
   {
    "duration": 30,
    "start_time": "2023-07-05T12:36:35.182Z"
   },
   {
    "duration": 33,
    "start_time": "2023-07-05T12:36:35.216Z"
   },
   {
    "duration": 206,
    "start_time": "2023-07-05T12:36:35.251Z"
   },
   {
    "duration": 7,
    "start_time": "2023-07-05T12:36:35.459Z"
   },
   {
    "duration": 189,
    "start_time": "2023-07-05T12:36:35.468Z"
   },
   {
    "duration": 206,
    "start_time": "2023-07-05T12:36:35.662Z"
   },
   {
    "duration": 6,
    "start_time": "2023-07-05T12:36:35.870Z"
   },
   {
    "duration": 29,
    "start_time": "2023-07-05T12:36:35.878Z"
   },
   {
    "duration": 170,
    "start_time": "2023-07-05T12:36:35.908Z"
   },
   {
    "duration": 9,
    "start_time": "2023-07-05T12:36:36.081Z"
   },
   {
    "duration": 41,
    "start_time": "2023-07-05T12:36:36.092Z"
   },
   {
    "duration": 176,
    "start_time": "2023-07-05T12:36:36.135Z"
   },
   {
    "duration": 9,
    "start_time": "2023-07-05T12:36:36.313Z"
   },
   {
    "duration": 17,
    "start_time": "2023-07-05T12:36:36.324Z"
   },
   {
    "duration": 27,
    "start_time": "2023-07-05T12:36:36.343Z"
   },
   {
    "duration": 20,
    "start_time": "2023-07-05T12:36:36.373Z"
   },
   {
    "duration": 28,
    "start_time": "2023-07-05T12:36:36.395Z"
   },
   {
    "duration": 26,
    "start_time": "2023-07-05T12:36:36.425Z"
   },
   {
    "duration": 25,
    "start_time": "2023-07-05T12:36:36.453Z"
   },
   {
    "duration": 227,
    "start_time": "2023-07-05T12:36:36.480Z"
   },
   {
    "duration": 249,
    "start_time": "2023-07-05T12:36:36.709Z"
   },
   {
    "duration": 22,
    "start_time": "2023-07-05T12:36:36.959Z"
   },
   {
    "duration": 233,
    "start_time": "2023-07-05T12:36:36.984Z"
   },
   {
    "duration": 286,
    "start_time": "2023-07-05T12:36:37.219Z"
   },
   {
    "duration": 1127,
    "start_time": "2023-07-05T12:36:37.507Z"
   },
   {
    "duration": 3,
    "start_time": "2023-07-05T12:36:38.637Z"
   },
   {
    "duration": 12,
    "start_time": "2023-07-05T12:36:38.642Z"
   },
   {
    "duration": 26,
    "start_time": "2023-07-05T12:36:38.656Z"
   },
   {
    "duration": 46,
    "start_time": "2023-07-05T12:36:38.684Z"
   },
   {
    "duration": 5,
    "start_time": "2023-07-05T12:36:38.734Z"
   },
   {
    "duration": 427,
    "start_time": "2023-07-05T12:36:38.741Z"
   },
   {
    "duration": 20,
    "start_time": "2023-07-05T12:36:39.170Z"
   },
   {
    "duration": 47,
    "start_time": "2023-07-05T12:36:39.192Z"
   },
   {
    "duration": 18,
    "start_time": "2023-07-05T12:36:39.241Z"
   },
   {
    "duration": 13,
    "start_time": "2023-07-05T12:36:39.261Z"
   },
   {
    "duration": 11,
    "start_time": "2023-07-05T12:36:39.276Z"
   },
   {
    "duration": 154,
    "start_time": "2023-07-05T12:36:39.289Z"
   },
   {
    "duration": 6,
    "start_time": "2023-07-05T12:36:39.445Z"
   },
   {
    "duration": 269,
    "start_time": "2023-07-05T12:36:39.453Z"
   },
   {
    "duration": 21,
    "start_time": "2023-07-05T12:36:39.724Z"
   },
   {
    "duration": 63,
    "start_time": "2023-07-05T16:04:18.604Z"
   },
   {
    "duration": 1428,
    "start_time": "2023-07-05T16:04:34.056Z"
   },
   {
    "duration": 196,
    "start_time": "2023-07-05T16:04:35.487Z"
   },
   {
    "duration": 3,
    "start_time": "2023-07-05T16:04:35.685Z"
   },
   {
    "duration": 35,
    "start_time": "2023-07-05T16:04:35.690Z"
   },
   {
    "duration": 29,
    "start_time": "2023-07-05T16:04:35.727Z"
   },
   {
    "duration": 14,
    "start_time": "2023-07-05T16:04:35.758Z"
   },
   {
    "duration": 12,
    "start_time": "2023-07-05T16:04:35.774Z"
   },
   {
    "duration": 36,
    "start_time": "2023-07-05T16:04:35.789Z"
   },
   {
    "duration": 32,
    "start_time": "2023-07-05T16:04:35.827Z"
   },
   {
    "duration": 25,
    "start_time": "2023-07-05T16:04:35.862Z"
   },
   {
    "duration": 18,
    "start_time": "2023-07-05T16:04:35.889Z"
   },
   {
    "duration": 13,
    "start_time": "2023-07-05T16:04:35.909Z"
   },
   {
    "duration": 13,
    "start_time": "2023-07-05T16:04:35.923Z"
   },
   {
    "duration": 14,
    "start_time": "2023-07-05T16:04:35.938Z"
   },
   {
    "duration": 7,
    "start_time": "2023-07-05T16:04:35.954Z"
   },
   {
    "duration": 16,
    "start_time": "2023-07-05T16:04:35.962Z"
   },
   {
    "duration": 15,
    "start_time": "2023-07-05T16:04:35.979Z"
   },
   {
    "duration": 14,
    "start_time": "2023-07-05T16:04:35.995Z"
   },
   {
    "duration": 13,
    "start_time": "2023-07-05T16:04:36.011Z"
   },
   {
    "duration": 6,
    "start_time": "2023-07-05T16:04:36.026Z"
   },
   {
    "duration": 11,
    "start_time": "2023-07-05T16:04:36.033Z"
   },
   {
    "duration": 8,
    "start_time": "2023-07-05T16:04:36.046Z"
   },
   {
    "duration": 26,
    "start_time": "2023-07-05T16:04:36.055Z"
   },
   {
    "duration": 31,
    "start_time": "2023-07-05T16:04:36.094Z"
   },
   {
    "duration": 158,
    "start_time": "2023-07-05T16:04:36.127Z"
   },
   {
    "duration": 6,
    "start_time": "2023-07-05T16:04:36.287Z"
   },
   {
    "duration": 168,
    "start_time": "2023-07-05T16:04:36.296Z"
   },
   {
    "duration": 205,
    "start_time": "2023-07-05T16:04:36.468Z"
   },
   {
    "duration": 7,
    "start_time": "2023-07-05T16:04:36.675Z"
   },
   {
    "duration": 11,
    "start_time": "2023-07-05T16:04:36.683Z"
   },
   {
    "duration": 172,
    "start_time": "2023-07-05T16:04:36.696Z"
   },
   {
    "duration": 8,
    "start_time": "2023-07-05T16:04:36.871Z"
   },
   {
    "duration": 14,
    "start_time": "2023-07-05T16:04:36.881Z"
   },
   {
    "duration": 156,
    "start_time": "2023-07-05T16:04:36.896Z"
   },
   {
    "duration": 7,
    "start_time": "2023-07-05T16:04:37.053Z"
   },
   {
    "duration": 15,
    "start_time": "2023-07-05T16:04:37.062Z"
   },
   {
    "duration": 13,
    "start_time": "2023-07-05T16:04:37.079Z"
   },
   {
    "duration": 19,
    "start_time": "2023-07-05T16:04:37.093Z"
   },
   {
    "duration": 29,
    "start_time": "2023-07-05T16:04:37.114Z"
   },
   {
    "duration": 24,
    "start_time": "2023-07-05T16:04:37.144Z"
   },
   {
    "duration": 29,
    "start_time": "2023-07-05T16:04:37.170Z"
   },
   {
    "duration": 218,
    "start_time": "2023-07-05T16:04:37.200Z"
   },
   {
    "duration": 212,
    "start_time": "2023-07-05T16:04:37.420Z"
   },
   {
    "duration": 28,
    "start_time": "2023-07-05T16:04:37.634Z"
   },
   {
    "duration": 192,
    "start_time": "2023-07-05T16:04:37.664Z"
   },
   {
    "duration": 213,
    "start_time": "2023-07-05T16:04:37.858Z"
   },
   {
    "duration": 1082,
    "start_time": "2023-07-05T16:04:38.073Z"
   },
   {
    "duration": 4,
    "start_time": "2023-07-05T16:04:39.156Z"
   },
   {
    "duration": 16,
    "start_time": "2023-07-05T16:04:39.161Z"
   },
   {
    "duration": 21,
    "start_time": "2023-07-05T16:04:39.179Z"
   },
   {
    "duration": 14,
    "start_time": "2023-07-05T16:04:39.202Z"
   },
   {
    "duration": 6,
    "start_time": "2023-07-05T16:04:39.218Z"
   },
   {
    "duration": 386,
    "start_time": "2023-07-05T16:04:39.226Z"
   },
   {
    "duration": 16,
    "start_time": "2023-07-05T16:04:39.615Z"
   },
   {
    "duration": 29,
    "start_time": "2023-07-05T16:04:39.633Z"
   },
   {
    "duration": 6,
    "start_time": "2023-07-05T16:04:39.667Z"
   },
   {
    "duration": 11,
    "start_time": "2023-07-05T16:04:39.675Z"
   },
   {
    "duration": 13,
    "start_time": "2023-07-05T16:04:39.687Z"
   },
   {
    "duration": 166,
    "start_time": "2023-07-05T16:04:39.701Z"
   },
   {
    "duration": 8,
    "start_time": "2023-07-05T16:04:39.869Z"
   },
   {
    "duration": 214,
    "start_time": "2023-07-05T16:04:39.879Z"
   },
   {
    "duration": 5,
    "start_time": "2023-07-05T16:04:40.095Z"
   },
   {
    "duration": 7,
    "start_time": "2023-07-05T16:05:17.189Z"
   },
   {
    "duration": 6,
    "start_time": "2023-07-05T16:05:26.731Z"
   },
   {
    "duration": 6,
    "start_time": "2023-07-05T16:07:37.496Z"
   },
   {
    "duration": 5,
    "start_time": "2023-07-05T16:08:47.863Z"
   },
   {
    "duration": 277,
    "start_time": "2023-07-05T16:31:13.824Z"
   },
   {
    "duration": 169,
    "start_time": "2023-07-05T16:31:31.795Z"
   },
   {
    "duration": 168,
    "start_time": "2023-07-05T16:32:04.674Z"
   },
   {
    "duration": 198,
    "start_time": "2023-07-05T16:33:21.777Z"
   },
   {
    "duration": 176,
    "start_time": "2023-07-05T16:33:29.927Z"
   },
   {
    "duration": 158,
    "start_time": "2023-07-05T16:33:39.106Z"
   },
   {
    "duration": 167,
    "start_time": "2023-07-05T16:33:47.180Z"
   },
   {
    "duration": 172,
    "start_time": "2023-07-05T16:33:53.473Z"
   },
   {
    "duration": 297,
    "start_time": "2023-07-05T16:34:00.847Z"
   },
   {
    "duration": 162,
    "start_time": "2023-07-05T16:35:51.475Z"
   },
   {
    "duration": 23,
    "start_time": "2023-07-05T16:54:48.645Z"
   },
   {
    "duration": 1025,
    "start_time": "2023-07-05T17:01:53.619Z"
   },
   {
    "duration": 29,
    "start_time": "2023-07-05T17:04:58.742Z"
   },
   {
    "duration": 24,
    "start_time": "2023-07-05T17:06:13.661Z"
   },
   {
    "duration": 15,
    "start_time": "2023-07-05T17:08:51.874Z"
   },
   {
    "duration": 101,
    "start_time": "2023-07-06T03:52:31.149Z"
   },
   {
    "duration": 140,
    "start_time": "2023-07-06T03:52:37.857Z"
   },
   {
    "duration": 99,
    "start_time": "2023-07-06T03:52:50.293Z"
   },
   {
    "duration": 110,
    "start_time": "2023-07-06T03:53:00.659Z"
   },
   {
    "duration": 1290,
    "start_time": "2023-07-06T03:53:11.910Z"
   },
   {
    "duration": 210,
    "start_time": "2023-07-06T03:53:13.202Z"
   },
   {
    "duration": 4,
    "start_time": "2023-07-06T03:53:13.414Z"
   },
   {
    "duration": 41,
    "start_time": "2023-07-06T03:53:13.419Z"
   },
   {
    "duration": 27,
    "start_time": "2023-07-06T03:53:13.462Z"
   },
   {
    "duration": 56,
    "start_time": "2023-07-06T03:53:13.491Z"
   },
   {
    "duration": 32,
    "start_time": "2023-07-06T03:53:13.549Z"
   },
   {
    "duration": 38,
    "start_time": "2023-07-06T03:53:13.582Z"
   },
   {
    "duration": 29,
    "start_time": "2023-07-06T03:53:13.622Z"
   },
   {
    "duration": 27,
    "start_time": "2023-07-06T03:53:13.653Z"
   },
   {
    "duration": 34,
    "start_time": "2023-07-06T03:53:13.681Z"
   },
   {
    "duration": 47,
    "start_time": "2023-07-06T03:53:13.717Z"
   },
   {
    "duration": 84,
    "start_time": "2023-07-06T03:53:13.765Z"
   },
   {
    "duration": 40,
    "start_time": "2023-07-06T03:53:13.852Z"
   },
   {
    "duration": 40,
    "start_time": "2023-07-06T03:53:13.893Z"
   },
   {
    "duration": 22,
    "start_time": "2023-07-06T03:53:13.936Z"
   },
   {
    "duration": 38,
    "start_time": "2023-07-06T03:53:13.960Z"
   },
   {
    "duration": 39,
    "start_time": "2023-07-06T03:53:14.000Z"
   },
   {
    "duration": 36,
    "start_time": "2023-07-06T03:53:14.041Z"
   },
   {
    "duration": 33,
    "start_time": "2023-07-06T03:53:14.079Z"
   },
   {
    "duration": 15,
    "start_time": "2023-07-06T03:53:14.114Z"
   },
   {
    "duration": 43,
    "start_time": "2023-07-06T03:53:14.131Z"
   },
   {
    "duration": 55,
    "start_time": "2023-07-06T03:53:14.175Z"
   },
   {
    "duration": 14,
    "start_time": "2023-07-06T03:53:14.232Z"
   },
   {
    "duration": 160,
    "start_time": "2023-07-06T03:53:14.248Z"
   },
   {
    "duration": 183,
    "start_time": "2023-07-06T03:53:14.409Z"
   },
   {
    "duration": 7,
    "start_time": "2023-07-06T03:53:14.594Z"
   },
   {
    "duration": 181,
    "start_time": "2023-07-06T03:53:14.603Z"
   },
   {
    "duration": 208,
    "start_time": "2023-07-06T03:53:14.786Z"
   },
   {
    "duration": 6,
    "start_time": "2023-07-06T03:53:14.997Z"
   },
   {
    "duration": 102,
    "start_time": "2023-07-06T03:53:15.005Z"
   },
   {
    "duration": 173,
    "start_time": "2023-07-06T03:53:15.109Z"
   },
   {
    "duration": 7,
    "start_time": "2023-07-06T03:53:15.284Z"
   },
   {
    "duration": 63,
    "start_time": "2023-07-06T03:53:15.293Z"
   },
   {
    "duration": 140,
    "start_time": "2023-07-06T03:53:15.358Z"
   },
   {
    "duration": 7,
    "start_time": "2023-07-06T03:53:15.499Z"
   },
   {
    "duration": 21,
    "start_time": "2023-07-06T03:53:15.508Z"
   },
   {
    "duration": 40,
    "start_time": "2023-07-06T03:53:15.532Z"
   },
   {
    "duration": 20,
    "start_time": "2023-07-06T03:53:15.573Z"
   },
   {
    "duration": 34,
    "start_time": "2023-07-06T03:53:15.595Z"
   },
   {
    "duration": 35,
    "start_time": "2023-07-06T03:53:15.635Z"
   },
   {
    "duration": 75,
    "start_time": "2023-07-06T03:53:15.671Z"
   },
   {
    "duration": 38,
    "start_time": "2023-07-06T03:53:15.750Z"
   },
   {
    "duration": 39,
    "start_time": "2023-07-06T03:53:15.790Z"
   },
   {
    "duration": 53,
    "start_time": "2023-07-06T03:53:15.831Z"
   },
   {
    "duration": 30,
    "start_time": "2023-07-06T03:53:15.886Z"
   },
   {
    "duration": 218,
    "start_time": "2023-07-06T03:53:15.918Z"
   },
   {
    "duration": 242,
    "start_time": "2023-07-06T03:53:16.138Z"
   },
   {
    "duration": 25,
    "start_time": "2023-07-06T03:53:16.382Z"
   },
   {
    "duration": 219,
    "start_time": "2023-07-06T03:53:16.409Z"
   },
   {
    "duration": 306,
    "start_time": "2023-07-06T03:53:16.632Z"
   },
   {
    "duration": 122,
    "start_time": "2023-07-06T03:53:16.941Z"
   },
   {
    "duration": 0,
    "start_time": "2023-07-06T03:53:17.065Z"
   },
   {
    "duration": 0,
    "start_time": "2023-07-06T03:53:17.066Z"
   },
   {
    "duration": 0,
    "start_time": "2023-07-06T03:53:17.067Z"
   },
   {
    "duration": 0,
    "start_time": "2023-07-06T03:53:17.069Z"
   },
   {
    "duration": 0,
    "start_time": "2023-07-06T03:53:17.070Z"
   },
   {
    "duration": 0,
    "start_time": "2023-07-06T03:53:17.071Z"
   },
   {
    "duration": 0,
    "start_time": "2023-07-06T03:53:17.072Z"
   },
   {
    "duration": 0,
    "start_time": "2023-07-06T03:53:17.072Z"
   },
   {
    "duration": 0,
    "start_time": "2023-07-06T03:53:17.073Z"
   },
   {
    "duration": 0,
    "start_time": "2023-07-06T03:53:17.075Z"
   },
   {
    "duration": 0,
    "start_time": "2023-07-06T03:53:17.077Z"
   },
   {
    "duration": 0,
    "start_time": "2023-07-06T03:53:17.079Z"
   },
   {
    "duration": 0,
    "start_time": "2023-07-06T03:53:17.080Z"
   },
   {
    "duration": 0,
    "start_time": "2023-07-06T03:53:17.082Z"
   },
   {
    "duration": 0,
    "start_time": "2023-07-06T03:53:17.083Z"
   },
   {
    "duration": 0,
    "start_time": "2023-07-06T03:53:17.084Z"
   },
   {
    "duration": 249,
    "start_time": "2023-07-06T03:54:17.769Z"
   },
   {
    "duration": 1104,
    "start_time": "2023-07-06T03:55:27.478Z"
   },
   {
    "duration": 74,
    "start_time": "2023-07-06T03:55:28.584Z"
   },
   {
    "duration": 3,
    "start_time": "2023-07-06T03:55:28.660Z"
   },
   {
    "duration": 28,
    "start_time": "2023-07-06T03:55:28.664Z"
   },
   {
    "duration": 14,
    "start_time": "2023-07-06T03:55:28.694Z"
   },
   {
    "duration": 20,
    "start_time": "2023-07-06T03:55:28.710Z"
   },
   {
    "duration": 42,
    "start_time": "2023-07-06T03:55:28.734Z"
   },
   {
    "duration": 24,
    "start_time": "2023-07-06T03:55:28.778Z"
   },
   {
    "duration": 8,
    "start_time": "2023-07-06T03:55:28.804Z"
   },
   {
    "duration": 9,
    "start_time": "2023-07-06T03:55:28.814Z"
   },
   {
    "duration": 21,
    "start_time": "2023-07-06T03:55:28.824Z"
   },
   {
    "duration": 23,
    "start_time": "2023-07-06T03:55:28.847Z"
   },
   {
    "duration": 17,
    "start_time": "2023-07-06T03:55:28.871Z"
   },
   {
    "duration": 8,
    "start_time": "2023-07-06T03:55:28.891Z"
   },
   {
    "duration": 6,
    "start_time": "2023-07-06T03:55:28.900Z"
   },
   {
    "duration": 9,
    "start_time": "2023-07-06T03:55:28.907Z"
   },
   {
    "duration": 7,
    "start_time": "2023-07-06T03:55:28.917Z"
   },
   {
    "duration": 19,
    "start_time": "2023-07-06T03:55:28.925Z"
   },
   {
    "duration": 26,
    "start_time": "2023-07-06T03:55:28.945Z"
   },
   {
    "duration": 5,
    "start_time": "2023-07-06T03:55:28.972Z"
   },
   {
    "duration": 10,
    "start_time": "2023-07-06T03:55:28.978Z"
   },
   {
    "duration": 7,
    "start_time": "2023-07-06T03:55:28.990Z"
   },
   {
    "duration": 10,
    "start_time": "2023-07-06T03:55:28.998Z"
   },
   {
    "duration": 15,
    "start_time": "2023-07-06T03:55:29.010Z"
   },
   {
    "duration": 141,
    "start_time": "2023-07-06T03:55:29.026Z"
   },
   {
    "duration": 144,
    "start_time": "2023-07-06T03:55:29.169Z"
   },
   {
    "duration": 5,
    "start_time": "2023-07-06T03:55:29.315Z"
   },
   {
    "duration": 140,
    "start_time": "2023-07-06T03:55:29.321Z"
   },
   {
    "duration": 170,
    "start_time": "2023-07-06T03:55:29.463Z"
   },
   {
    "duration": 5,
    "start_time": "2023-07-06T03:55:29.634Z"
   },
   {
    "duration": 36,
    "start_time": "2023-07-06T03:55:29.641Z"
   },
   {
    "duration": 154,
    "start_time": "2023-07-06T03:55:29.679Z"
   },
   {
    "duration": 7,
    "start_time": "2023-07-06T03:55:29.836Z"
   },
   {
    "duration": 24,
    "start_time": "2023-07-06T03:55:29.845Z"
   },
   {
    "duration": 133,
    "start_time": "2023-07-06T03:55:29.870Z"
   },
   {
    "duration": 7,
    "start_time": "2023-07-06T03:55:30.005Z"
   },
   {
    "duration": 63,
    "start_time": "2023-07-06T03:55:30.014Z"
   },
   {
    "duration": 77,
    "start_time": "2023-07-06T03:55:30.078Z"
   },
   {
    "duration": 27,
    "start_time": "2023-07-06T03:55:30.159Z"
   },
   {
    "duration": 24,
    "start_time": "2023-07-06T03:55:30.188Z"
   },
   {
    "duration": 27,
    "start_time": "2023-07-06T03:55:30.216Z"
   },
   {
    "duration": 36,
    "start_time": "2023-07-06T03:55:30.245Z"
   },
   {
    "duration": 35,
    "start_time": "2023-07-06T03:55:30.283Z"
   },
   {
    "duration": 54,
    "start_time": "2023-07-06T03:55:30.320Z"
   },
   {
    "duration": 54,
    "start_time": "2023-07-06T03:55:30.375Z"
   },
   {
    "duration": 62,
    "start_time": "2023-07-06T03:55:30.431Z"
   },
   {
    "duration": 210,
    "start_time": "2023-07-06T03:55:30.494Z"
   },
   {
    "duration": 199,
    "start_time": "2023-07-06T03:55:30.706Z"
   },
   {
    "duration": 29,
    "start_time": "2023-07-06T03:55:30.907Z"
   },
   {
    "duration": 184,
    "start_time": "2023-07-06T03:55:30.938Z"
   },
   {
    "duration": 273,
    "start_time": "2023-07-06T03:55:31.123Z"
   },
   {
    "duration": 893,
    "start_time": "2023-07-06T03:55:31.397Z"
   },
   {
    "duration": 2,
    "start_time": "2023-07-06T03:55:32.292Z"
   },
   {
    "duration": 8,
    "start_time": "2023-07-06T03:55:32.295Z"
   },
   {
    "duration": 34,
    "start_time": "2023-07-06T03:55:32.304Z"
   },
   {
    "duration": 25,
    "start_time": "2023-07-06T03:55:32.344Z"
   },
   {
    "duration": 23,
    "start_time": "2023-07-06T03:55:32.370Z"
   },
   {
    "duration": 392,
    "start_time": "2023-07-06T03:55:32.395Z"
   },
   {
    "duration": 17,
    "start_time": "2023-07-06T03:55:32.789Z"
   },
   {
    "duration": 28,
    "start_time": "2023-07-06T03:55:32.807Z"
   },
   {
    "duration": 14,
    "start_time": "2023-07-06T03:55:32.837Z"
   },
   {
    "duration": 23,
    "start_time": "2023-07-06T03:55:32.858Z"
   },
   {
    "duration": 12,
    "start_time": "2023-07-06T03:55:32.882Z"
   },
   {
    "duration": 133,
    "start_time": "2023-07-06T03:55:32.895Z"
   },
   {
    "duration": 15,
    "start_time": "2023-07-06T03:55:33.030Z"
   },
   {
    "duration": 219,
    "start_time": "2023-07-06T03:55:33.047Z"
   },
   {
    "duration": 6,
    "start_time": "2023-07-06T03:55:33.268Z"
   },
   {
    "duration": 5,
    "start_time": "2023-07-06T04:12:28.715Z"
   },
   {
    "duration": 12,
    "start_time": "2023-07-06T05:06:00.425Z"
   },
   {
    "duration": 772,
    "start_time": "2023-07-06T05:06:05.059Z"
   },
   {
    "duration": 1025,
    "start_time": "2023-07-06T05:15:31.200Z"
   },
   {
    "duration": 81,
    "start_time": "2023-07-06T05:15:32.229Z"
   },
   {
    "duration": 3,
    "start_time": "2023-07-06T05:15:32.311Z"
   },
   {
    "duration": 58,
    "start_time": "2023-07-06T05:15:32.315Z"
   },
   {
    "duration": 84,
    "start_time": "2023-07-06T05:15:32.376Z"
   },
   {
    "duration": 64,
    "start_time": "2023-07-06T05:15:32.461Z"
   },
   {
    "duration": 38,
    "start_time": "2023-07-06T05:15:32.527Z"
   },
   {
    "duration": 26,
    "start_time": "2023-07-06T05:15:32.567Z"
   },
   {
    "duration": 45,
    "start_time": "2023-07-06T05:15:32.594Z"
   },
   {
    "duration": 28,
    "start_time": "2023-07-06T05:15:32.644Z"
   },
   {
    "duration": 24,
    "start_time": "2023-07-06T05:15:32.674Z"
   },
   {
    "duration": 24,
    "start_time": "2023-07-06T05:15:32.700Z"
   },
   {
    "duration": 77,
    "start_time": "2023-07-06T05:15:32.726Z"
   },
   {
    "duration": 20,
    "start_time": "2023-07-06T05:15:32.806Z"
   },
   {
    "duration": 22,
    "start_time": "2023-07-06T05:15:32.827Z"
   },
   {
    "duration": 9,
    "start_time": "2023-07-06T05:15:32.850Z"
   },
   {
    "duration": 19,
    "start_time": "2023-07-06T05:15:32.860Z"
   },
   {
    "duration": 12,
    "start_time": "2023-07-06T05:15:32.880Z"
   },
   {
    "duration": 11,
    "start_time": "2023-07-06T05:15:32.894Z"
   },
   {
    "duration": 5,
    "start_time": "2023-07-06T05:15:32.906Z"
   },
   {
    "duration": 13,
    "start_time": "2023-07-06T05:15:32.912Z"
   },
   {
    "duration": 10,
    "start_time": "2023-07-06T05:15:32.927Z"
   },
   {
    "duration": 14,
    "start_time": "2023-07-06T05:15:32.946Z"
   },
   {
    "duration": 14,
    "start_time": "2023-07-06T05:15:32.961Z"
   },
   {
    "duration": 133,
    "start_time": "2023-07-06T05:15:32.976Z"
   },
   {
    "duration": 149,
    "start_time": "2023-07-06T05:15:33.111Z"
   },
   {
    "duration": 6,
    "start_time": "2023-07-06T05:15:33.261Z"
   },
   {
    "duration": 141,
    "start_time": "2023-07-06T05:15:33.268Z"
   },
   {
    "duration": 177,
    "start_time": "2023-07-06T05:15:33.410Z"
   },
   {
    "duration": 5,
    "start_time": "2023-07-06T05:15:33.589Z"
   },
   {
    "duration": 8,
    "start_time": "2023-07-06T05:15:33.596Z"
   },
   {
    "duration": 157,
    "start_time": "2023-07-06T05:15:33.605Z"
   },
   {
    "duration": 7,
    "start_time": "2023-07-06T05:15:33.763Z"
   },
   {
    "duration": 9,
    "start_time": "2023-07-06T05:15:33.771Z"
   },
   {
    "duration": 145,
    "start_time": "2023-07-06T05:15:33.782Z"
   },
   {
    "duration": 10,
    "start_time": "2023-07-06T05:15:33.929Z"
   },
   {
    "duration": 18,
    "start_time": "2023-07-06T05:15:33.941Z"
   },
   {
    "duration": 19,
    "start_time": "2023-07-06T05:15:33.961Z"
   },
   {
    "duration": 19,
    "start_time": "2023-07-06T05:15:33.982Z"
   },
   {
    "duration": 9,
    "start_time": "2023-07-06T05:15:34.002Z"
   },
   {
    "duration": 21,
    "start_time": "2023-07-06T05:15:34.014Z"
   },
   {
    "duration": 17,
    "start_time": "2023-07-06T05:15:34.037Z"
   },
   {
    "duration": 11,
    "start_time": "2023-07-06T05:15:34.056Z"
   },
   {
    "duration": 17,
    "start_time": "2023-07-06T05:15:34.068Z"
   },
   {
    "duration": 12,
    "start_time": "2023-07-06T05:15:34.087Z"
   },
   {
    "duration": 45,
    "start_time": "2023-07-06T05:15:34.101Z"
   },
   {
    "duration": 173,
    "start_time": "2023-07-06T05:15:34.149Z"
   },
   {
    "duration": 188,
    "start_time": "2023-07-06T05:15:34.334Z"
   },
   {
    "duration": 34,
    "start_time": "2023-07-06T05:15:34.524Z"
   },
   {
    "duration": 200,
    "start_time": "2023-07-06T05:15:34.561Z"
   },
   {
    "duration": 285,
    "start_time": "2023-07-06T05:15:34.763Z"
   },
   {
    "duration": 802,
    "start_time": "2023-07-06T05:15:35.049Z"
   },
   {
    "duration": 9,
    "start_time": "2023-07-06T05:15:35.853Z"
   },
   {
    "duration": 6,
    "start_time": "2023-07-06T05:15:35.864Z"
   },
   {
    "duration": 7,
    "start_time": "2023-07-06T05:15:35.871Z"
   },
   {
    "duration": 26,
    "start_time": "2023-07-06T05:15:35.879Z"
   },
   {
    "duration": 10,
    "start_time": "2023-07-06T05:15:35.906Z"
   },
   {
    "duration": 25,
    "start_time": "2023-07-06T05:15:35.918Z"
   },
   {
    "duration": 333,
    "start_time": "2023-07-06T05:15:35.948Z"
   },
   {
    "duration": 15,
    "start_time": "2023-07-06T05:15:36.283Z"
   },
   {
    "duration": 20,
    "start_time": "2023-07-06T05:15:36.300Z"
   },
   {
    "duration": 15,
    "start_time": "2023-07-06T05:15:36.331Z"
   },
   {
    "duration": 12,
    "start_time": "2023-07-06T05:15:36.347Z"
   },
   {
    "duration": 12,
    "start_time": "2023-07-06T05:15:36.360Z"
   },
   {
    "duration": 12,
    "start_time": "2023-07-06T05:15:36.374Z"
   },
   {
    "duration": 121,
    "start_time": "2023-07-06T05:15:36.388Z"
   },
   {
    "duration": 6,
    "start_time": "2023-07-06T05:15:36.510Z"
   },
   {
    "duration": 178,
    "start_time": "2023-07-06T05:15:36.537Z"
   },
   {
    "duration": 5,
    "start_time": "2023-07-06T05:15:36.716Z"
   },
   {
    "duration": 136,
    "start_time": "2023-07-06T05:17:50.043Z"
   },
   {
    "duration": 1128,
    "start_time": "2023-07-06T05:17:59.849Z"
   },
   {
    "duration": 80,
    "start_time": "2023-07-06T05:18:00.979Z"
   },
   {
    "duration": 89,
    "start_time": "2023-07-06T05:18:01.060Z"
   },
   {
    "duration": 45,
    "start_time": "2023-07-06T05:18:01.151Z"
   },
   {
    "duration": 42,
    "start_time": "2023-07-06T05:18:01.199Z"
   },
   {
    "duration": 39,
    "start_time": "2023-07-06T05:18:01.243Z"
   },
   {
    "duration": 113,
    "start_time": "2023-07-06T05:18:01.284Z"
   },
   {
    "duration": 40,
    "start_time": "2023-07-06T05:18:01.398Z"
   },
   {
    "duration": 42,
    "start_time": "2023-07-06T05:18:01.444Z"
   },
   {
    "duration": 33,
    "start_time": "2023-07-06T05:18:01.488Z"
   },
   {
    "duration": 49,
    "start_time": "2023-07-06T05:18:01.523Z"
   },
   {
    "duration": 24,
    "start_time": "2023-07-06T05:18:01.573Z"
   },
   {
    "duration": 41,
    "start_time": "2023-07-06T05:18:01.599Z"
   },
   {
    "duration": 35,
    "start_time": "2023-07-06T05:18:01.644Z"
   },
   {
    "duration": 44,
    "start_time": "2023-07-06T05:18:01.681Z"
   },
   {
    "duration": 72,
    "start_time": "2023-07-06T05:18:01.727Z"
   },
   {
    "duration": 55,
    "start_time": "2023-07-06T05:18:01.801Z"
   },
   {
    "duration": 54,
    "start_time": "2023-07-06T05:18:01.857Z"
   },
   {
    "duration": 53,
    "start_time": "2023-07-06T05:18:01.913Z"
   },
   {
    "duration": 23,
    "start_time": "2023-07-06T05:18:01.967Z"
   },
   {
    "duration": 60,
    "start_time": "2023-07-06T05:18:01.991Z"
   },
   {
    "duration": 27,
    "start_time": "2023-07-06T05:18:02.052Z"
   },
   {
    "duration": 28,
    "start_time": "2023-07-06T05:18:02.081Z"
   },
   {
    "duration": 36,
    "start_time": "2023-07-06T05:18:02.111Z"
   },
   {
    "duration": 178,
    "start_time": "2023-07-06T05:18:02.149Z"
   },
   {
    "duration": 160,
    "start_time": "2023-07-06T05:18:02.328Z"
   },
   {
    "duration": 6,
    "start_time": "2023-07-06T05:18:02.490Z"
   },
   {
    "duration": 152,
    "start_time": "2023-07-06T05:18:02.497Z"
   },
   {
    "duration": 172,
    "start_time": "2023-07-06T05:18:02.651Z"
   },
   {
    "duration": 9,
    "start_time": "2023-07-06T05:18:02.836Z"
   },
   {
    "duration": 76,
    "start_time": "2023-07-06T05:18:02.852Z"
   },
   {
    "duration": 218,
    "start_time": "2023-07-06T05:18:02.930Z"
   },
   {
    "duration": 9,
    "start_time": "2023-07-06T05:18:03.150Z"
   },
   {
    "duration": 24,
    "start_time": "2023-07-06T05:18:03.161Z"
   },
   {
    "duration": 163,
    "start_time": "2023-07-06T05:18:03.187Z"
   },
   {
    "duration": 8,
    "start_time": "2023-07-06T05:18:03.353Z"
   },
   {
    "duration": 47,
    "start_time": "2023-07-06T05:18:03.363Z"
   },
   {
    "duration": 49,
    "start_time": "2023-07-06T05:18:03.412Z"
   },
   {
    "duration": 36,
    "start_time": "2023-07-06T05:18:03.463Z"
   },
   {
    "duration": 16,
    "start_time": "2023-07-06T05:18:03.501Z"
   },
   {
    "duration": 40,
    "start_time": "2023-07-06T05:18:03.522Z"
   },
   {
    "duration": 29,
    "start_time": "2023-07-06T05:18:03.563Z"
   },
   {
    "duration": 19,
    "start_time": "2023-07-06T05:18:03.594Z"
   },
   {
    "duration": 47,
    "start_time": "2023-07-06T05:18:03.615Z"
   },
   {
    "duration": 38,
    "start_time": "2023-07-06T05:18:03.665Z"
   },
   {
    "duration": 38,
    "start_time": "2023-07-06T05:18:03.705Z"
   },
   {
    "duration": 177,
    "start_time": "2023-07-06T05:18:03.744Z"
   },
   {
    "duration": 205,
    "start_time": "2023-07-06T05:18:03.923Z"
   },
   {
    "duration": 28,
    "start_time": "2023-07-06T05:18:04.130Z"
   },
   {
    "duration": 182,
    "start_time": "2023-07-06T05:18:04.160Z"
   },
   {
    "duration": 292,
    "start_time": "2023-07-06T05:18:04.344Z"
   },
   {
    "duration": 853,
    "start_time": "2023-07-06T05:18:04.641Z"
   },
   {
    "duration": 12,
    "start_time": "2023-07-06T05:18:05.496Z"
   },
   {
    "duration": 37,
    "start_time": "2023-07-06T05:18:05.510Z"
   },
   {
    "duration": 9,
    "start_time": "2023-07-06T05:18:05.548Z"
   },
   {
    "duration": 16,
    "start_time": "2023-07-06T05:18:05.558Z"
   },
   {
    "duration": 12,
    "start_time": "2023-07-06T05:18:05.575Z"
   },
   {
    "duration": 4,
    "start_time": "2023-07-06T05:18:05.588Z"
   },
   {
    "duration": 335,
    "start_time": "2023-07-06T05:18:05.593Z"
   },
   {
    "duration": 25,
    "start_time": "2023-07-06T05:18:05.931Z"
   },
   {
    "duration": 15,
    "start_time": "2023-07-06T05:18:05.957Z"
   },
   {
    "duration": 13,
    "start_time": "2023-07-06T05:18:05.973Z"
   },
   {
    "duration": 36,
    "start_time": "2023-07-06T05:18:05.987Z"
   },
   {
    "duration": 43,
    "start_time": "2023-07-06T05:18:06.025Z"
   },
   {
    "duration": 10,
    "start_time": "2023-07-06T05:18:06.069Z"
   },
   {
    "duration": 138,
    "start_time": "2023-07-06T05:18:06.080Z"
   },
   {
    "duration": 5,
    "start_time": "2023-07-06T05:18:06.219Z"
   },
   {
    "duration": 192,
    "start_time": "2023-07-06T05:18:06.225Z"
   },
   {
    "duration": 6,
    "start_time": "2023-07-06T05:18:06.419Z"
   },
   {
    "duration": 139,
    "start_time": "2023-07-06T05:19:45.054Z"
   },
   {
    "duration": 1071,
    "start_time": "2023-07-06T05:23:50.807Z"
   },
   {
    "duration": 79,
    "start_time": "2023-07-06T05:23:51.880Z"
   },
   {
    "duration": 2,
    "start_time": "2023-07-06T05:23:51.961Z"
   },
   {
    "duration": 25,
    "start_time": "2023-07-06T05:23:51.965Z"
   },
   {
    "duration": 15,
    "start_time": "2023-07-06T05:23:51.992Z"
   },
   {
    "duration": 16,
    "start_time": "2023-07-06T05:23:52.008Z"
   },
   {
    "duration": 30,
    "start_time": "2023-07-06T05:23:52.025Z"
   },
   {
    "duration": 21,
    "start_time": "2023-07-06T05:23:52.057Z"
   },
   {
    "duration": 23,
    "start_time": "2023-07-06T05:23:52.080Z"
   },
   {
    "duration": 13,
    "start_time": "2023-07-06T05:23:52.105Z"
   },
   {
    "duration": 32,
    "start_time": "2023-07-06T05:23:52.120Z"
   },
   {
    "duration": 11,
    "start_time": "2023-07-06T05:23:52.154Z"
   },
   {
    "duration": 21,
    "start_time": "2023-07-06T05:23:52.167Z"
   },
   {
    "duration": 13,
    "start_time": "2023-07-06T05:23:52.190Z"
   },
   {
    "duration": 13,
    "start_time": "2023-07-06T05:23:52.204Z"
   },
   {
    "duration": 32,
    "start_time": "2023-07-06T05:23:52.218Z"
   },
   {
    "duration": 15,
    "start_time": "2023-07-06T05:23:52.252Z"
   },
   {
    "duration": 19,
    "start_time": "2023-07-06T05:23:52.268Z"
   },
   {
    "duration": 19,
    "start_time": "2023-07-06T05:23:52.288Z"
   },
   {
    "duration": 6,
    "start_time": "2023-07-06T05:23:52.308Z"
   },
   {
    "duration": 28,
    "start_time": "2023-07-06T05:23:52.315Z"
   },
   {
    "duration": 21,
    "start_time": "2023-07-06T05:23:52.345Z"
   },
   {
    "duration": 16,
    "start_time": "2023-07-06T05:23:52.368Z"
   },
   {
    "duration": 24,
    "start_time": "2023-07-06T05:23:52.385Z"
   },
   {
    "duration": 167,
    "start_time": "2023-07-06T05:23:52.411Z"
   },
   {
    "duration": 156,
    "start_time": "2023-07-06T05:23:52.580Z"
   },
   {
    "duration": 9,
    "start_time": "2023-07-06T05:23:52.738Z"
   },
   {
    "duration": 136,
    "start_time": "2023-07-06T05:23:52.749Z"
   },
   {
    "duration": 183,
    "start_time": "2023-07-06T05:23:52.886Z"
   },
   {
    "duration": 8,
    "start_time": "2023-07-06T05:23:53.072Z"
   },
   {
    "duration": 19,
    "start_time": "2023-07-06T05:23:53.082Z"
   },
   {
    "duration": 176,
    "start_time": "2023-07-06T05:23:53.103Z"
   },
   {
    "duration": 7,
    "start_time": "2023-07-06T05:23:53.281Z"
   },
   {
    "duration": 16,
    "start_time": "2023-07-06T05:23:53.289Z"
   },
   {
    "duration": 176,
    "start_time": "2023-07-06T05:23:53.306Z"
   },
   {
    "duration": 7,
    "start_time": "2023-07-06T05:23:53.484Z"
   },
   {
    "duration": 14,
    "start_time": "2023-07-06T05:23:53.493Z"
   },
   {
    "duration": 33,
    "start_time": "2023-07-06T05:23:53.508Z"
   },
   {
    "duration": 13,
    "start_time": "2023-07-06T05:23:53.548Z"
   },
   {
    "duration": 10,
    "start_time": "2023-07-06T05:23:53.562Z"
   },
   {
    "duration": 19,
    "start_time": "2023-07-06T05:23:53.576Z"
   },
   {
    "duration": 19,
    "start_time": "2023-07-06T05:23:53.597Z"
   },
   {
    "duration": 24,
    "start_time": "2023-07-06T05:23:53.618Z"
   },
   {
    "duration": 44,
    "start_time": "2023-07-06T05:23:53.643Z"
   },
   {
    "duration": 53,
    "start_time": "2023-07-06T05:23:53.688Z"
   },
   {
    "duration": 39,
    "start_time": "2023-07-06T05:23:53.743Z"
   },
   {
    "duration": 186,
    "start_time": "2023-07-06T05:23:53.784Z"
   },
   {
    "duration": 210,
    "start_time": "2023-07-06T05:23:53.972Z"
   },
   {
    "duration": 19,
    "start_time": "2023-07-06T05:23:54.184Z"
   },
   {
    "duration": 189,
    "start_time": "2023-07-06T05:23:54.204Z"
   },
   {
    "duration": 292,
    "start_time": "2023-07-06T05:23:54.395Z"
   },
   {
    "duration": 877,
    "start_time": "2023-07-06T05:23:54.690Z"
   },
   {
    "duration": 13,
    "start_time": "2023-07-06T05:23:55.569Z"
   },
   {
    "duration": 11,
    "start_time": "2023-07-06T05:23:55.583Z"
   },
   {
    "duration": 26,
    "start_time": "2023-07-06T05:23:55.595Z"
   },
   {
    "duration": 30,
    "start_time": "2023-07-06T05:23:55.623Z"
   },
   {
    "duration": 26,
    "start_time": "2023-07-06T05:23:55.654Z"
   },
   {
    "duration": 26,
    "start_time": "2023-07-06T05:23:55.682Z"
   },
   {
    "duration": 395,
    "start_time": "2023-07-06T05:23:55.710Z"
   },
   {
    "duration": 27,
    "start_time": "2023-07-06T05:23:56.107Z"
   },
   {
    "duration": 17,
    "start_time": "2023-07-06T05:23:56.140Z"
   },
   {
    "duration": 28,
    "start_time": "2023-07-06T05:23:56.158Z"
   },
   {
    "duration": 25,
    "start_time": "2023-07-06T05:23:56.188Z"
   },
   {
    "duration": 29,
    "start_time": "2023-07-06T05:23:56.214Z"
   },
   {
    "duration": 33,
    "start_time": "2023-07-06T05:23:56.245Z"
   },
   {
    "duration": 138,
    "start_time": "2023-07-06T05:23:56.280Z"
   },
   {
    "duration": 13,
    "start_time": "2023-07-06T05:23:56.420Z"
   },
   {
    "duration": 214,
    "start_time": "2023-07-06T05:23:56.435Z"
   },
   {
    "duration": 5,
    "start_time": "2023-07-06T05:23:56.651Z"
   },
   {
    "duration": 16,
    "start_time": "2023-07-06T05:32:01.645Z"
   },
   {
    "duration": 114,
    "start_time": "2023-07-06T05:33:55.266Z"
   },
   {
    "duration": 14,
    "start_time": "2023-07-06T05:34:02.914Z"
   },
   {
    "duration": 1134,
    "start_time": "2023-07-06T05:35:14.205Z"
   },
   {
    "duration": 72,
    "start_time": "2023-07-06T05:35:15.341Z"
   },
   {
    "duration": 3,
    "start_time": "2023-07-06T05:35:15.414Z"
   },
   {
    "duration": 22,
    "start_time": "2023-07-06T05:35:15.419Z"
   },
   {
    "duration": 23,
    "start_time": "2023-07-06T05:35:15.445Z"
   },
   {
    "duration": 15,
    "start_time": "2023-07-06T05:35:15.469Z"
   },
   {
    "duration": 7,
    "start_time": "2023-07-06T05:35:15.485Z"
   },
   {
    "duration": 25,
    "start_time": "2023-07-06T05:35:15.494Z"
   },
   {
    "duration": 15,
    "start_time": "2023-07-06T05:35:15.521Z"
   },
   {
    "duration": 26,
    "start_time": "2023-07-06T05:35:15.540Z"
   },
   {
    "duration": 26,
    "start_time": "2023-07-06T05:35:15.568Z"
   },
   {
    "duration": 21,
    "start_time": "2023-07-06T05:35:15.595Z"
   },
   {
    "duration": 12,
    "start_time": "2023-07-06T05:35:15.618Z"
   },
   {
    "duration": 15,
    "start_time": "2023-07-06T05:35:15.635Z"
   },
   {
    "duration": 5,
    "start_time": "2023-07-06T05:35:15.652Z"
   },
   {
    "duration": 9,
    "start_time": "2023-07-06T05:35:15.658Z"
   },
   {
    "duration": 7,
    "start_time": "2023-07-06T05:35:15.669Z"
   },
   {
    "duration": 9,
    "start_time": "2023-07-06T05:35:15.678Z"
   },
   {
    "duration": 13,
    "start_time": "2023-07-06T05:35:15.689Z"
   },
   {
    "duration": 6,
    "start_time": "2023-07-06T05:35:15.703Z"
   },
   {
    "duration": 31,
    "start_time": "2023-07-06T05:35:15.711Z"
   },
   {
    "duration": 5,
    "start_time": "2023-07-06T05:35:15.749Z"
   },
   {
    "duration": 12,
    "start_time": "2023-07-06T05:35:15.755Z"
   },
   {
    "duration": 8,
    "start_time": "2023-07-06T05:35:15.768Z"
   },
   {
    "duration": 148,
    "start_time": "2023-07-06T05:35:15.777Z"
   },
   {
    "duration": 152,
    "start_time": "2023-07-06T05:35:15.927Z"
   },
   {
    "duration": 6,
    "start_time": "2023-07-06T05:35:16.080Z"
   },
   {
    "duration": 131,
    "start_time": "2023-07-06T05:35:16.087Z"
   },
   {
    "duration": 161,
    "start_time": "2023-07-06T05:35:16.220Z"
   },
   {
    "duration": 5,
    "start_time": "2023-07-06T05:35:16.383Z"
   },
   {
    "duration": 10,
    "start_time": "2023-07-06T05:35:16.389Z"
   },
   {
    "duration": 18,
    "start_time": "2023-07-06T05:35:16.400Z"
   },
   {
    "duration": 161,
    "start_time": "2023-07-06T05:35:16.420Z"
   },
   {
    "duration": 7,
    "start_time": "2023-07-06T05:35:16.583Z"
   },
   {
    "duration": 8,
    "start_time": "2023-07-06T05:35:16.591Z"
   },
   {
    "duration": 157,
    "start_time": "2023-07-06T05:35:16.600Z"
   },
   {
    "duration": 8,
    "start_time": "2023-07-06T05:35:16.758Z"
   },
   {
    "duration": 11,
    "start_time": "2023-07-06T05:35:16.767Z"
   },
   {
    "duration": 9,
    "start_time": "2023-07-06T05:35:16.780Z"
   },
   {
    "duration": 24,
    "start_time": "2023-07-06T05:35:16.791Z"
   },
   {
    "duration": 15,
    "start_time": "2023-07-06T05:35:16.835Z"
   },
   {
    "duration": 18,
    "start_time": "2023-07-06T05:35:16.852Z"
   },
   {
    "duration": 12,
    "start_time": "2023-07-06T05:35:16.871Z"
   },
   {
    "duration": 12,
    "start_time": "2023-07-06T05:35:16.884Z"
   },
   {
    "duration": 19,
    "start_time": "2023-07-06T05:35:16.898Z"
   },
   {
    "duration": 28,
    "start_time": "2023-07-06T05:35:16.918Z"
   },
   {
    "duration": 26,
    "start_time": "2023-07-06T05:35:16.948Z"
   },
   {
    "duration": 193,
    "start_time": "2023-07-06T05:35:16.976Z"
   },
   {
    "duration": 218,
    "start_time": "2023-07-06T05:35:17.170Z"
   },
   {
    "duration": 18,
    "start_time": "2023-07-06T05:35:17.389Z"
   },
   {
    "duration": 178,
    "start_time": "2023-07-06T05:35:17.409Z"
   },
   {
    "duration": 294,
    "start_time": "2023-07-06T05:35:17.589Z"
   },
   {
    "duration": 824,
    "start_time": "2023-07-06T05:35:17.884Z"
   },
   {
    "duration": 11,
    "start_time": "2023-07-06T05:35:18.710Z"
   },
   {
    "duration": 16,
    "start_time": "2023-07-06T05:35:18.734Z"
   },
   {
    "duration": 6,
    "start_time": "2023-07-06T05:35:18.752Z"
   },
   {
    "duration": 16,
    "start_time": "2023-07-06T05:35:18.759Z"
   },
   {
    "duration": 11,
    "start_time": "2023-07-06T05:35:18.777Z"
   },
   {
    "duration": 4,
    "start_time": "2023-07-06T05:35:18.790Z"
   },
   {
    "duration": 348,
    "start_time": "2023-07-06T05:35:18.796Z"
   },
   {
    "duration": 24,
    "start_time": "2023-07-06T05:35:19.149Z"
   },
   {
    "duration": 19,
    "start_time": "2023-07-06T05:35:19.175Z"
   },
   {
    "duration": 7,
    "start_time": "2023-07-06T05:35:19.195Z"
   },
   {
    "duration": 8,
    "start_time": "2023-07-06T05:35:19.203Z"
   },
   {
    "duration": 37,
    "start_time": "2023-07-06T05:35:19.212Z"
   },
   {
    "duration": 8,
    "start_time": "2023-07-06T05:35:19.251Z"
   },
   {
    "duration": 130,
    "start_time": "2023-07-06T05:35:19.260Z"
   },
   {
    "duration": 5,
    "start_time": "2023-07-06T05:35:19.392Z"
   },
   {
    "duration": 194,
    "start_time": "2023-07-06T05:35:19.399Z"
   },
   {
    "duration": 5,
    "start_time": "2023-07-06T05:35:19.595Z"
   },
   {
    "duration": 88,
    "start_time": "2023-07-06T05:43:09.785Z"
   },
   {
    "duration": 1045,
    "start_time": "2023-07-06T05:44:09.664Z"
   },
   {
    "duration": 76,
    "start_time": "2023-07-06T05:44:10.711Z"
   },
   {
    "duration": 3,
    "start_time": "2023-07-06T05:44:10.788Z"
   },
   {
    "duration": 28,
    "start_time": "2023-07-06T05:44:10.793Z"
   },
   {
    "duration": 41,
    "start_time": "2023-07-06T05:44:10.823Z"
   },
   {
    "duration": 22,
    "start_time": "2023-07-06T05:44:10.866Z"
   },
   {
    "duration": 11,
    "start_time": "2023-07-06T05:44:10.889Z"
   },
   {
    "duration": 25,
    "start_time": "2023-07-06T05:44:10.902Z"
   },
   {
    "duration": 23,
    "start_time": "2023-07-06T05:44:10.929Z"
   },
   {
    "duration": 15,
    "start_time": "2023-07-06T05:44:10.954Z"
   },
   {
    "duration": 14,
    "start_time": "2023-07-06T05:44:10.971Z"
   },
   {
    "duration": 7,
    "start_time": "2023-07-06T05:44:10.987Z"
   },
   {
    "duration": 21,
    "start_time": "2023-07-06T05:44:10.995Z"
   },
   {
    "duration": 13,
    "start_time": "2023-07-06T05:44:11.036Z"
   },
   {
    "duration": 8,
    "start_time": "2023-07-06T05:44:11.050Z"
   },
   {
    "duration": 10,
    "start_time": "2023-07-06T05:44:11.060Z"
   },
   {
    "duration": 7,
    "start_time": "2023-07-06T05:44:11.072Z"
   },
   {
    "duration": 10,
    "start_time": "2023-07-06T05:44:11.080Z"
   },
   {
    "duration": 14,
    "start_time": "2023-07-06T05:44:11.092Z"
   },
   {
    "duration": 5,
    "start_time": "2023-07-06T05:44:11.109Z"
   },
   {
    "duration": 20,
    "start_time": "2023-07-06T05:44:11.117Z"
   },
   {
    "duration": 9,
    "start_time": "2023-07-06T05:44:11.145Z"
   },
   {
    "duration": 12,
    "start_time": "2023-07-06T05:44:11.156Z"
   },
   {
    "duration": 7,
    "start_time": "2023-07-06T05:44:11.170Z"
   },
   {
    "duration": 142,
    "start_time": "2023-07-06T05:44:11.178Z"
   },
   {
    "duration": 156,
    "start_time": "2023-07-06T05:44:11.322Z"
   },
   {
    "duration": 6,
    "start_time": "2023-07-06T05:44:11.480Z"
   },
   {
    "duration": 129,
    "start_time": "2023-07-06T05:44:11.487Z"
   },
   {
    "duration": 203,
    "start_time": "2023-07-06T05:44:11.618Z"
   },
   {
    "duration": 13,
    "start_time": "2023-07-06T05:44:11.823Z"
   },
   {
    "duration": 6,
    "start_time": "2023-07-06T05:44:11.838Z"
   },
   {
    "duration": 24,
    "start_time": "2023-07-06T05:44:11.846Z"
   },
   {
    "duration": 174,
    "start_time": "2023-07-06T05:44:11.873Z"
   },
   {
    "duration": 8,
    "start_time": "2023-07-06T05:44:12.050Z"
   },
   {
    "duration": 8,
    "start_time": "2023-07-06T05:44:12.060Z"
   },
   {
    "duration": 139,
    "start_time": "2023-07-06T05:44:12.069Z"
   },
   {
    "duration": 7,
    "start_time": "2023-07-06T05:44:12.210Z"
   },
   {
    "duration": 20,
    "start_time": "2023-07-06T05:44:12.218Z"
   },
   {
    "duration": 23,
    "start_time": "2023-07-06T05:44:12.240Z"
   },
   {
    "duration": 13,
    "start_time": "2023-07-06T05:44:12.264Z"
   },
   {
    "duration": 10,
    "start_time": "2023-07-06T05:44:12.282Z"
   },
   {
    "duration": 10,
    "start_time": "2023-07-06T05:44:12.294Z"
   },
   {
    "duration": 38,
    "start_time": "2023-07-06T05:44:12.305Z"
   },
   {
    "duration": 10,
    "start_time": "2023-07-06T05:44:12.345Z"
   },
   {
    "duration": 17,
    "start_time": "2023-07-06T05:44:12.357Z"
   },
   {
    "duration": 16,
    "start_time": "2023-07-06T05:44:12.376Z"
   },
   {
    "duration": 51,
    "start_time": "2023-07-06T05:44:12.394Z"
   },
   {
    "duration": 174,
    "start_time": "2023-07-06T05:44:12.448Z"
   },
   {
    "duration": 195,
    "start_time": "2023-07-06T05:44:12.631Z"
   },
   {
    "duration": 24,
    "start_time": "2023-07-06T05:44:12.834Z"
   },
   {
    "duration": 169,
    "start_time": "2023-07-06T05:44:12.859Z"
   },
   {
    "duration": 258,
    "start_time": "2023-07-06T05:44:13.032Z"
   },
   {
    "duration": 880,
    "start_time": "2023-07-06T05:44:13.292Z"
   },
   {
    "duration": 11,
    "start_time": "2023-07-06T05:44:14.174Z"
   },
   {
    "duration": 10,
    "start_time": "2023-07-06T05:44:14.186Z"
   },
   {
    "duration": 10,
    "start_time": "2023-07-06T05:44:14.198Z"
   },
   {
    "duration": 37,
    "start_time": "2023-07-06T05:44:14.209Z"
   },
   {
    "duration": 17,
    "start_time": "2023-07-06T05:44:14.248Z"
   },
   {
    "duration": 5,
    "start_time": "2023-07-06T05:44:14.266Z"
   },
   {
    "duration": 676,
    "start_time": "2023-07-06T05:44:14.273Z"
   },
   {
    "duration": 23,
    "start_time": "2023-07-06T05:44:14.952Z"
   },
   {
    "duration": 24,
    "start_time": "2023-07-06T05:44:14.980Z"
   },
   {
    "duration": 31,
    "start_time": "2023-07-06T05:44:15.005Z"
   },
   {
    "duration": 40,
    "start_time": "2023-07-06T05:44:15.040Z"
   },
   {
    "duration": 24,
    "start_time": "2023-07-06T05:44:15.081Z"
   },
   {
    "duration": 31,
    "start_time": "2023-07-06T05:44:15.107Z"
   },
   {
    "duration": 174,
    "start_time": "2023-07-06T05:44:15.141Z"
   },
   {
    "duration": 4,
    "start_time": "2023-07-06T05:44:15.317Z"
   },
   {
    "duration": 195,
    "start_time": "2023-07-06T05:44:15.323Z"
   },
   {
    "duration": 21,
    "start_time": "2023-07-06T05:44:15.519Z"
   },
   {
    "duration": 1119,
    "start_time": "2023-07-06T05:45:59.360Z"
   },
   {
    "duration": 76,
    "start_time": "2023-07-06T05:46:00.481Z"
   },
   {
    "duration": 3,
    "start_time": "2023-07-06T05:46:00.558Z"
   },
   {
    "duration": 40,
    "start_time": "2023-07-06T05:46:00.563Z"
   },
   {
    "duration": 50,
    "start_time": "2023-07-06T05:46:00.605Z"
   },
   {
    "duration": 38,
    "start_time": "2023-07-06T05:46:00.657Z"
   },
   {
    "duration": 33,
    "start_time": "2023-07-06T05:46:00.697Z"
   },
   {
    "duration": 63,
    "start_time": "2023-07-06T05:46:00.732Z"
   },
   {
    "duration": 64,
    "start_time": "2023-07-06T05:46:00.796Z"
   },
   {
    "duration": 40,
    "start_time": "2023-07-06T05:46:00.862Z"
   },
   {
    "duration": 53,
    "start_time": "2023-07-06T05:46:00.904Z"
   },
   {
    "duration": 41,
    "start_time": "2023-07-06T05:46:00.958Z"
   },
   {
    "duration": 53,
    "start_time": "2023-07-06T05:46:01.001Z"
   },
   {
    "duration": 42,
    "start_time": "2023-07-06T05:46:01.056Z"
   },
   {
    "duration": 47,
    "start_time": "2023-07-06T05:46:01.100Z"
   },
   {
    "duration": 44,
    "start_time": "2023-07-06T05:46:01.149Z"
   },
   {
    "duration": 26,
    "start_time": "2023-07-06T05:46:01.195Z"
   },
   {
    "duration": 58,
    "start_time": "2023-07-06T05:46:01.223Z"
   },
   {
    "duration": 39,
    "start_time": "2023-07-06T05:46:01.283Z"
   },
   {
    "duration": 47,
    "start_time": "2023-07-06T05:46:01.323Z"
   },
   {
    "duration": 40,
    "start_time": "2023-07-06T05:46:01.372Z"
   },
   {
    "duration": 34,
    "start_time": "2023-07-06T05:46:01.414Z"
   },
   {
    "duration": 29,
    "start_time": "2023-07-06T05:46:01.449Z"
   },
   {
    "duration": 33,
    "start_time": "2023-07-06T05:46:01.480Z"
   },
   {
    "duration": 204,
    "start_time": "2023-07-06T05:46:01.515Z"
   },
   {
    "duration": 155,
    "start_time": "2023-07-06T05:46:01.721Z"
   },
   {
    "duration": 6,
    "start_time": "2023-07-06T05:46:01.878Z"
   },
   {
    "duration": 152,
    "start_time": "2023-07-06T05:46:01.885Z"
   },
   {
    "duration": 167,
    "start_time": "2023-07-06T05:46:02.044Z"
   },
   {
    "duration": 6,
    "start_time": "2023-07-06T05:46:02.213Z"
   },
   {
    "duration": 31,
    "start_time": "2023-07-06T05:46:02.220Z"
   },
   {
    "duration": 27,
    "start_time": "2023-07-06T05:46:02.253Z"
   },
   {
    "duration": 144,
    "start_time": "2023-07-06T05:46:02.281Z"
   },
   {
    "duration": 9,
    "start_time": "2023-07-06T05:46:02.432Z"
   },
   {
    "duration": 32,
    "start_time": "2023-07-06T05:46:02.446Z"
   },
   {
    "duration": 133,
    "start_time": "2023-07-06T05:46:02.480Z"
   },
   {
    "duration": 7,
    "start_time": "2023-07-06T05:46:02.615Z"
   },
   {
    "duration": 24,
    "start_time": "2023-07-06T05:46:02.623Z"
   },
   {
    "duration": 17,
    "start_time": "2023-07-06T05:46:02.649Z"
   },
   {
    "duration": 42,
    "start_time": "2023-07-06T05:46:02.667Z"
   },
   {
    "duration": 20,
    "start_time": "2023-07-06T05:46:02.713Z"
   },
   {
    "duration": 30,
    "start_time": "2023-07-06T05:46:02.734Z"
   },
   {
    "duration": 13,
    "start_time": "2023-07-06T05:46:02.765Z"
   },
   {
    "duration": 130,
    "start_time": "2023-07-06T05:46:02.779Z"
   },
   {
    "duration": 36,
    "start_time": "2023-07-06T05:46:02.911Z"
   },
   {
    "duration": 13,
    "start_time": "2023-07-06T05:46:02.949Z"
   },
   {
    "duration": 21,
    "start_time": "2023-07-06T05:46:02.963Z"
   },
   {
    "duration": 231,
    "start_time": "2023-07-06T05:46:02.985Z"
   },
   {
    "duration": 230,
    "start_time": "2023-07-06T05:46:03.218Z"
   },
   {
    "duration": 18,
    "start_time": "2023-07-06T05:46:03.450Z"
   },
   {
    "duration": 191,
    "start_time": "2023-07-06T05:46:03.469Z"
   },
   {
    "duration": 285,
    "start_time": "2023-07-06T05:46:03.662Z"
   },
   {
    "duration": 930,
    "start_time": "2023-07-06T05:46:03.951Z"
   },
   {
    "duration": 11,
    "start_time": "2023-07-06T05:46:04.882Z"
   },
   {
    "duration": 3,
    "start_time": "2023-07-06T05:46:04.895Z"
   },
   {
    "duration": 17,
    "start_time": "2023-07-06T05:46:04.899Z"
   },
   {
    "duration": 27,
    "start_time": "2023-07-06T05:46:04.918Z"
   },
   {
    "duration": 17,
    "start_time": "2023-07-06T05:46:04.947Z"
   },
   {
    "duration": 3,
    "start_time": "2023-07-06T05:46:04.966Z"
   },
   {
    "duration": 361,
    "start_time": "2023-07-06T05:46:04.970Z"
   },
   {
    "duration": 24,
    "start_time": "2023-07-06T05:46:05.334Z"
   },
   {
    "duration": 17,
    "start_time": "2023-07-06T05:46:05.359Z"
   },
   {
    "duration": 5,
    "start_time": "2023-07-06T05:46:05.377Z"
   },
   {
    "duration": 5,
    "start_time": "2023-07-06T05:46:05.384Z"
   },
   {
    "duration": 8,
    "start_time": "2023-07-06T05:46:05.390Z"
   },
   {
    "duration": 43,
    "start_time": "2023-07-06T05:46:05.399Z"
   },
   {
    "duration": 139,
    "start_time": "2023-07-06T05:46:05.449Z"
   },
   {
    "duration": 5,
    "start_time": "2023-07-06T05:46:05.590Z"
   },
   {
    "duration": 200,
    "start_time": "2023-07-06T05:46:05.596Z"
   },
   {
    "duration": 5,
    "start_time": "2023-07-06T05:46:05.798Z"
   },
   {
    "duration": 1315,
    "start_time": "2023-07-06T09:59:07.558Z"
   },
   {
    "duration": 296,
    "start_time": "2023-07-06T09:59:08.875Z"
   },
   {
    "duration": 3,
    "start_time": "2023-07-06T09:59:09.172Z"
   },
   {
    "duration": 22,
    "start_time": "2023-07-06T09:59:09.177Z"
   },
   {
    "duration": 26,
    "start_time": "2023-07-06T09:59:09.201Z"
   },
   {
    "duration": 12,
    "start_time": "2023-07-06T09:59:09.229Z"
   },
   {
    "duration": 15,
    "start_time": "2023-07-06T09:59:09.243Z"
   },
   {
    "duration": 21,
    "start_time": "2023-07-06T09:59:09.260Z"
   },
   {
    "duration": 11,
    "start_time": "2023-07-06T09:59:09.283Z"
   },
   {
    "duration": 10,
    "start_time": "2023-07-06T09:59:09.296Z"
   },
   {
    "duration": 10,
    "start_time": "2023-07-06T09:59:09.308Z"
   },
   {
    "duration": 6,
    "start_time": "2023-07-06T09:59:09.319Z"
   },
   {
    "duration": 34,
    "start_time": "2023-07-06T09:59:09.326Z"
   },
   {
    "duration": 6,
    "start_time": "2023-07-06T09:59:09.363Z"
   },
   {
    "duration": 8,
    "start_time": "2023-07-06T09:59:09.370Z"
   },
   {
    "duration": 14,
    "start_time": "2023-07-06T09:59:09.380Z"
   },
   {
    "duration": 6,
    "start_time": "2023-07-06T09:59:09.395Z"
   },
   {
    "duration": 7,
    "start_time": "2023-07-06T09:59:09.403Z"
   },
   {
    "duration": 8,
    "start_time": "2023-07-06T09:59:09.411Z"
   },
   {
    "duration": 5,
    "start_time": "2023-07-06T09:59:09.420Z"
   },
   {
    "duration": 37,
    "start_time": "2023-07-06T09:59:09.426Z"
   },
   {
    "duration": 5,
    "start_time": "2023-07-06T09:59:09.464Z"
   },
   {
    "duration": 16,
    "start_time": "2023-07-06T09:59:09.471Z"
   },
   {
    "duration": 19,
    "start_time": "2023-07-06T09:59:09.489Z"
   },
   {
    "duration": 164,
    "start_time": "2023-07-06T09:59:09.510Z"
   },
   {
    "duration": 160,
    "start_time": "2023-07-06T09:59:09.675Z"
   },
   {
    "duration": 7,
    "start_time": "2023-07-06T09:59:09.837Z"
   },
   {
    "duration": 132,
    "start_time": "2023-07-06T09:59:09.860Z"
   },
   {
    "duration": 177,
    "start_time": "2023-07-06T09:59:09.994Z"
   },
   {
    "duration": 7,
    "start_time": "2023-07-06T09:59:10.173Z"
   },
   {
    "duration": 7,
    "start_time": "2023-07-06T09:59:10.182Z"
   },
   {
    "duration": 19,
    "start_time": "2023-07-06T09:59:10.191Z"
   },
   {
    "duration": 160,
    "start_time": "2023-07-06T09:59:10.211Z"
   },
   {
    "duration": 7,
    "start_time": "2023-07-06T09:59:10.372Z"
   },
   {
    "duration": 12,
    "start_time": "2023-07-06T09:59:10.381Z"
   },
   {
    "duration": 157,
    "start_time": "2023-07-06T09:59:10.395Z"
   },
   {
    "duration": 8,
    "start_time": "2023-07-06T09:59:10.559Z"
   },
   {
    "duration": 8,
    "start_time": "2023-07-06T09:59:10.569Z"
   },
   {
    "duration": 12,
    "start_time": "2023-07-06T09:59:10.578Z"
   },
   {
    "duration": 19,
    "start_time": "2023-07-06T09:59:10.592Z"
   },
   {
    "duration": 10,
    "start_time": "2023-07-06T09:59:10.617Z"
   },
   {
    "duration": 13,
    "start_time": "2023-07-06T09:59:10.659Z"
   },
   {
    "duration": 16,
    "start_time": "2023-07-06T09:59:10.674Z"
   },
   {
    "duration": 10,
    "start_time": "2023-07-06T09:59:10.692Z"
   },
   {
    "duration": 20,
    "start_time": "2023-07-06T09:59:10.704Z"
   },
   {
    "duration": 41,
    "start_time": "2023-07-06T09:59:10.726Z"
   },
   {
    "duration": 24,
    "start_time": "2023-07-06T09:59:10.769Z"
   },
   {
    "duration": 205,
    "start_time": "2023-07-06T09:59:10.795Z"
   },
   {
    "duration": 213,
    "start_time": "2023-07-06T09:59:11.002Z"
   },
   {
    "duration": 21,
    "start_time": "2023-07-06T09:59:11.217Z"
   },
   {
    "duration": 279,
    "start_time": "2023-07-06T09:59:11.239Z"
   },
   {
    "duration": 200,
    "start_time": "2023-07-06T09:59:11.520Z"
   },
   {
    "duration": 898,
    "start_time": "2023-07-06T09:59:11.722Z"
   },
   {
    "duration": 11,
    "start_time": "2023-07-06T09:59:12.622Z"
   },
   {
    "duration": 24,
    "start_time": "2023-07-06T09:59:12.635Z"
   },
   {
    "duration": 14,
    "start_time": "2023-07-06T09:59:12.661Z"
   },
   {
    "duration": 25,
    "start_time": "2023-07-06T09:59:12.677Z"
   },
   {
    "duration": 12,
    "start_time": "2023-07-06T09:59:12.703Z"
   },
   {
    "duration": 8,
    "start_time": "2023-07-06T09:59:12.717Z"
   },
   {
    "duration": 352,
    "start_time": "2023-07-06T09:59:12.727Z"
   },
   {
    "duration": 18,
    "start_time": "2023-07-06T09:59:13.081Z"
   },
   {
    "duration": 14,
    "start_time": "2023-07-06T09:59:13.101Z"
   },
   {
    "duration": 6,
    "start_time": "2023-07-06T09:59:13.117Z"
   },
   {
    "duration": 17,
    "start_time": "2023-07-06T09:59:13.125Z"
   },
   {
    "duration": 6,
    "start_time": "2023-07-06T09:59:13.159Z"
   },
   {
    "duration": 9,
    "start_time": "2023-07-06T09:59:13.166Z"
   },
   {
    "duration": 145,
    "start_time": "2023-07-06T09:59:13.177Z"
   },
   {
    "duration": 5,
    "start_time": "2023-07-06T09:59:13.324Z"
   },
   {
    "duration": 233,
    "start_time": "2023-07-06T09:59:13.331Z"
   },
   {
    "duration": 5,
    "start_time": "2023-07-06T09:59:13.566Z"
   }
  ],
  "kernelspec": {
   "display_name": "Python 3 (ipykernel)",
   "language": "python",
   "name": "python3"
  },
  "language_info": {
   "codemirror_mode": {
    "name": "ipython",
    "version": 3
   },
   "file_extension": ".py",
   "mimetype": "text/x-python",
   "name": "python",
   "nbconvert_exporter": "python",
   "pygments_lexer": "ipython3",
   "version": "3.9.19"
  },
  "toc": {
   "base_numbering": 1,
   "nav_menu": {},
   "number_sections": true,
   "sideBar": true,
   "skip_h1_title": true,
   "title_cell": "Table of Contents",
   "title_sidebar": "Contents",
   "toc_cell": false,
   "toc_position": {},
   "toc_section_display": true,
   "toc_window_display": true
  }
 },
 "nbformat": 4,
 "nbformat_minor": 5
}
