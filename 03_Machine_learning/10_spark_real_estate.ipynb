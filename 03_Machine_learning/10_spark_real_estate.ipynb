{
 "cells": [
  {
   "cell_type": "markdown",
   "id": "GEqQaHzsZ_bA",
   "metadata": {
    "id": "GEqQaHzsZ_bA"
   },
   "source": [
    "## Предсказание стоимости жилья\n",
    "\n",
    "### Описание проекта\n",
    "\n",
    "В проекте вам нужно обучить модель линейной регрессии на данных о жилье в Калифорнии в 1990 году. На основе данных нужно предсказать медианную стоимость дома в жилом массиве. Обучите модель и сделайте предсказания на тестовой выборке. Для оценки качества модели используйте метрики RMSE, MAE и R2."
   ]
  },
  {
   "cell_type": "markdown",
   "id": "c98a5462",
   "metadata": {},
   "source": [
    "### Описание данных  \n",
    "\n",
    "\n",
    "В колонках датасета содержатся следующие данные:  \n",
    "\n",
    "`longitude` — широта;  \n",
    "`latitude` — долгота;  \n",
    "`housing_median_age` — медианный возраст жителей жилого массива;  \n",
    "`total_rooms` — общее количество комнат в домах жилого массива;  \n",
    "`total_bedrooms` — общее количество спален в домах жилого массива;  \n",
    "`population` — количество человек, которые проживают в жилом массиве;  \n",
    "`households` — количество домовладений в жилом массиве;  \n",
    "`median_income` — медианный доход жителей жилого массива;  \n",
    "`median_house_value` — медианная стоимость дома в жилом массиве;  \n",
    "`ocean_proximity` — близость к океану.  \n",
    "\n",
    "### План выполнения проекта  \n",
    "1. Инициализируйте локальную Spark-сессию.\n",
    "2. Прочитайте содержимое файла /datasets/housing.csv.\n",
    "3. Выведите типы данных колонок датасета. Используйте методы pySpark.\n",
    "4. Выполните предобработку данных:\n",
    "    - исследуйте данные на наличие пропусков и заполните их, выбрав значения по своему усмотрению.\n",
    "    - преобразуйте колонку с категориальными значениями техникой One hot encoding.\n",
    "5. Постройте две модели линейной регрессии на разных наборах данных:\n",
    "используя все данные из файла;\n",
    "    - используя только числовые переменные,  \n",
    "    - исключив категориальные.\n",
    "    Для построения модели используйте оценщик LinearRegression из библиотеки MLlib.\n",
    "6. Сравните результаты работы линейной регрессии на двух наборах данных по метрикам RMSE, MAE и R2. Сделайте выводы."
   ]
  },
  {
   "cell_type": "markdown",
   "id": "53871372",
   "metadata": {
    "id": "53871372"
   },
   "source": [
    "## Подготовка данных"
   ]
  },
  {
   "cell_type": "markdown",
   "id": "886985b3",
   "metadata": {},
   "source": [
    "### Откроем и сохраним файл данных"
   ]
  },
  {
   "cell_type": "code",
   "execution_count": 1,
   "id": "63ab5220",
   "metadata": {},
   "outputs": [],
   "source": [
    "# Импортируем нужные библиотеки\n",
    "import pandas as pd \n",
    "import numpy as np\n",
    "import seaborn as sns\n",
    "import pyspark\n",
    "\n",
    "from pyspark.sql import SparkSession\n",
    "from pyspark.sql.types import *\n",
    "import pyspark.sql.functions as F\n",
    "from pyspark.ml import Pipeline\n",
    "\n",
    "from pyspark.ml.feature import Imputer\n",
    "from pyspark.ml.feature import StringIndexer, VectorAssembler, StandardScaler\n",
    "from pyspark.ml.regression import LinearRegression\n",
    "from pyspark.mllib.evaluation import RegressionMetrics\n",
    "\n",
    "pyspark_version = pyspark.__version__\n",
    "if int(pyspark_version[:1]) == 3:\n",
    "    from pyspark.ml.feature import OneHotEncoder    \n",
    "elif int(pyspark_version[:1]) == 2:\n",
    "    from pyspark.ml.feature import OneHotEncodeEstimator\n",
    "\n",
    "RANDOM_SEED = 30112023"
   ]
  },
  {
   "cell_type": "markdown",
   "id": "7c332c63",
   "metadata": {},
   "source": [
    "Инициализируем локальную Spark-сессию:"
   ]
  },
  {
   "cell_type": "code",
   "execution_count": 2,
   "id": "4b68e0c5",
   "metadata": {},
   "outputs": [],
   "source": [
    "spark = SparkSession.builder \\\n",
    "                    .appName(\"California Housing\") \\\n",
    "                    .getOrCreate()"
   ]
  },
  {
   "cell_type": "markdown",
   "id": "bba8f8f4",
   "metadata": {},
   "source": [
    "Прочитаем и сохраним содержимое файла '\\/datasets/housing.csv':"
   ]
  },
  {
   "cell_type": "code",
   "execution_count": 3,
   "id": "69b02d40",
   "metadata": {},
   "outputs": [
    {
     "name": "stderr",
     "output_type": "stream",
     "text": [
      "                                                                                \r"
     ]
    }
   ],
   "source": [
    "df_housing = spark.read.option('header', 'true').csv('/datasets/housing.csv', inferSchema = True) "
   ]
  },
  {
   "cell_type": "code",
   "execution_count": 4,
   "id": "8fd83bd6",
   "metadata": {},
   "outputs": [
    {
     "name": "stdout",
     "output_type": "stream",
     "text": [
      "root\n",
      " |-- longitude: double (nullable = true)\n",
      " |-- latitude: double (nullable = true)\n",
      " |-- housing_median_age: double (nullable = true)\n",
      " |-- total_rooms: double (nullable = true)\n",
      " |-- total_bedrooms: double (nullable = true)\n",
      " |-- population: double (nullable = true)\n",
      " |-- households: double (nullable = true)\n",
      " |-- median_income: double (nullable = true)\n",
      " |-- median_house_value: double (nullable = true)\n",
      " |-- ocean_proximity: string (nullable = true)\n",
      "\n"
     ]
    }
   ],
   "source": [
    "# выведем схемы датафрейма:\n",
    "df_housing.printSchema()"
   ]
  },
  {
   "cell_type": "code",
   "execution_count": 5,
   "id": "df92e3ec",
   "metadata": {
    "id": "df92e3ec"
   },
   "outputs": [
    {
     "name": "stdout",
     "output_type": "stream",
     "text": [
      "+---------+--------+------------------+-----------+--------------+----------+----------+-------------+------------------+---------------+\n",
      "|longitude|latitude|housing_median_age|total_rooms|total_bedrooms|population|households|median_income|median_house_value|ocean_proximity|\n",
      "+---------+--------+------------------+-----------+--------------+----------+----------+-------------+------------------+---------------+\n",
      "|  -122.23|   37.88|              41.0|      880.0|         129.0|     322.0|     126.0|       8.3252|          452600.0|       NEAR BAY|\n",
      "|  -122.22|   37.86|              21.0|     7099.0|        1106.0|    2401.0|    1138.0|       8.3014|          358500.0|       NEAR BAY|\n",
      "|  -122.24|   37.85|              52.0|     1467.0|         190.0|     496.0|     177.0|       7.2574|          352100.0|       NEAR BAY|\n",
      "|  -122.25|   37.85|              52.0|     1274.0|         235.0|     558.0|     219.0|       5.6431|          341300.0|       NEAR BAY|\n",
      "|  -122.25|   37.85|              52.0|     1627.0|         280.0|     565.0|     259.0|       3.8462|          342200.0|       NEAR BAY|\n",
      "|  -122.25|   37.85|              52.0|      919.0|         213.0|     413.0|     193.0|       4.0368|          269700.0|       NEAR BAY|\n",
      "|  -122.25|   37.84|              52.0|     2535.0|         489.0|    1094.0|     514.0|       3.6591|          299200.0|       NEAR BAY|\n",
      "|  -122.25|   37.84|              52.0|     3104.0|         687.0|    1157.0|     647.0|         3.12|          241400.0|       NEAR BAY|\n",
      "|  -122.26|   37.84|              42.0|     2555.0|         665.0|    1206.0|     595.0|       2.0804|          226700.0|       NEAR BAY|\n",
      "|  -122.25|   37.84|              52.0|     3549.0|         707.0|    1551.0|     714.0|       3.6912|          261100.0|       NEAR BAY|\n",
      "+---------+--------+------------------+-----------+--------------+----------+----------+-------------+------------------+---------------+\n",
      "only showing top 10 rows\n",
      "\n"
     ]
    }
   ],
   "source": [
    "# Посморим первые 10 строк датафремаЖ\n",
    "df_housing.show(10)"
   ]
  },
  {
   "cell_type": "code",
   "execution_count": 6,
   "id": "403a3175",
   "metadata": {},
   "outputs": [
    {
     "name": "stderr",
     "output_type": "stream",
     "text": [
      "                                                                                \r"
     ]
    },
    {
     "data": {
      "text/html": [
       "<div>\n",
       "<style scoped>\n",
       "    .dataframe tbody tr th:only-of-type {\n",
       "        vertical-align: middle;\n",
       "    }\n",
       "\n",
       "    .dataframe tbody tr th {\n",
       "        vertical-align: top;\n",
       "    }\n",
       "\n",
       "    .dataframe thead th {\n",
       "        text-align: right;\n",
       "    }\n",
       "</style>\n",
       "<table border=\"1\" class=\"dataframe\">\n",
       "  <thead>\n",
       "    <tr style=\"text-align: right;\">\n",
       "      <th></th>\n",
       "      <th>summary</th>\n",
       "      <th>longitude</th>\n",
       "      <th>latitude</th>\n",
       "      <th>housing_median_age</th>\n",
       "      <th>total_rooms</th>\n",
       "      <th>total_bedrooms</th>\n",
       "      <th>population</th>\n",
       "      <th>households</th>\n",
       "      <th>median_income</th>\n",
       "      <th>median_house_value</th>\n",
       "      <th>ocean_proximity</th>\n",
       "    </tr>\n",
       "  </thead>\n",
       "  <tbody>\n",
       "    <tr>\n",
       "      <th>0</th>\n",
       "      <td>count</td>\n",
       "      <td>20640</td>\n",
       "      <td>20640</td>\n",
       "      <td>20640</td>\n",
       "      <td>20640</td>\n",
       "      <td>20433</td>\n",
       "      <td>20640</td>\n",
       "      <td>20640</td>\n",
       "      <td>20640</td>\n",
       "      <td>20640</td>\n",
       "      <td>20640</td>\n",
       "    </tr>\n",
       "    <tr>\n",
       "      <th>1</th>\n",
       "      <td>mean</td>\n",
       "      <td>-119.56970445736148</td>\n",
       "      <td>35.6318614341087</td>\n",
       "      <td>28.639486434108527</td>\n",
       "      <td>2635.7630813953488</td>\n",
       "      <td>537.8705525375618</td>\n",
       "      <td>1425.4767441860465</td>\n",
       "      <td>499.5396802325581</td>\n",
       "      <td>3.8706710029070246</td>\n",
       "      <td>206855.81690891474</td>\n",
       "      <td>None</td>\n",
       "    </tr>\n",
       "    <tr>\n",
       "      <th>2</th>\n",
       "      <td>stddev</td>\n",
       "      <td>2.003531723502584</td>\n",
       "      <td>2.135952397457101</td>\n",
       "      <td>12.58555761211163</td>\n",
       "      <td>2181.6152515827944</td>\n",
       "      <td>421.38507007403115</td>\n",
       "      <td>1132.46212176534</td>\n",
       "      <td>382.3297528316098</td>\n",
       "      <td>1.899821717945263</td>\n",
       "      <td>115395.61587441359</td>\n",
       "      <td>None</td>\n",
       "    </tr>\n",
       "    <tr>\n",
       "      <th>3</th>\n",
       "      <td>min</td>\n",
       "      <td>-124.35</td>\n",
       "      <td>32.54</td>\n",
       "      <td>1.0</td>\n",
       "      <td>2.0</td>\n",
       "      <td>1.0</td>\n",
       "      <td>3.0</td>\n",
       "      <td>1.0</td>\n",
       "      <td>0.4999</td>\n",
       "      <td>14999.0</td>\n",
       "      <td>&lt;1H OCEAN</td>\n",
       "    </tr>\n",
       "    <tr>\n",
       "      <th>4</th>\n",
       "      <td>max</td>\n",
       "      <td>-114.31</td>\n",
       "      <td>41.95</td>\n",
       "      <td>52.0</td>\n",
       "      <td>39320.0</td>\n",
       "      <td>6445.0</td>\n",
       "      <td>35682.0</td>\n",
       "      <td>6082.0</td>\n",
       "      <td>15.0001</td>\n",
       "      <td>500001.0</td>\n",
       "      <td>NEAR OCEAN</td>\n",
       "    </tr>\n",
       "  </tbody>\n",
       "</table>\n",
       "</div>"
      ],
      "text/plain": [
       "  summary            longitude           latitude  housing_median_age  \\\n",
       "0   count                20640              20640               20640   \n",
       "1    mean  -119.56970445736148   35.6318614341087  28.639486434108527   \n",
       "2  stddev    2.003531723502584  2.135952397457101   12.58555761211163   \n",
       "3     min              -124.35              32.54                 1.0   \n",
       "4     max              -114.31              41.95                52.0   \n",
       "\n",
       "          total_rooms      total_bedrooms          population  \\\n",
       "0               20640               20433               20640   \n",
       "1  2635.7630813953488   537.8705525375618  1425.4767441860465   \n",
       "2  2181.6152515827944  421.38507007403115    1132.46212176534   \n",
       "3                 2.0                 1.0                 3.0   \n",
       "4             39320.0              6445.0             35682.0   \n",
       "\n",
       "          households       median_income  median_house_value ocean_proximity  \n",
       "0              20640               20640               20640           20640  \n",
       "1  499.5396802325581  3.8706710029070246  206855.81690891474            None  \n",
       "2  382.3297528316098   1.899821717945263  115395.61587441359            None  \n",
       "3                1.0              0.4999             14999.0       <1H OCEAN  \n",
       "4             6082.0             15.0001            500001.0      NEAR OCEAN  "
      ]
     },
     "execution_count": 6,
     "metadata": {},
     "output_type": "execute_result"
    }
   ],
   "source": [
    "# Более детально изучим данные. Для этого вызовем метод describe:\n",
    "df_housing.describe().toPandas()"
   ]
  },
  {
   "cell_type": "markdown",
   "id": "a208a800",
   "metadata": {},
   "source": [
    "Просмотрим значения, содержащиеся в категориальной переменной:"
   ]
  },
  {
   "cell_type": "code",
   "execution_count": 7,
   "id": "0b74658d",
   "metadata": {
    "scrolled": true
   },
   "outputs": [
    {
     "name": "stderr",
     "output_type": "stream",
     "text": [
      "                                                                                \r"
     ]
    },
    {
     "data": {
      "text/html": [
       "<div>\n",
       "<style scoped>\n",
       "    .dataframe tbody tr th:only-of-type {\n",
       "        vertical-align: middle;\n",
       "    }\n",
       "\n",
       "    .dataframe tbody tr th {\n",
       "        vertical-align: top;\n",
       "    }\n",
       "\n",
       "    .dataframe thead th {\n",
       "        text-align: right;\n",
       "    }\n",
       "</style>\n",
       "<table border=\"1\" class=\"dataframe\">\n",
       "  <thead>\n",
       "    <tr style=\"text-align: right;\">\n",
       "      <th></th>\n",
       "      <th>ocean_proximity</th>\n",
       "      <th>count</th>\n",
       "    </tr>\n",
       "  </thead>\n",
       "  <tbody>\n",
       "    <tr>\n",
       "      <th>0</th>\n",
       "      <td>ISLAND</td>\n",
       "      <td>5</td>\n",
       "    </tr>\n",
       "    <tr>\n",
       "      <th>1</th>\n",
       "      <td>NEAR OCEAN</td>\n",
       "      <td>2658</td>\n",
       "    </tr>\n",
       "    <tr>\n",
       "      <th>2</th>\n",
       "      <td>NEAR BAY</td>\n",
       "      <td>2290</td>\n",
       "    </tr>\n",
       "    <tr>\n",
       "      <th>3</th>\n",
       "      <td>&lt;1H OCEAN</td>\n",
       "      <td>9136</td>\n",
       "    </tr>\n",
       "    <tr>\n",
       "      <th>4</th>\n",
       "      <td>INLAND</td>\n",
       "      <td>6551</td>\n",
       "    </tr>\n",
       "  </tbody>\n",
       "</table>\n",
       "</div>"
      ],
      "text/plain": [
       "  ocean_proximity  count\n",
       "0          ISLAND      5\n",
       "1      NEAR OCEAN   2658\n",
       "2        NEAR BAY   2290\n",
       "3       <1H OCEAN   9136\n",
       "4          INLAND   6551"
      ]
     },
     "execution_count": 7,
     "metadata": {},
     "output_type": "execute_result"
    }
   ],
   "source": [
    "df_housing.groupBy('ocean_proximity').count().toPandas()"
   ]
  },
  {
   "cell_type": "markdown",
   "id": "43d4773d",
   "metadata": {},
   "source": [
    "***Вывод:***  \n",
    "В датафрейме 10 столбцов и 20640 записей.  \n",
    "В большинстве колонок хранятся количественные данные, кроме одной — ocean_proximity. Она хранит 5 категориальных значений. Пять жилых массивов - находятся на острове. Почти половина -9136- находится в часе от океана.\n",
    "Медианный возраст жителя жилого массива 28,6. Медианная стоимость дома жилого массива: min - 14999, max - 500 001."
   ]
  },
  {
   "cell_type": "markdown",
   "id": "a22754a0",
   "metadata": {},
   "source": [
    "### Подготовка данных"
   ]
  },
  {
   "cell_type": "markdown",
   "id": "387f17cc",
   "metadata": {},
   "source": [
    "Исследуем данные на наличие пропусков:"
   ]
  },
  {
   "cell_type": "code",
   "execution_count": 8,
   "id": "0dd17bb6",
   "metadata": {
    "scrolled": true
   },
   "outputs": [
    {
     "name": "stdout",
     "output_type": "stream",
     "text": [
      "+---------+--------+------------------+-----------+--------------+----------+----------+-------------+------------------+---------------+\n",
      "|longitude|latitude|housing_median_age|total_rooms|total_bedrooms|population|households|median_income|median_house_value|ocean_proximity|\n",
      "+---------+--------+------------------+-----------+--------------+----------+----------+-------------+------------------+---------------+\n",
      "|        0|       0|                 0|          0|           207|         0|         0|            0|                 0|              0|\n",
      "+---------+--------+------------------+-----------+--------------+----------+----------+-------------+------------------+---------------+\n",
      "\n"
     ]
    }
   ],
   "source": [
    "df_housing.select([F.count(F.when(F.isnan(c) | F.col(c).isNull(), c)).alias(c) for c in df_housing.columns]).show()"
   ]
  },
  {
   "cell_type": "markdown",
   "id": "c1f49476",
   "metadata": {},
   "source": [
    "Есть пропущенные значения в столбце `total_bedrooms`. Примерно 1%."
   ]
  },
  {
   "cell_type": "code",
   "execution_count": 9,
   "id": "9224e0f1",
   "metadata": {},
   "outputs": [],
   "source": [
    "#Разделим наши наборы данных на тренировочные и тестовые.\n",
    "#train, test = df_housing.randomSplit([.8,.2], seed=RANDOM_SEED)"
   ]
  },
  {
   "cell_type": "code",
   "execution_count": 10,
   "id": "5b86391d",
   "metadata": {},
   "outputs": [],
   "source": [
    "# Выведем количество записей в выборках на экран при помощи метода count()\n",
    "#print(train.count(), test.count())"
   ]
  },
  {
   "cell_type": "code",
   "execution_count": 11,
   "id": "91dba166",
   "metadata": {},
   "outputs": [],
   "source": [
    "# Заполним их медианными значениями:\n",
    "imputer = Imputer(strategy='median', inputCols=['total_bedrooms'], outputCols=['total_bedrooms'])\n",
    "#df_housing = imputer.fit(df_housing).transform(df_housing)\n",
    "#train = imputer.fit(train)\n",
    "#test = train.transform(test)"
   ]
  },
  {
   "cell_type": "code",
   "execution_count": 12,
   "id": "bdba62d3",
   "metadata": {},
   "outputs": [],
   "source": [
    "# Проверяем:\n",
    "#df_housing.select([F.count(F.when(F.isnan(c) | F.col(c).isNull(), c)).alias(c) for c in df_housing.columns]).show()\n",
    "#test.select([F.count(F.when(F.isnan(c) | F.col(c).isNull(), c)).alias(c) for c in test.columns]).show()"
   ]
  },
  {
   "cell_type": "code",
   "execution_count": 13,
   "id": "bbc8216e",
   "metadata": {},
   "outputs": [],
   "source": [
    "# Проверим статистику:\n",
    "#df_housing.describe().toPandas()\n",
    "#test.describe().toPandas()"
   ]
  },
  {
   "cell_type": "markdown",
   "id": "0f62691a",
   "metadata": {},
   "source": [
    "Среднее и стандартное отклонение почти не изменились."
   ]
  },
  {
   "cell_type": "markdown",
   "id": "9534ed09",
   "metadata": {},
   "source": [
    "***Вывод:*** найдены пропуски в данных и заполнили их медианными значениями."
   ]
  },
  {
   "cell_type": "markdown",
   "id": "b0687cd4",
   "metadata": {},
   "source": [
    "### Преобразование категориальных признаков"
   ]
  },
  {
   "cell_type": "markdown",
   "id": "5f2f0a1a",
   "metadata": {},
   "source": [
    "Преобразуем колонку с категориальными значениями техникой One hot encoding.   \n",
    "\n",
    "Разделим колонки на два типа: числовые и текстовые, которые представляют категориальные данные."
   ]
  },
  {
   "cell_type": "code",
   "execution_count": 14,
   "id": "576b405e",
   "metadata": {},
   "outputs": [],
   "source": [
    "categorical_cols = ['ocean_proximity']\n",
    "numerical_cols  = ['longitude', 'latitude', 'housing_median_age', 'total_rooms',\n",
    "                   'total_bedrooms', 'population', 'households', 'median_income']\n",
    "target = 'median_house_value'"
   ]
  },
  {
   "cell_type": "markdown",
   "id": "ab595e73",
   "metadata": {},
   "source": [
    "Трансформируем категориальные признаки в числовое представление с помощью трансформера StringIndexer:"
   ]
  },
  {
   "cell_type": "code",
   "execution_count": 15,
   "id": "0b1a380a",
   "metadata": {},
   "outputs": [],
   "source": [
    "indexer = StringIndexer(inputCols=categorical_cols, \n",
    "                        outputCols=[c+'_idx' for c in categorical_cols]) \n",
    "#df_h = indexer.fit(df_housing).transform(df_housing)"
   ]
  },
  {
   "cell_type": "code",
   "execution_count": 16,
   "id": "18394083",
   "metadata": {},
   "outputs": [],
   "source": [
    "# Проверяем:\n",
    "#cols = [c for c in df_h.columns for i in categorical_cols if (c.startswith(i))]\n",
    "#df_h.select(cols).show(5)"
   ]
  },
  {
   "cell_type": "markdown",
   "id": "d6ad8504",
   "metadata": {},
   "source": [
    "Выполним OHE-кодирование для категорий:"
   ]
  },
  {
   "cell_type": "code",
   "execution_count": 17,
   "id": "71dd585e",
   "metadata": {},
   "outputs": [],
   "source": [
    "encoder = OneHotEncoder(inputCols=[c+'_idx' for c in categorical_cols],\n",
    "                        outputCols=[c+'_ohe' for c in categorical_cols])\n",
    "#df_h = encoder.fit(df_h).transform(df_h)"
   ]
  },
  {
   "cell_type": "code",
   "execution_count": 18,
   "id": "d14fd326",
   "metadata": {},
   "outputs": [],
   "source": [
    "# Проверяем:\n",
    "#cols = [c for c in df_h.columns for i in categorical_cols if (c.startswith(i))]\n",
    "#df_h.select(cols).show(3)"
   ]
  },
  {
   "cell_type": "markdown",
   "id": "12612b76",
   "metadata": {},
   "source": [
    "### Преобразование числовых признаков"
   ]
  },
  {
   "cell_type": "markdown",
   "id": "c91be98b",
   "metadata": {},
   "source": [
    "Для числовых признаков применим StandardScaler, чтобы сильные выбросы не смещали предсказания модели.  \n",
    "\n",
    "Соберём вектор числовых признаков в отдельный столбец."
   ]
  },
  {
   "cell_type": "code",
   "execution_count": 19,
   "id": "b0e8e506",
   "metadata": {},
   "outputs": [],
   "source": [
    "numerical_assembler = VectorAssembler(inputCols=numerical_cols, outputCol=\"numerical_features\")\n",
    "#df_h = numerical_assembler.transform(df_h) "
   ]
  },
  {
   "cell_type": "markdown",
   "id": "d8976bb8",
   "metadata": {},
   "source": [
    "Применим к столбцу с вектором числовых признаков StandardScaler."
   ]
  },
  {
   "cell_type": "code",
   "execution_count": 20,
   "id": "d497a48b",
   "metadata": {},
   "outputs": [],
   "source": [
    "standardScaler = StandardScaler(inputCol='numerical_features', outputCol=\"numerical_features_scaled\")\n",
    "#df_h = standardScaler.fit(df_h).transform(df_h)"
   ]
  },
  {
   "cell_type": "code",
   "execution_count": 21,
   "id": "438add0e",
   "metadata": {},
   "outputs": [],
   "source": [
    "#Проверяем:\n",
    "#df_h.printSchema()"
   ]
  },
  {
   "cell_type": "markdown",
   "id": "1973b368",
   "metadata": {},
   "source": [
    "Cобираем трансформированные категорийные и числовые признаки с помощью VectorAssembler:"
   ]
  },
  {
   "cell_type": "code",
   "execution_count": 22,
   "id": "47962487",
   "metadata": {},
   "outputs": [],
   "source": [
    "all_features = ['ocean_proximity_ohe','numerical_features_scaled']\n",
    "\n",
    "final_assembler = VectorAssembler(inputCols=all_features, outputCol='features')\n",
    "#df_h = final_assembler.transform(df_h)"
   ]
  },
  {
   "cell_type": "code",
   "execution_count": 23,
   "id": "786fb679",
   "metadata": {},
   "outputs": [],
   "source": [
    "#Проверяем:\n",
    "#df_h.select('features').show(5)\n",
    "#df_h.select('numerical_features_scaled').show(5)"
   ]
  },
  {
   "cell_type": "markdown",
   "id": "82d49218",
   "metadata": {},
   "source": [
    "***Вывод:*** \n",
    "Преобразовали числовые и категориальные признаки в вектора. Создали два набора данных: один включающий все признаки, второй только количественные."
   ]
  },
  {
   "cell_type": "markdown",
   "id": "9f0a82f3",
   "metadata": {
    "id": "9f0a82f3"
   },
   "source": [
    "## Обучение моделей"
   ]
  },
  {
   "cell_type": "markdown",
   "id": "f0bbd13d",
   "metadata": {},
   "source": [
    "По условиям задачи необходимо сравнить метрики RMSE, MAE, R2 на следующих вариациях датасета:  \n",
    "  - со всеми признаками;  \n",
    "  - без категориального признака."
   ]
  },
  {
   "cell_type": "markdown",
   "id": "529d3502",
   "metadata": {},
   "source": [
    "Разделим наши наборы данных на тренировочные и тестовые."
   ]
  },
  {
   "cell_type": "code",
   "execution_count": 24,
   "id": "5bf1d22a",
   "metadata": {},
   "outputs": [],
   "source": [
    "train, test = df_housing.randomSplit([.8,.2], seed=RANDOM_SEED)"
   ]
  },
  {
   "cell_type": "code",
   "execution_count": 25,
   "id": "438cf31d",
   "metadata": {},
   "outputs": [
    {
     "name": "stdout",
     "output_type": "stream",
     "text": [
      "16538 4102\n"
     ]
    }
   ],
   "source": [
    "# Выведем количество записей в выборках на экран при помощи метода count()\n",
    "print(train.count(), test.count())"
   ]
  },
  {
   "cell_type": "code",
   "execution_count": 26,
   "id": "9e43acd9",
   "metadata": {},
   "outputs": [
    {
     "name": "stderr",
     "output_type": "stream",
     "text": [
      "23/11/30 10:48:17 WARN BLAS: Failed to load implementation from: com.github.fommil.netlib.NativeSystemBLAS\n",
      "23/11/30 10:48:17 WARN BLAS: Failed to load implementation from: com.github.fommil.netlib.NativeRefBLAS\n",
      "23/11/30 10:48:18 WARN LAPACK: Failed to load implementation from: com.github.fommil.netlib.NativeSystemLAPACK\n",
      "23/11/30 10:48:18 WARN LAPACK: Failed to load implementation from: com.github.fommil.netlib.NativeRefLAPACK\n",
      "                                                                                \r"
     ]
    }
   ],
   "source": [
    "# Создаем список, куда будем вносить результаты\n",
    "data_table = [\n",
    "    ['features_used', 'RMSE', 'MAE', 'R2']\n",
    "]\n",
    "\n",
    "# Перебираем варианты используемых признаков\n",
    "for col in ['features', 'numerical_features_scaled']:\n",
    "    # обучаем модель\n",
    "    lr = LinearRegression(featuresCol=col, labelCol=target, regParam=0.1)\n",
    "    pipeline = Pipeline(stages=[imputer, indexer, encoder, numerical_assembler, standardScaler, final_assembler, lr])\n",
    "    model = pipeline.fit(train)\n",
    "    \n",
    "    #запишем предсказания на тестовой выборке\n",
    "    predictions = model.transform(test)\n",
    "    \n",
    "    #выделим предсказания и ответы в отдельную переменную\n",
    "    results = predictions.select(['prediction', target])\n",
    "    \n",
    "    #соберем все в RDD\n",
    "    results_collect = results.collect()\n",
    "    results_list = [ (float(i[0]), float(i[1])) for i in results_collect]\n",
    "    scoreAndLabels = spark.sparkContext.parallelize(results_list)\n",
    "    \n",
    "    #запишем метрики в отдельную переменную\n",
    "    metrics = RegressionMetrics(scoreAndLabels)\n",
    "    \n",
    "    #добавим результаты в список\n",
    "    data_table.append([col,\n",
    "                       metrics.rootMeanSquaredError,\n",
    "                       metrics.meanAbsoluteError,\n",
    "                       metrics.r2])"
   ]
  },
  {
   "cell_type": "markdown",
   "id": "a4491793",
   "metadata": {},
   "source": [
    "***Вывод:***\n",
    "\n",
    "Разделили данные на обучающие и тестовые выборки, обучили модели линейной регрессии"
   ]
  },
  {
   "cell_type": "markdown",
   "id": "757fd103",
   "metadata": {
    "id": "757fd103"
   },
   "source": [
    "## Анализ результатов"
   ]
  },
  {
   "cell_type": "markdown",
   "id": "c24498c0",
   "metadata": {},
   "source": [
    "Сравним результаты работы линейной регрессии на двух наборах данных по метрикам RMSE, MAE и R2."
   ]
  },
  {
   "cell_type": "code",
   "execution_count": 27,
   "id": "0a5a7c6c",
   "metadata": {},
   "outputs": [
    {
     "data": {
      "text/html": [
       "<div>\n",
       "<style scoped>\n",
       "    .dataframe tbody tr th:only-of-type {\n",
       "        vertical-align: middle;\n",
       "    }\n",
       "\n",
       "    .dataframe tbody tr th {\n",
       "        vertical-align: top;\n",
       "    }\n",
       "\n",
       "    .dataframe thead th {\n",
       "        text-align: right;\n",
       "    }\n",
       "</style>\n",
       "<table border=\"1\" class=\"dataframe\">\n",
       "  <thead>\n",
       "    <tr style=\"text-align: right;\">\n",
       "      <th></th>\n",
       "      <th>features_used</th>\n",
       "      <th>RMSE</th>\n",
       "      <th>MAE</th>\n",
       "      <th>R2</th>\n",
       "    </tr>\n",
       "  </thead>\n",
       "  <tbody>\n",
       "    <tr>\n",
       "      <th>0</th>\n",
       "      <td>features</td>\n",
       "      <td>68292.078678</td>\n",
       "      <td>50039.486380</td>\n",
       "      <td>0.654481</td>\n",
       "    </tr>\n",
       "    <tr>\n",
       "      <th>1</th>\n",
       "      <td>numerical_features_scaled</td>\n",
       "      <td>69442.435728</td>\n",
       "      <td>51446.486288</td>\n",
       "      <td>0.642743</td>\n",
       "    </tr>\n",
       "  </tbody>\n",
       "</table>\n",
       "</div>"
      ],
      "text/plain": [
       "               features_used          RMSE           MAE        R2\n",
       "0                   features  68292.078678  50039.486380  0.654481\n",
       "1  numerical_features_scaled  69442.435728  51446.486288  0.642743"
      ]
     },
     "execution_count": 27,
     "metadata": {},
     "output_type": "execute_result"
    }
   ],
   "source": [
    "pd.DataFrame(data_table[1:], columns=data_table[0])"
   ]
  },
  {
   "cell_type": "markdown",
   "id": "af17d741",
   "metadata": {},
   "source": [
    "***Вывод:***  \n",
    "   - RMSE и MAE измеряют разницу между предсказанным значением медианной цены дома и его реальной ценой. Реальная цена по набору лежит в диапазоне от 15000 до 500000. Ошибки в случае с использованием всего набора данных чуть меньше. Но не существенно.  \n",
    "   - Коэффициент детерминации, показывающий долю корректных предсказаний нашей модели выше у модели учитывающей все признаки.    \n",
    "   - Модели показывают неплохой результат. На тестовом наборе данных лучший результат показала модель обученная на всех признаках, как на количественных так и на категориальном признаках."
   ]
  },
  {
   "cell_type": "code",
   "execution_count": 28,
   "id": "0a850169",
   "metadata": {},
   "outputs": [],
   "source": [
    "spark.stop()"
   ]
  },
  {
   "cell_type": "markdown",
   "id": "d5e0fc17",
   "metadata": {},
   "source": [
    "## Общий вывод"
   ]
  },
  {
   "cell_type": "markdown",
   "id": "6d283d41",
   "metadata": {},
   "source": [
    "В предоставленном наборе данных (размером 20640 строк на 10 колонок) была проведена предобработка данных для сравнения результатов работы модели Линейной регресии на двух наборах данных по метрикам RMSE, MAE и R2:\n",
    "\n",
    "1. Инициализировали локальную Spark-сессию.\n",
    "2. Прочитали содержимое файла /datasets/housing.csv.   \n",
    "3. Выведили типы данных колонок датасета. Используйте методы pySpark.\n",
    "4. Выполнили предобработку данных:\n",
    "    - исследовали данные на наличие пропусков и заполнили их медианным значение.\n",
    "    - преобразули колонку с категориальными значениями техникой One hot encoding.\n",
    "5. Построили две модели линейной регрессии на разных наборах данных:\n",
    "    - используя все данные из файла;\n",
    "    - используя только числовые переменные, исключив категориальные.\n",
    "6. Сравнили результаты работы линейной регрессии на двух наборах данных по метрикам RMSE, MAE и R2: \n",
    "    - RMSE и MAE измеряют разницу между предсказанным значением медианной цены дома и его реальной ценой. Реальная цена по набору лежит в диапазоне от 15000 до 500000. Ошибки в случае с использованием всего набора данных чуть меньше. Но не существенно.  \n",
    "    - Коэффициент детерминации, показывающий долю корректных предсказаний нашей модели выше у модели учитывающей все признаки.    \n",
    "    - Модели показывают неплохой результат. \n",
    "    - ***На тестовом наборе данных лучший результат показала модель обученная на всех признаках, как на количественных так и на категориальном признаках.***\n"
   ]
  }
 ],
 "metadata": {
  "ExecuteTimeLog": [
   {
    "duration": 1430,
    "start_time": "2023-11-27T06:13:07.731Z"
   },
   {
    "duration": 15230,
    "start_time": "2023-11-27T06:13:27.535Z"
   },
   {
    "duration": 8130,
    "start_time": "2023-11-27T06:14:00.237Z"
   },
   {
    "duration": 700,
    "start_time": "2023-11-27T06:15:58.278Z"
   },
   {
    "duration": 4151,
    "start_time": "2023-11-27T06:17:31.044Z"
   },
   {
    "duration": 987,
    "start_time": "2023-11-27T06:18:19.983Z"
   },
   {
    "duration": 1337,
    "start_time": "2023-11-27T06:18:38.533Z"
   },
   {
    "duration": 1207,
    "start_time": "2023-11-27T06:27:02.307Z"
   },
   {
    "duration": 16444,
    "start_time": "2023-11-27T06:27:03.516Z"
   },
   {
    "duration": 9001,
    "start_time": "2023-11-27T06:27:19.962Z"
   },
   {
    "duration": 21,
    "start_time": "2023-11-27T06:27:28.967Z"
   },
   {
    "duration": 789,
    "start_time": "2023-11-27T06:27:28.990Z"
   },
   {
    "duration": 4804,
    "start_time": "2023-11-27T06:27:29.781Z"
   },
   {
    "duration": 491,
    "start_time": "2023-11-27T06:27:34.587Z"
   },
   {
    "duration": 263,
    "start_time": "2023-11-27T06:32:43.357Z"
   },
   {
    "duration": 281,
    "start_time": "2023-11-27T06:32:59.498Z"
   },
   {
    "duration": 735,
    "start_time": "2023-11-27T06:33:02.933Z"
   },
   {
    "duration": 5,
    "start_time": "2023-11-27T06:33:05.363Z"
   },
   {
    "duration": 167,
    "start_time": "2023-11-27T06:33:07.102Z"
   },
   {
    "duration": 1480,
    "start_time": "2023-11-27T06:33:21.903Z"
   },
   {
    "duration": 238,
    "start_time": "2023-11-27T06:34:03.071Z"
   },
   {
    "duration": 14,
    "start_time": "2023-11-27T06:58:48.720Z"
   },
   {
    "duration": 224,
    "start_time": "2023-11-27T06:58:52.771Z"
   },
   {
    "duration": 711,
    "start_time": "2023-11-27T06:58:56.161Z"
   },
   {
    "duration": 30,
    "start_time": "2023-11-27T06:59:00.676Z"
   },
   {
    "duration": 4260,
    "start_time": "2023-11-27T07:00:31.028Z"
   },
   {
    "duration": 130,
    "start_time": "2023-11-27T07:12:37.382Z"
   },
   {
    "duration": 874,
    "start_time": "2023-11-27T07:12:44.926Z"
   },
   {
    "duration": 1115,
    "start_time": "2023-11-27T07:19:53.379Z"
   },
   {
    "duration": 3275,
    "start_time": "2023-11-27T07:21:08.084Z"
   },
   {
    "duration": 2611,
    "start_time": "2023-11-27T07:21:22.665Z"
   },
   {
    "duration": 2414,
    "start_time": "2023-11-27T07:21:40.697Z"
   },
   {
    "duration": 1894,
    "start_time": "2023-11-27T07:22:01.802Z"
   },
   {
    "duration": 1929,
    "start_time": "2023-11-27T07:23:30.009Z"
   },
   {
    "duration": 1857,
    "start_time": "2023-11-27T07:24:06.130Z"
   },
   {
    "duration": 1805,
    "start_time": "2023-11-27T07:24:29.398Z"
   },
   {
    "duration": 2143,
    "start_time": "2023-11-27T07:26:14.748Z"
   },
   {
    "duration": 2055,
    "start_time": "2023-11-27T07:26:30.559Z"
   },
   {
    "duration": 2095,
    "start_time": "2023-11-27T07:28:07.749Z"
   },
   {
    "duration": 1910,
    "start_time": "2023-11-27T07:30:46.326Z"
   },
   {
    "duration": 16,
    "start_time": "2023-11-27T07:31:20.408Z"
   },
   {
    "duration": 12,
    "start_time": "2023-11-27T07:31:28.883Z"
   },
   {
    "duration": 1998,
    "start_time": "2023-11-27T07:31:35.334Z"
   },
   {
    "duration": 16,
    "start_time": "2023-11-27T07:34:07.295Z"
   },
   {
    "duration": 1736,
    "start_time": "2023-11-27T07:34:20.179Z"
   },
   {
    "duration": 1496,
    "start_time": "2023-11-27T07:34:31.911Z"
   },
   {
    "duration": 1861,
    "start_time": "2023-11-27T07:35:19.898Z"
   },
   {
    "duration": 11,
    "start_time": "2023-11-27T07:35:37.659Z"
   },
   {
    "duration": 1865,
    "start_time": "2023-11-27T07:35:47.829Z"
   },
   {
    "duration": 532,
    "start_time": "2023-11-27T07:44:22.749Z"
   },
   {
    "duration": 623,
    "start_time": "2023-11-27T07:44:40.938Z"
   },
   {
    "duration": 476,
    "start_time": "2023-11-27T07:44:56.703Z"
   },
   {
    "duration": 502,
    "start_time": "2023-11-27T07:46:04.763Z"
   },
   {
    "duration": 10,
    "start_time": "2023-11-27T07:47:00.176Z"
   },
   {
    "duration": 10,
    "start_time": "2023-11-27T07:47:17.427Z"
   },
   {
    "duration": 1439,
    "start_time": "2023-11-27T07:47:50.878Z"
   },
   {
    "duration": 172,
    "start_time": "2023-11-27T07:48:02.458Z"
   },
   {
    "duration": 3067,
    "start_time": "2023-11-27T07:48:44.701Z"
   },
   {
    "duration": 497,
    "start_time": "2023-11-27T07:49:42.889Z"
   },
   {
    "duration": 560,
    "start_time": "2023-11-27T07:49:52.400Z"
   },
   {
    "duration": 573,
    "start_time": "2023-11-27T07:50:11.062Z"
   },
   {
    "duration": 1362,
    "start_time": "2023-11-27T07:57:21.176Z"
   },
   {
    "duration": 15539,
    "start_time": "2023-11-27T07:57:22.540Z"
   },
   {
    "duration": 9177,
    "start_time": "2023-11-27T07:57:38.082Z"
   },
   {
    "duration": 15,
    "start_time": "2023-11-27T07:57:47.260Z"
   },
   {
    "duration": 810,
    "start_time": "2023-11-27T07:57:47.278Z"
   },
   {
    "duration": 1330,
    "start_time": "2023-11-27T07:57:48.158Z"
   },
   {
    "duration": 6282,
    "start_time": "2023-11-27T07:57:49.490Z"
   },
   {
    "duration": 1708,
    "start_time": "2023-11-27T07:57:55.774Z"
   },
   {
    "duration": 896,
    "start_time": "2023-11-27T07:57:57.484Z"
   },
   {
    "duration": 684,
    "start_time": "2023-11-27T07:57:58.381Z"
   },
   {
    "duration": 428,
    "start_time": "2023-11-27T07:57:59.067Z"
   },
   {
    "duration": 71,
    "start_time": "2023-11-27T08:14:05.478Z"
   },
   {
    "duration": 10,
    "start_time": "2023-11-27T08:14:49.069Z"
   },
   {
    "duration": 11,
    "start_time": "2023-11-27T08:15:04.786Z"
   },
   {
    "duration": 10,
    "start_time": "2023-11-27T08:16:08.135Z"
   },
   {
    "duration": 11,
    "start_time": "2023-11-27T08:16:11.990Z"
   },
   {
    "duration": 374,
    "start_time": "2023-11-27T08:16:19.385Z"
   },
   {
    "duration": 504,
    "start_time": "2023-11-27T08:16:24.710Z"
   },
   {
    "duration": 3830,
    "start_time": "2023-11-27T08:16:30.230Z"
   },
   {
    "duration": 16,
    "start_time": "2023-11-27T08:16:49.761Z"
   },
   {
    "duration": 11,
    "start_time": "2023-11-27T08:19:19.816Z"
   },
   {
    "duration": 10,
    "start_time": "2023-11-27T08:19:28.638Z"
   },
   {
    "duration": 10,
    "start_time": "2023-11-27T08:19:34.007Z"
   },
   {
    "duration": 796,
    "start_time": "2023-11-27T08:19:48.288Z"
   },
   {
    "duration": 9,
    "start_time": "2023-11-27T08:42:52.743Z"
   },
   {
    "duration": 9,
    "start_time": "2023-11-27T08:43:06.977Z"
   },
   {
    "duration": 5,
    "start_time": "2023-11-27T08:43:47.406Z"
   },
   {
    "duration": 9,
    "start_time": "2023-11-27T08:43:54.006Z"
   },
   {
    "duration": 504,
    "start_time": "2023-11-27T08:45:20.455Z"
   },
   {
    "duration": 34229,
    "start_time": "2023-11-27T08:45:32.936Z"
   },
   {
    "duration": 9,
    "start_time": "2023-11-27T09:01:31.647Z"
   },
   {
    "duration": 5,
    "start_time": "2023-11-27T09:01:57.777Z"
   },
   {
    "duration": 878,
    "start_time": "2023-11-27T09:02:02.698Z"
   },
   {
    "duration": 563,
    "start_time": "2023-11-27T09:04:09.725Z"
   },
   {
    "duration": 705,
    "start_time": "2023-11-27T09:04:28.086Z"
   },
   {
    "duration": 2371,
    "start_time": "2023-11-27T09:05:56.799Z"
   },
   {
    "duration": 1349,
    "start_time": "2023-11-27T09:08:06.348Z"
   },
   {
    "duration": 15869,
    "start_time": "2023-11-27T09:08:07.699Z"
   },
   {
    "duration": 8625,
    "start_time": "2023-11-27T09:08:23.570Z"
   },
   {
    "duration": 76,
    "start_time": "2023-11-27T09:08:32.197Z"
   },
   {
    "duration": 699,
    "start_time": "2023-11-27T09:08:32.277Z"
   },
   {
    "duration": 1315,
    "start_time": "2023-11-27T09:08:32.978Z"
   },
   {
    "duration": 5893,
    "start_time": "2023-11-27T09:08:34.295Z"
   },
   {
    "duration": 1493,
    "start_time": "2023-11-27T09:08:40.190Z"
   },
   {
    "duration": 1885,
    "start_time": "2023-11-27T09:08:41.685Z"
   },
   {
    "duration": 1297,
    "start_time": "2023-11-27T09:08:43.573Z"
   },
   {
    "duration": 2602,
    "start_time": "2023-11-27T09:08:44.872Z"
   },
   {
    "duration": 84,
    "start_time": "2023-11-27T09:08:47.476Z"
   },
   {
    "duration": 0,
    "start_time": "2023-11-27T09:08:47.563Z"
   },
   {
    "duration": 113,
    "start_time": "2023-11-27T09:09:16.851Z"
   },
   {
    "duration": 121,
    "start_time": "2023-11-27T09:49:41.104Z"
   },
   {
    "duration": 4,
    "start_time": "2023-11-27T09:49:49.129Z"
   },
   {
    "duration": 373,
    "start_time": "2023-11-27T09:49:52.219Z"
   },
   {
    "duration": 600,
    "start_time": "2023-11-27T09:49:55.489Z"
   },
   {
    "duration": 10,
    "start_time": "2023-11-27T09:50:01.355Z"
   },
   {
    "duration": 3862,
    "start_time": "2023-11-27T09:51:28.044Z"
   },
   {
    "duration": 13,
    "start_time": "2023-11-27T09:51:42.099Z"
   },
   {
    "duration": 92,
    "start_time": "2023-11-27T09:51:49.092Z"
   },
   {
    "duration": 12,
    "start_time": "2023-11-27T09:51:56.920Z"
   },
   {
    "duration": 31,
    "start_time": "2023-11-27T09:52:48.463Z"
   },
   {
    "duration": 3203,
    "start_time": "2023-11-27T09:53:03.104Z"
   },
   {
    "duration": 1323,
    "start_time": "2023-11-27T09:53:37.776Z"
   },
   {
    "duration": 16261,
    "start_time": "2023-11-27T09:53:39.101Z"
   },
   {
    "duration": 10507,
    "start_time": "2023-11-27T09:53:55.365Z"
   },
   {
    "duration": 84,
    "start_time": "2023-11-27T09:54:05.875Z"
   },
   {
    "duration": 827,
    "start_time": "2023-11-27T09:54:05.962Z"
   },
   {
    "duration": 1520,
    "start_time": "2023-11-27T09:54:06.864Z"
   },
   {
    "duration": 6608,
    "start_time": "2023-11-27T09:54:08.386Z"
   },
   {
    "duration": 1723,
    "start_time": "2023-11-27T09:54:15.059Z"
   },
   {
    "duration": 4703,
    "start_time": "2023-11-27T09:54:16.784Z"
   },
   {
    "duration": 1207,
    "start_time": "2023-11-27T09:54:21.489Z"
   },
   {
    "duration": 1090,
    "start_time": "2023-11-27T09:54:22.697Z"
   },
   {
    "duration": 2889,
    "start_time": "2023-11-27T09:54:23.789Z"
   },
   {
    "duration": 508,
    "start_time": "2023-11-27T09:54:26.680Z"
   },
   {
    "duration": 1583,
    "start_time": "2023-11-27T09:54:53.071Z"
   },
   {
    "duration": 17016,
    "start_time": "2023-11-27T09:54:54.658Z"
   },
   {
    "duration": 9234,
    "start_time": "2023-11-27T09:55:11.676Z"
   },
   {
    "duration": 61,
    "start_time": "2023-11-27T09:55:20.913Z"
   },
   {
    "duration": 891,
    "start_time": "2023-11-27T09:55:20.976Z"
   },
   {
    "duration": 1631,
    "start_time": "2023-11-27T09:55:21.869Z"
   },
   {
    "duration": 6670,
    "start_time": "2023-11-27T09:55:23.502Z"
   },
   {
    "duration": 5225,
    "start_time": "2023-11-27T09:55:30.174Z"
   },
   {
    "duration": 1385,
    "start_time": "2023-11-27T09:55:35.401Z"
   },
   {
    "duration": 1200,
    "start_time": "2023-11-27T09:55:36.789Z"
   },
   {
    "duration": 1179,
    "start_time": "2023-11-27T09:55:37.992Z"
   },
   {
    "duration": 2895,
    "start_time": "2023-11-27T09:55:39.173Z"
   },
   {
    "duration": 289,
    "start_time": "2023-11-27T09:55:42.070Z"
   },
   {
    "duration": 124,
    "start_time": "2023-11-27T09:55:53.546Z"
   },
   {
    "duration": 20,
    "start_time": "2023-11-27T09:58:49.118Z"
   },
   {
    "duration": 4,
    "start_time": "2023-11-27T09:59:07.015Z"
   },
   {
    "duration": 391,
    "start_time": "2023-11-27T09:59:08.784Z"
   },
   {
    "duration": 663,
    "start_time": "2023-11-27T09:59:10.628Z"
   },
   {
    "duration": 1784,
    "start_time": "2023-11-27T09:59:18.369Z"
   },
   {
    "duration": 1351,
    "start_time": "2023-11-27T10:00:08.291Z"
   },
   {
    "duration": 1229,
    "start_time": "2023-11-27T10:00:29.698Z"
   },
   {
    "duration": 11,
    "start_time": "2023-11-27T10:11:32.114Z"
   },
   {
    "duration": 5,
    "start_time": "2023-11-27T10:13:50.182Z"
   },
   {
    "duration": 11,
    "start_time": "2023-11-27T10:13:50.827Z"
   },
   {
    "duration": 8,
    "start_time": "2023-11-27T10:14:55.332Z"
   },
   {
    "duration": 8,
    "start_time": "2023-11-28T09:48:30.675Z"
   },
   {
    "duration": 1463,
    "start_time": "2023-11-28T09:52:32.007Z"
   },
   {
    "duration": 17372,
    "start_time": "2023-11-28T09:52:33.473Z"
   },
   {
    "duration": 9093,
    "start_time": "2023-11-28T09:52:50.849Z"
   },
   {
    "duration": 25,
    "start_time": "2023-11-28T09:52:59.946Z"
   },
   {
    "duration": 780,
    "start_time": "2023-11-28T09:52:59.973Z"
   },
   {
    "duration": 1517,
    "start_time": "2023-11-28T09:53:00.756Z"
   },
   {
    "duration": 6078,
    "start_time": "2023-11-28T09:53:02.275Z"
   },
   {
    "duration": 1496,
    "start_time": "2023-11-28T09:53:08.356Z"
   },
   {
    "duration": 1620,
    "start_time": "2023-11-28T09:53:09.854Z"
   },
   {
    "duration": 1169,
    "start_time": "2023-11-28T09:53:11.476Z"
   },
   {
    "duration": 2906,
    "start_time": "2023-11-28T09:53:12.647Z"
   },
   {
    "duration": 3,
    "start_time": "2023-11-28T09:53:15.555Z"
   },
   {
    "duration": 1387,
    "start_time": "2023-11-28T09:53:15.560Z"
   },
   {
    "duration": 0,
    "start_time": "2023-11-28T09:53:16.953Z"
   },
   {
    "duration": 926,
    "start_time": "2023-11-28T09:53:42.426Z"
   },
   {
    "duration": 686,
    "start_time": "2023-11-28T09:53:51.305Z"
   },
   {
    "duration": 561,
    "start_time": "2023-11-28T09:53:58.491Z"
   },
   {
    "duration": 580,
    "start_time": "2023-11-28T09:54:47.484Z"
   },
   {
    "duration": 475,
    "start_time": "2023-11-28T09:55:06.625Z"
   },
   {
    "duration": 333,
    "start_time": "2023-11-28T09:56:20.142Z"
   },
   {
    "duration": 116,
    "start_time": "2023-11-28T09:56:23.503Z"
   },
   {
    "duration": 245,
    "start_time": "2023-11-28T09:58:44.106Z"
   },
   {
    "duration": 1768,
    "start_time": "2023-11-28T09:59:57.234Z"
   },
   {
    "duration": 1246,
    "start_time": "2023-11-28T10:00:19.158Z"
   },
   {
    "duration": 192,
    "start_time": "2023-11-28T10:01:12.914Z"
   },
   {
    "duration": 88,
    "start_time": "2023-11-28T15:17:12.786Z"
   },
   {
    "duration": 1388,
    "start_time": "2023-11-28T15:19:05.455Z"
   },
   {
    "duration": 5,
    "start_time": "2023-11-28T15:19:08.655Z"
   },
   {
    "duration": 27,
    "start_time": "2023-11-28T15:22:06.665Z"
   },
   {
    "duration": 593,
    "start_time": "2023-11-28T15:22:42.068Z"
   },
   {
    "duration": 317,
    "start_time": "2023-11-28T15:23:09.578Z"
   },
   {
    "duration": 1217,
    "start_time": "2023-11-28T15:26:59.456Z"
   },
   {
    "duration": 15969,
    "start_time": "2023-11-28T15:27:00.675Z"
   },
   {
    "duration": 9312,
    "start_time": "2023-11-28T15:27:16.647Z"
   },
   {
    "duration": 14,
    "start_time": "2023-11-28T15:27:25.961Z"
   },
   {
    "duration": 781,
    "start_time": "2023-11-28T15:27:25.979Z"
   },
   {
    "duration": 1382,
    "start_time": "2023-11-28T15:27:26.762Z"
   },
   {
    "duration": 6009,
    "start_time": "2023-11-28T15:27:28.148Z"
   },
   {
    "duration": 1723,
    "start_time": "2023-11-28T15:27:34.159Z"
   },
   {
    "duration": 1862,
    "start_time": "2023-11-28T15:27:35.883Z"
   },
   {
    "duration": 1112,
    "start_time": "2023-11-28T15:27:37.748Z"
   },
   {
    "duration": 2816,
    "start_time": "2023-11-28T15:27:38.862Z"
   },
   {
    "duration": 3,
    "start_time": "2023-11-28T15:27:41.679Z"
   },
   {
    "duration": 1380,
    "start_time": "2023-11-28T15:27:41.683Z"
   },
   {
    "duration": 306,
    "start_time": "2023-11-28T15:27:43.066Z"
   },
   {
    "duration": 387,
    "start_time": "2023-11-28T15:27:43.374Z"
   },
   {
    "duration": 305,
    "start_time": "2023-11-28T15:27:43.763Z"
   },
   {
    "duration": 105,
    "start_time": "2023-11-28T15:27:44.070Z"
   },
   {
    "duration": 1378,
    "start_time": "2023-11-28T15:27:44.177Z"
   },
   {
    "duration": 6,
    "start_time": "2023-11-28T15:27:45.556Z"
   },
   {
    "duration": 90,
    "start_time": "2023-11-28T15:27:45.563Z"
   },
   {
    "duration": 632,
    "start_time": "2023-11-28T15:27:45.654Z"
   },
   {
    "duration": 188,
    "start_time": "2023-11-28T15:27:46.288Z"
   },
   {
    "duration": 1450,
    "start_time": "2023-11-29T14:28:02.690Z"
   },
   {
    "duration": 15000,
    "start_time": "2023-11-29T14:28:04.142Z"
   },
   {
    "duration": 8311,
    "start_time": "2023-11-29T14:28:19.144Z"
   },
   {
    "duration": 69,
    "start_time": "2023-11-29T14:28:27.457Z"
   },
   {
    "duration": 693,
    "start_time": "2023-11-29T14:28:27.528Z"
   },
   {
    "duration": 1213,
    "start_time": "2023-11-29T14:28:28.222Z"
   },
   {
    "duration": 5081,
    "start_time": "2023-11-29T14:28:29.437Z"
   },
   {
    "duration": 1319,
    "start_time": "2023-11-29T14:28:34.520Z"
   },
   {
    "duration": 1507,
    "start_time": "2023-11-29T14:28:35.841Z"
   },
   {
    "duration": 1014,
    "start_time": "2023-11-29T14:28:37.416Z"
   },
   {
    "duration": 2488,
    "start_time": "2023-11-29T14:28:38.431Z"
   },
   {
    "duration": 3,
    "start_time": "2023-11-29T14:28:40.921Z"
   },
   {
    "duration": 1219,
    "start_time": "2023-11-29T14:28:40.926Z"
   },
   {
    "duration": 331,
    "start_time": "2023-11-29T14:28:42.146Z"
   },
   {
    "duration": 217,
    "start_time": "2023-11-29T14:28:42.514Z"
   },
   {
    "duration": 326,
    "start_time": "2023-11-29T14:28:42.733Z"
   },
   {
    "duration": 88,
    "start_time": "2023-11-29T14:28:43.061Z"
   },
   {
    "duration": 1068,
    "start_time": "2023-11-29T14:28:43.151Z"
   },
   {
    "duration": 3,
    "start_time": "2023-11-29T14:28:44.221Z"
   },
   {
    "duration": 28,
    "start_time": "2023-11-29T14:28:44.225Z"
   },
   {
    "duration": 566,
    "start_time": "2023-11-29T14:28:44.254Z"
   },
   {
    "duration": 2333,
    "start_time": "2023-11-29T14:28:44.822Z"
   },
   {
    "duration": 1308,
    "start_time": "2023-11-29T14:28:47.215Z"
   },
   {
    "duration": 3,
    "start_time": "2023-11-29T14:28:48.525Z"
   },
   {
    "duration": 289,
    "start_time": "2023-11-29T14:59:02.378Z"
   },
   {
    "duration": 391,
    "start_time": "2023-11-29T16:28:31.974Z"
   },
   {
    "duration": 1380,
    "start_time": "2023-11-30T03:42:41.286Z"
   },
   {
    "duration": 15121,
    "start_time": "2023-11-30T03:42:42.669Z"
   },
   {
    "duration": 8116,
    "start_time": "2023-11-30T03:42:57.844Z"
   },
   {
    "duration": 15,
    "start_time": "2023-11-30T03:43:05.962Z"
   },
   {
    "duration": 633,
    "start_time": "2023-11-30T03:43:06.044Z"
   },
   {
    "duration": 1419,
    "start_time": "2023-11-30T03:43:06.742Z"
   },
   {
    "duration": 5399,
    "start_time": "2023-11-30T03:43:08.163Z"
   },
   {
    "duration": 1315,
    "start_time": "2023-11-30T03:43:13.563Z"
   },
   {
    "duration": 1328,
    "start_time": "2023-11-30T03:43:14.942Z"
   },
   {
    "duration": 981,
    "start_time": "2023-11-30T03:43:16.272Z"
   },
   {
    "duration": 2427,
    "start_time": "2023-11-30T03:43:17.255Z"
   },
   {
    "duration": 58,
    "start_time": "2023-11-30T03:43:19.685Z"
   },
   {
    "duration": 1238,
    "start_time": "2023-11-30T03:43:19.745Z"
   },
   {
    "duration": 307,
    "start_time": "2023-11-30T03:43:21.043Z"
   },
   {
    "duration": 391,
    "start_time": "2023-11-30T03:43:21.351Z"
   },
   {
    "duration": 311,
    "start_time": "2023-11-30T03:43:21.744Z"
   },
   {
    "duration": 108,
    "start_time": "2023-11-30T03:43:22.057Z"
   },
   {
    "duration": 1179,
    "start_time": "2023-11-30T03:43:22.167Z"
   },
   {
    "duration": 3,
    "start_time": "2023-11-30T03:43:23.348Z"
   },
   {
    "duration": 26,
    "start_time": "2023-11-30T03:43:23.353Z"
   },
   {
    "duration": 604,
    "start_time": "2023-11-30T03:43:23.380Z"
   },
   {
    "duration": 71,
    "start_time": "2023-11-30T03:43:23.985Z"
   },
   {
    "duration": 2198,
    "start_time": "2023-11-30T03:43:24.058Z"
   },
   {
    "duration": 3,
    "start_time": "2023-11-30T03:43:26.258Z"
   },
   {
    "duration": 333,
    "start_time": "2023-11-30T04:09:56.248Z"
   },
   {
    "duration": 201,
    "start_time": "2023-11-30T04:11:53.248Z"
   },
   {
    "duration": 12,
    "start_time": "2023-11-30T04:12:06.426Z"
   },
   {
    "duration": 1218,
    "start_time": "2023-11-30T04:12:07.236Z"
   },
   {
    "duration": 151,
    "start_time": "2023-11-30T04:12:08.456Z"
   },
   {
    "duration": 3689,
    "start_time": "2023-11-30T04:12:39.159Z"
   },
   {
    "duration": 7500,
    "start_time": "2023-11-30T04:13:15.145Z"
   },
   {
    "duration": 9,
    "start_time": "2023-11-30T04:14:01.122Z"
   },
   {
    "duration": 13,
    "start_time": "2023-11-30T04:16:07.624Z"
   },
   {
    "duration": 5472,
    "start_time": "2023-11-30T04:16:28.206Z"
   },
   {
    "duration": 12,
    "start_time": "2023-11-30T04:16:45.613Z"
   },
   {
    "duration": 5526,
    "start_time": "2023-11-30T04:16:50.918Z"
   },
   {
    "duration": 12,
    "start_time": "2023-11-30T04:16:58.222Z"
   },
   {
    "duration": 5302,
    "start_time": "2023-11-30T04:17:04.943Z"
   },
   {
    "duration": 8,
    "start_time": "2023-11-30T04:17:25.209Z"
   },
   {
    "duration": 4289,
    "start_time": "2023-11-30T04:17:39.699Z"
   },
   {
    "duration": 9,
    "start_time": "2023-11-30T04:17:58.689Z"
   },
   {
    "duration": 3464,
    "start_time": "2023-11-30T04:18:13.736Z"
   },
   {
    "duration": 10,
    "start_time": "2023-11-30T04:18:32.877Z"
   },
   {
    "duration": 2397,
    "start_time": "2023-11-30T04:21:04.553Z"
   },
   {
    "duration": 797,
    "start_time": "2023-11-30T04:21:30.070Z"
   },
   {
    "duration": 589,
    "start_time": "2023-11-30T04:22:18.582Z"
   },
   {
    "duration": 652,
    "start_time": "2023-11-30T04:23:12.104Z"
   },
   {
    "duration": 90,
    "start_time": "2023-11-30T04:25:40.106Z"
   },
   {
    "duration": 91,
    "start_time": "2023-11-30T04:26:29.036Z"
   },
   {
    "duration": 232,
    "start_time": "2023-11-30T04:26:48.764Z"
   },
   {
    "duration": 465,
    "start_time": "2023-11-30T04:27:11.101Z"
   },
   {
    "duration": 93,
    "start_time": "2023-11-30T04:27:50.448Z"
   },
   {
    "duration": 101,
    "start_time": "2023-11-30T04:28:33.532Z"
   },
   {
    "duration": 771,
    "start_time": "2023-11-30T04:29:34.974Z"
   },
   {
    "duration": 10,
    "start_time": "2023-11-30T04:29:59.829Z"
   },
   {
    "duration": 684,
    "start_time": "2023-11-30T04:30:40.380Z"
   },
   {
    "duration": 9,
    "start_time": "2023-11-30T04:30:42.214Z"
   },
   {
    "duration": 1177,
    "start_time": "2023-11-30T04:31:35.281Z"
   },
   {
    "duration": 14792,
    "start_time": "2023-11-30T04:31:36.460Z"
   },
   {
    "duration": 8297,
    "start_time": "2023-11-30T04:31:51.255Z"
   },
   {
    "duration": 15,
    "start_time": "2023-11-30T04:31:59.554Z"
   },
   {
    "duration": 682,
    "start_time": "2023-11-30T04:31:59.572Z"
   },
   {
    "duration": 1394,
    "start_time": "2023-11-30T04:32:00.255Z"
   },
   {
    "duration": 5325,
    "start_time": "2023-11-30T04:32:01.651Z"
   },
   {
    "duration": 1471,
    "start_time": "2023-11-30T04:32:06.978Z"
   },
   {
    "duration": 1509,
    "start_time": "2023-11-30T04:32:08.451Z"
   },
   {
    "duration": 1016,
    "start_time": "2023-11-30T04:32:09.962Z"
   },
   {
    "duration": 2495,
    "start_time": "2023-11-30T04:32:10.980Z"
   },
   {
    "duration": 3,
    "start_time": "2023-11-30T04:32:13.542Z"
   },
   {
    "duration": 1203,
    "start_time": "2023-11-30T04:32:13.547Z"
   },
   {
    "duration": 356,
    "start_time": "2023-11-30T04:32:14.753Z"
   },
   {
    "duration": 233,
    "start_time": "2023-11-30T04:32:15.110Z"
   },
   {
    "duration": 304,
    "start_time": "2023-11-30T04:32:15.345Z"
   },
   {
    "duration": 101,
    "start_time": "2023-11-30T04:32:15.651Z"
   },
   {
    "duration": 1114,
    "start_time": "2023-11-30T04:32:15.754Z"
   },
   {
    "duration": 3,
    "start_time": "2023-11-30T04:32:16.870Z"
   },
   {
    "duration": 85,
    "start_time": "2023-11-30T04:32:16.875Z"
   },
   {
    "duration": 617,
    "start_time": "2023-11-30T04:32:16.962Z"
   },
   {
    "duration": 75,
    "start_time": "2023-11-30T04:32:17.580Z"
   },
   {
    "duration": 2513,
    "start_time": "2023-11-30T04:32:17.657Z"
   },
   {
    "duration": 6684,
    "start_time": "2023-11-30T04:32:20.172Z"
   },
   {
    "duration": 852,
    "start_time": "2023-11-30T04:32:26.858Z"
   },
   {
    "duration": 751,
    "start_time": "2023-11-30T04:32:27.712Z"
   },
   {
    "duration": 1392,
    "start_time": "2023-11-30T04:32:28.465Z"
   },
   {
    "duration": 905,
    "start_time": "2023-11-30T04:32:29.859Z"
   },
   {
    "duration": 0,
    "start_time": "2023-11-30T04:32:30.766Z"
   },
   {
    "duration": 0,
    "start_time": "2023-11-30T04:32:30.768Z"
   },
   {
    "duration": 81,
    "start_time": "2023-11-30T04:33:04.312Z"
   },
   {
    "duration": 88,
    "start_time": "2023-11-30T04:33:16.221Z"
   },
   {
    "duration": 8,
    "start_time": "2023-11-30T04:33:19.495Z"
   },
   {
    "duration": 93,
    "start_time": "2023-11-30T04:33:41.468Z"
   },
   {
    "duration": 87,
    "start_time": "2023-11-30T04:34:10.811Z"
   },
   {
    "duration": 83,
    "start_time": "2023-11-30T04:34:28.720Z"
   },
   {
    "duration": 1766,
    "start_time": "2023-11-30T04:34:41.577Z"
   },
   {
    "duration": 0,
    "start_time": "2023-11-30T04:34:43.345Z"
   },
   {
    "duration": 6216,
    "start_time": "2023-11-30T04:36:00.256Z"
   },
   {
    "duration": 741,
    "start_time": "2023-11-30T04:36:10.606Z"
   },
   {
    "duration": 11,
    "start_time": "2023-11-30T04:36:12.873Z"
   },
   {
    "duration": 586,
    "start_time": "2023-11-30T04:37:13.265Z"
   },
   {
    "duration": 10,
    "start_time": "2023-11-30T04:37:15.540Z"
   },
   {
    "duration": 1193,
    "start_time": "2023-11-30T04:39:19.058Z"
   },
   {
    "duration": 14919,
    "start_time": "2023-11-30T04:39:20.253Z"
   },
   {
    "duration": 7906,
    "start_time": "2023-11-30T04:39:35.174Z"
   },
   {
    "duration": 74,
    "start_time": "2023-11-30T04:39:43.081Z"
   },
   {
    "duration": 701,
    "start_time": "2023-11-30T04:39:43.158Z"
   },
   {
    "duration": 1205,
    "start_time": "2023-11-30T04:39:43.861Z"
   },
   {
    "duration": 5482,
    "start_time": "2023-11-30T04:39:45.068Z"
   },
   {
    "duration": 1293,
    "start_time": "2023-11-30T04:39:50.552Z"
   },
   {
    "duration": 1510,
    "start_time": "2023-11-30T04:39:51.847Z"
   },
   {
    "duration": 1099,
    "start_time": "2023-11-30T04:39:53.359Z"
   },
   {
    "duration": 2406,
    "start_time": "2023-11-30T04:39:54.460Z"
   },
   {
    "duration": 3,
    "start_time": "2023-11-30T04:39:56.868Z"
   },
   {
    "duration": 1281,
    "start_time": "2023-11-30T04:39:56.873Z"
   },
   {
    "duration": 291,
    "start_time": "2023-11-30T04:39:58.158Z"
   },
   {
    "duration": 211,
    "start_time": "2023-11-30T04:39:58.451Z"
   },
   {
    "duration": 290,
    "start_time": "2023-11-30T04:39:58.664Z"
   },
   {
    "duration": 96,
    "start_time": "2023-11-30T04:39:58.956Z"
   },
   {
    "duration": 1113,
    "start_time": "2023-11-30T04:39:59.054Z"
   },
   {
    "duration": 3,
    "start_time": "2023-11-30T04:40:00.169Z"
   },
   {
    "duration": 93,
    "start_time": "2023-11-30T04:40:00.174Z"
   },
   {
    "duration": 579,
    "start_time": "2023-11-30T04:40:00.268Z"
   },
   {
    "duration": 20,
    "start_time": "2023-11-30T04:40:00.849Z"
   },
   {
    "duration": 2414,
    "start_time": "2023-11-30T04:40:00.871Z"
   },
   {
    "duration": 4868,
    "start_time": "2023-11-30T04:40:03.343Z"
   },
   {
    "duration": 0,
    "start_time": "2023-11-30T04:40:08.213Z"
   },
   {
    "duration": 0,
    "start_time": "2023-11-30T04:40:08.216Z"
   },
   {
    "duration": 1146,
    "start_time": "2023-11-30T04:41:06.395Z"
   },
   {
    "duration": 14804,
    "start_time": "2023-11-30T04:41:07.543Z"
   },
   {
    "duration": 7830,
    "start_time": "2023-11-30T04:41:22.349Z"
   },
   {
    "duration": 79,
    "start_time": "2023-11-30T04:41:30.181Z"
   },
   {
    "duration": 785,
    "start_time": "2023-11-30T04:41:30.264Z"
   },
   {
    "duration": 1217,
    "start_time": "2023-11-30T04:41:31.051Z"
   },
   {
    "duration": 5488,
    "start_time": "2023-11-30T04:41:32.270Z"
   },
   {
    "duration": 1387,
    "start_time": "2023-11-30T04:41:37.760Z"
   },
   {
    "duration": 1525,
    "start_time": "2023-11-30T04:41:39.149Z"
   },
   {
    "duration": 1020,
    "start_time": "2023-11-30T04:41:40.743Z"
   },
   {
    "duration": 2509,
    "start_time": "2023-11-30T04:41:41.765Z"
   },
   {
    "duration": 3,
    "start_time": "2023-11-30T04:41:44.275Z"
   },
   {
    "duration": 1373,
    "start_time": "2023-11-30T04:41:44.279Z"
   },
   {
    "duration": 300,
    "start_time": "2023-11-30T04:41:45.655Z"
   },
   {
    "duration": 294,
    "start_time": "2023-11-30T04:41:45.956Z"
   },
   {
    "duration": 302,
    "start_time": "2023-11-30T04:41:46.252Z"
   },
   {
    "duration": 101,
    "start_time": "2023-11-30T04:41:46.556Z"
   },
   {
    "duration": 1210,
    "start_time": "2023-11-30T04:41:46.658Z"
   },
   {
    "duration": 3,
    "start_time": "2023-11-30T04:41:47.870Z"
   },
   {
    "duration": 98,
    "start_time": "2023-11-30T04:41:47.876Z"
   },
   {
    "duration": 768,
    "start_time": "2023-11-30T04:41:47.975Z"
   },
   {
    "duration": 25,
    "start_time": "2023-11-30T04:41:48.745Z"
   },
   {
    "duration": 2491,
    "start_time": "2023-11-30T04:41:48.771Z"
   },
   {
    "duration": 9704,
    "start_time": "2023-11-30T04:41:51.263Z"
   },
   {
    "duration": 74,
    "start_time": "2023-11-30T04:42:00.970Z"
   },
   {
    "duration": 2,
    "start_time": "2023-11-30T04:42:01.046Z"
   },
   {
    "duration": 5601,
    "start_time": "2023-11-30T04:47:40.684Z"
   },
   {
    "duration": 9,
    "start_time": "2023-11-30T04:47:52.055Z"
   },
   {
    "duration": 4921,
    "start_time": "2023-11-30T04:48:02.975Z"
   },
   {
    "duration": 10,
    "start_time": "2023-11-30T04:48:09.995Z"
   },
   {
    "duration": 1211,
    "start_time": "2023-11-30T04:48:31.856Z"
   },
   {
    "duration": 15013,
    "start_time": "2023-11-30T04:48:33.069Z"
   },
   {
    "duration": 8193,
    "start_time": "2023-11-30T04:48:48.084Z"
   },
   {
    "duration": 68,
    "start_time": "2023-11-30T04:48:56.280Z"
   },
   {
    "duration": 704,
    "start_time": "2023-11-30T04:48:56.351Z"
   },
   {
    "duration": 1387,
    "start_time": "2023-11-30T04:48:57.056Z"
   },
   {
    "duration": 5701,
    "start_time": "2023-11-30T04:48:58.445Z"
   },
   {
    "duration": 1402,
    "start_time": "2023-11-30T04:49:04.148Z"
   },
   {
    "duration": 1605,
    "start_time": "2023-11-30T04:49:05.552Z"
   },
   {
    "duration": 1184,
    "start_time": "2023-11-30T04:49:07.160Z"
   },
   {
    "duration": 2326,
    "start_time": "2023-11-30T04:49:08.346Z"
   },
   {
    "duration": 4,
    "start_time": "2023-11-30T04:49:10.674Z"
   },
   {
    "duration": 1394,
    "start_time": "2023-11-30T04:49:10.680Z"
   },
   {
    "duration": 337,
    "start_time": "2023-11-30T04:49:12.076Z"
   },
   {
    "duration": 257,
    "start_time": "2023-11-30T04:49:12.415Z"
   },
   {
    "duration": 319,
    "start_time": "2023-11-30T04:49:12.674Z"
   },
   {
    "duration": 105,
    "start_time": "2023-11-30T04:49:13.043Z"
   },
   {
    "duration": 1207,
    "start_time": "2023-11-30T04:49:13.151Z"
   },
   {
    "duration": 3,
    "start_time": "2023-11-30T04:49:14.360Z"
   },
   {
    "duration": 83,
    "start_time": "2023-11-30T04:49:14.365Z"
   },
   {
    "duration": 530,
    "start_time": "2023-11-30T04:49:14.450Z"
   },
   {
    "duration": 69,
    "start_time": "2023-11-30T04:49:14.982Z"
   },
   {
    "duration": 2320,
    "start_time": "2023-11-30T04:49:15.053Z"
   },
   {
    "duration": 9279,
    "start_time": "2023-11-30T04:49:17.375Z"
   },
   {
    "duration": 9,
    "start_time": "2023-11-30T04:49:26.656Z"
   },
   {
    "duration": 75,
    "start_time": "2023-11-30T04:49:26.667Z"
   },
   {
    "duration": 106,
    "start_time": "2023-11-30T04:49:44.979Z"
   },
   {
    "duration": 5716,
    "start_time": "2023-11-30T04:50:00.654Z"
   },
   {
    "duration": 10,
    "start_time": "2023-11-30T04:50:08.244Z"
   },
   {
    "duration": 1217,
    "start_time": "2023-11-30T04:50:46.733Z"
   },
   {
    "duration": 15106,
    "start_time": "2023-11-30T04:50:47.952Z"
   },
   {
    "duration": 8393,
    "start_time": "2023-11-30T04:51:03.060Z"
   },
   {
    "duration": 18,
    "start_time": "2023-11-30T04:51:11.455Z"
   },
   {
    "duration": 880,
    "start_time": "2023-11-30T04:51:11.475Z"
   },
   {
    "duration": 1306,
    "start_time": "2023-11-30T04:51:12.356Z"
   },
   {
    "duration": 5396,
    "start_time": "2023-11-30T04:51:13.664Z"
   },
   {
    "duration": 1488,
    "start_time": "2023-11-30T04:51:19.062Z"
   },
   {
    "duration": 1412,
    "start_time": "2023-11-30T04:51:20.552Z"
   },
   {
    "duration": 902,
    "start_time": "2023-11-30T04:51:21.966Z"
   },
   {
    "duration": 2390,
    "start_time": "2023-11-30T04:51:22.870Z"
   },
   {
    "duration": 3,
    "start_time": "2023-11-30T04:51:25.262Z"
   },
   {
    "duration": 1198,
    "start_time": "2023-11-30T04:51:25.267Z"
   },
   {
    "duration": 254,
    "start_time": "2023-11-30T04:51:26.467Z"
   },
   {
    "duration": 354,
    "start_time": "2023-11-30T04:51:26.722Z"
   },
   {
    "duration": 306,
    "start_time": "2023-11-30T04:51:27.079Z"
   },
   {
    "duration": 92,
    "start_time": "2023-11-30T04:51:27.387Z"
   },
   {
    "duration": 1168,
    "start_time": "2023-11-30T04:51:27.480Z"
   },
   {
    "duration": 3,
    "start_time": "2023-11-30T04:51:28.650Z"
   },
   {
    "duration": 88,
    "start_time": "2023-11-30T04:51:28.654Z"
   },
   {
    "duration": 503,
    "start_time": "2023-11-30T04:51:28.744Z"
   },
   {
    "duration": 19,
    "start_time": "2023-11-30T04:51:29.250Z"
   },
   {
    "duration": 2573,
    "start_time": "2023-11-30T04:51:29.270Z"
   },
   {
    "duration": 10098,
    "start_time": "2023-11-30T04:51:31.845Z"
   },
   {
    "duration": 10,
    "start_time": "2023-11-30T04:51:41.945Z"
   },
   {
    "duration": 45,
    "start_time": "2023-11-30T04:51:41.956Z"
   },
   {
    "duration": 1207,
    "start_time": "2023-11-30T04:52:39.135Z"
   },
   {
    "duration": 15028,
    "start_time": "2023-11-30T04:52:40.343Z"
   },
   {
    "duration": 7987,
    "start_time": "2023-11-30T04:52:55.373Z"
   },
   {
    "duration": 83,
    "start_time": "2023-11-30T04:53:03.362Z"
   },
   {
    "duration": 700,
    "start_time": "2023-11-30T04:53:03.448Z"
   },
   {
    "duration": 1337,
    "start_time": "2023-11-30T04:53:04.150Z"
   },
   {
    "duration": 5665,
    "start_time": "2023-11-30T04:53:05.489Z"
   },
   {
    "duration": 1615,
    "start_time": "2023-11-30T04:53:11.157Z"
   },
   {
    "duration": 1573,
    "start_time": "2023-11-30T04:53:12.774Z"
   },
   {
    "duration": 1000,
    "start_time": "2023-11-30T04:53:14.349Z"
   },
   {
    "duration": 2415,
    "start_time": "2023-11-30T04:53:15.351Z"
   },
   {
    "duration": 4,
    "start_time": "2023-11-30T04:53:17.768Z"
   },
   {
    "duration": 1302,
    "start_time": "2023-11-30T04:53:17.774Z"
   },
   {
    "duration": 325,
    "start_time": "2023-11-30T04:53:19.078Z"
   },
   {
    "duration": 156,
    "start_time": "2023-11-30T04:53:19.405Z"
   },
   {
    "duration": 381,
    "start_time": "2023-11-30T04:53:19.563Z"
   },
   {
    "duration": 114,
    "start_time": "2023-11-30T04:53:19.946Z"
   },
   {
    "duration": 1108,
    "start_time": "2023-11-30T04:53:20.062Z"
   },
   {
    "duration": 4,
    "start_time": "2023-11-30T04:53:21.171Z"
   },
   {
    "duration": 90,
    "start_time": "2023-11-30T04:53:21.177Z"
   },
   {
    "duration": 578,
    "start_time": "2023-11-30T04:53:21.269Z"
   },
   {
    "duration": 20,
    "start_time": "2023-11-30T04:53:21.849Z"
   },
   {
    "duration": 2393,
    "start_time": "2023-11-30T04:53:21.871Z"
   },
   {
    "duration": 9191,
    "start_time": "2023-11-30T04:53:24.266Z"
   },
   {
    "duration": 11,
    "start_time": "2023-11-30T04:53:33.459Z"
   },
   {
    "duration": 3,
    "start_time": "2023-11-30T04:53:33.543Z"
   },
   {
    "duration": 1200,
    "start_time": "2023-11-30T04:54:11.976Z"
   },
   {
    "duration": 14903,
    "start_time": "2023-11-30T04:54:13.178Z"
   },
   {
    "duration": 8059,
    "start_time": "2023-11-30T04:54:28.084Z"
   },
   {
    "duration": 17,
    "start_time": "2023-11-30T04:54:36.144Z"
   },
   {
    "duration": 686,
    "start_time": "2023-11-30T04:54:36.164Z"
   },
   {
    "duration": 1154,
    "start_time": "2023-11-30T04:54:36.852Z"
   },
   {
    "duration": 5242,
    "start_time": "2023-11-30T04:54:38.008Z"
   },
   {
    "duration": 1513,
    "start_time": "2023-11-30T04:54:43.252Z"
   },
   {
    "duration": 1587,
    "start_time": "2023-11-30T04:54:44.767Z"
   },
   {
    "duration": 1187,
    "start_time": "2023-11-30T04:54:46.355Z"
   },
   {
    "duration": 2535,
    "start_time": "2023-11-30T04:54:47.545Z"
   },
   {
    "duration": 60,
    "start_time": "2023-11-30T04:54:50.082Z"
   },
   {
    "duration": 1218,
    "start_time": "2023-11-30T04:54:50.144Z"
   },
   {
    "duration": 341,
    "start_time": "2023-11-30T04:54:51.366Z"
   },
   {
    "duration": 298,
    "start_time": "2023-11-30T04:54:51.745Z"
   },
   {
    "duration": 303,
    "start_time": "2023-11-30T04:54:52.045Z"
   },
   {
    "duration": 105,
    "start_time": "2023-11-30T04:54:52.350Z"
   },
   {
    "duration": 1119,
    "start_time": "2023-11-30T04:54:52.457Z"
   },
   {
    "duration": 67,
    "start_time": "2023-11-30T04:54:53.578Z"
   },
   {
    "duration": 29,
    "start_time": "2023-11-30T04:54:53.646Z"
   },
   {
    "duration": 599,
    "start_time": "2023-11-30T04:54:53.677Z"
   },
   {
    "duration": 70,
    "start_time": "2023-11-30T04:54:54.278Z"
   },
   {
    "duration": 2792,
    "start_time": "2023-11-30T04:54:54.350Z"
   },
   {
    "duration": 9607,
    "start_time": "2023-11-30T04:54:57.144Z"
   },
   {
    "duration": 10,
    "start_time": "2023-11-30T04:55:06.752Z"
   },
   {
    "duration": 25,
    "start_time": "2023-11-30T04:55:06.764Z"
   },
   {
    "duration": 1252,
    "start_time": "2023-11-30T04:55:39.107Z"
   },
   {
    "duration": 15186,
    "start_time": "2023-11-30T04:55:40.361Z"
   },
   {
    "duration": 7926,
    "start_time": "2023-11-30T04:55:55.549Z"
   },
   {
    "duration": 70,
    "start_time": "2023-11-30T04:56:03.477Z"
   },
   {
    "duration": 694,
    "start_time": "2023-11-30T04:56:03.550Z"
   },
   {
    "duration": 1151,
    "start_time": "2023-11-30T04:56:04.246Z"
   },
   {
    "duration": 5377,
    "start_time": "2023-11-30T04:56:05.399Z"
   },
   {
    "duration": 1243,
    "start_time": "2023-11-30T04:56:10.843Z"
   },
   {
    "duration": 1626,
    "start_time": "2023-11-30T04:56:12.143Z"
   },
   {
    "duration": 1096,
    "start_time": "2023-11-30T04:56:13.771Z"
   },
   {
    "duration": 2499,
    "start_time": "2023-11-30T04:56:14.870Z"
   },
   {
    "duration": 3,
    "start_time": "2023-11-30T04:56:17.370Z"
   },
   {
    "duration": 1276,
    "start_time": "2023-11-30T04:56:17.375Z"
   },
   {
    "duration": 264,
    "start_time": "2023-11-30T04:56:18.654Z"
   },
   {
    "duration": 300,
    "start_time": "2023-11-30T04:56:18.943Z"
   },
   {
    "duration": 309,
    "start_time": "2023-11-30T04:56:19.245Z"
   },
   {
    "duration": 103,
    "start_time": "2023-11-30T04:56:19.556Z"
   },
   {
    "duration": 1188,
    "start_time": "2023-11-30T04:56:19.661Z"
   },
   {
    "duration": 4,
    "start_time": "2023-11-30T04:56:20.851Z"
   },
   {
    "duration": 119,
    "start_time": "2023-11-30T04:56:20.856Z"
   },
   {
    "duration": 610,
    "start_time": "2023-11-30T04:56:20.976Z"
   },
   {
    "duration": 73,
    "start_time": "2023-11-30T04:56:21.588Z"
   },
   {
    "duration": 2780,
    "start_time": "2023-11-30T04:56:21.664Z"
   },
   {
    "duration": 9608,
    "start_time": "2023-11-30T04:56:24.445Z"
   },
   {
    "duration": 9,
    "start_time": "2023-11-30T04:56:34.055Z"
   },
   {
    "duration": 77,
    "start_time": "2023-11-30T04:56:34.066Z"
   },
   {
    "duration": 1288,
    "start_time": "2023-11-30T04:57:02.359Z"
   },
   {
    "duration": 15128,
    "start_time": "2023-11-30T04:57:03.649Z"
   },
   {
    "duration": 8390,
    "start_time": "2023-11-30T04:57:18.779Z"
   },
   {
    "duration": 72,
    "start_time": "2023-11-30T04:57:27.171Z"
   },
   {
    "duration": 712,
    "start_time": "2023-11-30T04:57:27.245Z"
   },
   {
    "duration": 1129,
    "start_time": "2023-11-30T04:57:27.959Z"
   },
   {
    "duration": 5435,
    "start_time": "2023-11-30T04:57:29.143Z"
   },
   {
    "duration": 1410,
    "start_time": "2023-11-30T04:57:34.643Z"
   },
   {
    "duration": 1704,
    "start_time": "2023-11-30T04:57:36.054Z"
   },
   {
    "duration": 1003,
    "start_time": "2023-11-30T04:57:37.762Z"
   },
   {
    "duration": 2480,
    "start_time": "2023-11-30T04:57:38.767Z"
   },
   {
    "duration": 3,
    "start_time": "2023-11-30T04:57:41.248Z"
   },
   {
    "duration": 1301,
    "start_time": "2023-11-30T04:57:41.253Z"
   },
   {
    "duration": 386,
    "start_time": "2023-11-30T04:57:42.556Z"
   },
   {
    "duration": 312,
    "start_time": "2023-11-30T04:57:42.945Z"
   },
   {
    "duration": 400,
    "start_time": "2023-11-30T04:57:43.259Z"
   },
   {
    "duration": 119,
    "start_time": "2023-11-30T04:57:43.661Z"
   },
   {
    "duration": 1202,
    "start_time": "2023-11-30T04:57:43.843Z"
   },
   {
    "duration": 3,
    "start_time": "2023-11-30T04:57:45.047Z"
   },
   {
    "duration": 98,
    "start_time": "2023-11-30T04:57:45.052Z"
   },
   {
    "duration": 518,
    "start_time": "2023-11-30T04:57:45.151Z"
   },
   {
    "duration": 20,
    "start_time": "2023-11-30T04:57:45.671Z"
   },
   {
    "duration": 2580,
    "start_time": "2023-11-30T04:57:45.692Z"
   },
   {
    "duration": 8988,
    "start_time": "2023-11-30T04:57:48.274Z"
   },
   {
    "duration": 84,
    "start_time": "2023-11-30T04:57:57.264Z"
   },
   {
    "duration": 12,
    "start_time": "2023-11-30T04:57:57.349Z"
   },
   {
    "duration": 1263,
    "start_time": "2023-11-30T04:58:51.705Z"
   },
   {
    "duration": 15312,
    "start_time": "2023-11-30T04:58:52.970Z"
   },
   {
    "duration": 8293,
    "start_time": "2023-11-30T04:59:08.284Z"
   },
   {
    "duration": 73,
    "start_time": "2023-11-30T04:59:16.581Z"
   },
   {
    "duration": 604,
    "start_time": "2023-11-30T04:59:16.656Z"
   },
   {
    "duration": 1300,
    "start_time": "2023-11-30T04:59:17.261Z"
   },
   {
    "duration": 5411,
    "start_time": "2023-11-30T04:59:18.562Z"
   },
   {
    "duration": 1479,
    "start_time": "2023-11-30T04:59:23.975Z"
   },
   {
    "duration": 1597,
    "start_time": "2023-11-30T04:59:25.456Z"
   },
   {
    "duration": 990,
    "start_time": "2023-11-30T04:59:27.056Z"
   },
   {
    "duration": 2416,
    "start_time": "2023-11-30T04:59:28.048Z"
   },
   {
    "duration": 3,
    "start_time": "2023-11-30T04:59:30.466Z"
   },
   {
    "duration": 1290,
    "start_time": "2023-11-30T04:59:30.472Z"
   },
   {
    "duration": 384,
    "start_time": "2023-11-30T04:59:31.764Z"
   },
   {
    "duration": 329,
    "start_time": "2023-11-30T04:59:32.150Z"
   },
   {
    "duration": 361,
    "start_time": "2023-11-30T04:59:32.481Z"
   },
   {
    "duration": 117,
    "start_time": "2023-11-30T04:59:32.845Z"
   },
   {
    "duration": 1181,
    "start_time": "2023-11-30T04:59:32.964Z"
   },
   {
    "duration": 3,
    "start_time": "2023-11-30T04:59:34.147Z"
   },
   {
    "duration": 33,
    "start_time": "2023-11-30T04:59:34.152Z"
   },
   {
    "duration": 534,
    "start_time": "2023-11-30T04:59:34.243Z"
   },
   {
    "duration": 79,
    "start_time": "2023-11-30T04:59:34.779Z"
   },
   {
    "duration": 2500,
    "start_time": "2023-11-30T04:59:34.860Z"
   },
   {
    "duration": 9408,
    "start_time": "2023-11-30T04:59:37.361Z"
   },
   {
    "duration": 74,
    "start_time": "2023-11-30T04:59:46.771Z"
   },
   {
    "duration": 5,
    "start_time": "2023-11-30T04:59:46.847Z"
   },
   {
    "duration": 1233,
    "start_time": "2023-11-30T05:00:48.418Z"
   },
   {
    "duration": 15099,
    "start_time": "2023-11-30T05:00:49.653Z"
   },
   {
    "duration": 8405,
    "start_time": "2023-11-30T05:01:04.754Z"
   },
   {
    "duration": 83,
    "start_time": "2023-11-30T05:01:13.160Z"
   },
   {
    "duration": 799,
    "start_time": "2023-11-30T05:01:13.245Z"
   },
   {
    "duration": 1155,
    "start_time": "2023-11-30T05:01:14.045Z"
   },
   {
    "duration": 5564,
    "start_time": "2023-11-30T05:01:15.201Z"
   },
   {
    "duration": 1308,
    "start_time": "2023-11-30T05:01:20.767Z"
   },
   {
    "duration": 1418,
    "start_time": "2023-11-30T05:01:22.143Z"
   },
   {
    "duration": 1021,
    "start_time": "2023-11-30T05:01:23.562Z"
   },
   {
    "duration": 2402,
    "start_time": "2023-11-30T05:01:24.643Z"
   },
   {
    "duration": 3,
    "start_time": "2023-11-30T05:01:27.046Z"
   },
   {
    "duration": 1396,
    "start_time": "2023-11-30T05:01:27.051Z"
   },
   {
    "duration": 300,
    "start_time": "2023-11-30T05:01:28.450Z"
   },
   {
    "duration": 291,
    "start_time": "2023-11-30T05:01:28.752Z"
   },
   {
    "duration": 244,
    "start_time": "2023-11-30T05:01:29.044Z"
   },
   {
    "duration": 90,
    "start_time": "2023-11-30T05:01:29.290Z"
   },
   {
    "duration": 1134,
    "start_time": "2023-11-30T05:01:29.442Z"
   },
   {
    "duration": 65,
    "start_time": "2023-11-30T05:01:30.578Z"
   },
   {
    "duration": 27,
    "start_time": "2023-11-30T05:01:30.645Z"
   },
   {
    "duration": 668,
    "start_time": "2023-11-30T05:01:30.674Z"
   },
   {
    "duration": 20,
    "start_time": "2023-11-30T05:01:31.344Z"
   },
   {
    "duration": 2489,
    "start_time": "2023-11-30T05:01:31.367Z"
   },
   {
    "duration": 9605,
    "start_time": "2023-11-30T05:01:33.858Z"
   },
   {
    "duration": 10,
    "start_time": "2023-11-30T05:01:43.465Z"
   },
   {
    "duration": 3,
    "start_time": "2023-11-30T05:01:43.542Z"
   },
   {
    "duration": 1220,
    "start_time": "2023-11-30T05:02:28.454Z"
   },
   {
    "duration": 15198,
    "start_time": "2023-11-30T05:02:29.676Z"
   },
   {
    "duration": 8205,
    "start_time": "2023-11-30T05:02:44.876Z"
   },
   {
    "duration": 73,
    "start_time": "2023-11-30T05:02:53.083Z"
   },
   {
    "duration": 695,
    "start_time": "2023-11-30T05:02:53.159Z"
   },
   {
    "duration": 1292,
    "start_time": "2023-11-30T05:02:53.856Z"
   },
   {
    "duration": 5606,
    "start_time": "2023-11-30T05:02:55.150Z"
   },
   {
    "duration": 1409,
    "start_time": "2023-11-30T05:03:00.757Z"
   },
   {
    "duration": 1678,
    "start_time": "2023-11-30T05:03:02.168Z"
   },
   {
    "duration": 1009,
    "start_time": "2023-11-30T05:03:03.848Z"
   },
   {
    "duration": 2407,
    "start_time": "2023-11-30T05:03:04.858Z"
   },
   {
    "duration": 3,
    "start_time": "2023-11-30T05:03:07.268Z"
   },
   {
    "duration": 1309,
    "start_time": "2023-11-30T05:03:07.273Z"
   },
   {
    "duration": 365,
    "start_time": "2023-11-30T05:03:08.585Z"
   },
   {
    "duration": 224,
    "start_time": "2023-11-30T05:03:08.952Z"
   },
   {
    "duration": 319,
    "start_time": "2023-11-30T05:03:09.178Z"
   },
   {
    "duration": 82,
    "start_time": "2023-11-30T05:03:09.499Z"
   },
   {
    "duration": 1298,
    "start_time": "2023-11-30T05:03:09.583Z"
   },
   {
    "duration": 4,
    "start_time": "2023-11-30T05:03:10.944Z"
   },
   {
    "duration": 98,
    "start_time": "2023-11-30T05:03:10.950Z"
   },
   {
    "duration": 499,
    "start_time": "2023-11-30T05:03:11.050Z"
   },
   {
    "duration": 21,
    "start_time": "2023-11-30T05:03:11.550Z"
   },
   {
    "duration": 2582,
    "start_time": "2023-11-30T05:03:11.573Z"
   },
   {
    "duration": 8886,
    "start_time": "2023-11-30T05:03:14.157Z"
   },
   {
    "duration": 8,
    "start_time": "2023-11-30T05:03:23.045Z"
   },
   {
    "duration": 36,
    "start_time": "2023-11-30T05:03:23.055Z"
   },
   {
    "duration": 1160,
    "start_time": "2023-11-30T05:04:09.885Z"
   },
   {
    "duration": 14822,
    "start_time": "2023-11-30T05:04:11.047Z"
   },
   {
    "duration": 8309,
    "start_time": "2023-11-30T05:04:25.874Z"
   },
   {
    "duration": 15,
    "start_time": "2023-11-30T05:04:34.243Z"
   },
   {
    "duration": 706,
    "start_time": "2023-11-30T05:04:34.260Z"
   },
   {
    "duration": 1375,
    "start_time": "2023-11-30T05:04:34.968Z"
   },
   {
    "duration": 5130,
    "start_time": "2023-11-30T05:04:36.345Z"
   },
   {
    "duration": 1421,
    "start_time": "2023-11-30T05:04:41.542Z"
   },
   {
    "duration": 1779,
    "start_time": "2023-11-30T05:04:42.964Z"
   },
   {
    "duration": 1061,
    "start_time": "2023-11-30T05:04:44.744Z"
   },
   {
    "duration": 2511,
    "start_time": "2023-11-30T05:04:45.843Z"
   },
   {
    "duration": 4,
    "start_time": "2023-11-30T05:04:48.356Z"
   },
   {
    "duration": 1285,
    "start_time": "2023-11-30T05:04:48.363Z"
   },
   {
    "duration": 352,
    "start_time": "2023-11-30T05:04:49.651Z"
   },
   {
    "duration": 375,
    "start_time": "2023-11-30T05:04:50.005Z"
   },
   {
    "duration": 313,
    "start_time": "2023-11-30T05:04:50.382Z"
   },
   {
    "duration": 118,
    "start_time": "2023-11-30T05:04:50.743Z"
   },
   {
    "duration": 1102,
    "start_time": "2023-11-30T05:04:50.862Z"
   },
   {
    "duration": 4,
    "start_time": "2023-11-30T05:04:51.965Z"
   },
   {
    "duration": 94,
    "start_time": "2023-11-30T05:04:51.970Z"
   },
   {
    "duration": 607,
    "start_time": "2023-11-30T05:04:52.066Z"
   },
   {
    "duration": 69,
    "start_time": "2023-11-30T05:04:52.675Z"
   },
   {
    "duration": 2497,
    "start_time": "2023-11-30T05:04:52.746Z"
   },
   {
    "duration": 9407,
    "start_time": "2023-11-30T05:04:55.244Z"
   },
   {
    "duration": 10,
    "start_time": "2023-11-30T05:05:04.653Z"
   },
   {
    "duration": 9,
    "start_time": "2023-11-30T05:05:04.664Z"
   },
   {
    "duration": 1279,
    "start_time": "2023-11-30T05:16:30.865Z"
   },
   {
    "duration": 15212,
    "start_time": "2023-11-30T05:16:32.146Z"
   },
   {
    "duration": 7695,
    "start_time": "2023-11-30T05:16:47.360Z"
   },
   {
    "duration": 15,
    "start_time": "2023-11-30T05:16:55.058Z"
   },
   {
    "duration": 694,
    "start_time": "2023-11-30T05:16:55.075Z"
   },
   {
    "duration": 1225,
    "start_time": "2023-11-30T05:16:55.771Z"
   },
   {
    "duration": 5359,
    "start_time": "2023-11-30T05:16:56.998Z"
   },
   {
    "duration": 1398,
    "start_time": "2023-11-30T05:17:02.359Z"
   },
   {
    "duration": 1484,
    "start_time": "2023-11-30T05:17:03.759Z"
   },
   {
    "duration": 935,
    "start_time": "2023-11-30T05:17:05.247Z"
   },
   {
    "duration": 2283,
    "start_time": "2023-11-30T05:17:06.184Z"
   },
   {
    "duration": 3,
    "start_time": "2023-11-30T05:17:08.469Z"
   },
   {
    "duration": 1289,
    "start_time": "2023-11-30T05:17:08.473Z"
   },
   {
    "duration": 254,
    "start_time": "2023-11-30T05:17:09.764Z"
   },
   {
    "duration": 423,
    "start_time": "2023-11-30T05:17:10.020Z"
   },
   {
    "duration": 250,
    "start_time": "2023-11-30T05:17:10.445Z"
   },
   {
    "duration": 154,
    "start_time": "2023-11-30T05:17:10.697Z"
   },
   {
    "duration": 1125,
    "start_time": "2023-11-30T05:17:10.853Z"
   },
   {
    "duration": 64,
    "start_time": "2023-11-30T05:17:11.980Z"
   },
   {
    "duration": 24,
    "start_time": "2023-11-30T05:17:12.046Z"
   },
   {
    "duration": 607,
    "start_time": "2023-11-30T05:17:12.072Z"
   },
   {
    "duration": 72,
    "start_time": "2023-11-30T05:17:12.681Z"
   },
   {
    "duration": 2721,
    "start_time": "2023-11-30T05:17:12.755Z"
   },
   {
    "duration": 6598,
    "start_time": "2023-11-30T05:17:15.478Z"
   },
   {
    "duration": 817,
    "start_time": "2023-11-30T05:17:22.078Z"
   },
   {
    "duration": 748,
    "start_time": "2023-11-30T05:17:22.897Z"
   },
   {
    "duration": 6,
    "start_time": "2023-11-30T05:17:23.647Z"
   },
   {
    "duration": 1298,
    "start_time": "2023-11-30T05:17:23.657Z"
   },
   {
    "duration": 3,
    "start_time": "2023-11-30T05:17:24.957Z"
   },
   {
    "duration": 1367,
    "start_time": "2023-11-30T05:17:56.776Z"
   },
   {
    "duration": 1289,
    "start_time": "2023-11-30T05:19:17.467Z"
   },
   {
    "duration": 15131,
    "start_time": "2023-11-30T05:19:18.758Z"
   },
   {
    "duration": 7930,
    "start_time": "2023-11-30T05:19:33.943Z"
   },
   {
    "duration": 68,
    "start_time": "2023-11-30T05:19:41.875Z"
   },
   {
    "duration": 706,
    "start_time": "2023-11-30T05:19:41.945Z"
   },
   {
    "duration": 1231,
    "start_time": "2023-11-30T05:19:42.653Z"
   },
   {
    "duration": 5684,
    "start_time": "2023-11-30T05:19:43.886Z"
   },
   {
    "duration": 1379,
    "start_time": "2023-11-30T05:19:49.572Z"
   },
   {
    "duration": 1707,
    "start_time": "2023-11-30T05:19:50.953Z"
   },
   {
    "duration": 1101,
    "start_time": "2023-11-30T05:19:52.663Z"
   },
   {
    "duration": 2599,
    "start_time": "2023-11-30T05:19:53.767Z"
   },
   {
    "duration": 3,
    "start_time": "2023-11-30T05:19:56.368Z"
   },
   {
    "duration": 1482,
    "start_time": "2023-11-30T05:19:56.373Z"
   },
   {
    "duration": 297,
    "start_time": "2023-11-30T05:19:57.857Z"
   },
   {
    "duration": 232,
    "start_time": "2023-11-30T05:19:58.156Z"
   },
   {
    "duration": 345,
    "start_time": "2023-11-30T05:19:58.443Z"
   },
   {
    "duration": 153,
    "start_time": "2023-11-30T05:19:58.790Z"
   },
   {
    "duration": 1127,
    "start_time": "2023-11-30T05:19:58.945Z"
   },
   {
    "duration": 4,
    "start_time": "2023-11-30T05:20:00.073Z"
   },
   {
    "duration": 34,
    "start_time": "2023-11-30T05:20:00.143Z"
   },
   {
    "duration": 601,
    "start_time": "2023-11-30T05:20:00.179Z"
   },
   {
    "duration": 77,
    "start_time": "2023-11-30T05:20:00.782Z"
   },
   {
    "duration": 2402,
    "start_time": "2023-11-30T05:20:00.861Z"
   },
   {
    "duration": 6599,
    "start_time": "2023-11-30T05:20:03.265Z"
   },
   {
    "duration": 817,
    "start_time": "2023-11-30T05:20:09.865Z"
   },
   {
    "duration": 759,
    "start_time": "2023-11-30T05:20:10.684Z"
   },
   {
    "duration": 6,
    "start_time": "2023-11-30T05:20:11.445Z"
   },
   {
    "duration": 1530,
    "start_time": "2023-11-30T05:20:11.455Z"
   },
   {
    "duration": 1399,
    "start_time": "2023-11-30T05:20:12.987Z"
   },
   {
    "duration": 3,
    "start_time": "2023-11-30T05:20:14.388Z"
   },
   {
    "duration": 5,
    "start_time": "2023-11-30T05:24:10.629Z"
   },
   {
    "duration": 84,
    "start_time": "2023-11-30T05:28:07.058Z"
   },
   {
    "duration": 3882,
    "start_time": "2023-11-30T05:28:26.978Z"
   },
   {
    "duration": 682,
    "start_time": "2023-11-30T05:28:30.862Z"
   },
   {
    "duration": 521,
    "start_time": "2023-11-30T05:28:31.546Z"
   },
   {
    "duration": 5,
    "start_time": "2023-11-30T05:28:32.069Z"
   },
   {
    "duration": 5,
    "start_time": "2023-11-30T05:28:32.075Z"
   },
   {
    "duration": 919,
    "start_time": "2023-11-30T05:28:32.082Z"
   },
   {
    "duration": 814,
    "start_time": "2023-11-30T05:28:38.858Z"
   },
   {
    "duration": 5,
    "start_time": "2023-11-30T05:30:00.942Z"
   },
   {
    "duration": 5,
    "start_time": "2023-11-30T05:31:21.496Z"
   },
   {
    "duration": 5,
    "start_time": "2023-11-30T05:31:57.483Z"
   },
   {
    "duration": 24,
    "start_time": "2023-11-30T05:41:27.043Z"
   },
   {
    "duration": 277,
    "start_time": "2023-11-30T05:41:27.898Z"
   },
   {
    "duration": 232,
    "start_time": "2023-11-30T05:41:57.764Z"
   },
   {
    "duration": 1146,
    "start_time": "2023-11-30T05:42:56.687Z"
   },
   {
    "duration": 14808,
    "start_time": "2023-11-30T05:42:57.835Z"
   },
   {
    "duration": 7897,
    "start_time": "2023-11-30T05:43:12.646Z"
   },
   {
    "duration": 18,
    "start_time": "2023-11-30T05:43:20.544Z"
   },
   {
    "duration": 694,
    "start_time": "2023-11-30T05:43:20.564Z"
   },
   {
    "duration": 1113,
    "start_time": "2023-11-30T05:43:21.260Z"
   },
   {
    "duration": 5391,
    "start_time": "2023-11-30T05:43:22.375Z"
   },
   {
    "duration": 1490,
    "start_time": "2023-11-30T05:43:27.768Z"
   },
   {
    "duration": 1595,
    "start_time": "2023-11-30T05:43:29.260Z"
   },
   {
    "duration": 1103,
    "start_time": "2023-11-30T05:43:30.857Z"
   },
   {
    "duration": 2298,
    "start_time": "2023-11-30T05:43:31.962Z"
   },
   {
    "duration": 3,
    "start_time": "2023-11-30T05:43:34.262Z"
   },
   {
    "duration": 1295,
    "start_time": "2023-11-30T05:43:34.266Z"
   },
   {
    "duration": 290,
    "start_time": "2023-11-30T05:43:35.564Z"
   },
   {
    "duration": 397,
    "start_time": "2023-11-30T05:43:35.855Z"
   },
   {
    "duration": 305,
    "start_time": "2023-11-30T05:43:36.254Z"
   },
   {
    "duration": 98,
    "start_time": "2023-11-30T05:43:36.561Z"
   },
   {
    "duration": 1190,
    "start_time": "2023-11-30T05:43:36.660Z"
   },
   {
    "duration": 4,
    "start_time": "2023-11-30T05:43:37.852Z"
   },
   {
    "duration": 85,
    "start_time": "2023-11-30T05:43:37.857Z"
   },
   {
    "duration": 544,
    "start_time": "2023-11-30T05:43:37.944Z"
   },
   {
    "duration": 71,
    "start_time": "2023-11-30T05:43:38.489Z"
   },
   {
    "duration": 2414,
    "start_time": "2023-11-30T05:43:38.562Z"
   },
   {
    "duration": 6277,
    "start_time": "2023-11-30T05:43:40.978Z"
   },
   {
    "duration": 761,
    "start_time": "2023-11-30T05:43:47.262Z"
   },
   {
    "duration": 829,
    "start_time": "2023-11-30T05:43:48.025Z"
   },
   {
    "duration": 6,
    "start_time": "2023-11-30T05:43:48.856Z"
   },
   {
    "duration": 5,
    "start_time": "2023-11-30T05:43:48.864Z"
   },
   {
    "duration": 1372,
    "start_time": "2023-11-30T05:43:48.870Z"
   },
   {
    "duration": 1227,
    "start_time": "2023-11-30T05:43:50.244Z"
   },
   {
    "duration": 2,
    "start_time": "2023-11-30T05:43:51.473Z"
   },
   {
    "duration": 1273,
    "start_time": "2023-11-30T06:17:56.895Z"
   },
   {
    "duration": 15591,
    "start_time": "2023-11-30T06:17:58.170Z"
   },
   {
    "duration": 8497,
    "start_time": "2023-11-30T06:18:13.763Z"
   },
   {
    "duration": 82,
    "start_time": "2023-11-30T06:18:22.262Z"
   },
   {
    "duration": 711,
    "start_time": "2023-11-30T06:18:22.346Z"
   },
   {
    "duration": 1226,
    "start_time": "2023-11-30T06:18:23.059Z"
   },
   {
    "duration": 5284,
    "start_time": "2023-11-30T06:18:24.286Z"
   },
   {
    "duration": 1389,
    "start_time": "2023-11-30T06:18:29.571Z"
   },
   {
    "duration": 1491,
    "start_time": "2023-11-30T06:18:30.961Z"
   },
   {
    "duration": 1005,
    "start_time": "2023-11-30T06:18:32.454Z"
   },
   {
    "duration": 2412,
    "start_time": "2023-11-30T06:18:33.460Z"
   },
   {
    "duration": 3,
    "start_time": "2023-11-30T06:18:35.874Z"
   },
   {
    "duration": 1264,
    "start_time": "2023-11-30T06:18:35.879Z"
   },
   {
    "duration": 308,
    "start_time": "2023-11-30T06:18:37.146Z"
   },
   {
    "duration": 310,
    "start_time": "2023-11-30T06:18:37.455Z"
   },
   {
    "duration": 323,
    "start_time": "2023-11-30T06:18:37.767Z"
   },
   {
    "duration": 90,
    "start_time": "2023-11-30T06:18:38.092Z"
   },
   {
    "duration": 1185,
    "start_time": "2023-11-30T06:18:38.184Z"
   },
   {
    "duration": 71,
    "start_time": "2023-11-30T06:18:39.371Z"
   },
   {
    "duration": 28,
    "start_time": "2023-11-30T06:18:39.444Z"
   },
   {
    "duration": 601,
    "start_time": "2023-11-30T06:18:39.474Z"
   },
   {
    "duration": 82,
    "start_time": "2023-11-30T06:18:40.076Z"
   },
   {
    "duration": 2596,
    "start_time": "2023-11-30T06:18:40.160Z"
   },
   {
    "duration": 9602,
    "start_time": "2023-11-30T06:18:42.758Z"
   },
   {
    "duration": 83,
    "start_time": "2023-11-30T06:18:52.362Z"
   },
   {
    "duration": 10,
    "start_time": "2023-11-30T06:18:52.446Z"
   },
   {
    "duration": 5748,
    "start_time": "2023-11-30T06:19:26.298Z"
   },
   {
    "duration": 9,
    "start_time": "2023-11-30T06:19:40.234Z"
   },
   {
    "duration": 1199,
    "start_time": "2023-11-30T06:32:16.956Z"
   },
   {
    "duration": 15019,
    "start_time": "2023-11-30T06:32:18.157Z"
   },
   {
    "duration": 8398,
    "start_time": "2023-11-30T06:32:33.178Z"
   },
   {
    "duration": 67,
    "start_time": "2023-11-30T06:32:41.579Z"
   },
   {
    "duration": 802,
    "start_time": "2023-11-30T06:32:41.648Z"
   },
   {
    "duration": 1429,
    "start_time": "2023-11-30T06:32:42.452Z"
   },
   {
    "duration": 5685,
    "start_time": "2023-11-30T06:32:43.883Z"
   },
   {
    "duration": 1317,
    "start_time": "2023-11-30T06:32:49.570Z"
   },
   {
    "duration": 1532,
    "start_time": "2023-11-30T06:32:50.943Z"
   },
   {
    "duration": 920,
    "start_time": "2023-11-30T06:32:52.477Z"
   },
   {
    "duration": 2327,
    "start_time": "2023-11-30T06:32:53.444Z"
   },
   {
    "duration": 4,
    "start_time": "2023-11-30T06:32:55.773Z"
   },
   {
    "duration": 1290,
    "start_time": "2023-11-30T06:32:55.780Z"
   },
   {
    "duration": 374,
    "start_time": "2023-11-30T06:32:57.072Z"
   },
   {
    "duration": 403,
    "start_time": "2023-11-30T06:32:57.448Z"
   },
   {
    "duration": 306,
    "start_time": "2023-11-30T06:32:57.853Z"
   },
   {
    "duration": 95,
    "start_time": "2023-11-30T06:32:58.161Z"
   },
   {
    "duration": 1108,
    "start_time": "2023-11-30T06:32:58.258Z"
   },
   {
    "duration": 3,
    "start_time": "2023-11-30T06:32:59.368Z"
   },
   {
    "duration": 102,
    "start_time": "2023-11-30T06:32:59.373Z"
   },
   {
    "duration": 572,
    "start_time": "2023-11-30T06:32:59.476Z"
   },
   {
    "duration": 25,
    "start_time": "2023-11-30T06:33:00.050Z"
   },
   {
    "duration": 2785,
    "start_time": "2023-11-30T06:33:00.077Z"
   },
   {
    "duration": 10496,
    "start_time": "2023-11-30T06:33:02.863Z"
   },
   {
    "duration": 9,
    "start_time": "2023-11-30T06:33:13.361Z"
   },
   {
    "duration": 18,
    "start_time": "2023-11-30T06:33:13.371Z"
   },
   {
    "duration": 98,
    "start_time": "2023-11-30T06:33:13.444Z"
   },
   {
    "duration": 1295,
    "start_time": "2023-11-30T06:50:10.309Z"
   },
   {
    "duration": 15174,
    "start_time": "2023-11-30T06:50:11.606Z"
   },
   {
    "duration": 7919,
    "start_time": "2023-11-30T06:50:26.783Z"
   },
   {
    "duration": 19,
    "start_time": "2023-11-30T06:50:34.741Z"
   },
   {
    "duration": 684,
    "start_time": "2023-11-30T06:50:34.763Z"
   },
   {
    "duration": 1241,
    "start_time": "2023-11-30T06:50:35.450Z"
   },
   {
    "duration": 5559,
    "start_time": "2023-11-30T06:50:36.693Z"
   },
   {
    "duration": 1516,
    "start_time": "2023-11-30T06:50:42.254Z"
   },
   {
    "duration": 1775,
    "start_time": "2023-11-30T06:50:43.773Z"
   },
   {
    "duration": 1193,
    "start_time": "2023-11-30T06:50:45.550Z"
   },
   {
    "duration": 2824,
    "start_time": "2023-11-30T06:50:46.746Z"
   },
   {
    "duration": 4,
    "start_time": "2023-11-30T06:50:49.571Z"
   },
   {
    "duration": 1477,
    "start_time": "2023-11-30T06:50:49.576Z"
   },
   {
    "duration": 301,
    "start_time": "2023-11-30T06:50:51.056Z"
   },
   {
    "duration": 392,
    "start_time": "2023-11-30T06:50:51.358Z"
   },
   {
    "duration": 396,
    "start_time": "2023-11-30T06:50:51.752Z"
   },
   {
    "duration": 123,
    "start_time": "2023-11-30T06:50:52.151Z"
   },
   {
    "duration": 1395,
    "start_time": "2023-11-30T06:50:52.275Z"
   },
   {
    "duration": 4,
    "start_time": "2023-11-30T06:50:53.671Z"
   },
   {
    "duration": 102,
    "start_time": "2023-11-30T06:50:53.676Z"
   },
   {
    "duration": 671,
    "start_time": "2023-11-30T06:50:53.780Z"
   },
   {
    "duration": 26,
    "start_time": "2023-11-30T06:50:54.452Z"
   },
   {
    "duration": 2982,
    "start_time": "2023-11-30T06:50:54.480Z"
   },
   {
    "duration": 10301,
    "start_time": "2023-11-30T06:50:57.464Z"
   },
   {
    "duration": 80,
    "start_time": "2023-11-30T06:51:07.767Z"
   },
   {
    "duration": 917,
    "start_time": "2023-11-30T06:51:07.850Z"
   },
   {
    "duration": 1211,
    "start_time": "2023-11-30T06:58:05.843Z"
   },
   {
    "duration": 14890,
    "start_time": "2023-11-30T06:58:07.056Z"
   },
   {
    "duration": 8299,
    "start_time": "2023-11-30T06:58:21.948Z"
   },
   {
    "duration": 18,
    "start_time": "2023-11-30T06:58:30.249Z"
   },
   {
    "duration": 705,
    "start_time": "2023-11-30T06:58:30.269Z"
   },
   {
    "duration": 1276,
    "start_time": "2023-11-30T06:58:30.976Z"
   },
   {
    "duration": 5220,
    "start_time": "2023-11-30T06:58:32.255Z"
   },
   {
    "duration": 1373,
    "start_time": "2023-11-30T06:58:37.477Z"
   },
   {
    "duration": 1407,
    "start_time": "2023-11-30T06:58:38.852Z"
   },
   {
    "duration": 913,
    "start_time": "2023-11-30T06:58:40.261Z"
   },
   {
    "duration": 2389,
    "start_time": "2023-11-30T06:58:41.175Z"
   },
   {
    "duration": 3,
    "start_time": "2023-11-30T06:58:43.567Z"
   },
   {
    "duration": 1283,
    "start_time": "2023-11-30T06:58:43.572Z"
   },
   {
    "duration": 287,
    "start_time": "2023-11-30T06:58:44.858Z"
   },
   {
    "duration": 239,
    "start_time": "2023-11-30T06:58:45.148Z"
   },
   {
    "duration": 249,
    "start_time": "2023-11-30T06:58:45.443Z"
   },
   {
    "duration": 150,
    "start_time": "2023-11-30T06:58:45.694Z"
   },
   {
    "duration": 1128,
    "start_time": "2023-11-30T06:58:45.847Z"
   },
   {
    "duration": 67,
    "start_time": "2023-11-30T06:58:46.977Z"
   },
   {
    "duration": 26,
    "start_time": "2023-11-30T06:58:47.045Z"
   },
   {
    "duration": 605,
    "start_time": "2023-11-30T06:58:47.142Z"
   },
   {
    "duration": 21,
    "start_time": "2023-11-30T06:58:47.749Z"
   },
   {
    "duration": 2373,
    "start_time": "2023-11-30T06:58:47.772Z"
   },
   {
    "duration": 9404,
    "start_time": "2023-11-30T06:58:50.147Z"
   },
   {
    "duration": 9,
    "start_time": "2023-11-30T06:58:59.553Z"
   },
   {
    "duration": 990,
    "start_time": "2023-11-30T06:58:59.564Z"
   },
   {
    "duration": 510,
    "start_time": "2023-11-30T08:02:45.485Z"
   },
   {
    "duration": 405,
    "start_time": "2023-11-30T08:03:38.553Z"
   },
   {
    "duration": 5,
    "start_time": "2023-11-30T08:03:44.612Z"
   },
   {
    "duration": 262,
    "start_time": "2023-11-30T08:03:49.098Z"
   },
   {
    "duration": 495,
    "start_time": "2023-11-30T08:03:53.058Z"
   },
   {
    "duration": 4,
    "start_time": "2023-11-30T08:03:53.942Z"
   },
   {
    "duration": 1036,
    "start_time": "2023-11-30T08:03:59.415Z"
   },
   {
    "duration": 962,
    "start_time": "2023-11-30T08:04:20.689Z"
   },
   {
    "duration": 883,
    "start_time": "2023-11-30T08:04:33.484Z"
   },
   {
    "duration": 14,
    "start_time": "2023-11-30T08:32:53.714Z"
   },
   {
    "duration": 1215,
    "start_time": "2023-11-30T08:34:38.960Z"
   },
   {
    "duration": 15205,
    "start_time": "2023-11-30T08:34:43.770Z"
   },
   {
    "duration": 8465,
    "start_time": "2023-11-30T08:34:58.978Z"
   },
   {
    "duration": 16,
    "start_time": "2023-11-30T08:35:08.840Z"
   },
   {
    "duration": 674,
    "start_time": "2023-11-30T08:35:13.172Z"
   },
   {
    "duration": 3886,
    "start_time": "2023-11-30T08:35:16.997Z"
   },
   {
    "duration": 4598,
    "start_time": "2023-11-30T08:35:25.052Z"
   },
   {
    "duration": 1126,
    "start_time": "2023-11-30T08:35:34.232Z"
   },
   {
    "duration": 104,
    "start_time": "2023-11-30T08:35:40.187Z"
   },
   {
    "duration": 28,
    "start_time": "2023-11-30T08:36:11.825Z"
   },
   {
    "duration": 1766,
    "start_time": "2023-11-30T08:36:14.090Z"
   },
   {
    "duration": 12,
    "start_time": "2023-11-30T08:36:52.176Z"
   },
   {
    "duration": 934,
    "start_time": "2023-11-30T08:37:42.113Z"
   },
   {
    "duration": 638,
    "start_time": "2023-11-30T08:38:13.810Z"
   },
   {
    "duration": 666,
    "start_time": "2023-11-30T08:38:18.494Z"
   },
   {
    "duration": 579,
    "start_time": "2023-11-30T08:38:42.702Z"
   },
   {
    "duration": 9,
    "start_time": "2023-11-30T08:39:05.999Z"
   },
   {
    "duration": 518,
    "start_time": "2023-11-30T08:39:53.354Z"
   },
   {
    "duration": 15,
    "start_time": "2023-11-30T08:40:09.600Z"
   },
   {
    "duration": 20,
    "start_time": "2023-11-30T08:40:37.052Z"
   },
   {
    "duration": 20,
    "start_time": "2023-11-30T08:40:49.083Z"
   },
   {
    "duration": 1274,
    "start_time": "2023-11-30T08:43:13.629Z"
   },
   {
    "duration": 15066,
    "start_time": "2023-11-30T08:43:14.905Z"
   },
   {
    "duration": 7770,
    "start_time": "2023-11-30T08:43:29.974Z"
   },
   {
    "duration": 22,
    "start_time": "2023-11-30T08:43:37.747Z"
   },
   {
    "duration": 686,
    "start_time": "2023-11-30T08:43:37.771Z"
   },
   {
    "duration": 4095,
    "start_time": "2023-11-30T08:43:38.459Z"
   },
   {
    "duration": 4694,
    "start_time": "2023-11-30T08:43:42.556Z"
   },
   {
    "duration": 1119,
    "start_time": "2023-11-30T08:43:47.252Z"
   },
   {
    "duration": 86,
    "start_time": "2023-11-30T08:43:48.372Z"
   },
   {
    "duration": 1684,
    "start_time": "2023-11-30T08:43:48.462Z"
   },
   {
    "duration": 144,
    "start_time": "2023-11-30T08:43:50.147Z"
   },
   {
    "duration": 0,
    "start_time": "2023-11-30T08:43:50.292Z"
   },
   {
    "duration": 0,
    "start_time": "2023-11-30T08:43:50.293Z"
   },
   {
    "duration": 0,
    "start_time": "2023-11-30T08:43:50.295Z"
   },
   {
    "duration": 0,
    "start_time": "2023-11-30T08:43:50.296Z"
   },
   {
    "duration": 0,
    "start_time": "2023-11-30T08:43:50.297Z"
   },
   {
    "duration": 0,
    "start_time": "2023-11-30T08:43:50.298Z"
   },
   {
    "duration": 0,
    "start_time": "2023-11-30T08:43:50.299Z"
   },
   {
    "duration": 0,
    "start_time": "2023-11-30T08:43:50.300Z"
   },
   {
    "duration": 0,
    "start_time": "2023-11-30T08:43:50.304Z"
   },
   {
    "duration": 0,
    "start_time": "2023-11-30T08:43:50.304Z"
   },
   {
    "duration": 0,
    "start_time": "2023-11-30T08:43:50.305Z"
   },
   {
    "duration": 0,
    "start_time": "2023-11-30T08:43:50.306Z"
   },
   {
    "duration": 0,
    "start_time": "2023-11-30T08:43:50.307Z"
   },
   {
    "duration": 0,
    "start_time": "2023-11-30T08:43:50.309Z"
   },
   {
    "duration": 0,
    "start_time": "2023-11-30T08:43:50.309Z"
   },
   {
    "duration": 8,
    "start_time": "2023-11-30T08:45:53.123Z"
   },
   {
    "duration": 25,
    "start_time": "2023-11-30T08:47:29.594Z"
   },
   {
    "duration": 648,
    "start_time": "2023-11-30T08:50:44.217Z"
   },
   {
    "duration": 786,
    "start_time": "2023-11-30T08:51:12.387Z"
   },
   {
    "duration": 10,
    "start_time": "2023-11-30T08:51:20.457Z"
   },
   {
    "duration": 1329,
    "start_time": "2023-11-30T08:51:44.053Z"
   },
   {
    "duration": 403,
    "start_time": "2023-11-30T08:52:45.152Z"
   },
   {
    "duration": 10,
    "start_time": "2023-11-30T08:52:47.236Z"
   },
   {
    "duration": 21,
    "start_time": "2023-11-30T08:53:53.688Z"
   },
   {
    "duration": 21,
    "start_time": "2023-11-30T08:54:06.903Z"
   },
   {
    "duration": 23,
    "start_time": "2023-11-30T08:54:24.304Z"
   },
   {
    "duration": 1207,
    "start_time": "2023-11-30T08:56:23.363Z"
   },
   {
    "duration": 15172,
    "start_time": "2023-11-30T08:56:24.572Z"
   },
   {
    "duration": 8031,
    "start_time": "2023-11-30T08:56:39.747Z"
   },
   {
    "duration": 73,
    "start_time": "2023-11-30T08:56:47.781Z"
   },
   {
    "duration": 692,
    "start_time": "2023-11-30T08:56:47.856Z"
   },
   {
    "duration": 4207,
    "start_time": "2023-11-30T08:56:48.550Z"
   },
   {
    "duration": 4884,
    "start_time": "2023-11-30T08:56:52.760Z"
   },
   {
    "duration": 1114,
    "start_time": "2023-11-30T08:56:57.645Z"
   },
   {
    "duration": 92,
    "start_time": "2023-11-30T08:56:58.761Z"
   },
   {
    "duration": 2090,
    "start_time": "2023-11-30T08:56:58.855Z"
   },
   {
    "duration": 0,
    "start_time": "2023-11-30T08:57:00.947Z"
   },
   {
    "duration": 0,
    "start_time": "2023-11-30T08:57:00.948Z"
   },
   {
    "duration": 0,
    "start_time": "2023-11-30T08:57:00.949Z"
   },
   {
    "duration": 0,
    "start_time": "2023-11-30T08:57:00.950Z"
   },
   {
    "duration": 0,
    "start_time": "2023-11-30T08:57:00.951Z"
   },
   {
    "duration": 0,
    "start_time": "2023-11-30T08:57:00.952Z"
   },
   {
    "duration": 0,
    "start_time": "2023-11-30T08:57:00.954Z"
   },
   {
    "duration": 0,
    "start_time": "2023-11-30T08:57:00.955Z"
   },
   {
    "duration": 0,
    "start_time": "2023-11-30T08:57:00.956Z"
   },
   {
    "duration": 0,
    "start_time": "2023-11-30T08:57:00.957Z"
   },
   {
    "duration": 0,
    "start_time": "2023-11-30T08:57:00.958Z"
   },
   {
    "duration": 0,
    "start_time": "2023-11-30T08:57:00.959Z"
   },
   {
    "duration": 0,
    "start_time": "2023-11-30T08:57:00.960Z"
   },
   {
    "duration": 0,
    "start_time": "2023-11-30T08:57:00.961Z"
   },
   {
    "duration": 0,
    "start_time": "2023-11-30T08:57:00.962Z"
   },
   {
    "duration": 0,
    "start_time": "2023-11-30T08:57:00.964Z"
   },
   {
    "duration": 0,
    "start_time": "2023-11-30T08:57:00.965Z"
   },
   {
    "duration": 574,
    "start_time": "2023-11-30T09:00:21.297Z"
   },
   {
    "duration": 933,
    "start_time": "2023-11-30T09:00:43.542Z"
   },
   {
    "duration": 10,
    "start_time": "2023-11-30T09:01:26.294Z"
   },
   {
    "duration": 1044,
    "start_time": "2023-11-30T09:01:51.601Z"
   },
   {
    "duration": 22,
    "start_time": "2023-11-30T09:03:09.604Z"
   },
   {
    "duration": 21,
    "start_time": "2023-11-30T09:03:40.296Z"
   },
   {
    "duration": 1244,
    "start_time": "2023-11-30T09:04:19.422Z"
   },
   {
    "duration": 15477,
    "start_time": "2023-11-30T09:04:20.668Z"
   },
   {
    "duration": 8312,
    "start_time": "2023-11-30T09:04:36.147Z"
   },
   {
    "duration": 18,
    "start_time": "2023-11-30T09:04:44.461Z"
   },
   {
    "duration": 698,
    "start_time": "2023-11-30T09:04:44.544Z"
   },
   {
    "duration": 4206,
    "start_time": "2023-11-30T09:04:45.244Z"
   },
   {
    "duration": 4907,
    "start_time": "2023-11-30T09:04:49.452Z"
   },
   {
    "duration": 1206,
    "start_time": "2023-11-30T09:04:54.361Z"
   },
   {
    "duration": 82,
    "start_time": "2023-11-30T09:04:55.569Z"
   },
   {
    "duration": 1922,
    "start_time": "2023-11-30T09:04:55.653Z"
   },
   {
    "duration": 1000,
    "start_time": "2023-11-30T09:04:57.577Z"
   },
   {
    "duration": 1185,
    "start_time": "2023-11-30T09:04:58.579Z"
   },
   {
    "duration": 3,
    "start_time": "2023-11-30T09:04:59.766Z"
   },
   {
    "duration": 1283,
    "start_time": "2023-11-30T09:04:59.772Z"
   },
   {
    "duration": 351,
    "start_time": "2023-11-30T09:05:01.057Z"
   },
   {
    "duration": 432,
    "start_time": "2023-11-30T09:05:01.442Z"
   },
   {
    "duration": 287,
    "start_time": "2023-11-30T09:05:01.876Z"
   },
   {
    "duration": 109,
    "start_time": "2023-11-30T09:05:02.165Z"
   },
   {
    "duration": 1055,
    "start_time": "2023-11-30T09:05:02.276Z"
   },
   {
    "duration": 1,
    "start_time": "2023-11-30T09:05:03.332Z"
   },
   {
    "duration": 0,
    "start_time": "2023-11-30T09:05:03.334Z"
   },
   {
    "duration": 0,
    "start_time": "2023-11-30T09:05:03.336Z"
   },
   {
    "duration": 0,
    "start_time": "2023-11-30T09:05:03.336Z"
   },
   {
    "duration": 0,
    "start_time": "2023-11-30T09:05:03.338Z"
   },
   {
    "duration": 0,
    "start_time": "2023-11-30T09:05:03.339Z"
   },
   {
    "duration": 0,
    "start_time": "2023-11-30T09:05:03.340Z"
   },
   {
    "duration": 1,
    "start_time": "2023-11-30T09:05:03.341Z"
   },
   {
    "duration": 959,
    "start_time": "2023-11-30T09:05:41.608Z"
   },
   {
    "duration": 478,
    "start_time": "2023-11-30T09:07:22.100Z"
   },
   {
    "duration": 1198,
    "start_time": "2023-11-30T09:10:17.358Z"
   },
   {
    "duration": 15094,
    "start_time": "2023-11-30T09:10:18.558Z"
   },
   {
    "duration": 8307,
    "start_time": "2023-11-30T09:10:33.654Z"
   },
   {
    "duration": 15,
    "start_time": "2023-11-30T09:10:41.964Z"
   },
   {
    "duration": 705,
    "start_time": "2023-11-30T09:10:42.044Z"
   },
   {
    "duration": 4231,
    "start_time": "2023-11-30T09:10:42.752Z"
   },
   {
    "duration": 4966,
    "start_time": "2023-11-30T09:10:46.984Z"
   },
   {
    "duration": 1191,
    "start_time": "2023-11-30T09:10:51.952Z"
   },
   {
    "duration": 25,
    "start_time": "2023-11-30T09:10:53.145Z"
   },
   {
    "duration": 1776,
    "start_time": "2023-11-30T09:10:53.174Z"
   },
   {
    "duration": 0,
    "start_time": "2023-11-30T09:10:54.951Z"
   },
   {
    "duration": 0,
    "start_time": "2023-11-30T09:10:54.953Z"
   },
   {
    "duration": 0,
    "start_time": "2023-11-30T09:10:54.954Z"
   },
   {
    "duration": 1,
    "start_time": "2023-11-30T09:10:54.955Z"
   },
   {
    "duration": 0,
    "start_time": "2023-11-30T09:10:54.957Z"
   },
   {
    "duration": 0,
    "start_time": "2023-11-30T09:10:54.958Z"
   },
   {
    "duration": 0,
    "start_time": "2023-11-30T09:10:54.960Z"
   },
   {
    "duration": 0,
    "start_time": "2023-11-30T09:10:54.964Z"
   },
   {
    "duration": 0,
    "start_time": "2023-11-30T09:10:54.967Z"
   },
   {
    "duration": 0,
    "start_time": "2023-11-30T09:10:54.968Z"
   },
   {
    "duration": 0,
    "start_time": "2023-11-30T09:10:54.970Z"
   },
   {
    "duration": 0,
    "start_time": "2023-11-30T09:10:54.972Z"
   },
   {
    "duration": 0,
    "start_time": "2023-11-30T09:10:54.973Z"
   },
   {
    "duration": 0,
    "start_time": "2023-11-30T09:10:54.974Z"
   },
   {
    "duration": 0,
    "start_time": "2023-11-30T09:10:54.978Z"
   },
   {
    "duration": 0,
    "start_time": "2023-11-30T09:10:54.980Z"
   },
   {
    "duration": 0,
    "start_time": "2023-11-30T09:10:55.042Z"
   },
   {
    "duration": 0,
    "start_time": "2023-11-30T09:10:55.044Z"
   },
   {
    "duration": 22,
    "start_time": "2023-11-30T09:11:33.098Z"
   },
   {
    "duration": 21,
    "start_time": "2023-11-30T09:11:53.922Z"
   },
   {
    "duration": 22,
    "start_time": "2023-11-30T09:12:08.350Z"
   },
   {
    "duration": 1265,
    "start_time": "2023-11-30T09:12:33.231Z"
   },
   {
    "duration": 14947,
    "start_time": "2023-11-30T09:12:34.498Z"
   },
   {
    "duration": 8616,
    "start_time": "2023-11-30T09:12:49.447Z"
   },
   {
    "duration": 83,
    "start_time": "2023-11-30T09:12:58.065Z"
   },
   {
    "duration": 710,
    "start_time": "2023-11-30T09:12:58.152Z"
   },
   {
    "duration": 4402,
    "start_time": "2023-11-30T09:12:58.864Z"
   },
   {
    "duration": 4583,
    "start_time": "2023-11-30T09:13:03.268Z"
   },
   {
    "duration": 1116,
    "start_time": "2023-11-30T09:13:07.852Z"
   },
   {
    "duration": 86,
    "start_time": "2023-11-30T09:13:08.970Z"
   },
   {
    "duration": 1899,
    "start_time": "2023-11-30T09:13:09.057Z"
   },
   {
    "duration": 904,
    "start_time": "2023-11-30T09:13:10.958Z"
   },
   {
    "duration": 1088,
    "start_time": "2023-11-30T09:13:11.864Z"
   },
   {
    "duration": 1291,
    "start_time": "2023-11-30T09:13:12.954Z"
   },
   {
    "duration": 4,
    "start_time": "2023-11-30T09:13:14.249Z"
   },
   {
    "duration": 1224,
    "start_time": "2023-11-30T09:13:14.255Z"
   },
   {
    "duration": 333,
    "start_time": "2023-11-30T09:13:15.481Z"
   },
   {
    "duration": 436,
    "start_time": "2023-11-30T09:13:15.816Z"
   },
   {
    "duration": 303,
    "start_time": "2023-11-30T09:13:16.254Z"
   },
   {
    "duration": 102,
    "start_time": "2023-11-30T09:13:16.559Z"
   },
   {
    "duration": 891,
    "start_time": "2023-11-30T09:13:16.663Z"
   },
   {
    "duration": 0,
    "start_time": "2023-11-30T09:13:17.556Z"
   },
   {
    "duration": 0,
    "start_time": "2023-11-30T09:13:17.558Z"
   },
   {
    "duration": 0,
    "start_time": "2023-11-30T09:13:17.559Z"
   },
   {
    "duration": 0,
    "start_time": "2023-11-30T09:13:17.560Z"
   },
   {
    "duration": 0,
    "start_time": "2023-11-30T09:13:17.561Z"
   },
   {
    "duration": 0,
    "start_time": "2023-11-30T09:13:17.562Z"
   },
   {
    "duration": 0,
    "start_time": "2023-11-30T09:13:17.563Z"
   },
   {
    "duration": 0,
    "start_time": "2023-11-30T09:13:17.564Z"
   },
   {
    "duration": 702,
    "start_time": "2023-11-30T09:17:15.555Z"
   },
   {
    "duration": 311,
    "start_time": "2023-11-30T09:17:36.286Z"
   },
   {
    "duration": 164,
    "start_time": "2023-11-30T09:17:55.546Z"
   },
   {
    "duration": 359,
    "start_time": "2023-11-30T09:18:16.516Z"
   },
   {
    "duration": 191,
    "start_time": "2023-11-30T09:18:17.956Z"
   },
   {
    "duration": 1184,
    "start_time": "2023-11-30T09:20:16.482Z"
   },
   {
    "duration": 14798,
    "start_time": "2023-11-30T09:20:17.667Z"
   },
   {
    "duration": 8182,
    "start_time": "2023-11-30T09:20:32.467Z"
   },
   {
    "duration": 15,
    "start_time": "2023-11-30T09:20:40.654Z"
   },
   {
    "duration": 683,
    "start_time": "2023-11-30T09:20:40.671Z"
   },
   {
    "duration": 4195,
    "start_time": "2023-11-30T09:20:41.356Z"
   },
   {
    "duration": 4697,
    "start_time": "2023-11-30T09:20:45.553Z"
   },
   {
    "duration": 1026,
    "start_time": "2023-11-30T09:20:50.252Z"
   },
   {
    "duration": 90,
    "start_time": "2023-11-30T09:20:51.280Z"
   },
   {
    "duration": 1370,
    "start_time": "2023-11-30T09:20:51.373Z"
   },
   {
    "duration": 926,
    "start_time": "2023-11-30T09:20:52.745Z"
   },
   {
    "duration": 1586,
    "start_time": "2023-11-30T09:20:53.673Z"
   },
   {
    "duration": 3,
    "start_time": "2023-11-30T09:20:55.261Z"
   },
   {
    "duration": 1381,
    "start_time": "2023-11-30T09:20:55.266Z"
   },
   {
    "duration": 257,
    "start_time": "2023-11-30T09:20:56.648Z"
   },
   {
    "duration": 352,
    "start_time": "2023-11-30T09:20:56.907Z"
   },
   {
    "duration": 386,
    "start_time": "2023-11-30T09:20:57.261Z"
   },
   {
    "duration": 97,
    "start_time": "2023-11-30T09:20:57.649Z"
   },
   {
    "duration": 1096,
    "start_time": "2023-11-30T09:20:57.747Z"
   },
   {
    "duration": 4,
    "start_time": "2023-11-30T09:20:58.845Z"
   },
   {
    "duration": 23,
    "start_time": "2023-11-30T09:20:58.851Z"
   },
   {
    "duration": 612,
    "start_time": "2023-11-30T09:20:58.876Z"
   },
   {
    "duration": 61,
    "start_time": "2023-11-30T09:20:59.490Z"
   },
   {
    "duration": 2528,
    "start_time": "2023-11-30T09:20:59.553Z"
   },
   {
    "duration": 10492,
    "start_time": "2023-11-30T09:21:02.082Z"
   },
   {
    "duration": 11,
    "start_time": "2023-11-30T09:21:12.642Z"
   },
   {
    "duration": 918,
    "start_time": "2023-11-30T09:21:12.659Z"
   },
   {
    "duration": 1209,
    "start_time": "2023-11-30T09:23:47.930Z"
   },
   {
    "duration": 15112,
    "start_time": "2023-11-30T09:23:49.141Z"
   },
   {
    "duration": 8611,
    "start_time": "2023-11-30T09:24:04.255Z"
   },
   {
    "duration": 88,
    "start_time": "2023-11-30T09:24:12.868Z"
   },
   {
    "duration": 796,
    "start_time": "2023-11-30T09:24:12.959Z"
   },
   {
    "duration": 4188,
    "start_time": "2023-11-30T09:24:13.756Z"
   },
   {
    "duration": 4722,
    "start_time": "2023-11-30T09:24:17.946Z"
   },
   {
    "duration": 1194,
    "start_time": "2023-11-30T09:24:22.670Z"
   },
   {
    "duration": 86,
    "start_time": "2023-11-30T09:24:23.866Z"
   },
   {
    "duration": 1399,
    "start_time": "2023-11-30T09:24:23.954Z"
   },
   {
    "duration": 931,
    "start_time": "2023-11-30T09:24:25.355Z"
   },
   {
    "duration": 1425,
    "start_time": "2023-11-30T09:24:26.343Z"
   },
   {
    "duration": 3,
    "start_time": "2023-11-30T09:24:27.770Z"
   },
   {
    "duration": 1285,
    "start_time": "2023-11-30T09:24:27.775Z"
   },
   {
    "duration": 292,
    "start_time": "2023-11-30T09:24:29.062Z"
   },
   {
    "duration": 324,
    "start_time": "2023-11-30T09:24:29.356Z"
   },
   {
    "duration": 338,
    "start_time": "2023-11-30T09:24:29.744Z"
   },
   {
    "duration": 91,
    "start_time": "2023-11-30T09:24:30.084Z"
   },
   {
    "duration": 1276,
    "start_time": "2023-11-30T09:24:30.176Z"
   },
   {
    "duration": 4,
    "start_time": "2023-11-30T09:24:31.453Z"
   },
   {
    "duration": 86,
    "start_time": "2023-11-30T09:24:31.458Z"
   },
   {
    "duration": 628,
    "start_time": "2023-11-30T09:24:31.546Z"
   },
   {
    "duration": 69,
    "start_time": "2023-11-30T09:24:32.176Z"
   },
   {
    "duration": 15,
    "start_time": "2023-11-30T09:24:32.247Z"
   },
   {
    "duration": 996,
    "start_time": "2023-11-30T09:24:32.264Z"
   },
   {
    "duration": 0,
    "start_time": "2023-11-30T09:24:33.262Z"
   },
   {
    "duration": 0,
    "start_time": "2023-11-30T09:24:33.263Z"
   },
   {
    "duration": 1184,
    "start_time": "2023-11-30T09:26:48.196Z"
   },
   {
    "duration": 15065,
    "start_time": "2023-11-30T09:26:49.382Z"
   },
   {
    "duration": 8310,
    "start_time": "2023-11-30T09:27:04.449Z"
   },
   {
    "duration": 18,
    "start_time": "2023-11-30T09:27:12.761Z"
   },
   {
    "duration": 706,
    "start_time": "2023-11-30T09:27:12.844Z"
   },
   {
    "duration": 4408,
    "start_time": "2023-11-30T09:27:13.553Z"
   },
   {
    "duration": 4386,
    "start_time": "2023-11-30T09:27:17.962Z"
   },
   {
    "duration": 1002,
    "start_time": "2023-11-30T09:27:22.349Z"
   },
   {
    "duration": 3,
    "start_time": "2023-11-30T09:27:23.354Z"
   },
   {
    "duration": 10,
    "start_time": "2023-11-30T09:27:23.358Z"
   },
   {
    "duration": 1476,
    "start_time": "2023-11-30T09:27:23.370Z"
   },
   {
    "duration": 897,
    "start_time": "2023-11-30T09:27:24.848Z"
   },
   {
    "duration": 1421,
    "start_time": "2023-11-30T09:27:25.746Z"
   },
   {
    "duration": 3,
    "start_time": "2023-11-30T09:27:27.169Z"
   },
   {
    "duration": 1479,
    "start_time": "2023-11-30T09:27:27.173Z"
   },
   {
    "duration": 290,
    "start_time": "2023-11-30T09:27:28.654Z"
   },
   {
    "duration": 398,
    "start_time": "2023-11-30T09:27:28.946Z"
   },
   {
    "duration": 299,
    "start_time": "2023-11-30T09:27:29.346Z"
   },
   {
    "duration": 115,
    "start_time": "2023-11-30T09:27:29.646Z"
   },
   {
    "duration": 1103,
    "start_time": "2023-11-30T09:27:29.763Z"
   },
   {
    "duration": 3,
    "start_time": "2023-11-30T09:27:30.868Z"
   },
   {
    "duration": 87,
    "start_time": "2023-11-30T09:27:30.873Z"
   },
   {
    "duration": 625,
    "start_time": "2023-11-30T09:27:30.962Z"
   },
   {
    "duration": 25,
    "start_time": "2023-11-30T09:27:31.643Z"
   },
   {
    "duration": 2585,
    "start_time": "2023-11-30T09:27:31.670Z"
   },
   {
    "duration": 10197,
    "start_time": "2023-11-30T09:27:34.256Z"
   },
   {
    "duration": 11,
    "start_time": "2023-11-30T09:27:44.455Z"
   },
   {
    "duration": 989,
    "start_time": "2023-11-30T09:27:44.467Z"
   },
   {
    "duration": 1471,
    "start_time": "2023-11-30T09:52:29.312Z"
   },
   {
    "duration": 15099,
    "start_time": "2023-11-30T09:52:30.785Z"
   },
   {
    "duration": 8656,
    "start_time": "2023-11-30T09:52:45.886Z"
   },
   {
    "duration": 18,
    "start_time": "2023-11-30T09:52:54.544Z"
   },
   {
    "duration": 791,
    "start_time": "2023-11-30T09:52:54.564Z"
   },
   {
    "duration": 4211,
    "start_time": "2023-11-30T09:52:55.357Z"
   },
   {
    "duration": 4876,
    "start_time": "2023-11-30T09:52:59.570Z"
   },
   {
    "duration": 1100,
    "start_time": "2023-11-30T09:53:04.448Z"
   },
   {
    "duration": 2,
    "start_time": "2023-11-30T09:53:05.550Z"
   },
   {
    "duration": 10,
    "start_time": "2023-11-30T09:53:05.554Z"
   },
   {
    "duration": 85,
    "start_time": "2023-11-30T09:53:05.566Z"
   },
   {
    "duration": 2,
    "start_time": "2023-11-30T09:53:05.653Z"
   },
   {
    "duration": 17,
    "start_time": "2023-11-30T09:53:05.661Z"
   },
   {
    "duration": 61,
    "start_time": "2023-11-30T09:53:05.681Z"
   },
   {
    "duration": 14,
    "start_time": "2023-11-30T09:53:05.744Z"
   },
   {
    "duration": 217,
    "start_time": "2023-11-30T09:53:05.762Z"
   },
   {
    "duration": 0,
    "start_time": "2023-11-30T09:53:05.981Z"
   },
   {
    "duration": 0,
    "start_time": "2023-11-30T09:53:05.982Z"
   },
   {
    "duration": 0,
    "start_time": "2023-11-30T09:53:05.983Z"
   },
   {
    "duration": 0,
    "start_time": "2023-11-30T09:53:05.984Z"
   },
   {
    "duration": 0,
    "start_time": "2023-11-30T09:53:05.986Z"
   },
   {
    "duration": 0,
    "start_time": "2023-11-30T09:53:05.987Z"
   },
   {
    "duration": 0,
    "start_time": "2023-11-30T09:53:05.988Z"
   },
   {
    "duration": 0,
    "start_time": "2023-11-30T09:53:05.990Z"
   },
   {
    "duration": 0,
    "start_time": "2023-11-30T09:53:05.991Z"
   },
   {
    "duration": 0,
    "start_time": "2023-11-30T09:53:06.042Z"
   },
   {
    "duration": 0,
    "start_time": "2023-11-30T09:53:06.043Z"
   },
   {
    "duration": 0,
    "start_time": "2023-11-30T09:53:06.045Z"
   },
   {
    "duration": 1225,
    "start_time": "2023-11-30T09:53:27.336Z"
   },
   {
    "duration": 15093,
    "start_time": "2023-11-30T09:53:28.563Z"
   },
   {
    "duration": 8111,
    "start_time": "2023-11-30T09:53:43.658Z"
   },
   {
    "duration": 78,
    "start_time": "2023-11-30T09:53:51.772Z"
   },
   {
    "duration": 703,
    "start_time": "2023-11-30T09:53:51.852Z"
   },
   {
    "duration": 4209,
    "start_time": "2023-11-30T09:53:52.557Z"
   },
   {
    "duration": 4880,
    "start_time": "2023-11-30T09:53:56.768Z"
   },
   {
    "duration": 1195,
    "start_time": "2023-11-30T09:54:01.650Z"
   },
   {
    "duration": 3,
    "start_time": "2023-11-30T09:54:02.847Z"
   },
   {
    "duration": 23,
    "start_time": "2023-11-30T09:54:02.853Z"
   },
   {
    "duration": 92,
    "start_time": "2023-11-30T09:54:02.878Z"
   },
   {
    "duration": 5,
    "start_time": "2023-11-30T09:54:02.971Z"
   },
   {
    "duration": 14,
    "start_time": "2023-11-30T09:54:02.978Z"
   },
   {
    "duration": 40,
    "start_time": "2023-11-30T09:54:03.043Z"
   },
   {
    "duration": 67,
    "start_time": "2023-11-30T09:54:03.084Z"
   },
   {
    "duration": 3,
    "start_time": "2023-11-30T09:54:03.152Z"
   },
   {
    "duration": 23,
    "start_time": "2023-11-30T09:54:03.157Z"
   },
   {
    "duration": 3,
    "start_time": "2023-11-30T09:54:03.182Z"
   },
   {
    "duration": 11,
    "start_time": "2023-11-30T09:54:03.243Z"
   },
   {
    "duration": 9,
    "start_time": "2023-11-30T09:54:03.256Z"
   },
   {
    "duration": 6,
    "start_time": "2023-11-30T09:54:03.266Z"
   },
   {
    "duration": 70,
    "start_time": "2023-11-30T09:54:03.274Z"
   },
   {
    "duration": 3,
    "start_time": "2023-11-30T09:54:03.345Z"
   },
   {
    "duration": 218,
    "start_time": "2023-11-30T09:54:03.350Z"
   },
   {
    "duration": 0,
    "start_time": "2023-11-30T09:54:03.570Z"
   },
   {
    "duration": 0,
    "start_time": "2023-11-30T09:54:03.571Z"
   },
   {
    "duration": 0,
    "start_time": "2023-11-30T09:54:03.572Z"
   },
   {
    "duration": 0,
    "start_time": "2023-11-30T09:54:03.573Z"
   },
   {
    "duration": 24,
    "start_time": "2023-11-30T09:55:05.272Z"
   },
   {
    "duration": 1043,
    "start_time": "2023-11-30T09:55:06.217Z"
   },
   {
    "duration": 45,
    "start_time": "2023-11-30T09:55:09.082Z"
   },
   {
    "duration": 5,
    "start_time": "2023-11-30T09:55:20.467Z"
   },
   {
    "duration": 3125,
    "start_time": "2023-11-30T09:55:29.543Z"
   },
   {
    "duration": 1417,
    "start_time": "2023-11-30T09:56:44.759Z"
   },
   {
    "duration": 7,
    "start_time": "2023-11-30T09:59:28.703Z"
   },
   {
    "duration": 7,
    "start_time": "2023-11-30T09:59:35.110Z"
   },
   {
    "duration": 2,
    "start_time": "2023-11-30T09:59:39.594Z"
   },
   {
    "duration": 7,
    "start_time": "2023-11-30T09:59:41.827Z"
   },
   {
    "duration": 9,
    "start_time": "2023-11-30T09:59:47.289Z"
   },
   {
    "duration": 580,
    "start_time": "2023-11-30T09:59:48.488Z"
   },
   {
    "duration": 1246,
    "start_time": "2023-11-30T09:59:51.264Z"
   },
   {
    "duration": 1331,
    "start_time": "2023-11-30T10:00:26.997Z"
   },
   {
    "duration": 7,
    "start_time": "2023-11-30T10:02:14.283Z"
   },
   {
    "duration": 1289,
    "start_time": "2023-11-30T10:02:30.454Z"
   },
   {
    "duration": 11120,
    "start_time": "2023-11-30T10:03:38.033Z"
   },
   {
    "duration": 10,
    "start_time": "2023-11-30T10:03:53.679Z"
   },
   {
    "duration": 97,
    "start_time": "2023-11-30T10:06:11.643Z"
   },
   {
    "duration": 1239,
    "start_time": "2023-11-30T10:24:09.874Z"
   },
   {
    "duration": 15158,
    "start_time": "2023-11-30T10:24:11.116Z"
   },
   {
    "duration": 8789,
    "start_time": "2023-11-30T10:24:26.276Z"
   },
   {
    "duration": 78,
    "start_time": "2023-11-30T10:24:35.067Z"
   },
   {
    "duration": 704,
    "start_time": "2023-11-30T10:24:35.148Z"
   },
   {
    "duration": 4232,
    "start_time": "2023-11-30T10:24:35.855Z"
   },
   {
    "duration": 4961,
    "start_time": "2023-11-30T10:24:40.089Z"
   },
   {
    "duration": 1114,
    "start_time": "2023-11-30T10:24:45.051Z"
   },
   {
    "duration": 2,
    "start_time": "2023-11-30T10:24:46.167Z"
   },
   {
    "duration": 72,
    "start_time": "2023-11-30T10:24:46.171Z"
   },
   {
    "duration": 28,
    "start_time": "2023-11-30T10:24:46.246Z"
   },
   {
    "duration": 2,
    "start_time": "2023-11-30T10:24:46.276Z"
   },
   {
    "duration": 33,
    "start_time": "2023-11-30T10:24:46.281Z"
   },
   {
    "duration": 26,
    "start_time": "2023-11-30T10:24:46.317Z"
   },
   {
    "duration": 13,
    "start_time": "2023-11-30T10:24:46.345Z"
   },
   {
    "duration": 3,
    "start_time": "2023-11-30T10:24:46.360Z"
   },
   {
    "duration": 13,
    "start_time": "2023-11-30T10:24:46.365Z"
   },
   {
    "duration": 3,
    "start_time": "2023-11-30T10:24:46.380Z"
   },
   {
    "duration": 66,
    "start_time": "2023-11-30T10:24:46.385Z"
   },
   {
    "duration": 10,
    "start_time": "2023-11-30T10:24:46.452Z"
   },
   {
    "duration": 2,
    "start_time": "2023-11-30T10:24:46.464Z"
   },
   {
    "duration": 76,
    "start_time": "2023-11-30T10:24:46.468Z"
   },
   {
    "duration": 2,
    "start_time": "2023-11-30T10:24:46.546Z"
   },
   {
    "duration": 31,
    "start_time": "2023-11-30T10:24:46.550Z"
   },
   {
    "duration": 1380,
    "start_time": "2023-11-30T10:24:46.583Z"
   },
   {
    "duration": 15212,
    "start_time": "2023-11-30T10:24:47.965Z"
   },
   {
    "duration": 73,
    "start_time": "2023-11-30T10:25:03.179Z"
   },
   {
    "duration": 929,
    "start_time": "2023-11-30T10:25:03.253Z"
   },
   {
    "duration": 1384,
    "start_time": "2023-11-30T10:32:54.006Z"
   },
   {
    "duration": 15751,
    "start_time": "2023-11-30T10:32:55.392Z"
   },
   {
    "duration": 8709,
    "start_time": "2023-11-30T10:33:11.145Z"
   },
   {
    "duration": 15,
    "start_time": "2023-11-30T10:33:19.858Z"
   },
   {
    "duration": 791,
    "start_time": "2023-11-30T10:33:19.875Z"
   },
   {
    "duration": 4276,
    "start_time": "2023-11-30T10:33:20.668Z"
   },
   {
    "duration": 5200,
    "start_time": "2023-11-30T10:33:24.945Z"
   },
   {
    "duration": 1333,
    "start_time": "2023-11-30T10:33:30.147Z"
   },
   {
    "duration": 26,
    "start_time": "2023-11-30T10:33:31.542Z"
   },
   {
    "duration": 1288,
    "start_time": "2023-11-30T10:33:31.571Z"
   },
   {
    "duration": 258,
    "start_time": "2023-11-30T10:33:32.861Z"
   },
   {
    "duration": 0,
    "start_time": "2023-11-30T10:33:33.121Z"
   },
   {
    "duration": 0,
    "start_time": "2023-11-30T10:33:33.123Z"
   },
   {
    "duration": 0,
    "start_time": "2023-11-30T10:33:33.124Z"
   },
   {
    "duration": 0,
    "start_time": "2023-11-30T10:33:33.126Z"
   },
   {
    "duration": 0,
    "start_time": "2023-11-30T10:33:33.127Z"
   },
   {
    "duration": 0,
    "start_time": "2023-11-30T10:33:33.143Z"
   },
   {
    "duration": 0,
    "start_time": "2023-11-30T10:33:33.145Z"
   },
   {
    "duration": 0,
    "start_time": "2023-11-30T10:33:33.147Z"
   },
   {
    "duration": 0,
    "start_time": "2023-11-30T10:33:33.148Z"
   },
   {
    "duration": 0,
    "start_time": "2023-11-30T10:33:33.150Z"
   },
   {
    "duration": 0,
    "start_time": "2023-11-30T10:33:33.151Z"
   },
   {
    "duration": 0,
    "start_time": "2023-11-30T10:33:33.153Z"
   },
   {
    "duration": 0,
    "start_time": "2023-11-30T10:33:33.155Z"
   },
   {
    "duration": 0,
    "start_time": "2023-11-30T10:33:33.156Z"
   },
   {
    "duration": 0,
    "start_time": "2023-11-30T10:33:33.158Z"
   },
   {
    "duration": 0,
    "start_time": "2023-11-30T10:33:33.159Z"
   },
   {
    "duration": 0,
    "start_time": "2023-11-30T10:33:33.161Z"
   },
   {
    "duration": 1074,
    "start_time": "2023-11-30T10:34:55.404Z"
   },
   {
    "duration": 24,
    "start_time": "2023-11-30T10:35:07.645Z"
   },
   {
    "duration": 1323,
    "start_time": "2023-11-30T10:35:29.988Z"
   },
   {
    "duration": 15541,
    "start_time": "2023-11-30T10:35:31.313Z"
   },
   {
    "duration": 8612,
    "start_time": "2023-11-30T10:35:46.856Z"
   },
   {
    "duration": 92,
    "start_time": "2023-11-30T10:35:55.469Z"
   },
   {
    "duration": 689,
    "start_time": "2023-11-30T10:35:55.563Z"
   },
   {
    "duration": 4116,
    "start_time": "2023-11-30T10:35:56.254Z"
   },
   {
    "duration": 5183,
    "start_time": "2023-11-30T10:36:00.371Z"
   },
   {
    "duration": 1107,
    "start_time": "2023-11-30T10:36:05.556Z"
   },
   {
    "duration": 86,
    "start_time": "2023-11-30T10:36:06.665Z"
   },
   {
    "duration": 1314,
    "start_time": "2023-11-30T10:36:06.754Z"
   },
   {
    "duration": 1503,
    "start_time": "2023-11-30T10:36:08.070Z"
   },
   {
    "duration": 210,
    "start_time": "2023-11-30T10:36:09.575Z"
   },
   {
    "duration": 0,
    "start_time": "2023-11-30T10:36:09.789Z"
   },
   {
    "duration": 0,
    "start_time": "2023-11-30T10:36:09.791Z"
   },
   {
    "duration": 0,
    "start_time": "2023-11-30T10:36:09.793Z"
   },
   {
    "duration": 0,
    "start_time": "2023-11-30T10:36:09.794Z"
   },
   {
    "duration": 0,
    "start_time": "2023-11-30T10:36:09.796Z"
   },
   {
    "duration": 0,
    "start_time": "2023-11-30T10:36:09.797Z"
   },
   {
    "duration": 0,
    "start_time": "2023-11-30T10:36:09.799Z"
   },
   {
    "duration": 0,
    "start_time": "2023-11-30T10:36:09.800Z"
   },
   {
    "duration": 0,
    "start_time": "2023-11-30T10:36:09.802Z"
   },
   {
    "duration": 0,
    "start_time": "2023-11-30T10:36:09.804Z"
   },
   {
    "duration": 0,
    "start_time": "2023-11-30T10:36:09.805Z"
   },
   {
    "duration": 0,
    "start_time": "2023-11-30T10:36:09.806Z"
   },
   {
    "duration": 0,
    "start_time": "2023-11-30T10:36:09.808Z"
   },
   {
    "duration": 0,
    "start_time": "2023-11-30T10:36:09.810Z"
   },
   {
    "duration": 0,
    "start_time": "2023-11-30T10:36:09.811Z"
   },
   {
    "duration": 0,
    "start_time": "2023-11-30T10:36:09.812Z"
   },
   {
    "duration": 822,
    "start_time": "2023-11-30T10:36:39.348Z"
   },
   {
    "duration": 1020,
    "start_time": "2023-11-30T10:36:44.762Z"
   },
   {
    "duration": 1276,
    "start_time": "2023-11-30T10:37:18.429Z"
   },
   {
    "duration": 15473,
    "start_time": "2023-11-30T10:37:19.707Z"
   },
   {
    "duration": 8871,
    "start_time": "2023-11-30T10:37:35.183Z"
   },
   {
    "duration": 17,
    "start_time": "2023-11-30T10:37:44.058Z"
   },
   {
    "duration": 699,
    "start_time": "2023-11-30T10:37:44.077Z"
   },
   {
    "duration": 4424,
    "start_time": "2023-11-30T10:37:44.843Z"
   },
   {
    "duration": 4886,
    "start_time": "2023-11-30T10:37:49.269Z"
   },
   {
    "duration": 1221,
    "start_time": "2023-11-30T10:37:54.157Z"
   },
   {
    "duration": 31,
    "start_time": "2023-11-30T10:37:55.442Z"
   },
   {
    "duration": 1367,
    "start_time": "2023-11-30T10:37:55.476Z"
   },
   {
    "duration": 1503,
    "start_time": "2023-11-30T10:37:56.845Z"
   },
   {
    "duration": 905,
    "start_time": "2023-11-30T10:37:58.350Z"
   },
   {
    "duration": 1122,
    "start_time": "2023-11-30T10:37:59.257Z"
   },
   {
    "duration": 4,
    "start_time": "2023-11-30T10:38:00.381Z"
   },
   {
    "duration": 15,
    "start_time": "2023-11-30T10:38:00.443Z"
   },
   {
    "duration": 87,
    "start_time": "2023-11-30T10:38:00.460Z"
   },
   {
    "duration": 66,
    "start_time": "2023-11-30T10:38:00.549Z"
   },
   {
    "duration": 48,
    "start_time": "2023-11-30T10:38:00.617Z"
   },
   {
    "duration": 45,
    "start_time": "2023-11-30T10:38:00.667Z"
   },
   {
    "duration": 40,
    "start_time": "2023-11-30T10:38:00.714Z"
   },
   {
    "duration": 23,
    "start_time": "2023-11-30T10:38:00.755Z"
   },
   {
    "duration": 40,
    "start_time": "2023-11-30T10:38:00.780Z"
   },
   {
    "duration": 25,
    "start_time": "2023-11-30T10:38:00.821Z"
   },
   {
    "duration": 25,
    "start_time": "2023-11-30T10:38:00.847Z"
   },
   {
    "duration": 32,
    "start_time": "2023-11-30T10:38:00.874Z"
   },
   {
    "duration": 235,
    "start_time": "2023-11-30T10:38:00.907Z"
   },
   {
    "duration": 0,
    "start_time": "2023-11-30T10:38:01.144Z"
   },
   {
    "duration": 0,
    "start_time": "2023-11-30T10:38:01.145Z"
   },
   {
    "duration": 1240,
    "start_time": "2023-11-30T10:38:49.840Z"
   },
   {
    "duration": 15571,
    "start_time": "2023-11-30T10:38:51.082Z"
   },
   {
    "duration": 8604,
    "start_time": "2023-11-30T10:39:06.655Z"
   },
   {
    "duration": 17,
    "start_time": "2023-11-30T10:39:15.261Z"
   },
   {
    "duration": 705,
    "start_time": "2023-11-30T10:39:15.342Z"
   },
   {
    "duration": 4208,
    "start_time": "2023-11-30T10:39:16.049Z"
   },
   {
    "duration": 4587,
    "start_time": "2023-11-30T10:39:20.259Z"
   },
   {
    "duration": 1129,
    "start_time": "2023-11-30T10:39:24.848Z"
   },
   {
    "duration": 23,
    "start_time": "2023-11-30T10:39:26.042Z"
   },
   {
    "duration": 1291,
    "start_time": "2023-11-30T10:39:26.066Z"
   },
   {
    "duration": 98,
    "start_time": "2023-11-30T10:39:27.360Z"
   },
   {
    "duration": 2,
    "start_time": "2023-11-30T10:39:27.460Z"
   },
   {
    "duration": 12,
    "start_time": "2023-11-30T10:39:27.464Z"
   },
   {
    "duration": 3,
    "start_time": "2023-11-30T10:39:27.479Z"
   },
   {
    "duration": 71,
    "start_time": "2023-11-30T10:39:27.484Z"
   },
   {
    "duration": 2,
    "start_time": "2023-11-30T10:39:27.557Z"
   },
   {
    "duration": 21,
    "start_time": "2023-11-30T10:39:27.561Z"
   },
   {
    "duration": 2,
    "start_time": "2023-11-30T10:39:27.584Z"
   },
   {
    "duration": 12,
    "start_time": "2023-11-30T10:39:27.588Z"
   },
   {
    "duration": 10,
    "start_time": "2023-11-30T10:39:27.601Z"
   },
   {
    "duration": 3,
    "start_time": "2023-11-30T10:39:27.612Z"
   },
   {
    "duration": 33,
    "start_time": "2023-11-30T10:39:27.616Z"
   },
   {
    "duration": 2,
    "start_time": "2023-11-30T10:39:27.651Z"
   },
   {
    "duration": 6,
    "start_time": "2023-11-30T10:39:27.655Z"
   },
   {
    "duration": 6,
    "start_time": "2023-11-30T10:39:27.663Z"
   },
   {
    "duration": 14371,
    "start_time": "2023-11-30T10:39:27.671Z"
   },
   {
    "duration": 11,
    "start_time": "2023-11-30T10:39:42.044Z"
   },
   {
    "duration": 926,
    "start_time": "2023-11-30T10:39:42.056Z"
   },
   {
    "duration": 1331,
    "start_time": "2023-11-30T10:42:30.881Z"
   },
   {
    "duration": 15461,
    "start_time": "2023-11-30T10:42:32.214Z"
   },
   {
    "duration": 8606,
    "start_time": "2023-11-30T10:42:47.678Z"
   },
   {
    "duration": 75,
    "start_time": "2023-11-30T10:42:56.285Z"
   },
   {
    "duration": 788,
    "start_time": "2023-11-30T10:42:56.363Z"
   },
   {
    "duration": 4507,
    "start_time": "2023-11-30T10:42:57.153Z"
   },
   {
    "duration": 5182,
    "start_time": "2023-11-30T10:43:01.662Z"
   },
   {
    "duration": 1113,
    "start_time": "2023-11-30T10:43:06.847Z"
   },
   {
    "duration": 3,
    "start_time": "2023-11-30T10:43:07.962Z"
   },
   {
    "duration": 5,
    "start_time": "2023-11-30T10:43:07.967Z"
   },
   {
    "duration": 27,
    "start_time": "2023-11-30T10:43:08.043Z"
   },
   {
    "duration": 71,
    "start_time": "2023-11-30T10:43:08.072Z"
   },
   {
    "duration": 17,
    "start_time": "2023-11-30T10:43:08.145Z"
   },
   {
    "duration": 23,
    "start_time": "2023-11-30T10:43:08.165Z"
   },
   {
    "duration": 62,
    "start_time": "2023-11-30T10:43:08.190Z"
   },
   {
    "duration": 3,
    "start_time": "2023-11-30T10:43:08.255Z"
   },
   {
    "duration": 16,
    "start_time": "2023-11-30T10:43:08.259Z"
   },
   {
    "duration": 3,
    "start_time": "2023-11-30T10:43:08.277Z"
   },
   {
    "duration": 73,
    "start_time": "2023-11-30T10:43:08.282Z"
   },
   {
    "duration": 13,
    "start_time": "2023-11-30T10:43:08.357Z"
   },
   {
    "duration": 3,
    "start_time": "2023-11-30T10:43:08.372Z"
   },
   {
    "duration": 70,
    "start_time": "2023-11-30T10:43:08.377Z"
   },
   {
    "duration": 3,
    "start_time": "2023-11-30T10:43:08.448Z"
   },
   {
    "duration": 96,
    "start_time": "2023-11-30T10:43:08.452Z"
   },
   {
    "duration": 1306,
    "start_time": "2023-11-30T10:43:08.549Z"
   },
   {
    "duration": 15089,
    "start_time": "2023-11-30T10:43:09.856Z"
   },
   {
    "duration": 10,
    "start_time": "2023-11-30T10:43:24.947Z"
   },
   {
    "duration": 989,
    "start_time": "2023-11-30T10:43:24.959Z"
   },
   {
    "duration": 1218,
    "start_time": "2023-11-30T10:47:33.281Z"
   },
   {
    "duration": 15460,
    "start_time": "2023-11-30T10:47:34.501Z"
   },
   {
    "duration": 9009,
    "start_time": "2023-11-30T10:47:49.964Z"
   },
   {
    "duration": 81,
    "start_time": "2023-11-30T10:47:58.976Z"
   },
   {
    "duration": 686,
    "start_time": "2023-11-30T10:47:59.060Z"
   },
   {
    "duration": 4398,
    "start_time": "2023-11-30T10:47:59.748Z"
   },
   {
    "duration": 4906,
    "start_time": "2023-11-30T10:48:04.147Z"
   },
   {
    "duration": 1314,
    "start_time": "2023-11-30T10:48:09.055Z"
   },
   {
    "duration": 3,
    "start_time": "2023-11-30T10:48:10.371Z"
   },
   {
    "duration": 67,
    "start_time": "2023-11-30T10:48:10.376Z"
   },
   {
    "duration": 61,
    "start_time": "2023-11-30T10:48:10.446Z"
   },
   {
    "duration": 25,
    "start_time": "2023-11-30T10:48:10.509Z"
   },
   {
    "duration": 35,
    "start_time": "2023-11-30T10:48:10.539Z"
   },
   {
    "duration": 33,
    "start_time": "2023-11-30T10:48:10.577Z"
   },
   {
    "duration": 32,
    "start_time": "2023-11-30T10:48:10.611Z"
   },
   {
    "duration": 26,
    "start_time": "2023-11-30T10:48:10.645Z"
   },
   {
    "duration": 38,
    "start_time": "2023-11-30T10:48:10.672Z"
   },
   {
    "duration": 17,
    "start_time": "2023-11-30T10:48:10.713Z"
   },
   {
    "duration": 38,
    "start_time": "2023-11-30T10:48:10.732Z"
   },
   {
    "duration": 37,
    "start_time": "2023-11-30T10:48:10.772Z"
   },
   {
    "duration": 32,
    "start_time": "2023-11-30T10:48:10.811Z"
   },
   {
    "duration": 34,
    "start_time": "2023-11-30T10:48:10.845Z"
   },
   {
    "duration": 50,
    "start_time": "2023-11-30T10:48:10.881Z"
   },
   {
    "duration": 53,
    "start_time": "2023-11-30T10:48:10.932Z"
   },
   {
    "duration": 1270,
    "start_time": "2023-11-30T10:48:10.987Z"
   },
   {
    "duration": 14288,
    "start_time": "2023-11-30T10:48:12.259Z"
   },
   {
    "duration": 13,
    "start_time": "2023-11-30T10:48:26.549Z"
   },
   {
    "duration": 986,
    "start_time": "2023-11-30T10:48:26.564Z"
   }
  ],
  "colab": {
   "name": "PySparkSprint.ipynb",
   "provenance": []
  },
  "kernelspec": {
   "display_name": "Python 3 (ipykernel)",
   "language": "python",
   "name": "python3"
  },
  "language_info": {
   "codemirror_mode": {
    "name": "ipython",
    "version": 3
   },
   "file_extension": ".py",
   "mimetype": "text/x-python",
   "name": "python",
   "nbconvert_exporter": "python",
   "pygments_lexer": "ipython3",
   "version": "3.9.19"
  },
  "toc": {
   "base_numbering": 1,
   "nav_menu": {},
   "number_sections": true,
   "sideBar": true,
   "skip_h1_title": true,
   "title_cell": "Table of Contents",
   "title_sidebar": "Contents",
   "toc_cell": false,
   "toc_position": {
    "height": "calc(100% - 180px)",
    "left": "10px",
    "top": "150px",
    "width": "364.312px"
   },
   "toc_section_display": true,
   "toc_window_display": true
  }
 },
 "nbformat": 4,
 "nbformat_minor": 5
}
