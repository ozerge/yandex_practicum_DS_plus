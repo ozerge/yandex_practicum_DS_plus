{
 "cells": [
  {
   "cell_type": "markdown",
   "metadata": {
    "toc": true
   },
   "source": [
    "<h1>Содержание<span class=\"tocSkip\"></span></h1>\n",
    "<div class=\"toc\"><ul class=\"toc-item\"><li><span><a href=\"#Загрузка-данных.\" data-toc-modified-id=\"Загрузка-данных.-1\"><span class=\"toc-item-num\">1&nbsp;&nbsp;</span>Загрузка данных.</a></span><ul class=\"toc-item\"><li><span><a href=\"#Изучим-общую-информацию-о-датафрейме\" data-toc-modified-id=\"Изучим-общую-информацию-о-датафрейме-1.1\"><span class=\"toc-item-num\">1.1&nbsp;&nbsp;</span>Изучим общую информацию о датафрейме</a></span></li><li><span><a href=\"#Предобработка-данных:\" data-toc-modified-id=\"Предобработка-данных:-1.2\"><span class=\"toc-item-num\">1.2&nbsp;&nbsp;</span>Предобработка данных:</a></span></li></ul></li><li><span><a href=\"#Умножение-матриц.\" data-toc-modified-id=\"Умножение-матриц.-2\"><span class=\"toc-item-num\">2&nbsp;&nbsp;</span>Умножение матриц.</a></span></li><li><span><a href=\"#Алгоритм-преобразования.\" data-toc-modified-id=\"Алгоритм-преобразования.-3\"><span class=\"toc-item-num\">3&nbsp;&nbsp;</span>Алгоритм преобразования.</a></span></li><li><span><a href=\"#Проверка-алгоритма.\" data-toc-modified-id=\"Проверка-алгоритма.-4\"><span class=\"toc-item-num\">4&nbsp;&nbsp;</span>Проверка алгоритма.</a></span></li><li><span><a href=\"#Общий-вывод:\" data-toc-modified-id=\"Общий-вывод:-5\"><span class=\"toc-item-num\">5&nbsp;&nbsp;</span>Общий вывод:</a></span></li><li><span><a href=\"#Чек-лист-проверки\" data-toc-modified-id=\"Чек-лист-проверки-6\"><span class=\"toc-item-num\">6&nbsp;&nbsp;</span>Чек-лист проверки</a></span></li></ul></div>"
   ]
  },
  {
   "cell_type": "markdown",
   "metadata": {},
   "source": [
    "# Защита персональных данных клиентов"
   ]
  },
  {
   "cell_type": "markdown",
   "metadata": {},
   "source": [
    "Вам нужно защитить данные клиентов страховой компании «Хоть потоп». Разработайте такой метод преобразования данных, чтобы по ним было сложно восстановить персональную информацию. Обоснуйте корректность его работы.\n",
    "\n",
    "Нужно защитить данные, чтобы при преобразовании качество моделей машинного обучения не ухудшилось. Подбирать наилучшую модель не требуется."
   ]
  },
  {
   "cell_type": "markdown",
   "metadata": {},
   "source": [
    " **Описание данных:**\n",
    "- Признаки: пол, возраст и зарплата застрахованного, количество членов его семьи.\n",
    "- Целевой признак: количество страховых выплат клиенту за последние 5 лет."
   ]
  },
  {
   "cell_type": "markdown",
   "metadata": {},
   "source": [
    "**План работы:**\n",
    "\n",
    "1. Загрузите и изучите данные.\n",
    "\n",
    "2. Ответьте на вопрос и обоснуйте решение.\n",
    "\n",
    "- Признаки умножают на обратимую матрицу. Изменится ли качество линейной регрессии? (Её можно обучить заново.)   \n",
    "    - a. Изменится. Приведите примеры матриц.  \n",
    "    - b. Не изменится. Укажите, как связаны параметры линейной регрессии в исходной задаче и в преобразованной.  \n",
    "    \n",
    "3. Предложите алгоритм преобразования данных для решения задачи. Обоснуйте, почему качество линейной регрессии не поменяется.\n",
    "\n",
    "4. Запрограммируйте этот алгоритм, применив матричные операции. Проверьте, что качество линейной регрессии из sklearn не отличается до и после преобразования. Примените метрику R2."
   ]
  },
  {
   "cell_type": "markdown",
   "metadata": {},
   "source": [
    "## Загрузка данных."
   ]
  },
  {
   "cell_type": "markdown",
   "metadata": {},
   "source": [
    "Импортируем нужные библиотеки"
   ]
  },
  {
   "cell_type": "code",
   "execution_count": 1,
   "metadata": {},
   "outputs": [],
   "source": [
    "import numpy as np\n",
    "import pandas as pd\n",
    "import seaborn as sns\n",
    "import matplotlib.pyplot as plt\n",
    "\n",
    "from sklearn.metrics import r2_score\n",
    "from sklearn.model_selection import train_test_split\n",
    "from sklearn.linear_model import LinearRegression\n",
    "\n",
    "# увеличим дефолтный размер графиков\n",
    "from pylab import rcParams\n",
    "rcParams[\"figure.figsize\"] = 12, 20"
   ]
  },
  {
   "cell_type": "code",
   "execution_count": 2,
   "metadata": {},
   "outputs": [],
   "source": [
    "# Открываем и сохраняем файл Churn.csv в датафрейм из директории или по ссылке:\n",
    "try:\n",
    "    df_pdc = pd.read_csv('/datasets/insurance.csv')\n",
    "except:\n",
    "    df_pdc = pd.read_csv('https://code.s3.yandex.net/datasets/insurance.csv')"
   ]
  },
  {
   "cell_type": "markdown",
   "metadata": {},
   "source": [
    "### Изучим общую информацию о датафрейме"
   ]
  },
  {
   "cell_type": "code",
   "execution_count": 3,
   "metadata": {},
   "outputs": [
    {
     "name": "stdout",
     "output_type": "stream",
     "text": [
      "<class 'pandas.core.frame.DataFrame'>\n",
      "RangeIndex: 5000 entries, 0 to 4999\n",
      "Data columns (total 5 columns):\n",
      " #   Column             Non-Null Count  Dtype  \n",
      "---  ------             --------------  -----  \n",
      " 0   Пол                5000 non-null   int64  \n",
      " 1   Возраст            5000 non-null   float64\n",
      " 2   Зарплата           5000 non-null   float64\n",
      " 3   Члены семьи        5000 non-null   int64  \n",
      " 4   Страховые выплаты  5000 non-null   int64  \n",
      "dtypes: float64(2), int64(3)\n",
      "memory usage: 195.4 KB\n"
     ]
    }
   ],
   "source": [
    "# Посмотрим полную информацию датафрейма:  \n",
    "df_pdc.info()"
   ]
  },
  {
   "cell_type": "code",
   "execution_count": 4,
   "metadata": {},
   "outputs": [
    {
     "data": {
      "text/html": [
       "<div>\n",
       "<style scoped>\n",
       "    .dataframe tbody tr th:only-of-type {\n",
       "        vertical-align: middle;\n",
       "    }\n",
       "\n",
       "    .dataframe tbody tr th {\n",
       "        vertical-align: top;\n",
       "    }\n",
       "\n",
       "    .dataframe thead th {\n",
       "        text-align: right;\n",
       "    }\n",
       "</style>\n",
       "<table border=\"1\" class=\"dataframe\">\n",
       "  <thead>\n",
       "    <tr style=\"text-align: right;\">\n",
       "      <th></th>\n",
       "      <th>Пол</th>\n",
       "      <th>Возраст</th>\n",
       "      <th>Зарплата</th>\n",
       "      <th>Члены семьи</th>\n",
       "      <th>Страховые выплаты</th>\n",
       "    </tr>\n",
       "  </thead>\n",
       "  <tbody>\n",
       "    <tr>\n",
       "      <th>0</th>\n",
       "      <td>1</td>\n",
       "      <td>41.0</td>\n",
       "      <td>49600.0</td>\n",
       "      <td>1</td>\n",
       "      <td>0</td>\n",
       "    </tr>\n",
       "    <tr>\n",
       "      <th>1</th>\n",
       "      <td>0</td>\n",
       "      <td>46.0</td>\n",
       "      <td>38000.0</td>\n",
       "      <td>1</td>\n",
       "      <td>1</td>\n",
       "    </tr>\n",
       "    <tr>\n",
       "      <th>2</th>\n",
       "      <td>0</td>\n",
       "      <td>29.0</td>\n",
       "      <td>21000.0</td>\n",
       "      <td>0</td>\n",
       "      <td>0</td>\n",
       "    </tr>\n",
       "    <tr>\n",
       "      <th>3</th>\n",
       "      <td>0</td>\n",
       "      <td>21.0</td>\n",
       "      <td>41700.0</td>\n",
       "      <td>2</td>\n",
       "      <td>0</td>\n",
       "    </tr>\n",
       "    <tr>\n",
       "      <th>4</th>\n",
       "      <td>1</td>\n",
       "      <td>28.0</td>\n",
       "      <td>26100.0</td>\n",
       "      <td>0</td>\n",
       "      <td>0</td>\n",
       "    </tr>\n",
       "  </tbody>\n",
       "</table>\n",
       "</div>"
      ],
      "text/plain": [
       "   Пол  Возраст  Зарплата  Члены семьи  Страховые выплаты\n",
       "0    1     41.0   49600.0            1                  0\n",
       "1    0     46.0   38000.0            1                  1\n",
       "2    0     29.0   21000.0            0                  0\n",
       "3    0     21.0   41700.0            2                  0\n",
       "4    1     28.0   26100.0            0                  0"
      ]
     },
     "execution_count": 4,
     "metadata": {},
     "output_type": "execute_result"
    }
   ],
   "source": [
    "# Выведем первые пять строк датафрейма df_pdc:\n",
    "df_pdc.head()"
   ]
  },
  {
   "cell_type": "markdown",
   "metadata": {},
   "source": [
    "***Вывод:***  \n",
    "- В датасете 5 столбцов и 4999 записей.\n",
    "- Пропусков нет.\n",
    "- Привести названия стобцов к стандарту PEP8."
   ]
  },
  {
   "cell_type": "markdown",
   "metadata": {},
   "source": [
    "**Посмотрим на распределение данных:**"
   ]
  },
  {
   "cell_type": "code",
   "execution_count": 5,
   "metadata": {
    "scrolled": false
   },
   "outputs": [
    {
     "data": {
      "image/png": "[encoded data removed]",
      "text/plain": [
       "<Figure size 360x360 with 1 Axes>"
      ]
     },
     "metadata": {
      "needs_background": "light"
     },
     "output_type": "display_data"
    },
    {
     "data": {
      "image/png": "[encoded data removed]",
      "text/plain": [
       "<Figure size 360x360 with 1 Axes>"
      ]
     },
     "metadata": {
      "needs_background": "light"
     },
     "output_type": "display_data"
    },
    {
     "data": {
      "image/png": "[encoded data removed]",
      "text/plain": [
       "<Figure size 360x360 with 1 Axes>"
      ]
     },
     "metadata": {
      "needs_background": "light"
     },
     "output_type": "display_data"
    },
    {
     "data": {
      "image/png": "[encoded data removed]",
      "text/plain": [
       "<Figure size 360x360 with 1 Axes>"
      ]
     },
     "metadata": {
      "needs_background": "light"
     },
     "output_type": "display_data"
    },
    {
     "data": {
      "image/png": "[encoded data removed]",
      "text/plain": [
       "<Figure size 360x360 with 1 Axes>"
      ]
     },
     "metadata": {
      "needs_background": "light"
     },
     "output_type": "display_data"
    }
   ],
   "source": [
    "for column in ['Пол','Возраст', 'Зарплата', 'Члены семьи','Страховые выплаты']:\n",
    "    sns.displot(df_pdc[column],kind='hist',rug=True,kde=True);  "
   ]
  },
  {
   "cell_type": "code",
   "execution_count": 6,
   "metadata": {},
   "outputs": [
    {
     "data": {
      "text/plain": [
       "0    4436\n",
       "1     423\n",
       "2     115\n",
       "3      18\n",
       "4       7\n",
       "5       1\n",
       "Name: Страховые выплаты, dtype: int64"
      ]
     },
     "execution_count": 6,
     "metadata": {},
     "output_type": "execute_result"
    }
   ],
   "source": [
    "df_pdc['Страховые выплаты'].value_counts()"
   ]
  },
  {
   "cell_type": "code",
   "execution_count": 7,
   "metadata": {},
   "outputs": [
    {
     "data": {
      "text/html": [
       "<div>\n",
       "<style scoped>\n",
       "    .dataframe tbody tr th:only-of-type {\n",
       "        vertical-align: middle;\n",
       "    }\n",
       "\n",
       "    .dataframe tbody tr th {\n",
       "        vertical-align: top;\n",
       "    }\n",
       "\n",
       "    .dataframe thead th {\n",
       "        text-align: right;\n",
       "    }\n",
       "</style>\n",
       "<table border=\"1\" class=\"dataframe\">\n",
       "  <thead>\n",
       "    <tr style=\"text-align: right;\">\n",
       "      <th></th>\n",
       "      <th>Пол</th>\n",
       "      <th>Возраст</th>\n",
       "      <th>Зарплата</th>\n",
       "      <th>Члены семьи</th>\n",
       "      <th>Страховые выплаты</th>\n",
       "    </tr>\n",
       "  </thead>\n",
       "  <tbody>\n",
       "    <tr>\n",
       "      <th>count</th>\n",
       "      <td>5000.000000</td>\n",
       "      <td>5000.000000</td>\n",
       "      <td>5000.000000</td>\n",
       "      <td>5000.000000</td>\n",
       "      <td>5000.000000</td>\n",
       "    </tr>\n",
       "    <tr>\n",
       "      <th>mean</th>\n",
       "      <td>0.499000</td>\n",
       "      <td>30.952800</td>\n",
       "      <td>39916.360000</td>\n",
       "      <td>1.194200</td>\n",
       "      <td>0.148000</td>\n",
       "    </tr>\n",
       "    <tr>\n",
       "      <th>std</th>\n",
       "      <td>0.500049</td>\n",
       "      <td>8.440807</td>\n",
       "      <td>9900.083569</td>\n",
       "      <td>1.091387</td>\n",
       "      <td>0.463183</td>\n",
       "    </tr>\n",
       "    <tr>\n",
       "      <th>min</th>\n",
       "      <td>0.000000</td>\n",
       "      <td>18.000000</td>\n",
       "      <td>5300.000000</td>\n",
       "      <td>0.000000</td>\n",
       "      <td>0.000000</td>\n",
       "    </tr>\n",
       "    <tr>\n",
       "      <th>25%</th>\n",
       "      <td>0.000000</td>\n",
       "      <td>24.000000</td>\n",
       "      <td>33300.000000</td>\n",
       "      <td>0.000000</td>\n",
       "      <td>0.000000</td>\n",
       "    </tr>\n",
       "    <tr>\n",
       "      <th>50%</th>\n",
       "      <td>0.000000</td>\n",
       "      <td>30.000000</td>\n",
       "      <td>40200.000000</td>\n",
       "      <td>1.000000</td>\n",
       "      <td>0.000000</td>\n",
       "    </tr>\n",
       "    <tr>\n",
       "      <th>75%</th>\n",
       "      <td>1.000000</td>\n",
       "      <td>37.000000</td>\n",
       "      <td>46600.000000</td>\n",
       "      <td>2.000000</td>\n",
       "      <td>0.000000</td>\n",
       "    </tr>\n",
       "    <tr>\n",
       "      <th>max</th>\n",
       "      <td>1.000000</td>\n",
       "      <td>65.000000</td>\n",
       "      <td>79000.000000</td>\n",
       "      <td>6.000000</td>\n",
       "      <td>5.000000</td>\n",
       "    </tr>\n",
       "  </tbody>\n",
       "</table>\n",
       "</div>"
      ],
      "text/plain": [
       "               Пол      Возраст      Зарплата  Члены семьи  Страховые выплаты\n",
       "count  5000.000000  5000.000000   5000.000000  5000.000000        5000.000000\n",
       "mean      0.499000    30.952800  39916.360000     1.194200           0.148000\n",
       "std       0.500049     8.440807   9900.083569     1.091387           0.463183\n",
       "min       0.000000    18.000000   5300.000000     0.000000           0.000000\n",
       "25%       0.000000    24.000000  33300.000000     0.000000           0.000000\n",
       "50%       0.000000    30.000000  40200.000000     1.000000           0.000000\n",
       "75%       1.000000    37.000000  46600.000000     2.000000           0.000000\n",
       "max       1.000000    65.000000  79000.000000     6.000000           5.000000"
      ]
     },
     "execution_count": 7,
     "metadata": {},
     "output_type": "execute_result"
    }
   ],
   "source": [
    "df_pdc.describe()"
   ]
  },
  {
   "cell_type": "markdown",
   "metadata": {},
   "source": [
    "**Посмотрим на корреляцию данных**"
   ]
  },
  {
   "cell_type": "code",
   "execution_count": 8,
   "metadata": {
    "scrolled": false
   },
   "outputs": [
    {
     "data": {
      "image/png": "[encoded data removed]",
      "text/plain": [
       "<Figure size 762.375x720 with 14 Axes>"
      ]
     },
     "metadata": {
      "needs_background": "light"
     },
     "output_type": "display_data"
    }
   ],
   "source": [
    "sns.pairplot(df_pdc.sample(frac=0.1, random_state=314159), hue='Пол', corner=True, kind='kde')\n",
    "plt.show()"
   ]
  },
  {
   "cell_type": "code",
   "execution_count": 9,
   "metadata": {},
   "outputs": [
    {
     "data": {
      "text/html": [
       "<div>\n",
       "<style scoped>\n",
       "    .dataframe tbody tr th:only-of-type {\n",
       "        vertical-align: middle;\n",
       "    }\n",
       "\n",
       "    .dataframe tbody tr th {\n",
       "        vertical-align: top;\n",
       "    }\n",
       "\n",
       "    .dataframe thead th {\n",
       "        text-align: right;\n",
       "    }\n",
       "</style>\n",
       "<table border=\"1\" class=\"dataframe\">\n",
       "  <thead>\n",
       "    <tr style=\"text-align: right;\">\n",
       "      <th></th>\n",
       "      <th>Пол</th>\n",
       "      <th>Возраст</th>\n",
       "      <th>Зарплата</th>\n",
       "      <th>Члены семьи</th>\n",
       "      <th>Страховые выплаты</th>\n",
       "    </tr>\n",
       "  </thead>\n",
       "  <tbody>\n",
       "    <tr>\n",
       "      <th>Пол</th>\n",
       "      <td>1.000000</td>\n",
       "      <td>0.002074</td>\n",
       "      <td>0.014910</td>\n",
       "      <td>-0.008991</td>\n",
       "      <td>0.010140</td>\n",
       "    </tr>\n",
       "    <tr>\n",
       "      <th>Возраст</th>\n",
       "      <td>0.002074</td>\n",
       "      <td>1.000000</td>\n",
       "      <td>-0.019093</td>\n",
       "      <td>-0.006692</td>\n",
       "      <td>0.651030</td>\n",
       "    </tr>\n",
       "    <tr>\n",
       "      <th>Зарплата</th>\n",
       "      <td>0.014910</td>\n",
       "      <td>-0.019093</td>\n",
       "      <td>1.000000</td>\n",
       "      <td>-0.030296</td>\n",
       "      <td>-0.014963</td>\n",
       "    </tr>\n",
       "    <tr>\n",
       "      <th>Члены семьи</th>\n",
       "      <td>-0.008991</td>\n",
       "      <td>-0.006692</td>\n",
       "      <td>-0.030296</td>\n",
       "      <td>1.000000</td>\n",
       "      <td>-0.036290</td>\n",
       "    </tr>\n",
       "    <tr>\n",
       "      <th>Страховые выплаты</th>\n",
       "      <td>0.010140</td>\n",
       "      <td>0.651030</td>\n",
       "      <td>-0.014963</td>\n",
       "      <td>-0.036290</td>\n",
       "      <td>1.000000</td>\n",
       "    </tr>\n",
       "  </tbody>\n",
       "</table>\n",
       "</div>"
      ],
      "text/plain": [
       "                        Пол   Возраст  Зарплата  Члены семьи  \\\n",
       "Пол                1.000000  0.002074  0.014910    -0.008991   \n",
       "Возраст            0.002074  1.000000 -0.019093    -0.006692   \n",
       "Зарплата           0.014910 -0.019093  1.000000    -0.030296   \n",
       "Члены семьи       -0.008991 -0.006692 -0.030296     1.000000   \n",
       "Страховые выплаты  0.010140  0.651030 -0.014963    -0.036290   \n",
       "\n",
       "                   Страховые выплаты  \n",
       "Пол                         0.010140  \n",
       "Возраст                     0.651030  \n",
       "Зарплата                   -0.014963  \n",
       "Члены семьи                -0.036290  \n",
       "Страховые выплаты           1.000000  "
      ]
     },
     "execution_count": 9,
     "metadata": {},
     "output_type": "execute_result"
    }
   ],
   "source": [
    "df_pdc.corr()"
   ]
  },
  {
   "cell_type": "markdown",
   "metadata": {},
   "source": [
    "***Вывод:***  \n",
    "- Визуально выбросов не наблюдается, пропусков тоже\n",
    "- Пол : Примерно 50/50 мужчин и женщин\n",
    "- Медианное значение возрасата 30 лет, среднее 31. Распределение скошено влево. Границы возраста застрахованных приводят к выводу, что компания не занимается страхованием лиц, чей возраст составляет менее 18 и старше 65 лет.\n",
    "- По зарплате распределение близко к нормальному. Скошено вправо - медиана составляет чуть более 40 000 рублей. В целом, в компании скорее представлен средний класс, чем слишком бедные или слишком богатые граждане.\n",
    "- В семье в среднем 1,1 член семьи, но медианное значение равно 1. \n",
    "- Страховые выплаты. 4436 человек не получали никогда страховых выплат, 423 - одни раз, 115 -чел. 2 раза и тд. Один клиент получил выплаты целых 5 раз\n",
    "- Высокая корреляция наблюдается между возрастом и страховыми выплатами (0.65). Наименьшая зависимость между полом клиента и страховой выплатой."
   ]
  },
  {
   "cell_type": "markdown",
   "metadata": {},
   "source": [
    "### Предобработка данных:"
   ]
  },
  {
   "cell_type": "code",
   "execution_count": 10,
   "metadata": {},
   "outputs": [],
   "source": [
    "# Проверим себя и напишем функцию для определения уникальных значений:\n",
    "def show_rows(data_frame):\n",
    "    for column in data_frame.columns:\n",
    "        print('Уникальные значения столбца', column)\n",
    "        print(data_frame[column].unique())\n",
    "    print('Количество пропусков в столбце')    \n",
    "    print(data_frame.isna().mean())"
   ]
  },
  {
   "cell_type": "code",
   "execution_count": 11,
   "metadata": {},
   "outputs": [
    {
     "name": "stdout",
     "output_type": "stream",
     "text": [
      "Уникальные значения столбца Пол\n",
      "[1 0]\n",
      "Уникальные значения столбца Возраст\n",
      "[41. 46. 29. 21. 28. 43. 39. 25. 36. 32. 38. 23. 40. 34. 26. 42. 27. 33.\n",
      " 47. 30. 19. 31. 22. 20. 24. 18. 37. 48. 45. 44. 52. 49. 35. 56. 65. 55.\n",
      " 57. 54. 50. 53. 51. 58. 59. 60. 61. 62.]\n",
      "Уникальные значения столбца Зарплата\n",
      "[49600. 38000. 21000. 41700. 26100. 41000. 39700. 38600. 49700. 51700.\n",
      " 36600. 29300. 39500. 55000. 43700. 23300. 48900. 33200. 36900. 43500.\n",
      " 36100. 26600. 48700. 40400. 38400. 34600. 34800. 36800. 42200. 46300.\n",
      " 30300. 51000. 28100. 64800. 30400. 45300. 38300. 49500. 19400. 40200.\n",
      " 31700. 69200. 33100. 31600. 34500. 38700. 39600. 42400. 34900. 30500.\n",
      " 24200. 49900. 14300. 47000. 44800. 43800. 42700. 35400. 57200. 29600.\n",
      " 37400. 48100. 33700. 61800. 39400. 15600. 52600. 37600. 52500. 32700.\n",
      " 51600. 60900. 41800. 47400. 26500. 45900. 35700. 34300. 26700. 25700.\n",
      " 33300. 31100. 31500. 42100. 37300. 42500. 27300. 46800. 33500. 44300.\n",
      " 41600. 53900. 40100. 44600. 45000. 32000. 38200. 33000. 38500. 51800.\n",
      " 33800. 46400. 43200. 31800. 50200. 35100. 30700. 45800. 49300. 42800.\n",
      " 33600. 50300. 34000. 36400. 44900. 43600. 54600. 52800. 29700. 39000.\n",
      " 44100. 31900. 37700. 35200. 43100. 51300. 47500. 40800. 26800. 64900.\n",
      " 35900. 31200. 39900. 43300. 33900. 40700. 44700. 53400. 30600. 56000.\n",
      " 35600. 55200. 40600. 48300. 50800. 41200. 44200. 44400. 40500. 39800.\n",
      " 16600. 48400. 25100. 23100. 32100. 31000. 42900. 46700. 26000. 55900.\n",
      " 52000. 41500. 49400. 60300. 45600. 49000. 37500. 21900. 45100. 47900.\n",
      " 54300. 32400. 41300. 44500. 23200. 37900. 48000. 52100. 45700. 29900.\n",
      " 42600. 45200. 36000. 46500. 23800. 30200. 24400. 32800. 29000. 43400.\n",
      " 51500. 61700. 45400. 50700. 36200. 41900. 27900. 47200. 48800. 55100.\n",
      " 48200. 35500. 35000. 43900. 40000. 22000. 40300. 36300. 49800. 25600.\n",
      " 42300. 54900. 25500. 32900. 36700. 38900. 24700. 28800. 22900. 47300.\n",
      " 14500. 28700. 44000. 34100. 53000. 59300. 28500. 47100. 41400. 58900.\n",
      " 17500. 54200. 43000. 29800. 20000. 13800. 27500. 67700. 28000. 37100.\n",
      "  8900. 14600. 56200. 38800. 27700. 50500. 58400. 34700. 34400. 49100.\n",
      " 50900. 28200. 61500. 32500. 25900.  9800. 28300. 41100. 62000. 32600.\n",
      " 37200. 53800. 24000. 53600. 54800. 59600. 20200. 21700. 29200. 38100.\n",
      " 20700. 32300. 21200. 62100. 54000. 24500. 51900. 47800. 56100. 55300.\n",
      " 58100. 28900. 39100. 58000. 27200. 24600. 30100. 57100. 60100. 22200.\n",
      " 47700. 24900. 37800. 52700. 34200. 18700. 42000. 26300. 22600. 30900.\n",
      " 35800. 30800. 51100. 53300. 46200. 24100. 54700. 51200. 62300. 51400.\n",
      " 40900. 23400. 35300. 55800. 33400. 21300. 30000. 56700. 46900.  5300.\n",
      " 39200. 57500. 31300. 53700. 21600. 50000. 36500. 16400. 15900. 65100.\n",
      " 59900. 63200. 26200. 61200. 48500. 32200. 29100. 50100. 22700. 28600.\n",
      " 23500. 23700. 19600. 17800. 50600. 57900. 22500. 22100. 58300. 64100.\n",
      " 25000. 60400. 59100. 37000. 62400. 29500. 25800. 25400. 26900. 21500.\n",
      " 52200. 46600. 57300. 46100. 19300. 18900. 31400. 28400. 29400. 17600.\n",
      " 13900. 52400. 11300. 46000. 60500. 58700. 58200. 24800. 63700. 60600.\n",
      " 20400. 26400. 55600. 57000. 45500. 48600. 57600. 52900. 62800. 17000.\n",
      " 56500. 52300. 18400. 63300. 12900. 27000. 55700. 39300. 27800. 18300.\n",
      " 56300. 59800. 24300. 14400. 13400. 17900. 47600. 54500. 54400. 23900.\n",
      " 13000. 19900. 55400. 22800. 61000. 57400. 23000. 20500. 53200. 18100.\n",
      " 25300. 59500. 18200. 50400. 21100. 20900. 27400. 17300. 60700. 70600.\n",
      " 17700. 19700. 49200. 63100. 59200. 14700. 53100. 21800. 68000. 16500.\n",
      " 71400. 10000. 55500. 54100. 56400. 20600. 66300. 18800. 11000. 66100.\n",
      " 27100. 57800. 53500. 19200. 58500. 64000. 63600. 23600. 25200. 19100.\n",
      " 18600. 57700. 62700. 56600. 21400. 58800. 68400. 17100. 13300. 68500.\n",
      " 56900. 64400. 27600. 67200. 16200. 58600. 62200. 16000. 79000. 22300.\n",
      " 11200. 71600. 61300. 70500. 67100. 59000. 13500. 16700. 15700. 60000.\n",
      " 17400. 63400. 61900. 65200. 62600. 14100. 20100. 63800. 15100. 70000.\n",
      " 60200. 20300. 65900. 15200. 63500. 13200. 68900. 12200.  6000. 74800.\n",
      " 59700. 10800. 19000. 10600. 69400. 15000. 75200. 62500. 16300. 20800.\n",
      "  7400. 65300. 61400. 56800.]\n",
      "Уникальные значения столбца Члены семьи\n",
      "[1 0 2 4 3 5 6]\n",
      "Уникальные значения столбца Страховые выплаты\n",
      "[0 1 2 3 5 4]\n",
      "Количество пропусков в столбце\n",
      "Пол                  0.0\n",
      "Возраст              0.0\n",
      "Зарплата             0.0\n",
      "Члены семьи          0.0\n",
      "Страховые выплаты    0.0\n",
      "dtype: float64\n"
     ]
    }
   ],
   "source": [
    "show_rows(df_pdc)"
   ]
  },
  {
   "cell_type": "markdown",
   "metadata": {},
   "source": [
    "В столбцах `Возраст` и `Зарплата` тип данных float, хотя значения целые, так что поменяем их для уменьшения памяти и быстродействия программы."
   ]
  },
  {
   "cell_type": "code",
   "execution_count": 12,
   "metadata": {},
   "outputs": [
    {
     "name": "stdout",
     "output_type": "stream",
     "text": [
      "Кол-во дубликатов - 153\n"
     ]
    }
   ],
   "source": [
    "# Проверим на дубликаты:\n",
    "print('Кол-во дубликатов -', df_pdc.duplicated().sum())"
   ]
  },
  {
   "cell_type": "code",
   "execution_count": 13,
   "metadata": {},
   "outputs": [],
   "source": [
    "# Изменим тип данных в столбцах Пол,Возраст, Зарплата и Члены семьи на int:\n",
    "df_pdc['Пол'] = df_pdc['Пол'].astype('int8')\n",
    "df_pdc['Возраст'] = df_pdc['Возраст'].astype('int8')\n",
    "df_pdc['Зарплата'] = df_pdc['Зарплата'].astype('int')\n",
    "df_pdc['Члены семьи'] = df_pdc['Члены семьи'].astype('int8')"
   ]
  },
  {
   "cell_type": "code",
   "execution_count": 14,
   "metadata": {},
   "outputs": [
    {
     "name": "stdout",
     "output_type": "stream",
     "text": [
      "<class 'pandas.core.frame.DataFrame'>\n",
      "RangeIndex: 5000 entries, 0 to 4999\n",
      "Data columns (total 5 columns):\n",
      " #   Column             Non-Null Count  Dtype\n",
      "---  ------             --------------  -----\n",
      " 0   Пол                5000 non-null   int8 \n",
      " 1   Возраст            5000 non-null   int8 \n",
      " 2   Зарплата           5000 non-null   int64\n",
      " 3   Члены семьи        5000 non-null   int8 \n",
      " 4   Страховые выплаты  5000 non-null   int64\n",
      "dtypes: int64(2), int8(3)\n",
      "memory usage: 92.9 KB\n"
     ]
    }
   ],
   "source": [
    "df_pdc.info()"
   ]
  },
  {
   "cell_type": "code",
   "execution_count": 15,
   "metadata": {},
   "outputs": [],
   "source": [
    "# Приводим название столбцов к стандарту PEP8:\n",
    "df_pdc.rename(columns={\n",
    "    'Пол':'gender',\n",
    "    'Возраст':'age',\n",
    "    'Зарплата':'salary',\n",
    "    'Члены семьи':'family',\n",
    "    'Страховые выплаты':'payments'\n",
    "}, inplace=True)"
   ]
  },
  {
   "cell_type": "code",
   "execution_count": 16,
   "metadata": {},
   "outputs": [
    {
     "data": {
      "text/html": [
       "<div>\n",
       "<style scoped>\n",
       "    .dataframe tbody tr th:only-of-type {\n",
       "        vertical-align: middle;\n",
       "    }\n",
       "\n",
       "    .dataframe tbody tr th {\n",
       "        vertical-align: top;\n",
       "    }\n",
       "\n",
       "    .dataframe thead th {\n",
       "        text-align: right;\n",
       "    }\n",
       "</style>\n",
       "<table border=\"1\" class=\"dataframe\">\n",
       "  <thead>\n",
       "    <tr style=\"text-align: right;\">\n",
       "      <th></th>\n",
       "      <th>gender</th>\n",
       "      <th>age</th>\n",
       "      <th>salary</th>\n",
       "      <th>family</th>\n",
       "      <th>payments</th>\n",
       "    </tr>\n",
       "  </thead>\n",
       "  <tbody>\n",
       "    <tr>\n",
       "      <th>0</th>\n",
       "      <td>1</td>\n",
       "      <td>41</td>\n",
       "      <td>49600</td>\n",
       "      <td>1</td>\n",
       "      <td>0</td>\n",
       "    </tr>\n",
       "    <tr>\n",
       "      <th>1</th>\n",
       "      <td>0</td>\n",
       "      <td>46</td>\n",
       "      <td>38000</td>\n",
       "      <td>1</td>\n",
       "      <td>1</td>\n",
       "    </tr>\n",
       "    <tr>\n",
       "      <th>2</th>\n",
       "      <td>0</td>\n",
       "      <td>29</td>\n",
       "      <td>21000</td>\n",
       "      <td>0</td>\n",
       "      <td>0</td>\n",
       "    </tr>\n",
       "    <tr>\n",
       "      <th>3</th>\n",
       "      <td>0</td>\n",
       "      <td>21</td>\n",
       "      <td>41700</td>\n",
       "      <td>2</td>\n",
       "      <td>0</td>\n",
       "    </tr>\n",
       "    <tr>\n",
       "      <th>4</th>\n",
       "      <td>1</td>\n",
       "      <td>28</td>\n",
       "      <td>26100</td>\n",
       "      <td>0</td>\n",
       "      <td>0</td>\n",
       "    </tr>\n",
       "  </tbody>\n",
       "</table>\n",
       "</div>"
      ],
      "text/plain": [
       "   gender  age  salary  family  payments\n",
       "0       1   41   49600       1         0\n",
       "1       0   46   38000       1         1\n",
       "2       0   29   21000       0         0\n",
       "3       0   21   41700       2         0\n",
       "4       1   28   26100       0         0"
      ]
     },
     "execution_count": 16,
     "metadata": {},
     "output_type": "execute_result"
    }
   ],
   "source": [
    "# Проверяем:\n",
    "df_pdc.head()"
   ]
  },
  {
   "cell_type": "markdown",
   "metadata": {},
   "source": [
    "***Вывод:***  \n",
    "- В датасете 5 столбцов и 4999 записей.\n",
    "- Визуально выбросов не наблюдается, пропусков тоже\n",
    "- Найдено 153 дубликата, но т.к. нет уникального идентификатора, количество повторов небольшое, а чтобы убедиться что это действительно дубликаты данных мало - оставим без изменений.\n",
    "- Пол : Примерно 50/50 мужчин и женщин\n",
    "- Медианное значение возраста 30 лет, среднее 31. Распределение скошено влево. Границы возраста застрахованных приводят к выводу, что компания не занимается страхованием лиц, чей возраст составляет менее 18 и старше 65 лет.\n",
    "- По зарплате распределение близко к нормальному. Скошено вправо - медиана составляет чуть более 40 000 рублей. В целом, в компании скорее представлен средний класс, чем слишком бедные или слишком богатые граждане.\n",
    "- В семье в среднем 1,1 член семьи, но медианное значение равно 1. \n",
    "- Страховые выплаты: 4436 человек не получали никогда страховых выплат, 423 - одни раз, 115 -чел. 2 раза и тд. Один клиент получил выплаты целых 5 раз\n",
    "- Высокая корреляция наблюдается между возрастом и страховыми выплатами (0.65). Наименьшая зависимость между полом клиента и страховой выплатой.\n",
    "- Изменили тип данных в столбцах `Пол, Возраст, Зарплата и Члены семьи` на int, сократив размер датасета в два раза.\n",
    "- Привели названия столбцов к стандарту PEP8."
   ]
  },
  {
   "cell_type": "markdown",
   "metadata": {},
   "source": [
    "## Умножение матриц."
   ]
  },
  {
   "cell_type": "markdown",
   "metadata": {},
   "source": [
    "**Вопрос:** Признаки умножают на обратимую матрицу. Изменится ли качество линейной регрессии? (Её можно обучить заново.)  \n",
    "**Ответ:** не изменится\n",
    "\n",
    "**Обоснование:**"
   ]
  },
  {
   "cell_type": "markdown",
   "metadata": {},
   "source": [
    "Обозначения:\n",
    "\n",
    "- $X$ — матрица признаков (нулевой столбец состоит из единиц)\n",
    "\n",
    "- $y$ — вектор целевого признака\n",
    "\n",
    "- $P$ — матрица, на которую умножаются признаки\n",
    "\n",
    "- $w$ — вектор весов линейной регрессии (нулевой элемент равен сдвигу)"
   ]
  },
  {
   "cell_type": "markdown",
   "metadata": {},
   "source": [
    "Предсказания:\n",
    "\n",
    "$$\n",
    "a = Xw\n",
    "$$\n",
    "\n",
    "Функция минимизации потерь для задачи обучения:\n",
    "\n",
    "$$\n",
    "w = \\arg\\min_w MSE(Xw, y)\n",
    "$$\n",
    "\n",
    "Функция argmin() находит минимум и возвращает, при каком аргументе он был достигнут.\n",
    "\n",
    "Формула обучения весов модели:\n",
    "\n",
    "$$\n",
    "w = (X^T X)^{-1} X^T y \\tag{1}\n",
    "$$\n",
    "\n",
    "Используем свойства матричных операций:\n",
    "\n",
    "$$\n",
    "(A B)^T= B^T A^T \\tag{2}\n",
    "$$\n",
    "\n",
    "$$\n",
    "(A B)^{-1}= B^{-1} A^{-1} \\tag{3}\n",
    "$$\n",
    "\n",
    "Домнажаем матрицу признаков ***X*** на матрицу шифрования ***P*** и подставим результат в формулу обучения (1):\n",
    "\n",
    "$$\n",
    "w_{new} = ((X P)^T (X P))^{-1} (X P)^T y\n",
    "$$\n",
    "\n",
    "Применим свойство (2) и раскроем скобки:\n",
    "\n",
    "$$\n",
    "w_{new} = (P^T X^T X P)^{-1} P^T X^T y\n",
    "$$\n",
    "\n",
    "Применим свойство (3) и раскроем скобки:\n",
    "\n",
    "$$\n",
    "w_{new} = P^{-1} (X^T X)^{-1} (P^T)^{-1} P^T X^T y\n",
    "$$\n",
    "\n",
    "Можнo заметить, что $(P^T)^{-1} P^T = E$, следовательно формула примет вид:\n",
    "\n",
    "$$\n",
    "w_{new} = P^{-1} (X^T X)^{-1} X^T y\n",
    "$$\n",
    "\n",
    "Используем (1), чтобы свернуть формулу и получим следующее:\n",
    "\n",
    "$$\n",
    "w_{new} = P^{-1} w\n",
    "$$\n",
    "\n",
    "Следовательно, так как веса линейной регрессии связаны, то качество модели, определяемое коэффициентом детерминации $R2$\n",
    ", не изменится. Модель будет давать одинаковые предсказания.  \n",
    "\n",
    "Подставим в формулу предсказаний $a = Xw$  матрицу $X_{new} = XP$\n",
    " и признаки $w_{new}$:\n",
    " \n",
    " $$\n",
    " a_{new}=XPw_{new}= XPP^{-1} w = Xw = a\n",
    " $$"
   ]
  },
  {
   "cell_type": "markdown",
   "metadata": {},
   "source": [
    "## Алгоритм преобразования."
   ]
  },
  {
   "cell_type": "markdown",
   "metadata": {},
   "source": [
    "**Алгоритм**\n",
    "\n",
    "Алгоритм шифрования состоит из обычного линейного преобразования. Оригинальный массив данных с признаками $X$ размерности $(m x n)$ мы домножаем на случайную ~~квадратную~~ обратимую матрицу $P$ размерности $(n x n)$, которую подбираем с помощью генератора случайных чисел:\n",
    "\n",
    "$$\n",
    "X'=XP\n",
    "$$\n"
   ]
  },
  {
   "cell_type": "markdown",
   "metadata": {},
   "source": [
    "**Обоснование**\n",
    "\n",
    "Как уже было доказано выше, такое преобразование признаков не влияет на качество предсказания целевого признака. Далее, как обычно, разделяем данные на обучающую и тестовую выборки и обучаем модель на тренировочной выборке. Задача обучения остаётся такой же, признаки изменены, но значения целевого признака остались неизменными:\n",
    "\n",
    "$$\n",
    "w' = \\arg\\min_{w'} MSE(X'w', y)\n",
    "$$\n",
    "\n",
    "Формула обучения остаётся подобной, однако слегка усложняется дополнительной матрицей:\n",
    "\n",
    "$$\n",
    "w' = ((XP)^T (XP))^{-1} (XP)^T y\n",
    "$$\n",
    "\n",
    "После этого получим предсказания:\n",
    "\n",
    "$$\n",
    "a'= X'w' = (XP)((XP)^T (XP))^{-1} (XP)^T y\n",
    "$$\n",
    "\n",
    "И оценим качество предсказаний с помощью функции MSE:\n",
    "\n",
    "$$\n",
    "MSE(a',y)\n",
    "$$\n",
    "\n",
    "Аналогичные действия произведем как с тестовой выборкой зашифрованных данных, так и для обычных, незашифрованных данных, после чего сравним результаты для зашифрованных и незашифрованных данных. С учётом доказательства, полученного выше, результаты для зашифрованной и незашифрованной выборок должны быть идентичными.\n",
    "\n",
    "Кроме того, мы можем восстановить зашифрованные данные с помощью умножения преобразованной матрицы на матрицу $P^{-1}$, обратную $P$:\n",
    "\n",
    "$$\n",
    "X'P^{-1}= XPP^{-1}= X\n",
    "$$"
   ]
  },
  {
   "cell_type": "markdown",
   "metadata": {},
   "source": [
    "Таким образом, на следующем шаге нам следует:\n",
    "\n",
    "1. Создать случайную матрицу $P$ размерности $(n x n)$ для матрицы $X$ размерности $(m x n)$.\n",
    ".\n",
    "2. Сразу проверяем полученную матрицу на обратимость.\n",
    "    ~~- если матрица обратима, идём дальше.\n",
    "    ~- если матрица необратима, генерируем новые матрицы, до тех пор пока не получим обратимую матрицу или пока не достигнем лимита итераций.~~\n",
    "3. Сохранаяем пару матриц $P,P^{-1}$, как ключи для шифровки/ дешифровки.\n",
    "4. Преобразовываем данные с помощью умножения матрицы $X$ на матрицу $P$\n",
    "5. Проверяем способность восстановить данные с помощью умножения на матрицу $P^{-1}$\n",
    "6. Сравниваем метрики для линейной регрессии на оригинальных и преобразованных данных.\n",
    "7. Вывод."
   ]
  },
  {
   "cell_type": "markdown",
   "metadata": {},
   "source": [
    "## Проверка алгоритма."
   ]
  },
  {
   "cell_type": "markdown",
   "metadata": {},
   "source": [
    "Проверим, что качество линейной регрессии из sklearn не отличается до и после преобразования. Примените метрику R2"
   ]
  },
  {
   "cell_type": "code",
   "execution_count": 17,
   "metadata": {},
   "outputs": [
    {
     "data": {
      "text/plain": [
       "((5000, 4), (5000,))"
      ]
     },
     "execution_count": 17,
     "metadata": {},
     "output_type": "execute_result"
    }
   ],
   "source": [
    "# Выделяем признаки и целевой признак:\n",
    "features = df_pdc.drop('payments',axis=1)\n",
    "target = df_pdc['payments']\n",
    "\n",
    "features.shape, target.shape"
   ]
  },
  {
   "cell_type": "code",
   "execution_count": 18,
   "metadata": {},
   "outputs": [],
   "source": [
    "# Разбиваем на обучающую и тестовую выборки:\n",
    "features_train, features_test, target_train, target_test = train_test_split(features,\n",
    "                                                                            target,\n",
    "                                                                            test_size=0.25,\n",
    "                                                                            random_state=314159)"
   ]
  },
  {
   "cell_type": "code",
   "execution_count": 19,
   "metadata": {},
   "outputs": [
    {
     "name": "stdout",
     "output_type": "stream",
     "text": [
      "Значение метрики R2 для линейной регрессии после преобразования: 0.3831841050431003\n"
     ]
    }
   ],
   "source": [
    "# Модель с исходными признаками без преобразования:\n",
    "model = LinearRegression()\n",
    "model.fit(features_train, target_train)\n",
    "R2_LR_origin_data = r2_score(target_test, model.predict(features_test))\n",
    "print('Значение метрики R2 для линейной регрессии после преобразования:', R2_LR_origin_data)"
   ]
  },
  {
   "cell_type": "code",
   "execution_count": 20,
   "metadata": {},
   "outputs": [],
   "source": [
    "# Выведем саму матрицу:\n",
    "#rand_matrix = np.random.randint(5, size=(4, 4))\n",
    "#rand_matrix"
   ]
  },
  {
   "cell_type": "code",
   "execution_count": 21,
   "metadata": {},
   "outputs": [],
   "source": [
    "# Проверка обратимости матрицы:\n",
    "#inv_rand_matrix = np.linalg.inv(rand_matrix)\n",
    "#inv_rand_matrix"
   ]
  },
  {
   "cell_type": "markdown",
   "metadata": {},
   "source": [
    "Функция гарантированного создания обратимой матрицы:"
   ]
  },
  {
   "cell_type": "code",
   "execution_count": 22,
   "metadata": {},
   "outputs": [
    {
     "name": "stdout",
     "output_type": "stream",
     "text": [
      "\n",
      "Матрица rand_matrix:\n",
      " [[ 0.9616856   0.21966813 -0.16480389 -1.40733722]\n",
      " [ 0.40699612  2.53729871 -0.48095099 -0.14633014]\n",
      " [ 0.1312043  -0.37864571  0.1932289   0.34966028]\n",
      " [ 0.1510304  -1.59627898 -0.9123086   1.42697169]]\n"
     ]
    }
   ],
   "source": [
    "def get_rand_matrix():\n",
    "    det = 0\n",
    "    while det == 0:\n",
    "        matrix = np.random.normal(size=(features_train.shape[1], features_train.shape[1]))\n",
    "        det = np.linalg.det(matrix)\n",
    "    return matrix\n",
    "rand_matrix = get_rand_matrix()\n",
    "\n",
    "print('\\nМатрица rand_matrix:\\n', rand_matrix)"
   ]
  },
  {
   "cell_type": "code",
   "execution_count": 23,
   "metadata": {},
   "outputs": [
    {
     "name": "stdout",
     "output_type": "stream",
     "text": [
      "\n",
      "Проверка на единичную матрицу:\n",
      " [[ 1.  0.  0. -0.]\n",
      " [-0.  1.  0.  0.]\n",
      " [ 0. -0.  1.  0.]\n",
      " [-0.  0. -0.  1.]]\n"
     ]
    }
   ],
   "source": [
    "print('\\nПроверка на единичную матрицу:\\n', (rand_matrix @ np.linalg.inv(rand_matrix)).round(5))"
   ]
  },
  {
   "cell_type": "code",
   "execution_count": 24,
   "metadata": {},
   "outputs": [],
   "source": [
    "# Продемонстрируем перемноженную матрицу:\n",
    "feature_encrypt = features @ rand_matrix\n",
    "#feature_encrypt.columns = features.columns\n",
    "\n",
    "# Декодирование признаков:\n",
    "decode = round(feature_encrypt @ np.linalg.inv(rand_matrix)).astype(int)\n",
    "decode.columns = features.columns"
   ]
  },
  {
   "cell_type": "code",
   "execution_count": 25,
   "metadata": {},
   "outputs": [
    {
     "name": "stdout",
     "output_type": "stream",
     "text": [
      "Исходные признаки:\n"
     ]
    },
    {
     "data": {
      "text/html": [
       "<div>\n",
       "<style scoped>\n",
       "    .dataframe tbody tr th:only-of-type {\n",
       "        vertical-align: middle;\n",
       "    }\n",
       "\n",
       "    .dataframe tbody tr th {\n",
       "        vertical-align: top;\n",
       "    }\n",
       "\n",
       "    .dataframe thead th {\n",
       "        text-align: right;\n",
       "    }\n",
       "</style>\n",
       "<table border=\"1\" class=\"dataframe\">\n",
       "  <thead>\n",
       "    <tr style=\"text-align: right;\">\n",
       "      <th></th>\n",
       "      <th>gender</th>\n",
       "      <th>age</th>\n",
       "      <th>salary</th>\n",
       "      <th>family</th>\n",
       "    </tr>\n",
       "  </thead>\n",
       "  <tbody>\n",
       "    <tr>\n",
       "      <th>0</th>\n",
       "      <td>1</td>\n",
       "      <td>41</td>\n",
       "      <td>49600</td>\n",
       "      <td>1</td>\n",
       "    </tr>\n",
       "    <tr>\n",
       "      <th>1</th>\n",
       "      <td>0</td>\n",
       "      <td>46</td>\n",
       "      <td>38000</td>\n",
       "      <td>1</td>\n",
       "    </tr>\n",
       "    <tr>\n",
       "      <th>2</th>\n",
       "      <td>0</td>\n",
       "      <td>29</td>\n",
       "      <td>21000</td>\n",
       "      <td>0</td>\n",
       "    </tr>\n",
       "    <tr>\n",
       "      <th>3</th>\n",
       "      <td>0</td>\n",
       "      <td>21</td>\n",
       "      <td>41700</td>\n",
       "      <td>2</td>\n",
       "    </tr>\n",
       "    <tr>\n",
       "      <th>4</th>\n",
       "      <td>1</td>\n",
       "      <td>28</td>\n",
       "      <td>26100</td>\n",
       "      <td>0</td>\n",
       "    </tr>\n",
       "  </tbody>\n",
       "</table>\n",
       "</div>"
      ],
      "text/plain": [
       "   gender  age  salary  family\n",
       "0       1   41   49600       1\n",
       "1       0   46   38000       1\n",
       "2       0   29   21000       0\n",
       "3       0   21   41700       2\n",
       "4       1   28   26100       0"
      ]
     },
     "metadata": {},
     "output_type": "display_data"
    },
    {
     "name": "stdout",
     "output_type": "stream",
     "text": [
      "__________________________________________________________________________\n",
      "\n",
      "Зашифрованные признаки:\n"
     ]
    },
    {
     "data": {
      "text/html": [
       "<div>\n",
       "<style scoped>\n",
       "    .dataframe tbody tr th:only-of-type {\n",
       "        vertical-align: middle;\n",
       "    }\n",
       "\n",
       "    .dataframe tbody tr th {\n",
       "        vertical-align: top;\n",
       "    }\n",
       "\n",
       "    .dataframe thead th {\n",
       "        text-align: right;\n",
       "    }\n",
       "</style>\n",
       "<table border=\"1\" class=\"dataframe\">\n",
       "  <thead>\n",
       "    <tr style=\"text-align: right;\">\n",
       "      <th></th>\n",
       "      <th>0</th>\n",
       "      <th>1</th>\n",
       "      <th>2</th>\n",
       "      <th>3</th>\n",
       "    </tr>\n",
       "  </thead>\n",
       "  <tbody>\n",
       "    <tr>\n",
       "      <th>0</th>\n",
       "      <td>6525.533008</td>\n",
       "      <td>-18678.174519</td>\n",
       "      <td>9563.357361</td>\n",
       "      <td>17337.170178</td>\n",
       "    </tr>\n",
       "    <tr>\n",
       "      <th>1</th>\n",
       "      <td>5004.636383</td>\n",
       "      <td>-14273.417472</td>\n",
       "      <td>7319.662164</td>\n",
       "      <td>13281.786572</td>\n",
       "    </tr>\n",
       "    <tr>\n",
       "      <th>2</th>\n",
       "      <td>2767.093260</td>\n",
       "      <td>-7877.978222</td>\n",
       "      <td>4043.859331</td>\n",
       "      <td>7338.622387</td>\n",
       "    </tr>\n",
       "    <tr>\n",
       "      <th>3</th>\n",
       "      <td>5480.068433</td>\n",
       "      <td>-15739.435341</td>\n",
       "      <td>8045.720562</td>\n",
       "      <td>14580.614848</td>\n",
       "    </tr>\n",
       "    <tr>\n",
       "      <th>4</th>\n",
       "      <td>3436.789897</td>\n",
       "      <td>-9811.388967</td>\n",
       "      <td>5029.642871</td>\n",
       "      <td>9120.628828</td>\n",
       "    </tr>\n",
       "  </tbody>\n",
       "</table>\n",
       "</div>"
      ],
      "text/plain": [
       "             0             1            2             3\n",
       "0  6525.533008 -18678.174519  9563.357361  17337.170178\n",
       "1  5004.636383 -14273.417472  7319.662164  13281.786572\n",
       "2  2767.093260  -7877.978222  4043.859331   7338.622387\n",
       "3  5480.068433 -15739.435341  8045.720562  14580.614848\n",
       "4  3436.789897  -9811.388967  5029.642871   9120.628828"
      ]
     },
     "metadata": {},
     "output_type": "display_data"
    },
    {
     "name": "stdout",
     "output_type": "stream",
     "text": [
      "__________________________________________________________________________\n",
      "\n",
      "Расшифрованные признаки:\n"
     ]
    },
    {
     "data": {
      "text/html": [
       "<div>\n",
       "<style scoped>\n",
       "    .dataframe tbody tr th:only-of-type {\n",
       "        vertical-align: middle;\n",
       "    }\n",
       "\n",
       "    .dataframe tbody tr th {\n",
       "        vertical-align: top;\n",
       "    }\n",
       "\n",
       "    .dataframe thead th {\n",
       "        text-align: right;\n",
       "    }\n",
       "</style>\n",
       "<table border=\"1\" class=\"dataframe\">\n",
       "  <thead>\n",
       "    <tr style=\"text-align: right;\">\n",
       "      <th></th>\n",
       "      <th>gender</th>\n",
       "      <th>age</th>\n",
       "      <th>salary</th>\n",
       "      <th>family</th>\n",
       "    </tr>\n",
       "  </thead>\n",
       "  <tbody>\n",
       "    <tr>\n",
       "      <th>0</th>\n",
       "      <td>1</td>\n",
       "      <td>41</td>\n",
       "      <td>49600</td>\n",
       "      <td>1</td>\n",
       "    </tr>\n",
       "    <tr>\n",
       "      <th>1</th>\n",
       "      <td>0</td>\n",
       "      <td>46</td>\n",
       "      <td>38000</td>\n",
       "      <td>1</td>\n",
       "    </tr>\n",
       "    <tr>\n",
       "      <th>2</th>\n",
       "      <td>0</td>\n",
       "      <td>29</td>\n",
       "      <td>21000</td>\n",
       "      <td>0</td>\n",
       "    </tr>\n",
       "    <tr>\n",
       "      <th>3</th>\n",
       "      <td>0</td>\n",
       "      <td>21</td>\n",
       "      <td>41700</td>\n",
       "      <td>2</td>\n",
       "    </tr>\n",
       "    <tr>\n",
       "      <th>4</th>\n",
       "      <td>1</td>\n",
       "      <td>28</td>\n",
       "      <td>26100</td>\n",
       "      <td>0</td>\n",
       "    </tr>\n",
       "  </tbody>\n",
       "</table>\n",
       "</div>"
      ],
      "text/plain": [
       "   gender  age  salary  family\n",
       "0       1   41   49600       1\n",
       "1       0   46   38000       1\n",
       "2       0   29   21000       0\n",
       "3       0   21   41700       2\n",
       "4       1   28   26100       0"
      ]
     },
     "execution_count": 25,
     "metadata": {},
     "output_type": "execute_result"
    }
   ],
   "source": [
    "print('Исходные признаки:')\n",
    "display(features.head())\n",
    "print('__________________________________________________________________________')\n",
    "print()\n",
    "print('Зашифрованные признаки:')\n",
    "display(feature_encrypt.head())\n",
    "print('__________________________________________________________________________')\n",
    "print()\n",
    "print('Расшифрованные признаки:')\n",
    "decode.head()"
   ]
  },
  {
   "cell_type": "code",
   "execution_count": 26,
   "metadata": {},
   "outputs": [
    {
     "name": "stdout",
     "output_type": "stream",
     "text": [
      "Значение метрики R2 для линейной регрессии после преобразования: 0.38318410504307576\n"
     ]
    }
   ],
   "source": [
    "# Модель с исходными признаками после преобразования:\n",
    "features_train = features_train @ rand_matrix\n",
    "features_test = features_test @ rand_matrix\n",
    "    \n",
    "model = LinearRegression()\n",
    "model.fit(features_train, target_train)\n",
    "R2_LR_cipher_data = r2_score(target_test, model.predict(features_test))\n",
    "print('Значение метрики R2 для линейной регрессии после преобразования:',R2_LR_cipher_data)"
   ]
  },
  {
   "cell_type": "code",
   "execution_count": 27,
   "metadata": {},
   "outputs": [
    {
     "data": {
      "text/html": [
       "<div>\n",
       "<style scoped>\n",
       "    .dataframe tbody tr th:only-of-type {\n",
       "        vertical-align: middle;\n",
       "    }\n",
       "\n",
       "    .dataframe tbody tr th {\n",
       "        vertical-align: top;\n",
       "    }\n",
       "\n",
       "    .dataframe thead th {\n",
       "        text-align: right;\n",
       "    }\n",
       "</style>\n",
       "<table border=\"1\" class=\"dataframe\">\n",
       "  <thead>\n",
       "    <tr style=\"text-align: right;\">\n",
       "      <th></th>\n",
       "      <th>R2</th>\n",
       "    </tr>\n",
       "  </thead>\n",
       "  <tbody>\n",
       "    <tr>\n",
       "      <th>Качество на исходных данных</th>\n",
       "      <td>0.383184</td>\n",
       "    </tr>\n",
       "    <tr>\n",
       "      <th>Качество на преобразованных признаках</th>\n",
       "      <td>0.383184</td>\n",
       "    </tr>\n",
       "  </tbody>\n",
       "</table>\n",
       "</div>"
      ],
      "text/plain": [
       "                                             R2\n",
       "Качество на исходных данных            0.383184\n",
       "Качество на преобразованных признаках  0.383184"
      ]
     },
     "execution_count": 27,
     "metadata": {},
     "output_type": "execute_result"
    }
   ],
   "source": [
    "result = pd.DataFrame(data= [R2_LR_origin_data,\n",
    "                      R2_LR_cipher_data], \n",
    "                      columns=['R2'], \n",
    "                      index=['Качество на исходных данных',                            \n",
    "                            'Качество на преобразованных признаках',])\n",
    "result"
   ]
  },
  {
   "cell_type": "markdown",
   "metadata": {},
   "source": [
    "***Вывод:*** Домножение признаков на обратимую квадратную матрицу не повлияло на качество модели. Данные успешно зашифрованы и неподготовленный человек не сможет проанализировать наши данные. В то же время это позволяет нам успешно предсказывать для каждого клиента количество страховых выплат."
   ]
  },
  {
   "cell_type": "markdown",
   "metadata": {},
   "source": [
    "## Общий вывод:"
   ]
  },
  {
   "cell_type": "markdown",
   "metadata": {},
   "source": [
    "- Данные были загружены и проанализированы. В датасете 5 столбцов и 4999 записей. Описание данных:\n",
    "    - Признаки: пол, возраст и зарплата застрахованного, количество членов его семьи.\n",
    "    - Целевой признак: количество страховых выплат клиенту за последние 5 лет.\n",
    "- Визуально выбросов не наблюдается, пропусков тоже\n",
    "- Найдено 153 дубликата, но т.к. нет уникального идентификатора, количество повторов небольшое, а чтобы убедиться что это действительно дубликаты данных мало - оставим без изменений.\n",
    "- Пол : Примерно 50/50 мужчин и женщин\n",
    "- Медианное значение возраста 30 лет, среднее 31. Распределение скошено влево. Границы возраста застрахованных приводят к выводу, что компания не занимается страхованием лиц, чей возраст составляет менее 18 и старше 65 лет.\n",
    "- По зарплате распределение близко к нормальному. Скошено вправо - медиана составляет чуть более 40 000 рублей. В целом, в компании скорее представлен средний класс, чем слишком бедные или слишком богатые граждане.\n",
    "- В семье в среднем 1,1 член семьи, но медианное значение равно 1. \n",
    "- Страховые выплаты: 4436 человек не получали никогда страховых выплат, 423 - одни раз, 115 -чел. 2 раза и тд. Один клиент получил выплаты целых 5 раз\n",
    "- Высокая корреляция наблюдается между возрастом и страховыми выплатами (0.65). Наименьшая зависимость между полом клиента и страховой выплатой.\n",
    "- Изменили тип данных в столбцах `Пол,Возраст, Зарплата и Члены семьи` на int, сократив размер датасета в два раза.\n",
    "- Привели названия столбцов к стандарту PEP8.\n",
    "- Был разработан алгоритм преобразования данных и применен на данных.\n",
    "- Качество линейной регресии не изменилось от использования исxодной матрицы и исходной матрицы, умноженной на обратимую. Приведено доказательство математическим и практическим путем (была исследована метрика R2). Домножение признаков на обратимую квадратную матрицу не повлияло на качество модели. Данные успешно зашифрованы и неподготовленный человек не сможет проанализировать наши данные. В то же время это позволяет нам успешно предсказывать для каждого клиента количество страховых выплат."
   ]
  },
  {
   "cell_type": "markdown",
   "metadata": {},
   "source": [
    "## Чек-лист проверки"
   ]
  },
  {
   "cell_type": "markdown",
   "metadata": {},
   "source": [
    "Поставьте 'x' в выполненных пунктах. Далее нажмите Shift+Enter."
   ]
  },
  {
   "cell_type": "markdown",
   "metadata": {},
   "source": [
    "- [x]  Jupyter Notebook открыт\n",
    "- [x]  Весь код выполняется без ошибок\n",
    "- [x]  Ячейки с кодом расположены в порядке исполнения\n",
    "- [x]  Выполнен шаг 1: данные загружены\n",
    "- [x]  Выполнен шаг 2: получен ответ на вопрос об умножении матриц\n",
    "    - [x]  Указан правильный вариант ответа\n",
    "    - [x]  Вариант обоснован\n",
    "- [x]  Выполнен шаг 3: предложен алгоритм преобразования\n",
    "    - [x]  Алгоритм описан\n",
    "    - [x]  Алгоритм обоснован\n",
    "- [x]  Выполнен шаг 4: алгоритм проверен\n",
    "    - [x]  Алгоритм реализован\n",
    "    - [x]  Проведено сравнение качества моделей до и после преобразования"
   ]
  }
 ],
 "metadata": {
  "ExecuteTimeLog": [
   {
    "duration": 1655,
    "start_time": "2023-12-20T04:06:04.369Z"
   },
   {
    "duration": 81,
    "start_time": "2023-12-20T04:06:07.243Z"
   },
   {
    "duration": 11,
    "start_time": "2023-12-20T04:07:12.148Z"
   },
   {
    "duration": 12,
    "start_time": "2023-12-20T04:07:54.269Z"
   },
   {
    "duration": 3,
    "start_time": "2023-12-20T04:39:32.070Z"
   },
   {
    "duration": 8,
    "start_time": "2023-12-20T04:39:32.977Z"
   },
   {
    "duration": 1410,
    "start_time": "2023-12-20T04:49:39.439Z"
   },
   {
    "duration": 29,
    "start_time": "2023-12-20T04:49:40.851Z"
   },
   {
    "duration": 10,
    "start_time": "2023-12-20T04:49:40.883Z"
   },
   {
    "duration": 18,
    "start_time": "2023-12-20T04:49:40.894Z"
   },
   {
    "duration": 101,
    "start_time": "2023-12-20T04:49:40.914Z"
   },
   {
    "duration": 0,
    "start_time": "2023-12-20T04:49:41.017Z"
   },
   {
    "duration": 0,
    "start_time": "2023-12-20T04:49:41.018Z"
   },
   {
    "duration": 2496,
    "start_time": "2023-12-20T04:50:01.746Z"
   },
   {
    "duration": 6,
    "start_time": "2023-12-20T04:56:09.599Z"
   },
   {
    "duration": 382,
    "start_time": "2023-12-20T04:56:49.202Z"
   },
   {
    "duration": 2265,
    "start_time": "2023-12-20T04:59:05.478Z"
   },
   {
    "duration": 87,
    "start_time": "2023-12-20T05:05:55.988Z"
   },
   {
    "duration": 3,
    "start_time": "2023-12-20T05:06:51.295Z"
   },
   {
    "duration": 2777,
    "start_time": "2023-12-20T05:06:54.851Z"
   },
   {
    "duration": 81,
    "start_time": "2023-12-20T05:07:01.522Z"
   },
   {
    "duration": 4,
    "start_time": "2023-12-20T05:07:19.093Z"
   },
   {
    "duration": 84,
    "start_time": "2023-12-20T05:07:25.079Z"
   },
   {
    "duration": 2724,
    "start_time": "2023-12-20T05:07:37.183Z"
   },
   {
    "duration": 13,
    "start_time": "2023-12-20T05:09:26.742Z"
   },
   {
    "duration": 10,
    "start_time": "2023-12-20T05:09:50.016Z"
   },
   {
    "duration": 12,
    "start_time": "2023-12-20T05:10:06.936Z"
   },
   {
    "duration": 4087,
    "start_time": "2023-12-20T05:12:01.827Z"
   },
   {
    "duration": 10,
    "start_time": "2023-12-20T05:16:16.127Z"
   },
   {
    "duration": 22,
    "start_time": "2023-12-20T05:20:52.520Z"
   },
   {
    "duration": 8,
    "start_time": "2023-12-20T05:26:13.646Z"
   },
   {
    "duration": 3,
    "start_time": "2023-12-20T05:26:16.543Z"
   },
   {
    "duration": 11,
    "start_time": "2023-12-20T05:27:55.352Z"
   },
   {
    "duration": 5,
    "start_time": "2023-12-20T05:32:49.986Z"
   },
   {
    "duration": 11,
    "start_time": "2023-12-20T05:33:19.864Z"
   },
   {
    "duration": 5,
    "start_time": "2023-12-20T05:34:41.200Z"
   },
   {
    "duration": 5,
    "start_time": "2023-12-20T05:35:44.174Z"
   },
   {
    "duration": 4,
    "start_time": "2023-12-20T05:38:06.413Z"
   },
   {
    "duration": 7,
    "start_time": "2023-12-20T05:38:07.574Z"
   },
   {
    "duration": 1498,
    "start_time": "2023-12-20T05:47:34.577Z"
   },
   {
    "duration": 30,
    "start_time": "2023-12-20T05:47:36.078Z"
   },
   {
    "duration": 11,
    "start_time": "2023-12-20T05:47:36.112Z"
   },
   {
    "duration": 19,
    "start_time": "2023-12-20T05:47:36.125Z"
   },
   {
    "duration": 2503,
    "start_time": "2023-12-20T05:47:36.146Z"
   },
   {
    "duration": 6,
    "start_time": "2023-12-20T05:47:38.650Z"
   },
   {
    "duration": 3638,
    "start_time": "2023-12-20T05:47:38.657Z"
   },
   {
    "duration": 23,
    "start_time": "2023-12-20T05:47:42.297Z"
   },
   {
    "duration": 4,
    "start_time": "2023-12-20T05:47:42.322Z"
   },
   {
    "duration": 16,
    "start_time": "2023-12-20T05:47:42.327Z"
   },
   {
    "duration": 5,
    "start_time": "2023-12-20T05:47:42.345Z"
   },
   {
    "duration": 9,
    "start_time": "2023-12-20T05:47:42.351Z"
   },
   {
    "duration": 5,
    "start_time": "2023-12-20T05:47:42.363Z"
   },
   {
    "duration": 4,
    "start_time": "2023-12-20T05:47:42.369Z"
   },
   {
    "duration": 45,
    "start_time": "2023-12-20T05:47:42.374Z"
   },
   {
    "duration": 1308,
    "start_time": "2023-12-20T08:25:26.572Z"
   },
   {
    "duration": 1417,
    "start_time": "2023-12-20T08:25:40.325Z"
   },
   {
    "duration": 30,
    "start_time": "2023-12-20T08:25:41.744Z"
   },
   {
    "duration": 11,
    "start_time": "2023-12-20T08:25:41.775Z"
   },
   {
    "duration": 23,
    "start_time": "2023-12-20T08:25:41.788Z"
   },
   {
    "duration": 2591,
    "start_time": "2023-12-20T08:25:41.813Z"
   },
   {
    "duration": 12,
    "start_time": "2023-12-20T08:25:44.406Z"
   },
   {
    "duration": 3719,
    "start_time": "2023-12-20T08:25:44.420Z"
   },
   {
    "duration": 23,
    "start_time": "2023-12-20T08:25:48.141Z"
   },
   {
    "duration": 3,
    "start_time": "2023-12-20T08:25:48.167Z"
   },
   {
    "duration": 24,
    "start_time": "2023-12-20T08:25:48.171Z"
   },
   {
    "duration": 4,
    "start_time": "2023-12-20T08:25:48.196Z"
   },
   {
    "duration": 19,
    "start_time": "2023-12-20T08:25:48.201Z"
   },
   {
    "duration": 6,
    "start_time": "2023-12-20T08:25:48.221Z"
   },
   {
    "duration": 3,
    "start_time": "2023-12-20T08:25:48.229Z"
   },
   {
    "duration": 8,
    "start_time": "2023-12-20T08:25:48.234Z"
   },
   {
    "duration": 1399,
    "start_time": "2023-12-20T08:26:46.419Z"
   },
   {
    "duration": 30,
    "start_time": "2023-12-20T08:26:47.820Z"
   },
   {
    "duration": 10,
    "start_time": "2023-12-20T08:26:47.852Z"
   },
   {
    "duration": 11,
    "start_time": "2023-12-20T08:26:47.864Z"
   },
   {
    "duration": 2581,
    "start_time": "2023-12-20T08:26:47.877Z"
   },
   {
    "duration": 5,
    "start_time": "2023-12-20T08:26:50.460Z"
   },
   {
    "duration": 3656,
    "start_time": "2023-12-20T08:26:50.467Z"
   },
   {
    "duration": 23,
    "start_time": "2023-12-20T08:26:54.124Z"
   },
   {
    "duration": 3,
    "start_time": "2023-12-20T08:26:54.148Z"
   },
   {
    "duration": 15,
    "start_time": "2023-12-20T08:26:54.153Z"
   },
   {
    "duration": 4,
    "start_time": "2023-12-20T08:26:54.169Z"
   },
   {
    "duration": 21,
    "start_time": "2023-12-20T08:26:54.174Z"
   },
   {
    "duration": 20,
    "start_time": "2023-12-20T08:26:54.196Z"
   },
   {
    "duration": 3,
    "start_time": "2023-12-20T08:26:54.218Z"
   },
   {
    "duration": 19,
    "start_time": "2023-12-20T08:26:54.223Z"
   },
   {
    "duration": 1409,
    "start_time": "2023-12-20T08:27:37.439Z"
   },
   {
    "duration": 29,
    "start_time": "2023-12-20T08:27:38.850Z"
   },
   {
    "duration": 10,
    "start_time": "2023-12-20T08:27:38.880Z"
   },
   {
    "duration": 34,
    "start_time": "2023-12-20T08:27:38.892Z"
   },
   {
    "duration": 2546,
    "start_time": "2023-12-20T08:27:38.928Z"
   },
   {
    "duration": 5,
    "start_time": "2023-12-20T08:27:41.476Z"
   },
   {
    "duration": 3772,
    "start_time": "2023-12-20T08:27:41.483Z"
   },
   {
    "duration": 22,
    "start_time": "2023-12-20T08:27:45.256Z"
   },
   {
    "duration": 3,
    "start_time": "2023-12-20T08:27:45.280Z"
   },
   {
    "duration": 17,
    "start_time": "2023-12-20T08:27:45.285Z"
   },
   {
    "duration": 4,
    "start_time": "2023-12-20T08:27:45.303Z"
   },
   {
    "duration": 14,
    "start_time": "2023-12-20T08:27:45.315Z"
   },
   {
    "duration": 15,
    "start_time": "2023-12-20T08:27:45.331Z"
   },
   {
    "duration": 5,
    "start_time": "2023-12-20T08:27:45.347Z"
   },
   {
    "duration": 15,
    "start_time": "2023-12-20T08:27:45.354Z"
   },
   {
    "duration": 1409,
    "start_time": "2023-12-20T08:28:02.521Z"
   },
   {
    "duration": 30,
    "start_time": "2023-12-20T08:28:03.932Z"
   },
   {
    "duration": 11,
    "start_time": "2023-12-20T08:28:03.963Z"
   },
   {
    "duration": 17,
    "start_time": "2023-12-20T08:28:03.976Z"
   },
   {
    "duration": 2701,
    "start_time": "2023-12-20T08:28:03.995Z"
   },
   {
    "duration": 6,
    "start_time": "2023-12-20T08:28:06.698Z"
   },
   {
    "duration": 3709,
    "start_time": "2023-12-20T08:28:06.706Z"
   },
   {
    "duration": 22,
    "start_time": "2023-12-20T08:28:10.417Z"
   },
   {
    "duration": 3,
    "start_time": "2023-12-20T08:28:10.440Z"
   },
   {
    "duration": 38,
    "start_time": "2023-12-20T08:28:10.445Z"
   },
   {
    "duration": 14,
    "start_time": "2023-12-20T08:28:10.485Z"
   },
   {
    "duration": 30,
    "start_time": "2023-12-20T08:28:10.500Z"
   },
   {
    "duration": 24,
    "start_time": "2023-12-20T08:28:10.532Z"
   },
   {
    "duration": 39,
    "start_time": "2023-12-20T08:28:10.558Z"
   },
   {
    "duration": 20,
    "start_time": "2023-12-20T08:28:10.598Z"
   },
   {
    "duration": 1277,
    "start_time": "2023-12-20T08:28:32.749Z"
   },
   {
    "duration": 1464,
    "start_time": "2023-12-20T08:28:40.182Z"
   },
   {
    "duration": 30,
    "start_time": "2023-12-20T08:28:41.648Z"
   },
   {
    "duration": 11,
    "start_time": "2023-12-20T08:28:41.681Z"
   },
   {
    "duration": 14,
    "start_time": "2023-12-20T08:28:41.694Z"
   },
   {
    "duration": 2552,
    "start_time": "2023-12-20T08:28:41.710Z"
   },
   {
    "duration": 6,
    "start_time": "2023-12-20T08:28:44.264Z"
   },
   {
    "duration": 3755,
    "start_time": "2023-12-20T08:28:44.272Z"
   },
   {
    "duration": 21,
    "start_time": "2023-12-20T08:28:48.028Z"
   },
   {
    "duration": 3,
    "start_time": "2023-12-20T08:28:48.050Z"
   },
   {
    "duration": 13,
    "start_time": "2023-12-20T08:28:48.054Z"
   },
   {
    "duration": 4,
    "start_time": "2023-12-20T08:28:48.069Z"
   },
   {
    "duration": 12,
    "start_time": "2023-12-20T08:28:48.074Z"
   },
   {
    "duration": 26,
    "start_time": "2023-12-20T08:28:48.089Z"
   },
   {
    "duration": 3,
    "start_time": "2023-12-20T08:28:48.117Z"
   },
   {
    "duration": 9,
    "start_time": "2023-12-20T08:28:48.122Z"
   },
   {
    "duration": 1475,
    "start_time": "2023-12-20T08:29:08.905Z"
   },
   {
    "duration": 30,
    "start_time": "2023-12-20T08:29:10.382Z"
   },
   {
    "duration": 15,
    "start_time": "2023-12-20T08:29:10.414Z"
   },
   {
    "duration": 14,
    "start_time": "2023-12-20T08:29:10.430Z"
   },
   {
    "duration": 2535,
    "start_time": "2023-12-20T08:29:10.446Z"
   },
   {
    "duration": 5,
    "start_time": "2023-12-20T08:29:12.983Z"
   },
   {
    "duration": 3786,
    "start_time": "2023-12-20T08:29:12.989Z"
   },
   {
    "duration": 30,
    "start_time": "2023-12-20T08:29:16.777Z"
   },
   {
    "duration": 4,
    "start_time": "2023-12-20T08:29:16.808Z"
   },
   {
    "duration": 36,
    "start_time": "2023-12-20T08:29:16.814Z"
   },
   {
    "duration": 23,
    "start_time": "2023-12-20T08:29:16.851Z"
   },
   {
    "duration": 34,
    "start_time": "2023-12-20T08:29:16.875Z"
   },
   {
    "duration": 29,
    "start_time": "2023-12-20T08:29:16.911Z"
   },
   {
    "duration": 3,
    "start_time": "2023-12-20T08:29:16.943Z"
   },
   {
    "duration": 18,
    "start_time": "2023-12-20T08:29:16.948Z"
   },
   {
    "duration": 1442,
    "start_time": "2023-12-20T08:31:17.799Z"
   },
   {
    "duration": 30,
    "start_time": "2023-12-20T08:31:19.243Z"
   },
   {
    "duration": 10,
    "start_time": "2023-12-20T08:31:19.275Z"
   },
   {
    "duration": 16,
    "start_time": "2023-12-20T08:31:19.286Z"
   },
   {
    "duration": 2571,
    "start_time": "2023-12-20T08:31:19.304Z"
   },
   {
    "duration": 5,
    "start_time": "2023-12-20T08:31:21.877Z"
   },
   {
    "duration": 3735,
    "start_time": "2023-12-20T08:31:21.884Z"
   },
   {
    "duration": 22,
    "start_time": "2023-12-20T08:31:25.620Z"
   },
   {
    "duration": 4,
    "start_time": "2023-12-20T08:31:25.644Z"
   },
   {
    "duration": 13,
    "start_time": "2023-12-20T08:31:25.650Z"
   },
   {
    "duration": 6,
    "start_time": "2023-12-20T08:31:25.664Z"
   },
   {
    "duration": 12,
    "start_time": "2023-12-20T08:31:25.671Z"
   },
   {
    "duration": 13,
    "start_time": "2023-12-20T08:31:25.684Z"
   },
   {
    "duration": 15,
    "start_time": "2023-12-20T08:31:25.715Z"
   },
   {
    "duration": 19,
    "start_time": "2023-12-20T08:31:25.732Z"
   },
   {
    "duration": 1412,
    "start_time": "2023-12-20T08:32:12.554Z"
   },
   {
    "duration": 30,
    "start_time": "2023-12-20T08:32:13.968Z"
   },
   {
    "duration": 10,
    "start_time": "2023-12-20T08:32:14.000Z"
   },
   {
    "duration": 13,
    "start_time": "2023-12-20T08:32:14.012Z"
   },
   {
    "duration": 2646,
    "start_time": "2023-12-20T08:32:14.027Z"
   },
   {
    "duration": 5,
    "start_time": "2023-12-20T08:32:16.675Z"
   },
   {
    "duration": 3962,
    "start_time": "2023-12-20T08:32:16.681Z"
   },
   {
    "duration": 23,
    "start_time": "2023-12-20T08:32:20.645Z"
   },
   {
    "duration": 4,
    "start_time": "2023-12-20T08:32:20.669Z"
   },
   {
    "duration": 14,
    "start_time": "2023-12-20T08:32:20.674Z"
   },
   {
    "duration": 6,
    "start_time": "2023-12-20T08:32:20.690Z"
   },
   {
    "duration": 30,
    "start_time": "2023-12-20T08:32:20.697Z"
   },
   {
    "duration": 19,
    "start_time": "2023-12-20T08:32:20.729Z"
   },
   {
    "duration": 10,
    "start_time": "2023-12-20T08:32:20.751Z"
   },
   {
    "duration": 39,
    "start_time": "2023-12-20T08:32:20.763Z"
   },
   {
    "duration": 1586,
    "start_time": "2023-12-20T08:34:34.282Z"
   },
   {
    "duration": 30,
    "start_time": "2023-12-20T08:34:35.870Z"
   },
   {
    "duration": 12,
    "start_time": "2023-12-20T08:34:35.902Z"
   },
   {
    "duration": 18,
    "start_time": "2023-12-20T08:34:35.915Z"
   },
   {
    "duration": 2686,
    "start_time": "2023-12-20T08:34:35.935Z"
   },
   {
    "duration": 6,
    "start_time": "2023-12-20T08:34:38.624Z"
   },
   {
    "duration": 3896,
    "start_time": "2023-12-20T08:34:38.631Z"
   },
   {
    "duration": 22,
    "start_time": "2023-12-20T08:34:42.530Z"
   },
   {
    "duration": 4,
    "start_time": "2023-12-20T08:34:42.553Z"
   },
   {
    "duration": 14,
    "start_time": "2023-12-20T08:34:42.558Z"
   },
   {
    "duration": 126,
    "start_time": "2023-12-20T08:34:42.574Z"
   },
   {
    "duration": 0,
    "start_time": "2023-12-20T08:34:42.702Z"
   },
   {
    "duration": 0,
    "start_time": "2023-12-20T08:34:42.704Z"
   },
   {
    "duration": 0,
    "start_time": "2023-12-20T08:34:42.706Z"
   },
   {
    "duration": 0,
    "start_time": "2023-12-20T08:34:42.715Z"
   },
   {
    "duration": 13,
    "start_time": "2023-12-20T08:35:05.335Z"
   },
   {
    "duration": 6,
    "start_time": "2023-12-20T08:35:13.315Z"
   },
   {
    "duration": 10,
    "start_time": "2023-12-20T08:35:20.249Z"
   },
   {
    "duration": 5,
    "start_time": "2023-12-20T08:35:23.981Z"
   },
   {
    "duration": 1418,
    "start_time": "2023-12-20T08:36:15.626Z"
   },
   {
    "duration": 30,
    "start_time": "2023-12-20T08:36:17.046Z"
   },
   {
    "duration": 11,
    "start_time": "2023-12-20T08:36:17.077Z"
   },
   {
    "duration": 17,
    "start_time": "2023-12-20T08:36:17.091Z"
   },
   {
    "duration": 2577,
    "start_time": "2023-12-20T08:36:17.110Z"
   },
   {
    "duration": 6,
    "start_time": "2023-12-20T08:36:19.689Z"
   },
   {
    "duration": 3791,
    "start_time": "2023-12-20T08:36:19.696Z"
   },
   {
    "duration": 28,
    "start_time": "2023-12-20T08:36:23.489Z"
   },
   {
    "duration": 3,
    "start_time": "2023-12-20T08:36:23.519Z"
   },
   {
    "duration": 12,
    "start_time": "2023-12-20T08:36:23.525Z"
   },
   {
    "duration": 6,
    "start_time": "2023-12-20T08:36:23.538Z"
   },
   {
    "duration": 11,
    "start_time": "2023-12-20T08:36:23.545Z"
   },
   {
    "duration": 14,
    "start_time": "2023-12-20T08:36:23.557Z"
   },
   {
    "duration": 4,
    "start_time": "2023-12-20T08:36:23.572Z"
   },
   {
    "duration": 8,
    "start_time": "2023-12-20T08:36:23.578Z"
   },
   {
    "duration": 1374,
    "start_time": "2023-12-20T08:44:31.071Z"
   },
   {
    "duration": 29,
    "start_time": "2023-12-20T08:44:32.447Z"
   },
   {
    "duration": 16,
    "start_time": "2023-12-20T08:44:32.480Z"
   },
   {
    "duration": 55,
    "start_time": "2023-12-20T08:44:32.499Z"
   },
   {
    "duration": 2642,
    "start_time": "2023-12-20T08:44:32.555Z"
   },
   {
    "duration": 6,
    "start_time": "2023-12-20T08:44:35.199Z"
   },
   {
    "duration": 4077,
    "start_time": "2023-12-20T08:44:35.206Z"
   },
   {
    "duration": 25,
    "start_time": "2023-12-20T08:44:39.285Z"
   },
   {
    "duration": 4,
    "start_time": "2023-12-20T08:44:39.311Z"
   },
   {
    "duration": 16,
    "start_time": "2023-12-20T08:44:39.316Z"
   },
   {
    "duration": 5,
    "start_time": "2023-12-20T08:44:39.333Z"
   },
   {
    "duration": 7,
    "start_time": "2023-12-20T08:44:39.339Z"
   },
   {
    "duration": 11,
    "start_time": "2023-12-20T08:44:39.348Z"
   },
   {
    "duration": 5,
    "start_time": "2023-12-20T08:44:39.360Z"
   },
   {
    "duration": 9,
    "start_time": "2023-12-20T08:44:39.366Z"
   },
   {
    "duration": 1295,
    "start_time": "2023-12-20T08:45:09.259Z"
   },
   {
    "duration": 31,
    "start_time": "2023-12-20T08:45:10.556Z"
   },
   {
    "duration": 16,
    "start_time": "2023-12-20T08:45:10.589Z"
   },
   {
    "duration": 13,
    "start_time": "2023-12-20T08:45:10.606Z"
   },
   {
    "duration": 2583,
    "start_time": "2023-12-20T08:45:10.621Z"
   },
   {
    "duration": 12,
    "start_time": "2023-12-20T08:45:13.206Z"
   },
   {
    "duration": 3832,
    "start_time": "2023-12-20T08:45:13.219Z"
   },
   {
    "duration": 24,
    "start_time": "2023-12-20T08:45:17.053Z"
   },
   {
    "duration": 3,
    "start_time": "2023-12-20T08:45:17.078Z"
   },
   {
    "duration": 14,
    "start_time": "2023-12-20T08:45:17.083Z"
   },
   {
    "duration": 5,
    "start_time": "2023-12-20T08:45:17.099Z"
   },
   {
    "duration": 11,
    "start_time": "2023-12-20T08:45:17.106Z"
   },
   {
    "duration": 12,
    "start_time": "2023-12-20T08:45:17.118Z"
   },
   {
    "duration": 3,
    "start_time": "2023-12-20T08:45:17.133Z"
   },
   {
    "duration": 11,
    "start_time": "2023-12-20T08:45:17.138Z"
   },
   {
    "duration": 7,
    "start_time": "2023-12-20T14:07:10.111Z"
   },
   {
    "duration": 5,
    "start_time": "2023-12-20T14:10:24.362Z"
   },
   {
    "duration": 109,
    "start_time": "2023-12-20T14:10:51.420Z"
   },
   {
    "duration": 22,
    "start_time": "2023-12-20T14:11:21.917Z"
   },
   {
    "duration": 9,
    "start_time": "2023-12-20T14:11:29.483Z"
   },
   {
    "duration": 5,
    "start_time": "2023-12-20T14:18:21.497Z"
   },
   {
    "duration": 4,
    "start_time": "2023-12-20T14:18:42.888Z"
   },
   {
    "duration": 11,
    "start_time": "2023-12-20T14:21:37.109Z"
   },
   {
    "duration": 10,
    "start_time": "2023-12-20T14:22:36.873Z"
   },
   {
    "duration": 5,
    "start_time": "2023-12-20T14:27:20.026Z"
   },
   {
    "duration": 9,
    "start_time": "2023-12-20T14:27:29.153Z"
   },
   {
    "duration": 8,
    "start_time": "2023-12-20T14:28:10.391Z"
   },
   {
    "duration": 13,
    "start_time": "2023-12-20T14:45:28.946Z"
   },
   {
    "duration": 1328,
    "start_time": "2023-12-20T14:54:26.161Z"
   },
   {
    "duration": 31,
    "start_time": "2023-12-20T14:54:27.490Z"
   },
   {
    "duration": 12,
    "start_time": "2023-12-20T14:54:27.522Z"
   },
   {
    "duration": 22,
    "start_time": "2023-12-20T14:54:27.535Z"
   },
   {
    "duration": 2597,
    "start_time": "2023-12-20T14:54:27.559Z"
   },
   {
    "duration": 6,
    "start_time": "2023-12-20T14:54:30.157Z"
   },
   {
    "duration": 87,
    "start_time": "2023-12-20T14:54:30.164Z"
   },
   {
    "duration": 3723,
    "start_time": "2023-12-20T14:54:30.252Z"
   },
   {
    "duration": 3,
    "start_time": "2023-12-20T14:54:33.976Z"
   },
   {
    "duration": 24,
    "start_time": "2023-12-20T14:54:33.980Z"
   },
   {
    "duration": 4,
    "start_time": "2023-12-20T14:54:34.006Z"
   },
   {
    "duration": 17,
    "start_time": "2023-12-20T14:54:34.012Z"
   },
   {
    "duration": 13,
    "start_time": "2023-12-20T14:54:34.030Z"
   },
   {
    "duration": 4,
    "start_time": "2023-12-20T14:54:34.045Z"
   },
   {
    "duration": 20,
    "start_time": "2023-12-20T14:54:34.050Z"
   },
   {
    "duration": 11,
    "start_time": "2023-12-20T14:54:34.071Z"
   },
   {
    "duration": 6,
    "start_time": "2023-12-20T14:54:34.083Z"
   },
   {
    "duration": 9,
    "start_time": "2023-12-20T14:54:34.090Z"
   },
   {
    "duration": 4,
    "start_time": "2023-12-20T14:54:34.100Z"
   },
   {
    "duration": 10,
    "start_time": "2023-12-20T14:54:34.105Z"
   },
   {
    "duration": 17,
    "start_time": "2023-12-20T14:54:34.117Z"
   },
   {
    "duration": 16,
    "start_time": "2023-12-20T14:54:34.216Z"
   },
   {
    "duration": 1599,
    "start_time": "2023-12-21T05:23:59.694Z"
   },
   {
    "duration": 88,
    "start_time": "2023-12-21T05:24:01.295Z"
   },
   {
    "duration": 13,
    "start_time": "2023-12-21T05:24:01.385Z"
   },
   {
    "duration": 48,
    "start_time": "2023-12-21T05:24:01.400Z"
   },
   {
    "duration": 2677,
    "start_time": "2023-12-21T05:24:01.450Z"
   },
   {
    "duration": 6,
    "start_time": "2023-12-21T05:24:04.129Z"
   },
   {
    "duration": 25,
    "start_time": "2023-12-21T05:24:04.136Z"
   },
   {
    "duration": 3898,
    "start_time": "2023-12-21T05:24:04.162Z"
   },
   {
    "duration": 3,
    "start_time": "2023-12-21T05:24:08.062Z"
   },
   {
    "duration": 13,
    "start_time": "2023-12-21T05:24:08.067Z"
   },
   {
    "duration": 4,
    "start_time": "2023-12-21T05:24:08.081Z"
   },
   {
    "duration": 5,
    "start_time": "2023-12-21T05:24:08.087Z"
   },
   {
    "duration": 22,
    "start_time": "2023-12-21T05:24:08.093Z"
   },
   {
    "duration": 3,
    "start_time": "2023-12-21T05:24:08.117Z"
   },
   {
    "duration": 10,
    "start_time": "2023-12-21T05:24:08.122Z"
   },
   {
    "duration": 6,
    "start_time": "2023-12-21T05:24:08.133Z"
   },
   {
    "duration": 5,
    "start_time": "2023-12-21T05:24:08.140Z"
   },
   {
    "duration": 11,
    "start_time": "2023-12-21T05:24:08.146Z"
   },
   {
    "duration": 6,
    "start_time": "2023-12-21T05:24:08.216Z"
   },
   {
    "duration": 111,
    "start_time": "2023-12-21T05:24:08.224Z"
   },
   {
    "duration": 98,
    "start_time": "2023-12-21T05:24:08.337Z"
   },
   {
    "duration": 11,
    "start_time": "2023-12-21T05:24:08.515Z"
   },
   {
    "duration": 19,
    "start_time": "2023-12-21T05:24:35.968Z"
   },
   {
    "duration": 27,
    "start_time": "2023-12-21T05:34:41.433Z"
   },
   {
    "duration": 61,
    "start_time": "2023-12-21T05:38:10.427Z"
   },
   {
    "duration": 42,
    "start_time": "2023-12-21T05:38:51.468Z"
   },
   {
    "duration": 45,
    "start_time": "2023-12-21T05:39:18.785Z"
   },
   {
    "duration": 58,
    "start_time": "2023-12-21T05:40:07.373Z"
   },
   {
    "duration": 79,
    "start_time": "2023-12-21T05:40:48.609Z"
   },
   {
    "duration": 45,
    "start_time": "2023-12-21T05:40:56.379Z"
   },
   {
    "duration": 17,
    "start_time": "2023-12-21T05:41:25.495Z"
   },
   {
    "duration": 15,
    "start_time": "2023-12-21T05:41:48.580Z"
   },
   {
    "duration": 53,
    "start_time": "2023-12-21T05:42:37.813Z"
   },
   {
    "duration": 48,
    "start_time": "2023-12-21T05:43:01.798Z"
   },
   {
    "duration": 50,
    "start_time": "2023-12-21T05:43:14.639Z"
   },
   {
    "duration": 50,
    "start_time": "2023-12-21T05:44:39.185Z"
   },
   {
    "duration": 60,
    "start_time": "2023-12-21T05:44:47.523Z"
   },
   {
    "duration": 59,
    "start_time": "2023-12-21T05:45:06.919Z"
   },
   {
    "duration": 15,
    "start_time": "2023-12-21T05:45:18.785Z"
   },
   {
    "duration": 14,
    "start_time": "2023-12-21T05:45:43.236Z"
   },
   {
    "duration": 18,
    "start_time": "2023-12-21T05:48:02.503Z"
   },
   {
    "duration": 17,
    "start_time": "2023-12-21T05:48:39.915Z"
   },
   {
    "duration": 9,
    "start_time": "2023-12-21T05:49:59.448Z"
   },
   {
    "duration": 4,
    "start_time": "2023-12-21T05:51:39.473Z"
   },
   {
    "duration": 5,
    "start_time": "2023-12-21T05:51:41.274Z"
   },
   {
    "duration": 14,
    "start_time": "2023-12-21T05:51:51.403Z"
   },
   {
    "duration": 9,
    "start_time": "2023-12-21T05:53:18.899Z"
   },
   {
    "duration": 14,
    "start_time": "2023-12-21T05:54:30.754Z"
   },
   {
    "duration": 26,
    "start_time": "2023-12-21T05:55:43.238Z"
   },
   {
    "duration": 9,
    "start_time": "2023-12-21T05:56:11.513Z"
   },
   {
    "duration": 18,
    "start_time": "2023-12-21T05:56:54.355Z"
   },
   {
    "duration": 22,
    "start_time": "2023-12-21T05:57:22.450Z"
   },
   {
    "duration": 19,
    "start_time": "2023-12-21T05:57:46.648Z"
   },
   {
    "duration": 237,
    "start_time": "2023-12-21T05:58:35.564Z"
   },
   {
    "duration": 21,
    "start_time": "2023-12-21T05:58:58.995Z"
   },
   {
    "duration": 1353,
    "start_time": "2023-12-21T05:59:15.864Z"
   },
   {
    "duration": 31,
    "start_time": "2023-12-21T05:59:17.219Z"
   },
   {
    "duration": 13,
    "start_time": "2023-12-21T05:59:17.252Z"
   },
   {
    "duration": 14,
    "start_time": "2023-12-21T05:59:17.267Z"
   },
   {
    "duration": 2601,
    "start_time": "2023-12-21T05:59:17.284Z"
   },
   {
    "duration": 5,
    "start_time": "2023-12-21T05:59:19.887Z"
   },
   {
    "duration": 38,
    "start_time": "2023-12-21T05:59:19.893Z"
   },
   {
    "duration": 3857,
    "start_time": "2023-12-21T05:59:19.932Z"
   },
   {
    "duration": 4,
    "start_time": "2023-12-21T05:59:23.790Z"
   },
   {
    "duration": 18,
    "start_time": "2023-12-21T05:59:23.796Z"
   },
   {
    "duration": 5,
    "start_time": "2023-12-21T05:59:23.815Z"
   },
   {
    "duration": 6,
    "start_time": "2023-12-21T05:59:23.822Z"
   },
   {
    "duration": 11,
    "start_time": "2023-12-21T05:59:23.829Z"
   },
   {
    "duration": 3,
    "start_time": "2023-12-21T05:59:23.842Z"
   },
   {
    "duration": 9,
    "start_time": "2023-12-21T05:59:23.846Z"
   },
   {
    "duration": 6,
    "start_time": "2023-12-21T05:59:23.856Z"
   },
   {
    "duration": 5,
    "start_time": "2023-12-21T05:59:23.864Z"
   },
   {
    "duration": 45,
    "start_time": "2023-12-21T05:59:23.870Z"
   },
   {
    "duration": 5,
    "start_time": "2023-12-21T05:59:23.916Z"
   },
   {
    "duration": 13,
    "start_time": "2023-12-21T05:59:23.922Z"
   },
   {
    "duration": 85,
    "start_time": "2023-12-21T05:59:23.937Z"
   },
   {
    "duration": 9,
    "start_time": "2023-12-21T05:59:24.024Z"
   },
   {
    "duration": 5,
    "start_time": "2023-12-21T06:00:00.076Z"
   },
   {
    "duration": 20,
    "start_time": "2023-12-21T06:00:06.693Z"
   },
   {
    "duration": 18,
    "start_time": "2023-12-21T06:01:10.057Z"
   },
   {
    "duration": 19,
    "start_time": "2023-12-21T06:02:15.654Z"
   },
   {
    "duration": 20,
    "start_time": "2023-12-21T06:02:36.235Z"
   },
   {
    "duration": 20,
    "start_time": "2023-12-21T06:03:06.477Z"
   },
   {
    "duration": 1322,
    "start_time": "2023-12-21T06:04:01.777Z"
   },
   {
    "duration": 31,
    "start_time": "2023-12-21T06:04:03.101Z"
   },
   {
    "duration": 23,
    "start_time": "2023-12-21T06:04:03.133Z"
   },
   {
    "duration": 14,
    "start_time": "2023-12-21T06:04:03.157Z"
   },
   {
    "duration": 2705,
    "start_time": "2023-12-21T06:04:03.173Z"
   },
   {
    "duration": 5,
    "start_time": "2023-12-21T06:04:05.880Z"
   },
   {
    "duration": 33,
    "start_time": "2023-12-21T06:04:05.887Z"
   },
   {
    "duration": 3798,
    "start_time": "2023-12-21T06:04:05.922Z"
   },
   {
    "duration": 4,
    "start_time": "2023-12-21T06:04:09.722Z"
   },
   {
    "duration": 30,
    "start_time": "2023-12-21T06:04:09.727Z"
   },
   {
    "duration": 6,
    "start_time": "2023-12-21T06:04:09.758Z"
   },
   {
    "duration": 5,
    "start_time": "2023-12-21T06:04:09.766Z"
   },
   {
    "duration": 22,
    "start_time": "2023-12-21T06:04:09.773Z"
   },
   {
    "duration": 5,
    "start_time": "2023-12-21T06:04:09.798Z"
   },
   {
    "duration": 17,
    "start_time": "2023-12-21T06:04:09.804Z"
   },
   {
    "duration": 7,
    "start_time": "2023-12-21T06:04:09.822Z"
   },
   {
    "duration": 5,
    "start_time": "2023-12-21T06:04:09.830Z"
   },
   {
    "duration": 8,
    "start_time": "2023-12-21T06:04:09.837Z"
   },
   {
    "duration": 8,
    "start_time": "2023-12-21T06:04:09.847Z"
   },
   {
    "duration": 7,
    "start_time": "2023-12-21T06:04:09.857Z"
   },
   {
    "duration": 152,
    "start_time": "2023-12-21T06:04:09.866Z"
   },
   {
    "duration": 10,
    "start_time": "2023-12-21T06:04:10.020Z"
   },
   {
    "duration": 4,
    "start_time": "2023-12-21T06:05:07.774Z"
   },
   {
    "duration": 4,
    "start_time": "2023-12-21T06:05:08.960Z"
   },
   {
    "duration": 23,
    "start_time": "2023-12-21T06:05:13.433Z"
   },
   {
    "duration": 9,
    "start_time": "2023-12-21T06:05:19.565Z"
   },
   {
    "duration": 20,
    "start_time": "2023-12-21T06:06:18.339Z"
   },
   {
    "duration": 22,
    "start_time": "2023-12-21T06:06:39.625Z"
   },
   {
    "duration": 1370,
    "start_time": "2023-12-21T06:09:20.541Z"
   },
   {
    "duration": 31,
    "start_time": "2023-12-21T06:09:21.913Z"
   },
   {
    "duration": 15,
    "start_time": "2023-12-21T06:09:21.945Z"
   },
   {
    "duration": 26,
    "start_time": "2023-12-21T06:09:21.962Z"
   },
   {
    "duration": 2701,
    "start_time": "2023-12-21T06:09:21.990Z"
   },
   {
    "duration": 6,
    "start_time": "2023-12-21T06:09:24.693Z"
   },
   {
    "duration": 30,
    "start_time": "2023-12-21T06:09:24.701Z"
   },
   {
    "duration": 3851,
    "start_time": "2023-12-21T06:09:24.733Z"
   },
   {
    "duration": 3,
    "start_time": "2023-12-21T06:09:28.586Z"
   },
   {
    "duration": 21,
    "start_time": "2023-12-21T06:09:28.591Z"
   },
   {
    "duration": 5,
    "start_time": "2023-12-21T06:09:28.613Z"
   },
   {
    "duration": 17,
    "start_time": "2023-12-21T06:09:28.619Z"
   },
   {
    "duration": 22,
    "start_time": "2023-12-21T06:09:28.638Z"
   },
   {
    "duration": 10,
    "start_time": "2023-12-21T06:09:28.663Z"
   },
   {
    "duration": 16,
    "start_time": "2023-12-21T06:09:28.674Z"
   },
   {
    "duration": 20,
    "start_time": "2023-12-21T06:09:28.692Z"
   },
   {
    "duration": 6,
    "start_time": "2023-12-21T06:09:28.714Z"
   },
   {
    "duration": 18,
    "start_time": "2023-12-21T06:09:28.722Z"
   },
   {
    "duration": 6,
    "start_time": "2023-12-21T06:09:28.742Z"
   },
   {
    "duration": 10,
    "start_time": "2023-12-21T06:09:28.750Z"
   },
   {
    "duration": 58,
    "start_time": "2023-12-21T06:09:28.762Z"
   },
   {
    "duration": 98,
    "start_time": "2023-12-21T06:09:28.822Z"
   },
   {
    "duration": 13,
    "start_time": "2023-12-21T06:09:28.922Z"
   },
   {
    "duration": 8,
    "start_time": "2023-12-21T06:10:59.168Z"
   },
   {
    "duration": 8,
    "start_time": "2023-12-21T06:11:02.798Z"
   },
   {
    "duration": 9,
    "start_time": "2023-12-21T06:11:04.837Z"
   },
   {
    "duration": 9,
    "start_time": "2023-12-21T06:11:06.546Z"
   },
   {
    "duration": 11,
    "start_time": "2023-12-21T06:11:18.743Z"
   },
   {
    "duration": 10,
    "start_time": "2023-12-21T06:11:22.358Z"
   },
   {
    "duration": 10,
    "start_time": "2023-12-21T06:11:24.263Z"
   },
   {
    "duration": 10,
    "start_time": "2023-12-21T06:11:26.004Z"
   },
   {
    "duration": 1367,
    "start_time": "2023-12-21T06:11:45.532Z"
   },
   {
    "duration": 31,
    "start_time": "2023-12-21T06:11:46.901Z"
   },
   {
    "duration": 10,
    "start_time": "2023-12-21T06:11:46.934Z"
   },
   {
    "duration": 13,
    "start_time": "2023-12-21T06:11:46.945Z"
   },
   {
    "duration": 2521,
    "start_time": "2023-12-21T06:11:46.960Z"
   },
   {
    "duration": 6,
    "start_time": "2023-12-21T06:11:49.482Z"
   },
   {
    "duration": 32,
    "start_time": "2023-12-21T06:11:49.489Z"
   },
   {
    "duration": 3698,
    "start_time": "2023-12-21T06:11:49.522Z"
   },
   {
    "duration": 4,
    "start_time": "2023-12-21T06:11:53.222Z"
   },
   {
    "duration": 15,
    "start_time": "2023-12-21T06:11:53.228Z"
   },
   {
    "duration": 5,
    "start_time": "2023-12-21T06:11:53.245Z"
   },
   {
    "duration": 24,
    "start_time": "2023-12-21T06:11:53.252Z"
   },
   {
    "duration": 12,
    "start_time": "2023-12-21T06:11:53.277Z"
   },
   {
    "duration": 3,
    "start_time": "2023-12-21T06:11:53.292Z"
   },
   {
    "duration": 35,
    "start_time": "2023-12-21T06:11:53.297Z"
   },
   {
    "duration": 22,
    "start_time": "2023-12-21T06:11:53.334Z"
   },
   {
    "duration": 7,
    "start_time": "2023-12-21T06:11:53.357Z"
   },
   {
    "duration": 24,
    "start_time": "2023-12-21T06:11:53.365Z"
   },
   {
    "duration": 8,
    "start_time": "2023-12-21T06:11:53.391Z"
   },
   {
    "duration": 6,
    "start_time": "2023-12-21T06:11:53.401Z"
   },
   {
    "duration": 6,
    "start_time": "2023-12-21T06:11:53.415Z"
   },
   {
    "duration": 103,
    "start_time": "2023-12-21T06:11:53.423Z"
   },
   {
    "duration": 90,
    "start_time": "2023-12-21T06:11:53.528Z"
   },
   {
    "duration": 134,
    "start_time": "2023-12-21T06:15:34.120Z"
   },
   {
    "duration": 4,
    "start_time": "2023-12-21T06:16:28.241Z"
   },
   {
    "duration": 6,
    "start_time": "2023-12-21T06:16:41.592Z"
   },
   {
    "duration": 8,
    "start_time": "2023-12-21T06:16:50.608Z"
   },
   {
    "duration": 14,
    "start_time": "2023-12-21T06:16:51.523Z"
   },
   {
    "duration": 18,
    "start_time": "2023-12-21T06:19:16.103Z"
   },
   {
    "duration": 14,
    "start_time": "2023-12-21T06:19:30.038Z"
   },
   {
    "duration": 8,
    "start_time": "2023-12-21T06:19:53.577Z"
   },
   {
    "duration": 13,
    "start_time": "2023-12-21T06:19:54.129Z"
   },
   {
    "duration": 9,
    "start_time": "2023-12-21T06:20:03.385Z"
   },
   {
    "duration": 1430,
    "start_time": "2023-12-21T06:20:13.094Z"
   },
   {
    "duration": 32,
    "start_time": "2023-12-21T06:20:14.526Z"
   },
   {
    "duration": 11,
    "start_time": "2023-12-21T06:20:14.559Z"
   },
   {
    "duration": 12,
    "start_time": "2023-12-21T06:20:14.572Z"
   },
   {
    "duration": 2592,
    "start_time": "2023-12-21T06:20:14.585Z"
   },
   {
    "duration": 6,
    "start_time": "2023-12-21T06:20:17.178Z"
   },
   {
    "duration": 35,
    "start_time": "2023-12-21T06:20:17.185Z"
   },
   {
    "duration": 3750,
    "start_time": "2023-12-21T06:20:17.222Z"
   },
   {
    "duration": 3,
    "start_time": "2023-12-21T06:20:20.974Z"
   },
   {
    "duration": 34,
    "start_time": "2023-12-21T06:20:20.979Z"
   },
   {
    "duration": 24,
    "start_time": "2023-12-21T06:20:21.014Z"
   },
   {
    "duration": 10,
    "start_time": "2023-12-21T06:20:21.039Z"
   },
   {
    "duration": 21,
    "start_time": "2023-12-21T06:20:21.051Z"
   },
   {
    "duration": 27,
    "start_time": "2023-12-21T06:20:21.073Z"
   },
   {
    "duration": 23,
    "start_time": "2023-12-21T06:20:21.102Z"
   },
   {
    "duration": 43,
    "start_time": "2023-12-21T06:20:21.127Z"
   },
   {
    "duration": 25,
    "start_time": "2023-12-21T06:20:21.172Z"
   },
   {
    "duration": 51,
    "start_time": "2023-12-21T06:20:21.198Z"
   },
   {
    "duration": 29,
    "start_time": "2023-12-21T06:20:21.250Z"
   },
   {
    "duration": 30,
    "start_time": "2023-12-21T06:20:21.281Z"
   },
   {
    "duration": 28,
    "start_time": "2023-12-21T06:20:21.313Z"
   },
   {
    "duration": 20,
    "start_time": "2023-12-21T06:20:21.414Z"
   },
   {
    "duration": 10,
    "start_time": "2023-12-21T06:20:21.516Z"
   },
   {
    "duration": 19,
    "start_time": "2023-12-21T06:20:36.791Z"
   },
   {
    "duration": 21,
    "start_time": "2023-12-21T06:21:18.044Z"
   },
   {
    "duration": 9,
    "start_time": "2023-12-21T06:40:43.775Z"
   },
   {
    "duration": 10,
    "start_time": "2023-12-21T06:55:24.718Z"
   },
   {
    "duration": 1328,
    "start_time": "2023-12-21T07:28:09.974Z"
   },
   {
    "duration": 32,
    "start_time": "2023-12-21T07:28:11.304Z"
   },
   {
    "duration": 66,
    "start_time": "2023-12-21T07:28:11.337Z"
   },
   {
    "duration": 18,
    "start_time": "2023-12-21T07:28:11.406Z"
   },
   {
    "duration": 2544,
    "start_time": "2023-12-21T07:28:11.426Z"
   },
   {
    "duration": 7,
    "start_time": "2023-12-21T07:28:13.972Z"
   },
   {
    "duration": 38,
    "start_time": "2023-12-21T07:28:13.981Z"
   },
   {
    "duration": 3939,
    "start_time": "2023-12-21T07:28:14.021Z"
   },
   {
    "duration": 0,
    "start_time": "2023-12-21T07:28:17.962Z"
   },
   {
    "duration": 0,
    "start_time": "2023-12-21T07:28:17.963Z"
   },
   {
    "duration": 0,
    "start_time": "2023-12-21T07:28:17.964Z"
   },
   {
    "duration": 0,
    "start_time": "2023-12-21T07:28:17.965Z"
   },
   {
    "duration": 0,
    "start_time": "2023-12-21T07:28:17.966Z"
   },
   {
    "duration": 0,
    "start_time": "2023-12-21T07:28:17.967Z"
   },
   {
    "duration": 0,
    "start_time": "2023-12-21T07:28:17.968Z"
   },
   {
    "duration": 0,
    "start_time": "2023-12-21T07:28:17.969Z"
   },
   {
    "duration": 0,
    "start_time": "2023-12-21T07:28:17.970Z"
   },
   {
    "duration": 0,
    "start_time": "2023-12-21T07:28:17.971Z"
   },
   {
    "duration": 0,
    "start_time": "2023-12-21T07:28:17.972Z"
   },
   {
    "duration": 0,
    "start_time": "2023-12-21T07:28:17.973Z"
   },
   {
    "duration": 0,
    "start_time": "2023-12-21T07:28:17.973Z"
   },
   {
    "duration": 0,
    "start_time": "2023-12-21T07:28:17.974Z"
   },
   {
    "duration": 0,
    "start_time": "2023-12-21T07:28:17.975Z"
   },
   {
    "duration": 0,
    "start_time": "2023-12-21T07:28:17.976Z"
   },
   {
    "duration": 0,
    "start_time": "2023-12-21T07:28:17.977Z"
   },
   {
    "duration": 1316,
    "start_time": "2023-12-21T07:28:46.161Z"
   },
   {
    "duration": 31,
    "start_time": "2023-12-21T07:28:47.479Z"
   },
   {
    "duration": 11,
    "start_time": "2023-12-21T07:28:47.511Z"
   },
   {
    "duration": 11,
    "start_time": "2023-12-21T07:28:47.524Z"
   },
   {
    "duration": 2530,
    "start_time": "2023-12-21T07:28:47.537Z"
   },
   {
    "duration": 5,
    "start_time": "2023-12-21T07:28:50.068Z"
   },
   {
    "duration": 23,
    "start_time": "2023-12-21T07:28:50.075Z"
   },
   {
    "duration": 3740,
    "start_time": "2023-12-21T07:28:50.100Z"
   },
   {
    "duration": 11,
    "start_time": "2023-12-21T07:28:53.842Z"
   },
   {
    "duration": 3,
    "start_time": "2023-12-21T07:28:53.855Z"
   },
   {
    "duration": 15,
    "start_time": "2023-12-21T07:28:53.860Z"
   },
   {
    "duration": 5,
    "start_time": "2023-12-21T07:28:53.876Z"
   },
   {
    "duration": 6,
    "start_time": "2023-12-21T07:28:53.882Z"
   },
   {
    "duration": 33,
    "start_time": "2023-12-21T07:28:53.889Z"
   },
   {
    "duration": 3,
    "start_time": "2023-12-21T07:28:53.923Z"
   },
   {
    "duration": 10,
    "start_time": "2023-12-21T07:28:53.927Z"
   },
   {
    "duration": 13,
    "start_time": "2023-12-21T07:28:53.939Z"
   },
   {
    "duration": 8,
    "start_time": "2023-12-21T07:28:53.953Z"
   },
   {
    "duration": 9,
    "start_time": "2023-12-21T07:28:53.962Z"
   },
   {
    "duration": 4,
    "start_time": "2023-12-21T07:28:53.972Z"
   },
   {
    "duration": 173,
    "start_time": "2023-12-21T07:28:53.977Z"
   },
   {
    "duration": 0,
    "start_time": "2023-12-21T07:28:54.151Z"
   },
   {
    "duration": 0,
    "start_time": "2023-12-21T07:28:54.152Z"
   },
   {
    "duration": 0,
    "start_time": "2023-12-21T07:28:54.153Z"
   },
   {
    "duration": 0,
    "start_time": "2023-12-21T07:28:54.154Z"
   },
   {
    "duration": 4,
    "start_time": "2023-12-21T07:29:14.248Z"
   },
   {
    "duration": 6,
    "start_time": "2023-12-21T07:29:16.348Z"
   },
   {
    "duration": 7,
    "start_time": "2023-12-21T07:29:19.097Z"
   },
   {
    "duration": 19,
    "start_time": "2023-12-21T07:29:20.550Z"
   },
   {
    "duration": 9,
    "start_time": "2023-12-21T07:29:26.385Z"
   },
   {
    "duration": 7,
    "start_time": "2023-12-21T07:29:29.177Z"
   },
   {
    "duration": 3101,
    "start_time": "2023-12-21T08:29:20.509Z"
   },
   {
    "duration": 80,
    "start_time": "2023-12-21T08:29:23.612Z"
   },
   {
    "duration": 11,
    "start_time": "2023-12-21T08:29:23.693Z"
   },
   {
    "duration": 109,
    "start_time": "2023-12-21T08:29:23.706Z"
   },
   {
    "duration": 2682,
    "start_time": "2023-12-21T08:29:23.817Z"
   },
   {
    "duration": 6,
    "start_time": "2023-12-21T08:29:26.500Z"
   },
   {
    "duration": 42,
    "start_time": "2023-12-21T08:29:26.507Z"
   },
   {
    "duration": 3689,
    "start_time": "2023-12-21T08:29:26.550Z"
   },
   {
    "duration": 11,
    "start_time": "2023-12-21T08:29:30.240Z"
   },
   {
    "duration": 73,
    "start_time": "2023-12-21T08:29:30.252Z"
   },
   {
    "duration": 99,
    "start_time": "2023-12-21T08:29:30.326Z"
   },
   {
    "duration": 62,
    "start_time": "2023-12-21T08:29:30.427Z"
   },
   {
    "duration": 86,
    "start_time": "2023-12-21T08:29:30.491Z"
   },
   {
    "duration": 66,
    "start_time": "2023-12-21T08:29:30.579Z"
   },
   {
    "duration": 177,
    "start_time": "2023-12-21T08:29:30.646Z"
   },
   {
    "duration": 77,
    "start_time": "2023-12-21T08:29:30.824Z"
   },
   {
    "duration": 112,
    "start_time": "2023-12-21T08:29:30.903Z"
   },
   {
    "duration": 56,
    "start_time": "2023-12-21T08:29:31.017Z"
   },
   {
    "duration": 46,
    "start_time": "2023-12-21T08:29:31.075Z"
   },
   {
    "duration": 167,
    "start_time": "2023-12-21T08:29:31.123Z"
   },
   {
    "duration": 54,
    "start_time": "2023-12-21T08:29:31.292Z"
   },
   {
    "duration": 122,
    "start_time": "2023-12-21T08:29:31.348Z"
   },
   {
    "duration": 117,
    "start_time": "2023-12-21T08:29:31.472Z"
   },
   {
    "duration": 9,
    "start_time": "2023-12-21T08:29:31.591Z"
   },
   {
    "duration": 17,
    "start_time": "2023-12-21T08:29:31.666Z"
   },
   {
    "duration": 3,
    "start_time": "2023-12-21T08:47:49.464Z"
   },
   {
    "duration": 5,
    "start_time": "2023-12-21T08:51:58.146Z"
   },
   {
    "duration": 9,
    "start_time": "2023-12-21T08:53:37.715Z"
   },
   {
    "duration": 11,
    "start_time": "2023-12-21T08:53:57.891Z"
   },
   {
    "duration": 5,
    "start_time": "2023-12-21T08:54:10.132Z"
   },
   {
    "duration": 6,
    "start_time": "2023-12-21T08:56:48.138Z"
   },
   {
    "duration": 8,
    "start_time": "2023-12-21T08:56:59.972Z"
   },
   {
    "duration": 1464,
    "start_time": "2023-12-21T09:00:28.353Z"
   },
   {
    "duration": 32,
    "start_time": "2023-12-21T09:00:29.819Z"
   },
   {
    "duration": 11,
    "start_time": "2023-12-21T09:00:29.853Z"
   },
   {
    "duration": 16,
    "start_time": "2023-12-21T09:00:29.866Z"
   },
   {
    "duration": 2715,
    "start_time": "2023-12-21T09:00:29.883Z"
   },
   {
    "duration": 15,
    "start_time": "2023-12-21T09:00:32.600Z"
   },
   {
    "duration": 70,
    "start_time": "2023-12-21T09:00:32.617Z"
   },
   {
    "duration": 3888,
    "start_time": "2023-12-21T09:00:32.688Z"
   },
   {
    "duration": 10,
    "start_time": "2023-12-21T09:00:36.578Z"
   },
   {
    "duration": 7,
    "start_time": "2023-12-21T09:00:36.591Z"
   },
   {
    "duration": 15,
    "start_time": "2023-12-21T09:00:36.600Z"
   },
   {
    "duration": 5,
    "start_time": "2023-12-21T09:00:36.617Z"
   },
   {
    "duration": 7,
    "start_time": "2023-12-21T09:00:36.623Z"
   },
   {
    "duration": 10,
    "start_time": "2023-12-21T09:00:36.631Z"
   },
   {
    "duration": 4,
    "start_time": "2023-12-21T09:00:36.642Z"
   },
   {
    "duration": 9,
    "start_time": "2023-12-21T09:00:36.647Z"
   },
   {
    "duration": 5,
    "start_time": "2023-12-21T09:00:36.657Z"
   },
   {
    "duration": 5,
    "start_time": "2023-12-21T09:00:36.664Z"
   },
   {
    "duration": 45,
    "start_time": "2023-12-21T09:00:36.670Z"
   },
   {
    "duration": 2,
    "start_time": "2023-12-21T09:00:36.717Z"
   },
   {
    "duration": 4,
    "start_time": "2023-12-21T09:00:36.720Z"
   },
   {
    "duration": 114,
    "start_time": "2023-12-21T09:00:36.725Z"
   },
   {
    "duration": 0,
    "start_time": "2023-12-21T09:00:36.841Z"
   },
   {
    "duration": 0,
    "start_time": "2023-12-21T09:00:36.842Z"
   },
   {
    "duration": 0,
    "start_time": "2023-12-21T09:00:36.843Z"
   },
   {
    "duration": 0,
    "start_time": "2023-12-21T09:00:36.844Z"
   },
   {
    "duration": 0,
    "start_time": "2023-12-21T09:00:36.845Z"
   },
   {
    "duration": 4,
    "start_time": "2023-12-21T09:01:44.946Z"
   },
   {
    "duration": 2,
    "start_time": "2023-12-21T09:01:45.441Z"
   },
   {
    "duration": 5,
    "start_time": "2023-12-21T09:01:47.466Z"
   },
   {
    "duration": 8,
    "start_time": "2023-12-21T09:01:51.740Z"
   },
   {
    "duration": 7,
    "start_time": "2023-12-21T09:02:07.656Z"
   },
   {
    "duration": 20,
    "start_time": "2023-12-21T09:02:09.021Z"
   },
   {
    "duration": 9,
    "start_time": "2023-12-21T09:02:15.366Z"
   },
   {
    "duration": 8,
    "start_time": "2023-12-21T09:02:17.196Z"
   },
   {
    "duration": 6,
    "start_time": "2023-12-21T09:08:09.241Z"
   },
   {
    "duration": 10,
    "start_time": "2023-12-21T09:08:17.311Z"
   },
   {
    "duration": 9,
    "start_time": "2023-12-21T09:09:02.869Z"
   },
   {
    "duration": 5,
    "start_time": "2023-12-21T09:09:45.667Z"
   },
   {
    "duration": 6,
    "start_time": "2023-12-21T09:09:50.213Z"
   },
   {
    "duration": 9,
    "start_time": "2023-12-21T09:10:28.495Z"
   },
   {
    "duration": 3,
    "start_time": "2023-12-21T09:11:49.844Z"
   },
   {
    "duration": 2,
    "start_time": "2023-12-21T09:11:51.059Z"
   },
   {
    "duration": 5,
    "start_time": "2023-12-21T09:11:52.860Z"
   },
   {
    "duration": 6,
    "start_time": "2023-12-21T09:12:00.765Z"
   },
   {
    "duration": 23,
    "start_time": "2023-12-21T09:12:03.247Z"
   },
   {
    "duration": 21,
    "start_time": "2023-12-21T09:12:27.527Z"
   },
   {
    "duration": 9,
    "start_time": "2023-12-21T09:12:28.500Z"
   },
   {
    "duration": 6,
    "start_time": "2023-12-21T09:12:29.850Z"
   },
   {
    "duration": 5,
    "start_time": "2023-12-21T09:12:54.886Z"
   },
   {
    "duration": 3,
    "start_time": "2023-12-21T09:13:01.667Z"
   },
   {
    "duration": 5,
    "start_time": "2023-12-21T09:13:03.108Z"
   },
   {
    "duration": 7,
    "start_time": "2023-12-21T09:13:04.323Z"
   },
   {
    "duration": 24,
    "start_time": "2023-12-21T09:13:07.880Z"
   },
   {
    "duration": 8,
    "start_time": "2023-12-21T09:13:10.791Z"
   },
   {
    "duration": 7,
    "start_time": "2023-12-21T09:13:12.123Z"
   },
   {
    "duration": 5,
    "start_time": "2023-12-21T09:16:00.136Z"
   },
   {
    "duration": 74,
    "start_time": "2023-12-21T09:20:59.002Z"
   },
   {
    "duration": 51,
    "start_time": "2023-12-21T09:22:27.823Z"
   },
   {
    "duration": 52,
    "start_time": "2023-12-21T09:26:02.068Z"
   },
   {
    "duration": 51,
    "start_time": "2023-12-21T09:26:35.040Z"
   },
   {
    "duration": 38,
    "start_time": "2023-12-21T09:27:04.216Z"
   },
   {
    "duration": 60,
    "start_time": "2023-12-21T09:47:29.049Z"
   },
   {
    "duration": 14,
    "start_time": "2023-12-21T09:48:54.088Z"
   },
   {
    "duration": 13,
    "start_time": "2023-12-21T09:50:05.180Z"
   },
   {
    "duration": 12,
    "start_time": "2023-12-21T09:50:45.590Z"
   },
   {
    "duration": 5,
    "start_time": "2023-12-21T09:51:21.337Z"
   },
   {
    "duration": 1405,
    "start_time": "2023-12-21T09:51:32.030Z"
   },
   {
    "duration": 32,
    "start_time": "2023-12-21T09:51:33.436Z"
   },
   {
    "duration": 12,
    "start_time": "2023-12-21T09:51:33.470Z"
   },
   {
    "duration": 20,
    "start_time": "2023-12-21T09:51:33.484Z"
   },
   {
    "duration": 2713,
    "start_time": "2023-12-21T09:51:33.506Z"
   },
   {
    "duration": 6,
    "start_time": "2023-12-21T09:51:36.220Z"
   },
   {
    "duration": 24,
    "start_time": "2023-12-21T09:51:36.227Z"
   },
   {
    "duration": 3796,
    "start_time": "2023-12-21T09:51:36.252Z"
   },
   {
    "duration": 10,
    "start_time": "2023-12-21T09:51:40.050Z"
   },
   {
    "duration": 24,
    "start_time": "2023-12-21T09:51:40.061Z"
   },
   {
    "duration": 19,
    "start_time": "2023-12-21T09:51:40.087Z"
   },
   {
    "duration": 5,
    "start_time": "2023-12-21T09:51:40.107Z"
   },
   {
    "duration": 6,
    "start_time": "2023-12-21T09:51:40.114Z"
   },
   {
    "duration": 16,
    "start_time": "2023-12-21T09:51:40.122Z"
   },
   {
    "duration": 3,
    "start_time": "2023-12-21T09:51:40.140Z"
   },
   {
    "duration": 24,
    "start_time": "2023-12-21T09:51:40.144Z"
   },
   {
    "duration": 16,
    "start_time": "2023-12-21T09:51:40.170Z"
   },
   {
    "duration": 35,
    "start_time": "2023-12-21T09:51:40.187Z"
   },
   {
    "duration": 24,
    "start_time": "2023-12-21T09:51:40.224Z"
   },
   {
    "duration": 17,
    "start_time": "2023-12-21T09:51:40.250Z"
   },
   {
    "duration": 21,
    "start_time": "2023-12-21T09:51:40.268Z"
   },
   {
    "duration": 121,
    "start_time": "2023-12-21T09:51:40.291Z"
   },
   {
    "duration": 0,
    "start_time": "2023-12-21T09:51:40.415Z"
   },
   {
    "duration": 0,
    "start_time": "2023-12-21T09:51:40.416Z"
   },
   {
    "duration": 0,
    "start_time": "2023-12-21T09:51:40.418Z"
   },
   {
    "duration": 0,
    "start_time": "2023-12-21T09:51:40.419Z"
   },
   {
    "duration": 3,
    "start_time": "2023-12-21T09:52:15.295Z"
   },
   {
    "duration": 3,
    "start_time": "2023-12-21T09:52:16.164Z"
   },
   {
    "duration": 5,
    "start_time": "2023-12-21T09:52:18.295Z"
   },
   {
    "duration": 7,
    "start_time": "2023-12-21T09:52:29.380Z"
   },
   {
    "duration": 22,
    "start_time": "2023-12-21T09:52:30.161Z"
   },
   {
    "duration": 9,
    "start_time": "2023-12-21T09:52:40.090Z"
   },
   {
    "duration": 7,
    "start_time": "2023-12-21T09:52:42.568Z"
   },
   {
    "duration": 18,
    "start_time": "2023-12-21T09:53:21.012Z"
   },
   {
    "duration": 13,
    "start_time": "2023-12-21T09:55:54.849Z"
   },
   {
    "duration": 12,
    "start_time": "2023-12-21T09:56:38.065Z"
   },
   {
    "duration": 3,
    "start_time": "2023-12-21T09:56:54.505Z"
   },
   {
    "duration": 6,
    "start_time": "2023-12-21T09:57:09.235Z"
   },
   {
    "duration": 3,
    "start_time": "2023-12-21T09:57:13.209Z"
   },
   {
    "duration": 4,
    "start_time": "2023-12-21T09:57:21.401Z"
   },
   {
    "duration": 5,
    "start_time": "2023-12-21T09:57:34.736Z"
   },
   {
    "duration": 13,
    "start_time": "2023-12-21T09:57:58.033Z"
   },
   {
    "duration": 1361,
    "start_time": "2023-12-21T09:58:54.818Z"
   },
   {
    "duration": 31,
    "start_time": "2023-12-21T09:58:56.181Z"
   },
   {
    "duration": 11,
    "start_time": "2023-12-21T09:58:56.213Z"
   },
   {
    "duration": 13,
    "start_time": "2023-12-21T09:58:56.225Z"
   },
   {
    "duration": 2563,
    "start_time": "2023-12-21T09:58:56.240Z"
   },
   {
    "duration": 6,
    "start_time": "2023-12-21T09:58:58.804Z"
   },
   {
    "duration": 32,
    "start_time": "2023-12-21T09:58:58.815Z"
   },
   {
    "duration": 3799,
    "start_time": "2023-12-21T09:58:58.849Z"
   },
   {
    "duration": 11,
    "start_time": "2023-12-21T09:59:02.650Z"
   },
   {
    "duration": 11,
    "start_time": "2023-12-21T09:59:02.663Z"
   },
   {
    "duration": 28,
    "start_time": "2023-12-21T09:59:02.676Z"
   },
   {
    "duration": 16,
    "start_time": "2023-12-21T09:59:02.705Z"
   },
   {
    "duration": 35,
    "start_time": "2023-12-21T09:59:02.722Z"
   },
   {
    "duration": 26,
    "start_time": "2023-12-21T09:59:02.760Z"
   },
   {
    "duration": 3,
    "start_time": "2023-12-21T09:59:02.788Z"
   },
   {
    "duration": 22,
    "start_time": "2023-12-21T09:59:02.792Z"
   },
   {
    "duration": 9,
    "start_time": "2023-12-21T09:59:02.815Z"
   },
   {
    "duration": 27,
    "start_time": "2023-12-21T09:59:02.825Z"
   },
   {
    "duration": 11,
    "start_time": "2023-12-21T09:59:02.853Z"
   },
   {
    "duration": 4,
    "start_time": "2023-12-21T09:59:02.866Z"
   },
   {
    "duration": 7,
    "start_time": "2023-12-21T09:59:02.872Z"
   },
   {
    "duration": 15,
    "start_time": "2023-12-21T09:59:02.881Z"
   },
   {
    "duration": 106,
    "start_time": "2023-12-21T09:59:02.898Z"
   },
   {
    "duration": 0,
    "start_time": "2023-12-21T09:59:03.006Z"
   },
   {
    "duration": 1,
    "start_time": "2023-12-21T09:59:03.007Z"
   },
   {
    "duration": 0,
    "start_time": "2023-12-21T09:59:03.015Z"
   },
   {
    "duration": 6,
    "start_time": "2023-12-21T09:59:40.864Z"
   },
   {
    "duration": 7,
    "start_time": "2023-12-21T09:59:46.054Z"
   },
   {
    "duration": 23,
    "start_time": "2023-12-21T09:59:47.059Z"
   },
   {
    "duration": 9,
    "start_time": "2023-12-21T09:59:55.219Z"
   },
   {
    "duration": 8,
    "start_time": "2023-12-21T09:59:59.091Z"
   },
   {
    "duration": 6,
    "start_time": "2023-12-21T10:04:58.119Z"
   },
   {
    "duration": 5,
    "start_time": "2023-12-21T10:06:56.865Z"
   },
   {
    "duration": 6,
    "start_time": "2023-12-21T10:07:01.967Z"
   },
   {
    "duration": 6,
    "start_time": "2023-12-21T10:13:25.868Z"
   },
   {
    "duration": 4,
    "start_time": "2023-12-21T10:14:10.706Z"
   },
   {
    "duration": 6,
    "start_time": "2023-12-21T10:14:30.115Z"
   },
   {
    "duration": 6,
    "start_time": "2023-12-21T10:14:38.531Z"
   },
   {
    "duration": 6,
    "start_time": "2023-12-21T10:15:35.099Z"
   },
   {
    "duration": 77,
    "start_time": "2023-12-21T10:16:07.096Z"
   },
   {
    "duration": 4,
    "start_time": "2023-12-21T10:16:17.160Z"
   },
   {
    "duration": 5,
    "start_time": "2023-12-21T10:16:34.306Z"
   },
   {
    "duration": 82,
    "start_time": "2023-12-21T10:17:03.828Z"
   },
   {
    "duration": 66,
    "start_time": "2023-12-21T10:17:09.693Z"
   },
   {
    "duration": 73,
    "start_time": "2023-12-21T10:17:27.933Z"
   },
   {
    "duration": 5,
    "start_time": "2023-12-21T10:17:40.609Z"
   },
   {
    "duration": 5,
    "start_time": "2023-12-21T10:17:52.383Z"
   },
   {
    "duration": 5,
    "start_time": "2023-12-21T10:18:14.315Z"
   },
   {
    "duration": 4,
    "start_time": "2023-12-21T10:18:33.305Z"
   },
   {
    "duration": 1488,
    "start_time": "2023-12-21T10:21:22.698Z"
   },
   {
    "duration": 31,
    "start_time": "2023-12-21T10:21:24.187Z"
   },
   {
    "duration": 11,
    "start_time": "2023-12-21T10:21:24.220Z"
   },
   {
    "duration": 15,
    "start_time": "2023-12-21T10:21:24.233Z"
   },
   {
    "duration": 2859,
    "start_time": "2023-12-21T10:21:24.252Z"
   },
   {
    "duration": 7,
    "start_time": "2023-12-21T10:21:27.112Z"
   },
   {
    "duration": 24,
    "start_time": "2023-12-21T10:21:27.121Z"
   },
   {
    "duration": 4066,
    "start_time": "2023-12-21T10:21:27.147Z"
   },
   {
    "duration": 11,
    "start_time": "2023-12-21T10:21:31.214Z"
   },
   {
    "duration": 25,
    "start_time": "2023-12-21T10:21:31.226Z"
   },
   {
    "duration": 40,
    "start_time": "2023-12-21T10:21:31.253Z"
   },
   {
    "duration": 21,
    "start_time": "2023-12-21T10:21:31.295Z"
   },
   {
    "duration": 32,
    "start_time": "2023-12-21T10:21:31.317Z"
   },
   {
    "duration": 33,
    "start_time": "2023-12-21T10:21:31.352Z"
   },
   {
    "duration": 30,
    "start_time": "2023-12-21T10:21:31.386Z"
   },
   {
    "duration": 49,
    "start_time": "2023-12-21T10:21:31.417Z"
   },
   {
    "duration": 35,
    "start_time": "2023-12-21T10:21:31.468Z"
   },
   {
    "duration": 42,
    "start_time": "2023-12-21T10:21:31.505Z"
   },
   {
    "duration": 30,
    "start_time": "2023-12-21T10:21:31.549Z"
   },
   {
    "duration": 29,
    "start_time": "2023-12-21T10:21:31.581Z"
   },
   {
    "duration": 41,
    "start_time": "2023-12-21T10:21:31.611Z"
   },
   {
    "duration": 51,
    "start_time": "2023-12-21T10:21:31.653Z"
   },
   {
    "duration": 19,
    "start_time": "2023-12-21T10:21:31.706Z"
   },
   {
    "duration": 93,
    "start_time": "2023-12-21T10:21:31.727Z"
   },
   {
    "duration": 198,
    "start_time": "2023-12-21T10:21:31.822Z"
   },
   {
    "duration": 14,
    "start_time": "2023-12-21T10:21:32.022Z"
   },
   {
    "duration": 22,
    "start_time": "2023-12-21T10:21:32.038Z"
   },
   {
    "duration": 5,
    "start_time": "2023-12-21T10:24:32.982Z"
   },
   {
    "duration": 5,
    "start_time": "2023-12-21T10:24:37.872Z"
   },
   {
    "duration": 1318,
    "start_time": "2023-12-21T10:25:49.763Z"
   },
   {
    "duration": 37,
    "start_time": "2023-12-21T10:25:51.084Z"
   },
   {
    "duration": 13,
    "start_time": "2023-12-21T10:25:51.123Z"
   },
   {
    "duration": 25,
    "start_time": "2023-12-21T10:25:51.139Z"
   },
   {
    "duration": 2746,
    "start_time": "2023-12-21T10:25:51.168Z"
   },
   {
    "duration": 5,
    "start_time": "2023-12-21T10:25:53.916Z"
   },
   {
    "duration": 32,
    "start_time": "2023-12-21T10:25:53.923Z"
   },
   {
    "duration": 3923,
    "start_time": "2023-12-21T10:25:53.957Z"
   },
   {
    "duration": 11,
    "start_time": "2023-12-21T10:25:57.882Z"
   },
   {
    "duration": 13,
    "start_time": "2023-12-21T10:25:57.895Z"
   },
   {
    "duration": 31,
    "start_time": "2023-12-21T10:25:57.909Z"
   },
   {
    "duration": 15,
    "start_time": "2023-12-21T10:25:57.942Z"
   },
   {
    "duration": 23,
    "start_time": "2023-12-21T10:25:57.959Z"
   },
   {
    "duration": 47,
    "start_time": "2023-12-21T10:25:57.985Z"
   },
   {
    "duration": 35,
    "start_time": "2023-12-21T10:25:58.034Z"
   },
   {
    "duration": 43,
    "start_time": "2023-12-21T10:25:58.071Z"
   },
   {
    "duration": 28,
    "start_time": "2023-12-21T10:25:58.115Z"
   },
   {
    "duration": 47,
    "start_time": "2023-12-21T10:25:58.144Z"
   },
   {
    "duration": 67,
    "start_time": "2023-12-21T10:25:58.192Z"
   },
   {
    "duration": 58,
    "start_time": "2023-12-21T10:25:58.260Z"
   },
   {
    "duration": 54,
    "start_time": "2023-12-21T10:25:58.320Z"
   },
   {
    "duration": 43,
    "start_time": "2023-12-21T10:25:58.375Z"
   },
   {
    "duration": 51,
    "start_time": "2023-12-21T10:25:58.420Z"
   },
   {
    "duration": 45,
    "start_time": "2023-12-21T10:25:58.473Z"
   },
   {
    "duration": 119,
    "start_time": "2023-12-21T10:25:58.520Z"
   },
   {
    "duration": 9,
    "start_time": "2023-12-21T10:25:58.642Z"
   },
   {
    "duration": 68,
    "start_time": "2023-12-21T10:25:58.652Z"
   },
   {
    "duration": 1398,
    "start_time": "2023-12-21T10:29:37.292Z"
   },
   {
    "duration": 31,
    "start_time": "2023-12-21T10:29:38.691Z"
   },
   {
    "duration": 11,
    "start_time": "2023-12-21T10:29:38.723Z"
   },
   {
    "duration": 11,
    "start_time": "2023-12-21T10:29:38.736Z"
   },
   {
    "duration": 2639,
    "start_time": "2023-12-21T10:29:38.749Z"
   },
   {
    "duration": 6,
    "start_time": "2023-12-21T10:29:41.389Z"
   },
   {
    "duration": 36,
    "start_time": "2023-12-21T10:29:41.397Z"
   },
   {
    "duration": 3817,
    "start_time": "2023-12-21T10:29:41.435Z"
   },
   {
    "duration": 10,
    "start_time": "2023-12-21T10:29:45.254Z"
   },
   {
    "duration": 3,
    "start_time": "2023-12-21T10:29:45.267Z"
   },
   {
    "duration": 15,
    "start_time": "2023-12-21T10:29:45.271Z"
   },
   {
    "duration": 5,
    "start_time": "2023-12-21T10:29:45.287Z"
   },
   {
    "duration": 8,
    "start_time": "2023-12-21T10:29:45.293Z"
   },
   {
    "duration": 21,
    "start_time": "2023-12-21T10:29:45.302Z"
   },
   {
    "duration": 3,
    "start_time": "2023-12-21T10:29:45.325Z"
   },
   {
    "duration": 12,
    "start_time": "2023-12-21T10:29:45.330Z"
   },
   {
    "duration": 6,
    "start_time": "2023-12-21T10:29:45.343Z"
   },
   {
    "duration": 4,
    "start_time": "2023-12-21T10:29:45.350Z"
   },
   {
    "duration": 10,
    "start_time": "2023-12-21T10:29:45.356Z"
   },
   {
    "duration": 2,
    "start_time": "2023-12-21T10:29:45.367Z"
   },
   {
    "duration": 4,
    "start_time": "2023-12-21T10:29:45.371Z"
   },
   {
    "duration": 38,
    "start_time": "2023-12-21T10:29:45.377Z"
   },
   {
    "duration": 4,
    "start_time": "2023-12-21T10:29:45.417Z"
   },
   {
    "duration": 10,
    "start_time": "2023-12-21T10:29:45.423Z"
   },
   {
    "duration": 99,
    "start_time": "2023-12-21T10:29:45.435Z"
   },
   {
    "duration": 9,
    "start_time": "2023-12-21T10:29:45.616Z"
   },
   {
    "duration": 6,
    "start_time": "2023-12-21T10:29:45.627Z"
   },
   {
    "duration": 1405,
    "start_time": "2023-12-21T10:30:33.413Z"
   },
   {
    "duration": 32,
    "start_time": "2023-12-21T10:30:34.820Z"
   },
   {
    "duration": 10,
    "start_time": "2023-12-21T10:30:34.854Z"
   },
   {
    "duration": 11,
    "start_time": "2023-12-21T10:30:34.866Z"
   },
   {
    "duration": 2610,
    "start_time": "2023-12-21T10:30:34.879Z"
   },
   {
    "duration": 5,
    "start_time": "2023-12-21T10:30:37.491Z"
   },
   {
    "duration": 35,
    "start_time": "2023-12-21T10:30:37.498Z"
   },
   {
    "duration": 3954,
    "start_time": "2023-12-21T10:30:37.534Z"
   },
   {
    "duration": 10,
    "start_time": "2023-12-21T10:30:41.490Z"
   },
   {
    "duration": 3,
    "start_time": "2023-12-21T10:30:41.502Z"
   },
   {
    "duration": 56,
    "start_time": "2023-12-21T10:30:41.506Z"
   },
   {
    "duration": 5,
    "start_time": "2023-12-21T10:30:41.563Z"
   },
   {
    "duration": 7,
    "start_time": "2023-12-21T10:30:41.570Z"
   },
   {
    "duration": 19,
    "start_time": "2023-12-21T10:30:41.579Z"
   },
   {
    "duration": 11,
    "start_time": "2023-12-21T10:30:41.599Z"
   },
   {
    "duration": 17,
    "start_time": "2023-12-21T10:30:41.612Z"
   },
   {
    "duration": 23,
    "start_time": "2023-12-21T10:30:41.631Z"
   },
   {
    "duration": 23,
    "start_time": "2023-12-21T10:30:41.656Z"
   },
   {
    "duration": 27,
    "start_time": "2023-12-21T10:30:41.681Z"
   },
   {
    "duration": 19,
    "start_time": "2023-12-21T10:30:41.710Z"
   },
   {
    "duration": 9,
    "start_time": "2023-12-21T10:30:41.731Z"
   },
   {
    "duration": 15,
    "start_time": "2023-12-21T10:30:41.742Z"
   },
   {
    "duration": 9,
    "start_time": "2023-12-21T10:30:41.758Z"
   },
   {
    "duration": 49,
    "start_time": "2023-12-21T10:30:41.769Z"
   },
   {
    "duration": 104,
    "start_time": "2023-12-21T10:30:41.820Z"
   },
   {
    "duration": 91,
    "start_time": "2023-12-21T10:30:41.925Z"
   },
   {
    "duration": 8,
    "start_time": "2023-12-21T10:30:42.017Z"
   }
  ],
  "kernelspec": {
   "display_name": "Python 3 (ipykernel)",
   "language": "python",
   "name": "python3"
  },
  "language_info": {
   "codemirror_mode": {
    "name": "ipython",
    "version": 3
   },
   "file_extension": ".py",
   "mimetype": "text/x-python",
   "name": "python",
   "nbconvert_exporter": "python",
   "pygments_lexer": "ipython3",
   "version": "3.9.19"
  },
  "toc": {
   "base_numbering": 1,
   "nav_menu": {},
   "number_sections": true,
   "sideBar": true,
   "skip_h1_title": true,
   "title_cell": "Содержание",
   "title_sidebar": "Contents",
   "toc_cell": true,
   "toc_position": {
    "height": "calc(100% - 180px)",
    "left": "10px",
    "top": "150px",
    "width": "418.646px"
   },
   "toc_section_display": true,
   "toc_window_display": false
  }
 },
 "nbformat": 4,
 "nbformat_minor": 2
}
